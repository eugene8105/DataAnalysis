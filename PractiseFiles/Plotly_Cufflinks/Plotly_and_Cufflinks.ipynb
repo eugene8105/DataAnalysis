{
 "cells": [
  {
   "cell_type": "code",
   "execution_count": 6,
   "metadata": {},
   "outputs": [
    {
     "data": {
      "text/html": [
       "<style type=\"text/css\">\n",
       "table.dataframe td, table.dataframe th {\n",
       "    border: 1px  black solid !important;\n",
       "  color: black !important;\n",
       "}\n"
      ],
      "text/plain": [
       "<IPython.core.display.HTML object>"
      ]
     },
     "metadata": {},
     "output_type": "display_data"
    }
   ],
   "source": [
    "%%HTML\n",
    "<style type=\"text/css\">\n",
    "table.dataframe td, table.dataframe th {\n",
    "    border: 1px  black solid !important;\n",
    "  color: black !important;\n",
    "}"
   ]
  },
  {
   "cell_type": "markdown",
   "metadata": {},
   "source": [
    "Plotly is a library that allows you to create interactive plots that you can use in dashboards or websites (you can save them as html files or static images).\n",
    "\n",
    "## Installation\n",
    "\n",
    "In order for this all to work, you'll need to install plotly and cufflinks to call plots directly off of a pandas dataframe. These libraries are not currently available through **conda** but are available through **pip**. Install the libraries at your command line/terminal using:\n",
    "\n",
    "    pip install plotly\n",
    "    pip install cufflinks\n",
    "\n",
    "** NOTE: Make sure you only have one installation of Python on your computer when you do this, otherwise the installation may not work. **\n",
    "\n",
    "## Imports and Set-up"
   ]
  },
  {
   "cell_type": "markdown",
   "metadata": {},
   "source": [
    "<h4> documentation - https://github.com/santosjorge/cufflinks</h4>"
   ]
  },
  {
   "cell_type": "code",
   "execution_count": 40,
   "metadata": {},
   "outputs": [],
   "source": [
    "import pandas as pd\n",
    "import numpy as np\n",
    "%matplotlib inline"
   ]
  },
  {
   "cell_type": "code",
   "execution_count": 2,
   "metadata": {},
   "outputs": [
    {
     "name": "stdout",
     "output_type": "stream",
     "text": [
      "4.8.2\n"
     ]
    }
   ],
   "source": [
    "from plotly import __version__\n",
    "from plotly.offline import download_plotlyjs, init_notebook_mode, plot, iplot\n",
    "\n",
    "print(__version__) # requires version >= 1.9.0"
   ]
  },
  {
   "cell_type": "code",
   "execution_count": 28,
   "metadata": {},
   "outputs": [],
   "source": [
    "import cufflinks as cf"
   ]
  },
  {
   "cell_type": "code",
   "execution_count": 29,
   "metadata": {},
   "outputs": [
    {
     "data": {
      "text/html": [
       "        <script type=\"text/javascript\">\n",
       "        window.PlotlyConfig = {MathJaxConfig: 'local'};\n",
       "        if (window.MathJax) {MathJax.Hub.Config({SVG: {font: \"STIX-Web\"}});}\n",
       "        if (typeof require !== 'undefined') {\n",
       "        require.undef(\"plotly\");\n",
       "        requirejs.config({\n",
       "            paths: {\n",
       "                'plotly': ['https://cdn.plot.ly/plotly-latest.min']\n",
       "            }\n",
       "        });\n",
       "        require(['plotly'], function(Plotly) {\n",
       "            window._Plotly = Plotly;\n",
       "        });\n",
       "        }\n",
       "        </script>\n",
       "        "
      ]
     },
     "metadata": {},
     "output_type": "display_data"
    }
   ],
   "source": [
    "# For Notebooks\n",
    "init_notebook_mode(connected=True)"
   ]
  },
  {
   "cell_type": "code",
   "execution_count": 31,
   "metadata": {},
   "outputs": [
    {
     "data": {
      "text/html": [
       "        <script type=\"text/javascript\">\n",
       "        window.PlotlyConfig = {MathJaxConfig: 'local'};\n",
       "        if (window.MathJax) {MathJax.Hub.Config({SVG: {font: \"STIX-Web\"}});}\n",
       "        if (typeof require !== 'undefined') {\n",
       "        require.undef(\"plotly\");\n",
       "        requirejs.config({\n",
       "            paths: {\n",
       "                'plotly': ['https://cdn.plot.ly/plotly-latest.min']\n",
       "            }\n",
       "        });\n",
       "        require(['plotly'], function(Plotly) {\n",
       "            window._Plotly = Plotly;\n",
       "        });\n",
       "        }\n",
       "        </script>\n",
       "        "
      ]
     },
     "metadata": {},
     "output_type": "display_data"
    }
   ],
   "source": [
    "# For offline use\n",
    "cf.go_offline()"
   ]
  },
  {
   "cell_type": "markdown",
   "metadata": {},
   "source": [
    "### Fake Data"
   ]
  },
  {
   "cell_type": "code",
   "execution_count": 38,
   "metadata": {},
   "outputs": [],
   "source": [
    "df = pd.DataFrame(np.random.randn(100,4),columns='A B C D'.split())\n"
   ]
  },
  {
   "cell_type": "code",
   "execution_count": 39,
   "metadata": {},
   "outputs": [
    {
     "data": {
      "text/html": [
       "<div>\n",
       "<style scoped>\n",
       "    .dataframe tbody tr th:only-of-type {\n",
       "        vertical-align: middle;\n",
       "    }\n",
       "\n",
       "    .dataframe tbody tr th {\n",
       "        vertical-align: top;\n",
       "    }\n",
       "\n",
       "    .dataframe thead th {\n",
       "        text-align: right;\n",
       "    }\n",
       "</style>\n",
       "<table border=\"1\" class=\"dataframe\">\n",
       "  <thead>\n",
       "    <tr style=\"text-align: right;\">\n",
       "      <th></th>\n",
       "      <th>A</th>\n",
       "      <th>B</th>\n",
       "      <th>C</th>\n",
       "      <th>D</th>\n",
       "    </tr>\n",
       "  </thead>\n",
       "  <tbody>\n",
       "    <tr>\n",
       "      <th>0</th>\n",
       "      <td>1.151355</td>\n",
       "      <td>1.185145</td>\n",
       "      <td>-0.322320</td>\n",
       "      <td>1.580201</td>\n",
       "    </tr>\n",
       "    <tr>\n",
       "      <th>1</th>\n",
       "      <td>-0.936165</td>\n",
       "      <td>-0.300876</td>\n",
       "      <td>-0.286148</td>\n",
       "      <td>1.361401</td>\n",
       "    </tr>\n",
       "    <tr>\n",
       "      <th>2</th>\n",
       "      <td>-1.384623</td>\n",
       "      <td>-0.154327</td>\n",
       "      <td>-1.206321</td>\n",
       "      <td>-0.269240</td>\n",
       "    </tr>\n",
       "    <tr>\n",
       "      <th>3</th>\n",
       "      <td>-0.279678</td>\n",
       "      <td>2.402355</td>\n",
       "      <td>-0.103611</td>\n",
       "      <td>-0.832796</td>\n",
       "    </tr>\n",
       "    <tr>\n",
       "      <th>4</th>\n",
       "      <td>0.299175</td>\n",
       "      <td>1.905077</td>\n",
       "      <td>-0.427124</td>\n",
       "      <td>-1.099480</td>\n",
       "    </tr>\n",
       "  </tbody>\n",
       "</table>\n",
       "</div>"
      ],
      "text/plain": [
       "          A         B         C         D\n",
       "0  1.151355  1.185145 -0.322320  1.580201\n",
       "1 -0.936165 -0.300876 -0.286148  1.361401\n",
       "2 -1.384623 -0.154327 -1.206321 -0.269240\n",
       "3 -0.279678  2.402355 -0.103611 -0.832796\n",
       "4  0.299175  1.905077 -0.427124 -1.099480"
      ]
     },
     "execution_count": 39,
     "metadata": {},
     "output_type": "execute_result"
    }
   ],
   "source": [
    "df.head()"
   ]
  },
  {
   "cell_type": "code",
   "execution_count": 10,
   "metadata": {},
   "outputs": [],
   "source": [
    "df2 = pd.DataFrame({'Category':['A','B','C'],'Values':[32,43,50]})\n"
   ]
  },
  {
   "cell_type": "code",
   "execution_count": 44,
   "metadata": {},
   "outputs": [
    {
     "data": {
      "text/html": [
       "<div>\n",
       "<style scoped>\n",
       "    .dataframe tbody tr th:only-of-type {\n",
       "        vertical-align: middle;\n",
       "    }\n",
       "\n",
       "    .dataframe tbody tr th {\n",
       "        vertical-align: top;\n",
       "    }\n",
       "\n",
       "    .dataframe thead th {\n",
       "        text-align: right;\n",
       "    }\n",
       "</style>\n",
       "<table border=\"1\" class=\"dataframe\">\n",
       "  <thead>\n",
       "    <tr style=\"text-align: right;\">\n",
       "      <th></th>\n",
       "      <th>Category</th>\n",
       "      <th>Values</th>\n",
       "    </tr>\n",
       "  </thead>\n",
       "  <tbody>\n",
       "    <tr>\n",
       "      <th>0</th>\n",
       "      <td>A</td>\n",
       "      <td>32</td>\n",
       "    </tr>\n",
       "    <tr>\n",
       "      <th>1</th>\n",
       "      <td>B</td>\n",
       "      <td>43</td>\n",
       "    </tr>\n",
       "    <tr>\n",
       "      <th>2</th>\n",
       "      <td>C</td>\n",
       "      <td>50</td>\n",
       "    </tr>\n",
       "  </tbody>\n",
       "</table>\n",
       "</div>"
      ],
      "text/plain": [
       "  Category  Values\n",
       "0        A      32\n",
       "1        B      43\n",
       "2        C      50"
      ]
     },
     "execution_count": 44,
     "metadata": {},
     "output_type": "execute_result"
    }
   ],
   "source": [
    "df2.head()"
   ]
  },
  {
   "cell_type": "code",
   "execution_count": 45,
   "metadata": {},
   "outputs": [
    {
     "data": {
      "text/plain": [
       "<matplotlib.axes._subplots.AxesSubplot at 0x1a293ebd90>"
      ]
     },
     "execution_count": 45,
     "metadata": {},
     "output_type": "execute_result"
    },
    {
     "data": {
      "image/png": "[encoded data removed]",
      "text/plain": [
       "<Figure size 432x288 with 1 Axes>"
      ]
     },
     "metadata": {
      "needs_background": "light"
     },
     "output_type": "display_data"
    }
   ],
   "source": [
    "df.plot()"
   ]
  },
  {
   "cell_type": "code",
   "execution_count": 43,
   "metadata": {},
   "outputs": [
    {
     "data": {
      "application/vnd.plotly.v1+json": {
       "config": {
        "linkText": "Export to plot.ly",
        "plotlyServerURL": "https://plot.ly",
        "showLink": true
       },
       "data": [
        {
         "line": {
          "color": "rgba(255, 153, 51, 1.0)",
          "dash": "solid",
          "shape": "linear",
          "width": 1.3
         },
         "mode": "lines",
         "name": "A",
         "text": "",
         "type": "scatter",
         "x": [
          0,
          1,
          2,
          3,
          4,
          5,
          6,
          7,
          8,
          9,
          10,
          11,
          12,
          13,
          14,
          15,
          16,
          17,
          18,
          19,
          20,
          21,
          22,
          23,
          24,
          25,
          26,
          27,
          28,
          29,
          30,
          31,
          32,
          33,
          34,
          35,
          36,
          37,
          38,
          39,
          40,
          41,
          42,
          43,
          44,
          45,
          46,
          47,
          48,
          49,
          50,
          51,
          52,
          53,
          54,
          55,
          56,
          57,
          58,
          59,
          60,
          61,
          62,
          63,
          64,
          65,
          66,
          67,
          68,
          69,
          70,
          71,
          72,
          73,
          74,
          75,
          76,
          77,
          78,
          79,
          80,
          81,
          82,
          83,
          84,
          85,
          86,
          87,
          88,
          89,
          90,
          91,
          92,
          93,
          94,
          95,
          96,
          97,
          98,
          99
         ],
         "y": [
          1.151355178019394,
          -0.9361650277464728,
          -1.3846228842843142,
          -0.2796776824646479,
          0.29917531788771107,
          1.9609006702667096,
          1.1323407645016637,
          0.7388791731684019,
          -0.6593519805968455,
          -0.22639175856959035,
          2.4443006558080116,
          0.48125243417739527,
          0.7925798399032787,
          0.41438186647710423,
          0.8089400888582384,
          -1.1506212495567365,
          0.5836788299462226,
          -0.8427945404954371,
          0.8668591694781986,
          -0.012030122577300642,
          -1.2236788868479356,
          -0.7658232072301638,
          -0.1743553013365679,
          -0.21620455046345552,
          0.22748717520189807,
          -0.4265691248545492,
          0.72095706873494,
          0.9344888480016998,
          -0.11354746253205629,
          0.7886805881055964,
          -1.1298847500923686,
          0.16167764290954204,
          1.6942357302156492,
          0.4627976736860832,
          0.7987080668473584,
          -0.6552207119101542,
          -2.010407016642672,
          -0.3804047791280782,
          -0.13441434318712028,
          -1.5077726095950343,
          -0.14995988076843286,
          -0.009655965958263178,
          -0.9380678623760156,
          -0.5077715133960896,
          1.6269798990550712,
          -1.3633065983348316,
          -1.296529365737129,
          0.1815547989449212,
          -1.7031994118739247,
          -0.7722241983008982,
          0.3776141513866365,
          -0.5676758070238037,
          -0.11963072709889348,
          -0.8078344220909806,
          -2.6194390576014124,
          0.829400599828067,
          0.7464252577298145,
          0.39477815179983605,
          -1.7841626158665123,
          -1.2504287011326582,
          -1.7706448607167162,
          0.8566740928709481,
          -1.2742218968567363,
          -1.4495063892024715,
          -1.0383793547383684,
          0.719058877563574,
          1.1914743525850875,
          0.5225803057924849,
          -0.44294903927427,
          2.818472831931504,
          -0.931313559388757,
          -0.6077727984728996,
          -0.6380957008903352,
          -0.9529593977931087,
          0.02797637763395327,
          -0.048514490512408026,
          0.9391837681769801,
          -0.8000695220039638,
          -1.4527842804203053,
          -1.179693417424383,
          1.2531234527029491,
          -0.06426141359456067,
          0.1035028380597389,
          -1.8328225027927836,
          0.38828179543127284,
          0.12055965765445607,
          1.61139917152243,
          0.17713789142763148,
          -1.7026781758633982,
          0.6103258319227929,
          0.08598832619292587,
          0.2541649081241112,
          0.16144605765598216,
          -0.7065699371611449,
          -0.062202762600640595,
          0.9636802566852226,
          0.6030153872091345,
          0.38458402722619567,
          0.9225094189488893,
          -1.6981592836510477
         ]
        },
        {
         "line": {
          "color": "rgba(55, 128, 191, 1.0)",
          "dash": "solid",
          "shape": "linear",
          "width": 1.3
         },
         "mode": "lines",
         "name": "B",
         "text": "",
         "type": "scatter",
         "x": [
          0,
          1,
          2,
          3,
          4,
          5,
          6,
          7,
          8,
          9,
          10,
          11,
          12,
          13,
          14,
          15,
          16,
          17,
          18,
          19,
          20,
          21,
          22,
          23,
          24,
          25,
          26,
          27,
          28,
          29,
          30,
          31,
          32,
          33,
          34,
          35,
          36,
          37,
          38,
          39,
          40,
          41,
          42,
          43,
          44,
          45,
          46,
          47,
          48,
          49,
          50,
          51,
          52,
          53,
          54,
          55,
          56,
          57,
          58,
          59,
          60,
          61,
          62,
          63,
          64,
          65,
          66,
          67,
          68,
          69,
          70,
          71,
          72,
          73,
          74,
          75,
          76,
          77,
          78,
          79,
          80,
          81,
          82,
          83,
          84,
          85,
          86,
          87,
          88,
          89,
          90,
          91,
          92,
          93,
          94,
          95,
          96,
          97,
          98,
          99
         ],
         "y": [
          1.1851446659129354,
          -0.3008756662976953,
          -0.15432689435882102,
          2.402354768233319,
          1.9050767532564923,
          -0.0823835713053652,
          0.13945253530523913,
          0.9086000352916271,
          0.48309330244772614,
          2.341484074220481,
          -3.058956182615626,
          2.992322507049551,
          1.148550652036867,
          0.002925398109212324,
          0.021557581181731136,
          1.0917779433315067,
          -0.02616348823628588,
          2.2665591020292197,
          0.0620125849180558,
          1.2035901507532878,
          0.16501008201002867,
          1.0233841708848757,
          -0.33483421884742537,
          1.3617946592094414,
          -0.6084439861020854,
          -1.1960610129702258,
          0.5357702634839098,
          -0.21002653626876633,
          -0.3523814175217604,
          0.32093445454386493,
          1.6833733558945314,
          1.7289349244658156,
          0.037413319202125685,
          -0.31517616515536556,
          0.5341717435802795,
          -0.5475097350630193,
          -0.19951198598064784,
          2.102077539250784,
          0.2852656516766363,
          0.275115485957045,
          0.8607640476839017,
          -0.3043730132821245,
          -0.32418970778070916,
          -1.263033271029196,
          1.060324954717839,
          -0.8014965046431832,
          0.28480938488643837,
          -0.6517236120383918,
          -1.0368113399041408,
          1.6008851598296057,
          0.5003905901184007,
          0.6474922175453751,
          -0.8044465065690375,
          1.320598846966574,
          0.17850052377328124,
          -1.0977368256860924,
          1.1632516070502703,
          -0.633708734036224,
          -1.4946772238062298,
          0.01623431549026349,
          0.5963373180699736,
          -0.6651914330488827,
          -1.1537603981938145,
          0.8417030375064397,
          1.2438940534467489,
          0.8035087936949662,
          0.315927700142238,
          -1.5277275057434452,
          -2.0955222868211067,
          -0.29146697793601917,
          0.17592513772324733,
          1.0781577215436182,
          0.5860847358866781,
          -1.3466323307912997,
          1.397195694395156,
          1.1343285649102521,
          0.9500842770842041,
          -0.7605571477437717,
          -0.7049423789674328,
          -1.276319601443271,
          -0.014394085276968734,
          0.70781169943675,
          -0.27910974570156616,
          -0.22470632706980728,
          -0.2913165623478267,
          -1.3897837313218213,
          -1.8084879265332483,
          1.5267076199840302,
          1.5516730998081574,
          -0.4887511724860033,
          1.992781229536849,
          -0.2894811935696935,
          1.0439755338730026,
          0.29128888150853033,
          -0.48236459295912126,
          0.030227076817404427,
          -0.06281685372208093,
          -0.4319222114197204,
          -1.5745552107131755,
          -0.27093284000245105
         ]
        },
        {
         "line": {
          "color": "rgba(50, 171, 96, 1.0)",
          "dash": "solid",
          "shape": "linear",
          "width": 1.3
         },
         "mode": "lines",
         "name": "C",
         "text": "",
         "type": "scatter",
         "x": [
          0,
          1,
          2,
          3,
          4,
          5,
          6,
          7,
          8,
          9,
          10,
          11,
          12,
          13,
          14,
          15,
          16,
          17,
          18,
          19,
          20,
          21,
          22,
          23,
          24,
          25,
          26,
          27,
          28,
          29,
          30,
          31,
          32,
          33,
          34,
          35,
          36,
          37,
          38,
          39,
          40,
          41,
          42,
          43,
          44,
          45,
          46,
          47,
          48,
          49,
          50,
          51,
          52,
          53,
          54,
          55,
          56,
          57,
          58,
          59,
          60,
          61,
          62,
          63,
          64,
          65,
          66,
          67,
          68,
          69,
          70,
          71,
          72,
          73,
          74,
          75,
          76,
          77,
          78,
          79,
          80,
          81,
          82,
          83,
          84,
          85,
          86,
          87,
          88,
          89,
          90,
          91,
          92,
          93,
          94,
          95,
          96,
          97,
          98,
          99
         ],
         "y": [
          -0.3223195880890678,
          -0.2861484536706367,
          -1.2063212009116915,
          -0.10361143130706502,
          -0.4271235748437105,
          0.733527495001453,
          -0.6524112862290365,
          -0.8054059363319983,
          1.2096987713930438,
          -1.9609494646468153,
          0.29464671144580684,
          0.5693521403130828,
          -0.11404057048233676,
          0.6787637460906204,
          1.333184540283356,
          -0.44484572415825907,
          1.111624422235998,
          -0.44727892635462785,
          0.5212233249918282,
          0.8674109609526864,
          1.0672415088844682,
          -1.2414932596627322,
          0.17371171844668673,
          -2.0826168338192184,
          -0.7787710357531319,
          -0.15510558556580076,
          -0.519120490685171,
          -0.04456829540617933,
          -0.593282719864384,
          2.6242848063743573,
          0.24462031978249885,
          1.1328850606098697,
          2.0060358725260095,
          1.2005167790696198,
          0.37327858888243576,
          -0.3742628467771858,
          0.8547823738827977,
          -0.21859780442090335,
          0.6591082095768097,
          0.4795208337140756,
          -0.6496697052375129,
          -0.12948797569819323,
          0.5568531812557879,
          0.20764183595291252,
          -0.2900230529521762,
          2.0578940790805045,
          -0.5443840084525028,
          -0.5777618601814959,
          0.2515211673662584,
          0.5002326549285169,
          -0.2444241641164206,
          0.4611356448977846,
          0.6060183566082341,
          0.3020954298072492,
          -0.1035066519043774,
          -0.390292685239133,
          -2.350634394558622,
          0.4973053887711647,
          2.279050142104004,
          -0.4062576929340219,
          -0.07135512375957147,
          0.15960133392526507,
          -0.6991585060816363,
          -1.2249609265017054,
          1.9046158290313573,
          1.6849359631077014,
          -0.4850567772613633,
          -0.4533920651453092,
          1.0143143597678566,
          -0.26247463642411406,
          -0.07415620175527343,
          -0.17363406679987345,
          -1.5571642344367187,
          0.9477192903363447,
          0.009338772172733932,
          0.9737525892265195,
          -0.19912219435529838,
          -0.19438386912024114,
          -0.30555986888654796,
          -0.2010160023836657,
          -0.7818845312234535,
          0.9087044616845608,
          -0.8425647140960634,
          1.675480691315505,
          -0.06442128453731318,
          -1.1299139262117832,
          -1.3160461377696886,
          -0.0486390604325796,
          0.35547388777615274,
          0.5216742810502253,
          1.6261521248344808,
          0.6627850479058274,
          0.17831876016452902,
          0.8715452012874244,
          1.0597608848652096,
          -0.2794956366469468,
          -2.5890068718221246,
          0.251764812596934,
          -1.246963253675801,
          0.993726104290512
         ]
        },
        {
         "line": {
          "color": "rgba(128, 0, 128, 1.0)",
          "dash": "solid",
          "shape": "linear",
          "width": 1.3
         },
         "mode": "lines",
         "name": "D",
         "text": "",
         "type": "scatter",
         "x": [
          0,
          1,
          2,
          3,
          4,
          5,
          6,
          7,
          8,
          9,
          10,
          11,
          12,
          13,
          14,
          15,
          16,
          17,
          18,
          19,
          20,
          21,
          22,
          23,
          24,
          25,
          26,
          27,
          28,
          29,
          30,
          31,
          32,
          33,
          34,
          35,
          36,
          37,
          38,
          39,
          40,
          41,
          42,
          43,
          44,
          45,
          46,
          47,
          48,
          49,
          50,
          51,
          52,
          53,
          54,
          55,
          56,
          57,
          58,
          59,
          60,
          61,
          62,
          63,
          64,
          65,
          66,
          67,
          68,
          69,
          70,
          71,
          72,
          73,
          74,
          75,
          76,
          77,
          78,
          79,
          80,
          81,
          82,
          83,
          84,
          85,
          86,
          87,
          88,
          89,
          90,
          91,
          92,
          93,
          94,
          95,
          96,
          97,
          98,
          99
         ],
         "y": [
          1.5802010503171948,
          1.3614005659827733,
          -0.2692401828625994,
          -0.8327963272934122,
          -1.0994798635351577,
          2.121813469628873,
          0.31552761680351626,
          -0.27522357875226383,
          0.9934421603351369,
          -1.3093446206916348,
          -1.0269732058517889,
          1.273039399220183,
          1.5819062761435907,
          0.16590083182159485,
          0.035223136400488485,
          0.24785600680688508,
          0.4473422956869821,
          -0.3034803620184471,
          -0.8010874461577757,
          -1.3762522018715468,
          0.5647579034347905,
          1.3516453766530656,
          0.2136848838321265,
          -0.4014171400886087,
          0.8260471107942318,
          0.606692745215294,
          0.8500818168719876,
          0.4977680223481226,
          -0.8238806523007933,
          -0.10510819884387668,
          2.0904222279447016,
          1.3068159067806477,
          1.153784156281624,
          -1.239710018820489,
          0.8832150695094838,
          0.1936693398991002,
          0.11230730119807115,
          -0.8653706427451259,
          -0.8764830882445793,
          -0.07829634955206152,
          -0.6971414447497086,
          0.44661644215217644,
          -1.4344296662482634,
          0.08310235641079335,
          -0.7696024447251462,
          2.3874072718142294,
          0.09883845177185209,
          1.0084655657132586,
          1.2398996415347021,
          -2.4861824601518263,
          -1.6685379429196994,
          0.46716299947663065,
          1.277580399079282,
          1.580691547393168,
          -0.5442274638193683,
          0.1386308239863834,
          0.9231224520750038,
          -0.8590713547326759,
          -2.088966317042483,
          2.1854838230645224,
          2.0275630003646317,
          1.3323227992711364,
          -1.4225895724705249,
          -1.0486475714934191,
          -0.7593748724220363,
          -0.47087156262170987,
          0.15948330642386283,
          -0.4435324985907327,
          0.2356983443158317,
          -0.5470118291065498,
          -0.5942899653564176,
          0.8220520708077667,
          -1.0941023966798484,
          1.278412003468962,
          1.6823624209113277,
          2.238617998451016,
          0.8366996501344066,
          0.00850271514476415,
          0.9071541013303813,
          -0.020262536180522674,
          0.23610630374224037,
          0.852937555432612,
          0.9963549682022388,
          -0.7825305856271442,
          -0.7340890910684309,
          -0.1324040686036057,
          -0.5996992479641726,
          -0.22380434787437892,
          -0.005904910883137549,
          0.5277599628027471,
          0.8757979592297614,
          0.26833271782584606,
          -1.5042800676209687,
          -1.0715806483114996,
          -0.4511297406805261,
          0.10246036986122939,
          -0.6257899589436707,
          1.6778131928149635,
          2.7607588438776594,
          0.14699473582436365
         ]
        }
       ],
       "layout": {
        "legend": {
         "bgcolor": "#F5F6F9",
         "font": {
          "color": "#4D5663"
         }
        },
        "paper_bgcolor": "#F5F6F9",
        "plot_bgcolor": "#F5F6F9",
        "template": {
         "data": {
          "bar": [
           {
            "error_x": {
             "color": "#2a3f5f"
            },
            "error_y": {
             "color": "#2a3f5f"
            },
            "marker": {
             "line": {
              "color": "#E5ECF6",
              "width": 0.5
             }
            },
            "type": "bar"
           }
          ],
          "barpolar": [
           {
            "marker": {
             "line": {
              "color": "#E5ECF6",
              "width": 0.5
             }
            },
            "type": "barpolar"
           }
          ],
          "carpet": [
           {
            "aaxis": {
             "endlinecolor": "#2a3f5f",
             "gridcolor": "white",
             "linecolor": "white",
             "minorgridcolor": "white",
             "startlinecolor": "#2a3f5f"
            },
            "baxis": {
             "endlinecolor": "#2a3f5f",
             "gridcolor": "white",
             "linecolor": "white",
             "minorgridcolor": "white",
             "startlinecolor": "#2a3f5f"
            },
            "type": "carpet"
           }
          ],
          "choropleth": [
           {
            "colorbar": {
             "outlinewidth": 0,
             "ticks": ""
            },
            "type": "choropleth"
           }
          ],
          "contour": [
           {
            "colorbar": {
             "outlinewidth": 0,
             "ticks": ""
            },
            "colorscale": [
             [
              0,
              "#0d0887"
             ],
             [
              0.1111111111111111,
              "#46039f"
             ],
             [
              0.2222222222222222,
              "#7201a8"
             ],
             [
              0.3333333333333333,
              "#9c179e"
             ],
             [
              0.4444444444444444,
              "#bd3786"
             ],
             [
              0.5555555555555556,
              "#d8576b"
             ],
             [
              0.6666666666666666,
              "#ed7953"
             ],
             [
              0.7777777777777778,
              "#fb9f3a"
             ],
             [
              0.8888888888888888,
              "#fdca26"
             ],
             [
              1,
              "#f0f921"
             ]
            ],
            "type": "contour"
           }
          ],
          "contourcarpet": [
           {
            "colorbar": {
             "outlinewidth": 0,
             "ticks": ""
            },
            "type": "contourcarpet"
           }
          ],
          "heatmap": [
           {
            "colorbar": {
             "outlinewidth": 0,
             "ticks": ""
            },
            "colorscale": [
             [
              0,
              "#0d0887"
             ],
             [
              0.1111111111111111,
              "#46039f"
             ],
             [
              0.2222222222222222,
              "#7201a8"
             ],
             [
              0.3333333333333333,
              "#9c179e"
             ],
             [
              0.4444444444444444,
              "#bd3786"
             ],
             [
              0.5555555555555556,
              "#d8576b"
             ],
             [
              0.6666666666666666,
              "#ed7953"
             ],
             [
              0.7777777777777778,
              "#fb9f3a"
             ],
             [
              0.8888888888888888,
              "#fdca26"
             ],
             [
              1,
              "#f0f921"
             ]
            ],
            "type": "heatmap"
           }
          ],
          "heatmapgl": [
           {
            "colorbar": {
             "outlinewidth": 0,
             "ticks": ""
            },
            "colorscale": [
             [
              0,
              "#0d0887"
             ],
             [
              0.1111111111111111,
              "#46039f"
             ],
             [
              0.2222222222222222,
              "#7201a8"
             ],
             [
              0.3333333333333333,
              "#9c179e"
             ],
             [
              0.4444444444444444,
              "#bd3786"
             ],
             [
              0.5555555555555556,
              "#d8576b"
             ],
             [
              0.6666666666666666,
              "#ed7953"
             ],
             [
              0.7777777777777778,
              "#fb9f3a"
             ],
             [
              0.8888888888888888,
              "#fdca26"
             ],
             [
              1,
              "#f0f921"
             ]
            ],
            "type": "heatmapgl"
           }
          ],
          "histogram": [
           {
            "marker": {
             "colorbar": {
              "outlinewidth": 0,
              "ticks": ""
             }
            },
            "type": "histogram"
           }
          ],
          "histogram2d": [
           {
            "colorbar": {
             "outlinewidth": 0,
             "ticks": ""
            },
            "colorscale": [
             [
              0,
              "#0d0887"
             ],
             [
              0.1111111111111111,
              "#46039f"
             ],
             [
              0.2222222222222222,
              "#7201a8"
             ],
             [
              0.3333333333333333,
              "#9c179e"
             ],
             [
              0.4444444444444444,
              "#bd3786"
             ],
             [
              0.5555555555555556,
              "#d8576b"
             ],
             [
              0.6666666666666666,
              "#ed7953"
             ],
             [
              0.7777777777777778,
              "#fb9f3a"
             ],
             [
              0.8888888888888888,
              "#fdca26"
             ],
             [
              1,
              "#f0f921"
             ]
            ],
            "type": "histogram2d"
           }
          ],
          "histogram2dcontour": [
           {
            "colorbar": {
             "outlinewidth": 0,
             "ticks": ""
            },
            "colorscale": [
             [
              0,
              "#0d0887"
             ],
             [
              0.1111111111111111,
              "#46039f"
             ],
             [
              0.2222222222222222,
              "#7201a8"
             ],
             [
              0.3333333333333333,
              "#9c179e"
             ],
             [
              0.4444444444444444,
              "#bd3786"
             ],
             [
              0.5555555555555556,
              "#d8576b"
             ],
             [
              0.6666666666666666,
              "#ed7953"
             ],
             [
              0.7777777777777778,
              "#fb9f3a"
             ],
             [
              0.8888888888888888,
              "#fdca26"
             ],
             [
              1,
              "#f0f921"
             ]
            ],
            "type": "histogram2dcontour"
           }
          ],
          "mesh3d": [
           {
            "colorbar": {
             "outlinewidth": 0,
             "ticks": ""
            },
            "type": "mesh3d"
           }
          ],
          "parcoords": [
           {
            "line": {
             "colorbar": {
              "outlinewidth": 0,
              "ticks": ""
             }
            },
            "type": "parcoords"
           }
          ],
          "pie": [
           {
            "automargin": true,
            "type": "pie"
           }
          ],
          "scatter": [
           {
            "marker": {
             "colorbar": {
              "outlinewidth": 0,
              "ticks": ""
             }
            },
            "type": "scatter"
           }
          ],
          "scatter3d": [
           {
            "line": {
             "colorbar": {
              "outlinewidth": 0,
              "ticks": ""
             }
            },
            "marker": {
             "colorbar": {
              "outlinewidth": 0,
              "ticks": ""
             }
            },
            "type": "scatter3d"
           }
          ],
          "scattercarpet": [
           {
            "marker": {
             "colorbar": {
              "outlinewidth": 0,
              "ticks": ""
             }
            },
            "type": "scattercarpet"
           }
          ],
          "scattergeo": [
           {
            "marker": {
             "colorbar": {
              "outlinewidth": 0,
              "ticks": ""
             }
            },
            "type": "scattergeo"
           }
          ],
          "scattergl": [
           {
            "marker": {
             "colorbar": {
              "outlinewidth": 0,
              "ticks": ""
             }
            },
            "type": "scattergl"
           }
          ],
          "scattermapbox": [
           {
            "marker": {
             "colorbar": {
              "outlinewidth": 0,
              "ticks": ""
             }
            },
            "type": "scattermapbox"
           }
          ],
          "scatterpolar": [
           {
            "marker": {
             "colorbar": {
              "outlinewidth": 0,
              "ticks": ""
             }
            },
            "type": "scatterpolar"
           }
          ],
          "scatterpolargl": [
           {
            "marker": {
             "colorbar": {
              "outlinewidth": 0,
              "ticks": ""
             }
            },
            "type": "scatterpolargl"
           }
          ],
          "scatterternary": [
           {
            "marker": {
             "colorbar": {
              "outlinewidth": 0,
              "ticks": ""
             }
            },
            "type": "scatterternary"
           }
          ],
          "surface": [
           {
            "colorbar": {
             "outlinewidth": 0,
             "ticks": ""
            },
            "colorscale": [
             [
              0,
              "#0d0887"
             ],
             [
              0.1111111111111111,
              "#46039f"
             ],
             [
              0.2222222222222222,
              "#7201a8"
             ],
             [
              0.3333333333333333,
              "#9c179e"
             ],
             [
              0.4444444444444444,
              "#bd3786"
             ],
             [
              0.5555555555555556,
              "#d8576b"
             ],
             [
              0.6666666666666666,
              "#ed7953"
             ],
             [
              0.7777777777777778,
              "#fb9f3a"
             ],
             [
              0.8888888888888888,
              "#fdca26"
             ],
             [
              1,
              "#f0f921"
             ]
            ],
            "type": "surface"
           }
          ],
          "table": [
           {
            "cells": {
             "fill": {
              "color": "#EBF0F8"
             },
             "line": {
              "color": "white"
             }
            },
            "header": {
             "fill": {
              "color": "#C8D4E3"
             },
             "line": {
              "color": "white"
             }
            },
            "type": "table"
           }
          ]
         },
         "layout": {
          "annotationdefaults": {
           "arrowcolor": "#2a3f5f",
           "arrowhead": 0,
           "arrowwidth": 1
          },
          "coloraxis": {
           "colorbar": {
            "outlinewidth": 0,
            "ticks": ""
           }
          },
          "colorscale": {
           "diverging": [
            [
             0,
             "#8e0152"
            ],
            [
             0.1,
             "#c51b7d"
            ],
            [
             0.2,
             "#de77ae"
            ],
            [
             0.3,
             "#f1b6da"
            ],
            [
             0.4,
             "#fde0ef"
            ],
            [
             0.5,
             "#f7f7f7"
            ],
            [
             0.6,
             "#e6f5d0"
            ],
            [
             0.7,
             "#b8e186"
            ],
            [
             0.8,
             "#7fbc41"
            ],
            [
             0.9,
             "#4d9221"
            ],
            [
             1,
             "#276419"
            ]
           ],
           "sequential": [
            [
             0,
             "#0d0887"
            ],
            [
             0.1111111111111111,
             "#46039f"
            ],
            [
             0.2222222222222222,
             "#7201a8"
            ],
            [
             0.3333333333333333,
             "#9c179e"
            ],
            [
             0.4444444444444444,
             "#bd3786"
            ],
            [
             0.5555555555555556,
             "#d8576b"
            ],
            [
             0.6666666666666666,
             "#ed7953"
            ],
            [
             0.7777777777777778,
             "#fb9f3a"
            ],
            [
             0.8888888888888888,
             "#fdca26"
            ],
            [
             1,
             "#f0f921"
            ]
           ],
           "sequentialminus": [
            [
             0,
             "#0d0887"
            ],
            [
             0.1111111111111111,
             "#46039f"
            ],
            [
             0.2222222222222222,
             "#7201a8"
            ],
            [
             0.3333333333333333,
             "#9c179e"
            ],
            [
             0.4444444444444444,
             "#bd3786"
            ],
            [
             0.5555555555555556,
             "#d8576b"
            ],
            [
             0.6666666666666666,
             "#ed7953"
            ],
            [
             0.7777777777777778,
             "#fb9f3a"
            ],
            [
             0.8888888888888888,
             "#fdca26"
            ],
            [
             1,
             "#f0f921"
            ]
           ]
          },
          "colorway": [
           "#636efa",
           "#EF553B",
           "#00cc96",
           "#ab63fa",
           "#FFA15A",
           "#19d3f3",
           "#FF6692",
           "#B6E880",
           "#FF97FF",
           "#FECB52"
          ],
          "font": {
           "color": "#2a3f5f"
          },
          "geo": {
           "bgcolor": "white",
           "lakecolor": "white",
           "landcolor": "#E5ECF6",
           "showlakes": true,
           "showland": true,
           "subunitcolor": "white"
          },
          "hoverlabel": {
           "align": "left"
          },
          "hovermode": "closest",
          "mapbox": {
           "style": "light"
          },
          "paper_bgcolor": "white",
          "plot_bgcolor": "#E5ECF6",
          "polar": {
           "angularaxis": {
            "gridcolor": "white",
            "linecolor": "white",
            "ticks": ""
           },
           "bgcolor": "#E5ECF6",
           "radialaxis": {
            "gridcolor": "white",
            "linecolor": "white",
            "ticks": ""
           }
          },
          "scene": {
           "xaxis": {
            "backgroundcolor": "#E5ECF6",
            "gridcolor": "white",
            "gridwidth": 2,
            "linecolor": "white",
            "showbackground": true,
            "ticks": "",
            "zerolinecolor": "white"
           },
           "yaxis": {
            "backgroundcolor": "#E5ECF6",
            "gridcolor": "white",
            "gridwidth": 2,
            "linecolor": "white",
            "showbackground": true,
            "ticks": "",
            "zerolinecolor": "white"
           },
           "zaxis": {
            "backgroundcolor": "#E5ECF6",
            "gridcolor": "white",
            "gridwidth": 2,
            "linecolor": "white",
            "showbackground": true,
            "ticks": "",
            "zerolinecolor": "white"
           }
          },
          "shapedefaults": {
           "line": {
            "color": "#2a3f5f"
           }
          },
          "ternary": {
           "aaxis": {
            "gridcolor": "white",
            "linecolor": "white",
            "ticks": ""
           },
           "baxis": {
            "gridcolor": "white",
            "linecolor": "white",
            "ticks": ""
           },
           "bgcolor": "#E5ECF6",
           "caxis": {
            "gridcolor": "white",
            "linecolor": "white",
            "ticks": ""
           }
          },
          "title": {
           "x": 0.05
          },
          "xaxis": {
           "automargin": true,
           "gridcolor": "white",
           "linecolor": "white",
           "ticks": "",
           "title": {
            "standoff": 15
           },
           "zerolinecolor": "white",
           "zerolinewidth": 2
          },
          "yaxis": {
           "automargin": true,
           "gridcolor": "white",
           "linecolor": "white",
           "ticks": "",
           "title": {
            "standoff": 15
           },
           "zerolinecolor": "white",
           "zerolinewidth": 2
          }
         }
        },
        "title": {
         "font": {
          "color": "#4D5663"
         }
        },
        "xaxis": {
         "gridcolor": "#E1E5ED",
         "showgrid": true,
         "tickfont": {
          "color": "#4D5663"
         },
         "title": {
          "font": {
           "color": "#4D5663"
          },
          "text": ""
         },
         "zerolinecolor": "#E1E5ED"
        },
        "yaxis": {
         "gridcolor": "#E1E5ED",
         "showgrid": true,
         "tickfont": {
          "color": "#4D5663"
         },
         "title": {
          "font": {
           "color": "#4D5663"
          },
          "text": ""
         },
         "zerolinecolor": "#E1E5ED"
        }
       }
      },
      "text/html": [
       "<div>\n",
       "        \n",
       "        \n",
       "            <div id=\"336f3cfd-ccbd-4b04-93db-d6dbba695773\" class=\"plotly-graph-div\" style=\"height:525px; width:100%;\"></div>\n",
       "            <script type=\"text/javascript\">\n",
       "                require([\"plotly\"], function(Plotly) {\n",
       "                    window.PLOTLYENV=window.PLOTLYENV || {};\n",
       "                    window.PLOTLYENV.BASE_URL='https://plot.ly';\n",
       "                    \n",
       "                if (document.getElementById(\"336f3cfd-ccbd-4b04-93db-d6dbba695773\")) {\n",
       "                    Plotly.newPlot(\n",
       "                        '336f3cfd-ccbd-4b04-93db-d6dbba695773',\n",
       "                        [{\"line\": {\"color\": \"rgba(255, 153, 51, 1.0)\", \"dash\": \"solid\", \"shape\": \"linear\", \"width\": 1.3}, \"mode\": \"lines\", \"name\": \"A\", \"text\": \"\", \"type\": \"scatter\", \"x\": [0, 1, 2, 3, 4, 5, 6, 7, 8, 9, 10, 11, 12, 13, 14, 15, 16, 17, 18, 19, 20, 21, 22, 23, 24, 25, 26, 27, 28, 29, 30, 31, 32, 33, 34, 35, 36, 37, 38, 39, 40, 41, 42, 43, 44, 45, 46, 47, 48, 49, 50, 51, 52, 53, 54, 55, 56, 57, 58, 59, 60, 61, 62, 63, 64, 65, 66, 67, 68, 69, 70, 71, 72, 73, 74, 75, 76, 77, 78, 79, 80, 81, 82, 83, 84, 85, 86, 87, 88, 89, 90, 91, 92, 93, 94, 95, 96, 97, 98, 99], \"y\": [1.151355178019394, -0.9361650277464728, -1.3846228842843142, -0.2796776824646479, 0.29917531788771107, 1.9609006702667096, 1.1323407645016637, 0.7388791731684019, -0.6593519805968455, -0.22639175856959035, 2.4443006558080116, 0.48125243417739527, 0.7925798399032787, 0.41438186647710423, 0.8089400888582384, -1.1506212495567365, 0.5836788299462226, -0.8427945404954371, 0.8668591694781986, -0.012030122577300642, -1.2236788868479356, -0.7658232072301638, -0.1743553013365679, -0.21620455046345552, 0.22748717520189807, -0.4265691248545492, 0.72095706873494, 0.9344888480016998, -0.11354746253205629, 0.7886805881055964, -1.1298847500923686, 0.16167764290954204, 1.6942357302156492, 0.4627976736860832, 0.7987080668473584, -0.6552207119101542, -2.010407016642672, -0.3804047791280782, -0.13441434318712028, -1.5077726095950343, -0.14995988076843286, -0.009655965958263178, -0.9380678623760156, -0.5077715133960896, 1.6269798990550712, -1.3633065983348316, -1.296529365737129, 0.1815547989449212, -1.7031994118739247, -0.7722241983008982, 0.3776141513866365, -0.5676758070238037, -0.11963072709889348, -0.8078344220909806, -2.6194390576014124, 0.829400599828067, 0.7464252577298145, 0.39477815179983605, -1.7841626158665123, -1.2504287011326582, -1.7706448607167162, 0.8566740928709481, -1.2742218968567363, -1.4495063892024715, -1.0383793547383684, 0.719058877563574, 1.1914743525850875, 0.5225803057924849, -0.44294903927427, 2.818472831931504, -0.931313559388757, -0.6077727984728996, -0.6380957008903352, -0.9529593977931087, 0.02797637763395327, -0.048514490512408026, 0.9391837681769801, -0.8000695220039638, -1.4527842804203053, -1.179693417424383, 1.2531234527029491, -0.06426141359456067, 0.1035028380597389, -1.8328225027927836, 0.38828179543127284, 0.12055965765445607, 1.61139917152243, 0.17713789142763148, -1.7026781758633982, 0.6103258319227929, 0.08598832619292587, 0.2541649081241112, 0.16144605765598216, -0.7065699371611449, -0.062202762600640595, 0.9636802566852226, 0.6030153872091345, 0.38458402722619567, 0.9225094189488893, -1.6981592836510477]}, {\"line\": {\"color\": \"rgba(55, 128, 191, 1.0)\", \"dash\": \"solid\", \"shape\": \"linear\", \"width\": 1.3}, \"mode\": \"lines\", \"name\": \"B\", \"text\": \"\", \"type\": \"scatter\", \"x\": [0, 1, 2, 3, 4, 5, 6, 7, 8, 9, 10, 11, 12, 13, 14, 15, 16, 17, 18, 19, 20, 21, 22, 23, 24, 25, 26, 27, 28, 29, 30, 31, 32, 33, 34, 35, 36, 37, 38, 39, 40, 41, 42, 43, 44, 45, 46, 47, 48, 49, 50, 51, 52, 53, 54, 55, 56, 57, 58, 59, 60, 61, 62, 63, 64, 65, 66, 67, 68, 69, 70, 71, 72, 73, 74, 75, 76, 77, 78, 79, 80, 81, 82, 83, 84, 85, 86, 87, 88, 89, 90, 91, 92, 93, 94, 95, 96, 97, 98, 99], \"y\": [1.1851446659129354, -0.3008756662976953, -0.15432689435882102, 2.402354768233319, 1.9050767532564923, -0.0823835713053652, 0.13945253530523913, 0.9086000352916271, 0.48309330244772614, 2.341484074220481, -3.058956182615626, 2.992322507049551, 1.148550652036867, 0.002925398109212324, 0.021557581181731136, 1.0917779433315067, -0.02616348823628588, 2.2665591020292197, 0.0620125849180558, 1.2035901507532878, 0.16501008201002867, 1.0233841708848757, -0.33483421884742537, 1.3617946592094414, -0.6084439861020854, -1.1960610129702258, 0.5357702634839098, -0.21002653626876633, -0.3523814175217604, 0.32093445454386493, 1.6833733558945314, 1.7289349244658156, 0.037413319202125685, -0.31517616515536556, 0.5341717435802795, -0.5475097350630193, -0.19951198598064784, 2.102077539250784, 0.2852656516766363, 0.275115485957045, 0.8607640476839017, -0.3043730132821245, -0.32418970778070916, -1.263033271029196, 1.060324954717839, -0.8014965046431832, 0.28480938488643837, -0.6517236120383918, -1.0368113399041408, 1.6008851598296057, 0.5003905901184007, 0.6474922175453751, -0.8044465065690375, 1.320598846966574, 0.17850052377328124, -1.0977368256860924, 1.1632516070502703, -0.633708734036224, -1.4946772238062298, 0.01623431549026349, 0.5963373180699736, -0.6651914330488827, -1.1537603981938145, 0.8417030375064397, 1.2438940534467489, 0.8035087936949662, 0.315927700142238, -1.5277275057434452, -2.0955222868211067, -0.29146697793601917, 0.17592513772324733, 1.0781577215436182, 0.5860847358866781, -1.3466323307912997, 1.397195694395156, 1.1343285649102521, 0.9500842770842041, -0.7605571477437717, -0.7049423789674328, -1.276319601443271, -0.014394085276968734, 0.70781169943675, -0.27910974570156616, -0.22470632706980728, -0.2913165623478267, -1.3897837313218213, -1.8084879265332483, 1.5267076199840302, 1.5516730998081574, -0.4887511724860033, 1.992781229536849, -0.2894811935696935, 1.0439755338730026, 0.29128888150853033, -0.48236459295912126, 0.030227076817404427, -0.06281685372208093, -0.4319222114197204, -1.5745552107131755, -0.27093284000245105]}, {\"line\": {\"color\": \"rgba(50, 171, 96, 1.0)\", \"dash\": \"solid\", \"shape\": \"linear\", \"width\": 1.3}, \"mode\": \"lines\", \"name\": \"C\", \"text\": \"\", \"type\": \"scatter\", \"x\": [0, 1, 2, 3, 4, 5, 6, 7, 8, 9, 10, 11, 12, 13, 14, 15, 16, 17, 18, 19, 20, 21, 22, 23, 24, 25, 26, 27, 28, 29, 30, 31, 32, 33, 34, 35, 36, 37, 38, 39, 40, 41, 42, 43, 44, 45, 46, 47, 48, 49, 50, 51, 52, 53, 54, 55, 56, 57, 58, 59, 60, 61, 62, 63, 64, 65, 66, 67, 68, 69, 70, 71, 72, 73, 74, 75, 76, 77, 78, 79, 80, 81, 82, 83, 84, 85, 86, 87, 88, 89, 90, 91, 92, 93, 94, 95, 96, 97, 98, 99], \"y\": [-0.3223195880890678, -0.2861484536706367, -1.2063212009116915, -0.10361143130706502, -0.4271235748437105, 0.733527495001453, -0.6524112862290365, -0.8054059363319983, 1.2096987713930438, -1.9609494646468153, 0.29464671144580684, 0.5693521403130828, -0.11404057048233676, 0.6787637460906204, 1.333184540283356, -0.44484572415825907, 1.111624422235998, -0.44727892635462785, 0.5212233249918282, 0.8674109609526864, 1.0672415088844682, -1.2414932596627322, 0.17371171844668673, -2.0826168338192184, -0.7787710357531319, -0.15510558556580076, -0.519120490685171, -0.04456829540617933, -0.593282719864384, 2.6242848063743573, 0.24462031978249885, 1.1328850606098697, 2.0060358725260095, 1.2005167790696198, 0.37327858888243576, -0.3742628467771858, 0.8547823738827977, -0.21859780442090335, 0.6591082095768097, 0.4795208337140756, -0.6496697052375129, -0.12948797569819323, 0.5568531812557879, 0.20764183595291252, -0.2900230529521762, 2.0578940790805045, -0.5443840084525028, -0.5777618601814959, 0.2515211673662584, 0.5002326549285169, -0.2444241641164206, 0.4611356448977846, 0.6060183566082341, 0.3020954298072492, -0.1035066519043774, -0.390292685239133, -2.350634394558622, 0.4973053887711647, 2.279050142104004, -0.4062576929340219, -0.07135512375957147, 0.15960133392526507, -0.6991585060816363, -1.2249609265017054, 1.9046158290313573, 1.6849359631077014, -0.4850567772613633, -0.4533920651453092, 1.0143143597678566, -0.26247463642411406, -0.07415620175527343, -0.17363406679987345, -1.5571642344367187, 0.9477192903363447, 0.009338772172733932, 0.9737525892265195, -0.19912219435529838, -0.19438386912024114, -0.30555986888654796, -0.2010160023836657, -0.7818845312234535, 0.9087044616845608, -0.8425647140960634, 1.675480691315505, -0.06442128453731318, -1.1299139262117832, -1.3160461377696886, -0.0486390604325796, 0.35547388777615274, 0.5216742810502253, 1.6261521248344808, 0.6627850479058274, 0.17831876016452902, 0.8715452012874244, 1.0597608848652096, -0.2794956366469468, -2.5890068718221246, 0.251764812596934, -1.246963253675801, 0.993726104290512]}, {\"line\": {\"color\": \"rgba(128, 0, 128, 1.0)\", \"dash\": \"solid\", \"shape\": \"linear\", \"width\": 1.3}, \"mode\": \"lines\", \"name\": \"D\", \"text\": \"\", \"type\": \"scatter\", \"x\": [0, 1, 2, 3, 4, 5, 6, 7, 8, 9, 10, 11, 12, 13, 14, 15, 16, 17, 18, 19, 20, 21, 22, 23, 24, 25, 26, 27, 28, 29, 30, 31, 32, 33, 34, 35, 36, 37, 38, 39, 40, 41, 42, 43, 44, 45, 46, 47, 48, 49, 50, 51, 52, 53, 54, 55, 56, 57, 58, 59, 60, 61, 62, 63, 64, 65, 66, 67, 68, 69, 70, 71, 72, 73, 74, 75, 76, 77, 78, 79, 80, 81, 82, 83, 84, 85, 86, 87, 88, 89, 90, 91, 92, 93, 94, 95, 96, 97, 98, 99], \"y\": [1.5802010503171948, 1.3614005659827733, -0.2692401828625994, -0.8327963272934122, -1.0994798635351577, 2.121813469628873, 0.31552761680351626, -0.27522357875226383, 0.9934421603351369, -1.3093446206916348, -1.0269732058517889, 1.273039399220183, 1.5819062761435907, 0.16590083182159485, 0.035223136400488485, 0.24785600680688508, 0.4473422956869821, -0.3034803620184471, -0.8010874461577757, -1.3762522018715468, 0.5647579034347905, 1.3516453766530656, 0.2136848838321265, -0.4014171400886087, 0.8260471107942318, 0.606692745215294, 0.8500818168719876, 0.4977680223481226, -0.8238806523007933, -0.10510819884387668, 2.0904222279447016, 1.3068159067806477, 1.153784156281624, -1.239710018820489, 0.8832150695094838, 0.1936693398991002, 0.11230730119807115, -0.8653706427451259, -0.8764830882445793, -0.07829634955206152, -0.6971414447497086, 0.44661644215217644, -1.4344296662482634, 0.08310235641079335, -0.7696024447251462, 2.3874072718142294, 0.09883845177185209, 1.0084655657132586, 1.2398996415347021, -2.4861824601518263, -1.6685379429196994, 0.46716299947663065, 1.277580399079282, 1.580691547393168, -0.5442274638193683, 0.1386308239863834, 0.9231224520750038, -0.8590713547326759, -2.088966317042483, 2.1854838230645224, 2.0275630003646317, 1.3323227992711364, -1.4225895724705249, -1.0486475714934191, -0.7593748724220363, -0.47087156262170987, 0.15948330642386283, -0.4435324985907327, 0.2356983443158317, -0.5470118291065498, -0.5942899653564176, 0.8220520708077667, -1.0941023966798484, 1.278412003468962, 1.6823624209113277, 2.238617998451016, 0.8366996501344066, 0.00850271514476415, 0.9071541013303813, -0.020262536180522674, 0.23610630374224037, 0.852937555432612, 0.9963549682022388, -0.7825305856271442, -0.7340890910684309, -0.1324040686036057, -0.5996992479641726, -0.22380434787437892, -0.005904910883137549, 0.5277599628027471, 0.8757979592297614, 0.26833271782584606, -1.5042800676209687, -1.0715806483114996, -0.4511297406805261, 0.10246036986122939, -0.6257899589436707, 1.6778131928149635, 2.7607588438776594, 0.14699473582436365]}],\n",
       "                        {\"legend\": {\"bgcolor\": \"#F5F6F9\", \"font\": {\"color\": \"#4D5663\"}}, \"paper_bgcolor\": \"#F5F6F9\", \"plot_bgcolor\": \"#F5F6F9\", \"template\": {\"data\": {\"bar\": [{\"error_x\": {\"color\": \"#2a3f5f\"}, \"error_y\": {\"color\": \"#2a3f5f\"}, \"marker\": {\"line\": {\"color\": \"#E5ECF6\", \"width\": 0.5}}, \"type\": \"bar\"}], \"barpolar\": [{\"marker\": {\"line\": {\"color\": \"#E5ECF6\", \"width\": 0.5}}, \"type\": \"barpolar\"}], \"carpet\": [{\"aaxis\": {\"endlinecolor\": \"#2a3f5f\", \"gridcolor\": \"white\", \"linecolor\": \"white\", \"minorgridcolor\": \"white\", \"startlinecolor\": \"#2a3f5f\"}, \"baxis\": {\"endlinecolor\": \"#2a3f5f\", \"gridcolor\": \"white\", \"linecolor\": \"white\", \"minorgridcolor\": \"white\", \"startlinecolor\": \"#2a3f5f\"}, \"type\": \"carpet\"}], \"choropleth\": [{\"colorbar\": {\"outlinewidth\": 0, \"ticks\": \"\"}, \"type\": \"choropleth\"}], \"contour\": [{\"colorbar\": {\"outlinewidth\": 0, \"ticks\": \"\"}, \"colorscale\": [[0.0, \"#0d0887\"], [0.1111111111111111, \"#46039f\"], [0.2222222222222222, \"#7201a8\"], [0.3333333333333333, \"#9c179e\"], [0.4444444444444444, \"#bd3786\"], [0.5555555555555556, \"#d8576b\"], [0.6666666666666666, \"#ed7953\"], [0.7777777777777778, \"#fb9f3a\"], [0.8888888888888888, \"#fdca26\"], [1.0, \"#f0f921\"]], \"type\": \"contour\"}], \"contourcarpet\": [{\"colorbar\": {\"outlinewidth\": 0, \"ticks\": \"\"}, \"type\": \"contourcarpet\"}], \"heatmap\": [{\"colorbar\": {\"outlinewidth\": 0, \"ticks\": \"\"}, \"colorscale\": [[0.0, \"#0d0887\"], [0.1111111111111111, \"#46039f\"], [0.2222222222222222, \"#7201a8\"], [0.3333333333333333, \"#9c179e\"], [0.4444444444444444, \"#bd3786\"], [0.5555555555555556, \"#d8576b\"], [0.6666666666666666, \"#ed7953\"], [0.7777777777777778, \"#fb9f3a\"], [0.8888888888888888, \"#fdca26\"], [1.0, \"#f0f921\"]], \"type\": \"heatmap\"}], \"heatmapgl\": [{\"colorbar\": {\"outlinewidth\": 0, \"ticks\": \"\"}, \"colorscale\": [[0.0, \"#0d0887\"], [0.1111111111111111, \"#46039f\"], [0.2222222222222222, \"#7201a8\"], [0.3333333333333333, \"#9c179e\"], [0.4444444444444444, \"#bd3786\"], [0.5555555555555556, \"#d8576b\"], [0.6666666666666666, \"#ed7953\"], [0.7777777777777778, \"#fb9f3a\"], [0.8888888888888888, \"#fdca26\"], [1.0, \"#f0f921\"]], \"type\": \"heatmapgl\"}], \"histogram\": [{\"marker\": {\"colorbar\": {\"outlinewidth\": 0, \"ticks\": \"\"}}, \"type\": \"histogram\"}], \"histogram2d\": [{\"colorbar\": {\"outlinewidth\": 0, \"ticks\": \"\"}, \"colorscale\": [[0.0, \"#0d0887\"], [0.1111111111111111, \"#46039f\"], [0.2222222222222222, \"#7201a8\"], [0.3333333333333333, \"#9c179e\"], [0.4444444444444444, \"#bd3786\"], [0.5555555555555556, \"#d8576b\"], [0.6666666666666666, \"#ed7953\"], [0.7777777777777778, \"#fb9f3a\"], [0.8888888888888888, \"#fdca26\"], [1.0, \"#f0f921\"]], \"type\": \"histogram2d\"}], \"histogram2dcontour\": [{\"colorbar\": {\"outlinewidth\": 0, \"ticks\": \"\"}, \"colorscale\": [[0.0, \"#0d0887\"], [0.1111111111111111, \"#46039f\"], [0.2222222222222222, \"#7201a8\"], [0.3333333333333333, \"#9c179e\"], [0.4444444444444444, \"#bd3786\"], [0.5555555555555556, \"#d8576b\"], [0.6666666666666666, \"#ed7953\"], [0.7777777777777778, \"#fb9f3a\"], [0.8888888888888888, \"#fdca26\"], [1.0, \"#f0f921\"]], \"type\": \"histogram2dcontour\"}], \"mesh3d\": [{\"colorbar\": {\"outlinewidth\": 0, \"ticks\": \"\"}, \"type\": \"mesh3d\"}], \"parcoords\": [{\"line\": {\"colorbar\": {\"outlinewidth\": 0, \"ticks\": \"\"}}, \"type\": \"parcoords\"}], \"pie\": [{\"automargin\": true, \"type\": \"pie\"}], \"scatter\": [{\"marker\": {\"colorbar\": {\"outlinewidth\": 0, \"ticks\": \"\"}}, \"type\": \"scatter\"}], \"scatter3d\": [{\"line\": {\"colorbar\": {\"outlinewidth\": 0, \"ticks\": \"\"}}, \"marker\": {\"colorbar\": {\"outlinewidth\": 0, \"ticks\": \"\"}}, \"type\": \"scatter3d\"}], \"scattercarpet\": [{\"marker\": {\"colorbar\": {\"outlinewidth\": 0, \"ticks\": \"\"}}, \"type\": \"scattercarpet\"}], \"scattergeo\": [{\"marker\": {\"colorbar\": {\"outlinewidth\": 0, \"ticks\": \"\"}}, \"type\": \"scattergeo\"}], \"scattergl\": [{\"marker\": {\"colorbar\": {\"outlinewidth\": 0, \"ticks\": \"\"}}, \"type\": \"scattergl\"}], \"scattermapbox\": [{\"marker\": {\"colorbar\": {\"outlinewidth\": 0, \"ticks\": \"\"}}, \"type\": \"scattermapbox\"}], \"scatterpolar\": [{\"marker\": {\"colorbar\": {\"outlinewidth\": 0, \"ticks\": \"\"}}, \"type\": \"scatterpolar\"}], \"scatterpolargl\": [{\"marker\": {\"colorbar\": {\"outlinewidth\": 0, \"ticks\": \"\"}}, \"type\": \"scatterpolargl\"}], \"scatterternary\": [{\"marker\": {\"colorbar\": {\"outlinewidth\": 0, \"ticks\": \"\"}}, \"type\": \"scatterternary\"}], \"surface\": [{\"colorbar\": {\"outlinewidth\": 0, \"ticks\": \"\"}, \"colorscale\": [[0.0, \"#0d0887\"], [0.1111111111111111, \"#46039f\"], [0.2222222222222222, \"#7201a8\"], [0.3333333333333333, \"#9c179e\"], [0.4444444444444444, \"#bd3786\"], [0.5555555555555556, \"#d8576b\"], [0.6666666666666666, \"#ed7953\"], [0.7777777777777778, \"#fb9f3a\"], [0.8888888888888888, \"#fdca26\"], [1.0, \"#f0f921\"]], \"type\": \"surface\"}], \"table\": [{\"cells\": {\"fill\": {\"color\": \"#EBF0F8\"}, \"line\": {\"color\": \"white\"}}, \"header\": {\"fill\": {\"color\": \"#C8D4E3\"}, \"line\": {\"color\": \"white\"}}, \"type\": \"table\"}]}, \"layout\": {\"annotationdefaults\": {\"arrowcolor\": \"#2a3f5f\", \"arrowhead\": 0, \"arrowwidth\": 1}, \"coloraxis\": {\"colorbar\": {\"outlinewidth\": 0, \"ticks\": \"\"}}, \"colorscale\": {\"diverging\": [[0, \"#8e0152\"], [0.1, \"#c51b7d\"], [0.2, \"#de77ae\"], [0.3, \"#f1b6da\"], [0.4, \"#fde0ef\"], [0.5, \"#f7f7f7\"], [0.6, \"#e6f5d0\"], [0.7, \"#b8e186\"], [0.8, \"#7fbc41\"], [0.9, \"#4d9221\"], [1, \"#276419\"]], \"sequential\": [[0.0, \"#0d0887\"], [0.1111111111111111, \"#46039f\"], [0.2222222222222222, \"#7201a8\"], [0.3333333333333333, \"#9c179e\"], [0.4444444444444444, \"#bd3786\"], [0.5555555555555556, \"#d8576b\"], [0.6666666666666666, \"#ed7953\"], [0.7777777777777778, \"#fb9f3a\"], [0.8888888888888888, \"#fdca26\"], [1.0, \"#f0f921\"]], \"sequentialminus\": [[0.0, \"#0d0887\"], [0.1111111111111111, \"#46039f\"], [0.2222222222222222, \"#7201a8\"], [0.3333333333333333, \"#9c179e\"], [0.4444444444444444, \"#bd3786\"], [0.5555555555555556, \"#d8576b\"], [0.6666666666666666, \"#ed7953\"], [0.7777777777777778, \"#fb9f3a\"], [0.8888888888888888, \"#fdca26\"], [1.0, \"#f0f921\"]]}, \"colorway\": [\"#636efa\", \"#EF553B\", \"#00cc96\", \"#ab63fa\", \"#FFA15A\", \"#19d3f3\", \"#FF6692\", \"#B6E880\", \"#FF97FF\", \"#FECB52\"], \"font\": {\"color\": \"#2a3f5f\"}, \"geo\": {\"bgcolor\": \"white\", \"lakecolor\": \"white\", \"landcolor\": \"#E5ECF6\", \"showlakes\": true, \"showland\": true, \"subunitcolor\": \"white\"}, \"hoverlabel\": {\"align\": \"left\"}, \"hovermode\": \"closest\", \"mapbox\": {\"style\": \"light\"}, \"paper_bgcolor\": \"white\", \"plot_bgcolor\": \"#E5ECF6\", \"polar\": {\"angularaxis\": {\"gridcolor\": \"white\", \"linecolor\": \"white\", \"ticks\": \"\"}, \"bgcolor\": \"#E5ECF6\", \"radialaxis\": {\"gridcolor\": \"white\", \"linecolor\": \"white\", \"ticks\": \"\"}}, \"scene\": {\"xaxis\": {\"backgroundcolor\": \"#E5ECF6\", \"gridcolor\": \"white\", \"gridwidth\": 2, \"linecolor\": \"white\", \"showbackground\": true, \"ticks\": \"\", \"zerolinecolor\": \"white\"}, \"yaxis\": {\"backgroundcolor\": \"#E5ECF6\", \"gridcolor\": \"white\", \"gridwidth\": 2, \"linecolor\": \"white\", \"showbackground\": true, \"ticks\": \"\", \"zerolinecolor\": \"white\"}, \"zaxis\": {\"backgroundcolor\": \"#E5ECF6\", \"gridcolor\": \"white\", \"gridwidth\": 2, \"linecolor\": \"white\", \"showbackground\": true, \"ticks\": \"\", \"zerolinecolor\": \"white\"}}, \"shapedefaults\": {\"line\": {\"color\": \"#2a3f5f\"}}, \"ternary\": {\"aaxis\": {\"gridcolor\": \"white\", \"linecolor\": \"white\", \"ticks\": \"\"}, \"baxis\": {\"gridcolor\": \"white\", \"linecolor\": \"white\", \"ticks\": \"\"}, \"bgcolor\": \"#E5ECF6\", \"caxis\": {\"gridcolor\": \"white\", \"linecolor\": \"white\", \"ticks\": \"\"}}, \"title\": {\"x\": 0.05}, \"xaxis\": {\"automargin\": true, \"gridcolor\": \"white\", \"linecolor\": \"white\", \"ticks\": \"\", \"title\": {\"standoff\": 15}, \"zerolinecolor\": \"white\", \"zerolinewidth\": 2}, \"yaxis\": {\"automargin\": true, \"gridcolor\": \"white\", \"linecolor\": \"white\", \"ticks\": \"\", \"title\": {\"standoff\": 15}, \"zerolinecolor\": \"white\", \"zerolinewidth\": 2}}}, \"title\": {\"font\": {\"color\": \"#4D5663\"}}, \"xaxis\": {\"gridcolor\": \"#E1E5ED\", \"showgrid\": true, \"tickfont\": {\"color\": \"#4D5663\"}, \"title\": {\"font\": {\"color\": \"#4D5663\"}, \"text\": \"\"}, \"zerolinecolor\": \"#E1E5ED\"}, \"yaxis\": {\"gridcolor\": \"#E1E5ED\", \"showgrid\": true, \"tickfont\": {\"color\": \"#4D5663\"}, \"title\": {\"font\": {\"color\": \"#4D5663\"}, \"text\": \"\"}, \"zerolinecolor\": \"#E1E5ED\"}},\n",
       "                        {\"showLink\": true, \"linkText\": \"Export to plot.ly\", \"plotlyServerURL\": \"https://plot.ly\", \"responsive\": true}\n",
       "                    ).then(function(){\n",
       "                            \n",
       "var gd = document.getElementById('336f3cfd-ccbd-4b04-93db-d6dbba695773');\n",
       "var x = new MutationObserver(function (mutations, observer) {{\n",
       "        var display = window.getComputedStyle(gd).display;\n",
       "        if (!display || display === 'none') {{\n",
       "            console.log([gd, 'removed!']);\n",
       "            Plotly.purge(gd);\n",
       "            observer.disconnect();\n",
       "        }}\n",
       "}});\n",
       "\n",
       "// Listen for the removal of the full notebook cells\n",
       "var notebookContainer = gd.closest('#notebook-container');\n",
       "if (notebookContainer) {{\n",
       "    x.observe(notebookContainer, {childList: true});\n",
       "}}\n",
       "\n",
       "// Listen for the clearing of the current output cell\n",
       "var outputEl = gd.closest('.output');\n",
       "if (outputEl) {{\n",
       "    x.observe(outputEl, {childList: true});\n",
       "}}\n",
       "\n",
       "                        })\n",
       "                };\n",
       "                });\n",
       "            </script>\n",
       "        </div>"
      ]
     },
     "metadata": {},
     "output_type": "display_data"
    }
   ],
   "source": [
    "# iplot - converted to interactive plot.\n",
    "df.iplot()"
   ]
  },
  {
   "cell_type": "code",
   "execution_count": null,
   "metadata": {},
   "outputs": [],
   "source": []
  },
  {
   "cell_type": "markdown",
   "metadata": {},
   "source": [
    "## Using Cufflinks and iplot()\n",
    "\n",
    "* scatter\n",
    "* bar\n",
    "* box\n",
    "* spread\n",
    "* ratio\n",
    "* heatmap\n",
    "* surface\n",
    "* histogram\n",
    "* bubble"
   ]
  },
  {
   "cell_type": "markdown",
   "metadata": {},
   "source": [
    "## Scatter"
   ]
  },
  {
   "cell_type": "code",
   "execution_count": 16,
   "metadata": {},
   "outputs": [
    {
     "data": {
      "application/vnd.plotly.v1+json": {
       "config": {
        "linkText": "Export to plot.ly",
        "plotlyServerURL": "https://plot.ly",
        "showLink": true
       },
       "data": [
        {
         "line": {
          "color": "rgba(255, 153, 51, 1.0)",
          "dash": "solid",
          "shape": "linear",
          "width": 1.3
         },
         "marker": {
          "size": 10,
          "symbol": "circle"
         },
         "mode": "markers",
         "name": "B",
         "text": "",
         "type": "scatter",
         "x": [
          0.14612668346810087,
          -0.5150643958091404,
          0.993048156143555,
          1.5527565611998224,
          1.102283947004991,
          -2.4771102825000293,
          0.48535271977394,
          -5.997120287646958e-05,
          0.2728979161787896,
          0.14241623947301038,
          -1.7220839857720651,
          0.30479168294651615,
          0.1707684250962974,
          0.6284887755043934,
          -0.7850037217749689,
          -1.1402548447102723,
          -1.212921005329053,
          1.6666125120797235,
          -0.09525429818572638,
          0.9108399395049533,
          -0.6702079843333787,
          -1.8669920709525916,
          1.6318644734155594,
          1.4480641743665572,
          -0.20584286234038407,
          -0.9651543766878872,
          0.054311253909850594,
          -0.8525930402703691,
          -1.0848566097036196,
          0.22715446781637538,
          0.3832666550905886,
          0.21245695028944037,
          -0.0031198053900515408,
          0.8915668414548645,
          -0.9312260659908879,
          -0.6972621137761454,
          -0.9925852130986549,
          0.010933605125837584,
          -2.577121073522515,
          -0.5332388082426226,
          1.398496525872,
          -0.8155572221629612,
          -0.9005129185664054,
          -0.6955619676939033,
          0.24028614247159708,
          -0.14105753079894373,
          -0.6162582023375035,
          0.7117930742373001,
          -1.0493646331333701,
          0.7263194289302121,
          -0.9236975218766958,
          0.8101185177578193,
          1.2922900513898754,
          1.99699676194669,
          -0.6266941891218982,
          -0.6196112352306313,
          1.4954683268115523,
          -2.9005331410172115,
          -0.6144254979438556,
          0.3615184842676474,
          0.13442250363981223,
          0.22447929683610798,
          -0.011270422105252743,
          -0.14111226614689665,
          -0.5318804901994556,
          0.6493074858815254,
          -0.2738880128999982,
          0.9555595386204824,
          0.7301709692563028,
          -1.4019249307583348,
          -0.0068608240191281806,
          -0.471556716044861,
          -0.1636207573841797,
          -0.9752489923344956,
          0.669055675451341,
          -0.9661397959251155,
          -1.5034110492253536,
          -0.3084302353121149,
          -1.4552573990374573,
          -0.37808603369362415,
          -0.5446990641153069,
          -1.0328897660107783,
          -0.8372577968906745,
          -0.7355106232037772,
          -1.3968647200753481,
          0.11921688487375993,
          0.23800858493954524,
          -0.29667185768549426,
          0.045883212163534935,
          0.5890039282286894,
          -1.515246249470787,
          -0.1037424743255574,
          0.07342647048913974,
          -0.3282544929060498,
          -0.24513863167968586,
          -1.3103895947774227,
          -0.60110734404662,
          -0.5850987673040257,
          1.176709146660171,
          -0.02325427275882479
         ],
         "y": [
          -2.0656920513651267,
          -1.7381898395197724,
          0.5749599646022417,
          -0.20398456935783446,
          -0.4464639680231975,
          0.004383762977137288,
          1.9272186733110637,
          -0.22658980720241415,
          0.21319561532434866,
          1.5343976664498042,
          -1.7943920159076656,
          -0.31464543291905195,
          -0.8012811797214887,
          1.4806559714007235,
          -0.4525548517573186,
          0.8822175236625406,
          -0.6555046997736079,
          0.5534536525657692,
          2.5421760186772,
          -1.6020691181124989,
          -1.30636280422524,
          -1.6922777152443158,
          -0.43175033360126613,
          1.3397945250406764,
          1.624479377795292,
          0.3372467612579277,
          -0.7424600919093032,
          1.3006818267114464,
          1.4148160695972485,
          0.6663625542733729,
          0.5732067675544568,
          0.3051087364651881,
          -1.4396219914247679,
          -0.7734455403957947,
          -0.02599984732944654,
          -1.0276684058819194,
          0.22756933882402786,
          0.7164414805356631,
          -0.010551172850629087,
          0.7465062931883728,
          -0.15654287357337096,
          1.285174065039588,
          -0.20984792674432232,
          0.3483310438811358,
          -0.10533457004704003,
          -1.3834922346350678,
          1.0968266309403547,
          -0.25116973554735844,
          -0.6065382611435444,
          -1.0337927095418653,
          -0.21471649762200568,
          -0.6424738047013894,
          2.1808737180863007,
          -0.367996144391834,
          0.9167509740226216,
          -0.827535652526785,
          -0.8818030769631394,
          -0.9906853057636372,
          -0.8822721779505264,
          2.0782433585144706,
          2.0282557218946855,
          -0.8954929220192098,
          1.7866615436252993,
          -0.08049020901035116,
          -0.45378394604250133,
          0.5459523374270943,
          1.7197030126869044,
          0.3824670655552625,
          -0.957018082500895,
          -0.522255715100206,
          0.5221185782393967,
          -0.37485757127874875,
          -0.5566617662959691,
          -0.8123709478860014,
          0.29366965851694743,
          -0.0850413846996384,
          -0.04473175295591152,
          -0.37788189763614555,
          -0.6566266748681084,
          1.3646960859938941,
          -0.18554222363097056,
          1.2608857606412667,
          -0.5525218583285384,
          0.7235470324663364,
          1.5772106695463057,
          -1.1557689600287397,
          -0.5223993511642664,
          -0.6891779022249445,
          -1.1183442365618064,
          0.0995055407471527,
          0.2915282805930497,
          0.38447901373397075,
          0.24560328724944816,
          0.21860553849762943,
          1.1690011631045691,
          0.4694483908290291,
          1.2466428891069556,
          0.5636822430556009,
          -0.5317643553625623,
          -1.7177776755893035
         ]
        }
       ],
       "layout": {
        "legend": {
         "bgcolor": "#F5F6F9",
         "font": {
          "color": "#4D5663"
         }
        },
        "paper_bgcolor": "#F5F6F9",
        "plot_bgcolor": "#F5F6F9",
        "template": {
         "data": {
          "bar": [
           {
            "error_x": {
             "color": "#2a3f5f"
            },
            "error_y": {
             "color": "#2a3f5f"
            },
            "marker": {
             "line": {
              "color": "#E5ECF6",
              "width": 0.5
             }
            },
            "type": "bar"
           }
          ],
          "barpolar": [
           {
            "marker": {
             "line": {
              "color": "#E5ECF6",
              "width": 0.5
             }
            },
            "type": "barpolar"
           }
          ],
          "carpet": [
           {
            "aaxis": {
             "endlinecolor": "#2a3f5f",
             "gridcolor": "white",
             "linecolor": "white",
             "minorgridcolor": "white",
             "startlinecolor": "#2a3f5f"
            },
            "baxis": {
             "endlinecolor": "#2a3f5f",
             "gridcolor": "white",
             "linecolor": "white",
             "minorgridcolor": "white",
             "startlinecolor": "#2a3f5f"
            },
            "type": "carpet"
           }
          ],
          "choropleth": [
           {
            "colorbar": {
             "outlinewidth": 0,
             "ticks": ""
            },
            "type": "choropleth"
           }
          ],
          "contour": [
           {
            "colorbar": {
             "outlinewidth": 0,
             "ticks": ""
            },
            "colorscale": [
             [
              0,
              "#0d0887"
             ],
             [
              0.1111111111111111,
              "#46039f"
             ],
             [
              0.2222222222222222,
              "#7201a8"
             ],
             [
              0.3333333333333333,
              "#9c179e"
             ],
             [
              0.4444444444444444,
              "#bd3786"
             ],
             [
              0.5555555555555556,
              "#d8576b"
             ],
             [
              0.6666666666666666,
              "#ed7953"
             ],
             [
              0.7777777777777778,
              "#fb9f3a"
             ],
             [
              0.8888888888888888,
              "#fdca26"
             ],
             [
              1,
              "#f0f921"
             ]
            ],
            "type": "contour"
           }
          ],
          "contourcarpet": [
           {
            "colorbar": {
             "outlinewidth": 0,
             "ticks": ""
            },
            "type": "contourcarpet"
           }
          ],
          "heatmap": [
           {
            "colorbar": {
             "outlinewidth": 0,
             "ticks": ""
            },
            "colorscale": [
             [
              0,
              "#0d0887"
             ],
             [
              0.1111111111111111,
              "#46039f"
             ],
             [
              0.2222222222222222,
              "#7201a8"
             ],
             [
              0.3333333333333333,
              "#9c179e"
             ],
             [
              0.4444444444444444,
              "#bd3786"
             ],
             [
              0.5555555555555556,
              "#d8576b"
             ],
             [
              0.6666666666666666,
              "#ed7953"
             ],
             [
              0.7777777777777778,
              "#fb9f3a"
             ],
             [
              0.8888888888888888,
              "#fdca26"
             ],
             [
              1,
              "#f0f921"
             ]
            ],
            "type": "heatmap"
           }
          ],
          "heatmapgl": [
           {
            "colorbar": {
             "outlinewidth": 0,
             "ticks": ""
            },
            "colorscale": [
             [
              0,
              "#0d0887"
             ],
             [
              0.1111111111111111,
              "#46039f"
             ],
             [
              0.2222222222222222,
              "#7201a8"
             ],
             [
              0.3333333333333333,
              "#9c179e"
             ],
             [
              0.4444444444444444,
              "#bd3786"
             ],
             [
              0.5555555555555556,
              "#d8576b"
             ],
             [
              0.6666666666666666,
              "#ed7953"
             ],
             [
              0.7777777777777778,
              "#fb9f3a"
             ],
             [
              0.8888888888888888,
              "#fdca26"
             ],
             [
              1,
              "#f0f921"
             ]
            ],
            "type": "heatmapgl"
           }
          ],
          "histogram": [
           {
            "marker": {
             "colorbar": {
              "outlinewidth": 0,
              "ticks": ""
             }
            },
            "type": "histogram"
           }
          ],
          "histogram2d": [
           {
            "colorbar": {
             "outlinewidth": 0,
             "ticks": ""
            },
            "colorscale": [
             [
              0,
              "#0d0887"
             ],
             [
              0.1111111111111111,
              "#46039f"
             ],
             [
              0.2222222222222222,
              "#7201a8"
             ],
             [
              0.3333333333333333,
              "#9c179e"
             ],
             [
              0.4444444444444444,
              "#bd3786"
             ],
             [
              0.5555555555555556,
              "#d8576b"
             ],
             [
              0.6666666666666666,
              "#ed7953"
             ],
             [
              0.7777777777777778,
              "#fb9f3a"
             ],
             [
              0.8888888888888888,
              "#fdca26"
             ],
             [
              1,
              "#f0f921"
             ]
            ],
            "type": "histogram2d"
           }
          ],
          "histogram2dcontour": [
           {
            "colorbar": {
             "outlinewidth": 0,
             "ticks": ""
            },
            "colorscale": [
             [
              0,
              "#0d0887"
             ],
             [
              0.1111111111111111,
              "#46039f"
             ],
             [
              0.2222222222222222,
              "#7201a8"
             ],
             [
              0.3333333333333333,
              "#9c179e"
             ],
             [
              0.4444444444444444,
              "#bd3786"
             ],
             [
              0.5555555555555556,
              "#d8576b"
             ],
             [
              0.6666666666666666,
              "#ed7953"
             ],
             [
              0.7777777777777778,
              "#fb9f3a"
             ],
             [
              0.8888888888888888,
              "#fdca26"
             ],
             [
              1,
              "#f0f921"
             ]
            ],
            "type": "histogram2dcontour"
           }
          ],
          "mesh3d": [
           {
            "colorbar": {
             "outlinewidth": 0,
             "ticks": ""
            },
            "type": "mesh3d"
           }
          ],
          "parcoords": [
           {
            "line": {
             "colorbar": {
              "outlinewidth": 0,
              "ticks": ""
             }
            },
            "type": "parcoords"
           }
          ],
          "pie": [
           {
            "automargin": true,
            "type": "pie"
           }
          ],
          "scatter": [
           {
            "marker": {
             "colorbar": {
              "outlinewidth": 0,
              "ticks": ""
             }
            },
            "type": "scatter"
           }
          ],
          "scatter3d": [
           {
            "line": {
             "colorbar": {
              "outlinewidth": 0,
              "ticks": ""
             }
            },
            "marker": {
             "colorbar": {
              "outlinewidth": 0,
              "ticks": ""
             }
            },
            "type": "scatter3d"
           }
          ],
          "scattercarpet": [
           {
            "marker": {
             "colorbar": {
              "outlinewidth": 0,
              "ticks": ""
             }
            },
            "type": "scattercarpet"
           }
          ],
          "scattergeo": [
           {
            "marker": {
             "colorbar": {
              "outlinewidth": 0,
              "ticks": ""
             }
            },
            "type": "scattergeo"
           }
          ],
          "scattergl": [
           {
            "marker": {
             "colorbar": {
              "outlinewidth": 0,
              "ticks": ""
             }
            },
            "type": "scattergl"
           }
          ],
          "scattermapbox": [
           {
            "marker": {
             "colorbar": {
              "outlinewidth": 0,
              "ticks": ""
             }
            },
            "type": "scattermapbox"
           }
          ],
          "scatterpolar": [
           {
            "marker": {
             "colorbar": {
              "outlinewidth": 0,
              "ticks": ""
             }
            },
            "type": "scatterpolar"
           }
          ],
          "scatterpolargl": [
           {
            "marker": {
             "colorbar": {
              "outlinewidth": 0,
              "ticks": ""
             }
            },
            "type": "scatterpolargl"
           }
          ],
          "scatterternary": [
           {
            "marker": {
             "colorbar": {
              "outlinewidth": 0,
              "ticks": ""
             }
            },
            "type": "scatterternary"
           }
          ],
          "surface": [
           {
            "colorbar": {
             "outlinewidth": 0,
             "ticks": ""
            },
            "colorscale": [
             [
              0,
              "#0d0887"
             ],
             [
              0.1111111111111111,
              "#46039f"
             ],
             [
              0.2222222222222222,
              "#7201a8"
             ],
             [
              0.3333333333333333,
              "#9c179e"
             ],
             [
              0.4444444444444444,
              "#bd3786"
             ],
             [
              0.5555555555555556,
              "#d8576b"
             ],
             [
              0.6666666666666666,
              "#ed7953"
             ],
             [
              0.7777777777777778,
              "#fb9f3a"
             ],
             [
              0.8888888888888888,
              "#fdca26"
             ],
             [
              1,
              "#f0f921"
             ]
            ],
            "type": "surface"
           }
          ],
          "table": [
           {
            "cells": {
             "fill": {
              "color": "#EBF0F8"
             },
             "line": {
              "color": "white"
             }
            },
            "header": {
             "fill": {
              "color": "#C8D4E3"
             },
             "line": {
              "color": "white"
             }
            },
            "type": "table"
           }
          ]
         },
         "layout": {
          "annotationdefaults": {
           "arrowcolor": "#2a3f5f",
           "arrowhead": 0,
           "arrowwidth": 1
          },
          "coloraxis": {
           "colorbar": {
            "outlinewidth": 0,
            "ticks": ""
           }
          },
          "colorscale": {
           "diverging": [
            [
             0,
             "#8e0152"
            ],
            [
             0.1,
             "#c51b7d"
            ],
            [
             0.2,
             "#de77ae"
            ],
            [
             0.3,
             "#f1b6da"
            ],
            [
             0.4,
             "#fde0ef"
            ],
            [
             0.5,
             "#f7f7f7"
            ],
            [
             0.6,
             "#e6f5d0"
            ],
            [
             0.7,
             "#b8e186"
            ],
            [
             0.8,
             "#7fbc41"
            ],
            [
             0.9,
             "#4d9221"
            ],
            [
             1,
             "#276419"
            ]
           ],
           "sequential": [
            [
             0,
             "#0d0887"
            ],
            [
             0.1111111111111111,
             "#46039f"
            ],
            [
             0.2222222222222222,
             "#7201a8"
            ],
            [
             0.3333333333333333,
             "#9c179e"
            ],
            [
             0.4444444444444444,
             "#bd3786"
            ],
            [
             0.5555555555555556,
             "#d8576b"
            ],
            [
             0.6666666666666666,
             "#ed7953"
            ],
            [
             0.7777777777777778,
             "#fb9f3a"
            ],
            [
             0.8888888888888888,
             "#fdca26"
            ],
            [
             1,
             "#f0f921"
            ]
           ],
           "sequentialminus": [
            [
             0,
             "#0d0887"
            ],
            [
             0.1111111111111111,
             "#46039f"
            ],
            [
             0.2222222222222222,
             "#7201a8"
            ],
            [
             0.3333333333333333,
             "#9c179e"
            ],
            [
             0.4444444444444444,
             "#bd3786"
            ],
            [
             0.5555555555555556,
             "#d8576b"
            ],
            [
             0.6666666666666666,
             "#ed7953"
            ],
            [
             0.7777777777777778,
             "#fb9f3a"
            ],
            [
             0.8888888888888888,
             "#fdca26"
            ],
            [
             1,
             "#f0f921"
            ]
           ]
          },
          "colorway": [
           "#636efa",
           "#EF553B",
           "#00cc96",
           "#ab63fa",
           "#FFA15A",
           "#19d3f3",
           "#FF6692",
           "#B6E880",
           "#FF97FF",
           "#FECB52"
          ],
          "font": {
           "color": "#2a3f5f"
          },
          "geo": {
           "bgcolor": "white",
           "lakecolor": "white",
           "landcolor": "#E5ECF6",
           "showlakes": true,
           "showland": true,
           "subunitcolor": "white"
          },
          "hoverlabel": {
           "align": "left"
          },
          "hovermode": "closest",
          "mapbox": {
           "style": "light"
          },
          "paper_bgcolor": "white",
          "plot_bgcolor": "#E5ECF6",
          "polar": {
           "angularaxis": {
            "gridcolor": "white",
            "linecolor": "white",
            "ticks": ""
           },
           "bgcolor": "#E5ECF6",
           "radialaxis": {
            "gridcolor": "white",
            "linecolor": "white",
            "ticks": ""
           }
          },
          "scene": {
           "xaxis": {
            "backgroundcolor": "#E5ECF6",
            "gridcolor": "white",
            "gridwidth": 2,
            "linecolor": "white",
            "showbackground": true,
            "ticks": "",
            "zerolinecolor": "white"
           },
           "yaxis": {
            "backgroundcolor": "#E5ECF6",
            "gridcolor": "white",
            "gridwidth": 2,
            "linecolor": "white",
            "showbackground": true,
            "ticks": "",
            "zerolinecolor": "white"
           },
           "zaxis": {
            "backgroundcolor": "#E5ECF6",
            "gridcolor": "white",
            "gridwidth": 2,
            "linecolor": "white",
            "showbackground": true,
            "ticks": "",
            "zerolinecolor": "white"
           }
          },
          "shapedefaults": {
           "line": {
            "color": "#2a3f5f"
           }
          },
          "ternary": {
           "aaxis": {
            "gridcolor": "white",
            "linecolor": "white",
            "ticks": ""
           },
           "baxis": {
            "gridcolor": "white",
            "linecolor": "white",
            "ticks": ""
           },
           "bgcolor": "#E5ECF6",
           "caxis": {
            "gridcolor": "white",
            "linecolor": "white",
            "ticks": ""
           }
          },
          "title": {
           "x": 0.05
          },
          "xaxis": {
           "automargin": true,
           "gridcolor": "white",
           "linecolor": "white",
           "ticks": "",
           "title": {
            "standoff": 15
           },
           "zerolinecolor": "white",
           "zerolinewidth": 2
          },
          "yaxis": {
           "automargin": true,
           "gridcolor": "white",
           "linecolor": "white",
           "ticks": "",
           "title": {
            "standoff": 15
           },
           "zerolinecolor": "white",
           "zerolinewidth": 2
          }
         }
        },
        "title": {
         "font": {
          "color": "#4D5663"
         }
        },
        "xaxis": {
         "gridcolor": "#E1E5ED",
         "showgrid": true,
         "tickfont": {
          "color": "#4D5663"
         },
         "title": {
          "font": {
           "color": "#4D5663"
          },
          "text": ""
         },
         "zerolinecolor": "#E1E5ED"
        },
        "yaxis": {
         "gridcolor": "#E1E5ED",
         "showgrid": true,
         "tickfont": {
          "color": "#4D5663"
         },
         "title": {
          "font": {
           "color": "#4D5663"
          },
          "text": ""
         },
         "zerolinecolor": "#E1E5ED"
        }
       }
      },
      "text/html": [
       "<div>\n",
       "        \n",
       "        \n",
       "            <div id=\"a93913e6-6489-4e58-8be7-338119b62de5\" class=\"plotly-graph-div\" style=\"height:525px; width:100%;\"></div>\n",
       "            <script type=\"text/javascript\">\n",
       "                require([\"plotly\"], function(Plotly) {\n",
       "                    window.PLOTLYENV=window.PLOTLYENV || {};\n",
       "                    window.PLOTLYENV.BASE_URL='https://plot.ly';\n",
       "                    \n",
       "                if (document.getElementById(\"a93913e6-6489-4e58-8be7-338119b62de5\")) {\n",
       "                    Plotly.newPlot(\n",
       "                        'a93913e6-6489-4e58-8be7-338119b62de5',\n",
       "                        [{\"line\": {\"color\": \"rgba(255, 153, 51, 1.0)\", \"dash\": \"solid\", \"shape\": \"linear\", \"width\": 1.3}, \"marker\": {\"size\": 10, \"symbol\": \"circle\"}, \"mode\": \"markers\", \"name\": \"B\", \"text\": \"\", \"type\": \"scatter\", \"x\": [0.14612668346810087, -0.5150643958091404, 0.993048156143555, 1.5527565611998224, 1.102283947004991, -2.4771102825000293, 0.48535271977394, -5.997120287646958e-05, 0.2728979161787896, 0.14241623947301038, -1.7220839857720651, 0.30479168294651615, 0.1707684250962974, 0.6284887755043934, -0.7850037217749689, -1.1402548447102723, -1.212921005329053, 1.6666125120797235, -0.09525429818572638, 0.9108399395049533, -0.6702079843333787, -1.8669920709525916, 1.6318644734155594, 1.4480641743665572, -0.20584286234038407, -0.9651543766878872, 0.054311253909850594, -0.8525930402703691, -1.0848566097036196, 0.22715446781637538, 0.3832666550905886, 0.21245695028944037, -0.0031198053900515408, 0.8915668414548645, -0.9312260659908879, -0.6972621137761454, -0.9925852130986549, 0.010933605125837584, -2.577121073522515, -0.5332388082426226, 1.398496525872, -0.8155572221629612, -0.9005129185664054, -0.6955619676939033, 0.24028614247159708, -0.14105753079894373, -0.6162582023375035, 0.7117930742373001, -1.0493646331333701, 0.7263194289302121, -0.9236975218766958, 0.8101185177578193, 1.2922900513898754, 1.99699676194669, -0.6266941891218982, -0.6196112352306313, 1.4954683268115523, -2.9005331410172115, -0.6144254979438556, 0.3615184842676474, 0.13442250363981223, 0.22447929683610798, -0.011270422105252743, -0.14111226614689665, -0.5318804901994556, 0.6493074858815254, -0.2738880128999982, 0.9555595386204824, 0.7301709692563028, -1.4019249307583348, -0.0068608240191281806, -0.471556716044861, -0.1636207573841797, -0.9752489923344956, 0.669055675451341, -0.9661397959251155, -1.5034110492253536, -0.3084302353121149, -1.4552573990374573, -0.37808603369362415, -0.5446990641153069, -1.0328897660107783, -0.8372577968906745, -0.7355106232037772, -1.3968647200753481, 0.11921688487375993, 0.23800858493954524, -0.29667185768549426, 0.045883212163534935, 0.5890039282286894, -1.515246249470787, -0.1037424743255574, 0.07342647048913974, -0.3282544929060498, -0.24513863167968586, -1.3103895947774227, -0.60110734404662, -0.5850987673040257, 1.176709146660171, -0.02325427275882479], \"y\": [-2.0656920513651267, -1.7381898395197724, 0.5749599646022417, -0.20398456935783446, -0.4464639680231975, 0.004383762977137288, 1.9272186733110637, -0.22658980720241415, 0.21319561532434866, 1.5343976664498042, -1.7943920159076656, -0.31464543291905195, -0.8012811797214887, 1.4806559714007235, -0.4525548517573186, 0.8822175236625406, -0.6555046997736079, 0.5534536525657692, 2.5421760186772, -1.6020691181124989, -1.30636280422524, -1.6922777152443158, -0.43175033360126613, 1.3397945250406764, 1.624479377795292, 0.3372467612579277, -0.7424600919093032, 1.3006818267114464, 1.4148160695972485, 0.6663625542733729, 0.5732067675544568, 0.3051087364651881, -1.4396219914247679, -0.7734455403957947, -0.02599984732944654, -1.0276684058819194, 0.22756933882402786, 0.7164414805356631, -0.010551172850629087, 0.7465062931883728, -0.15654287357337096, 1.285174065039588, -0.20984792674432232, 0.3483310438811358, -0.10533457004704003, -1.3834922346350678, 1.0968266309403547, -0.25116973554735844, -0.6065382611435444, -1.0337927095418653, -0.21471649762200568, -0.6424738047013894, 2.1808737180863007, -0.367996144391834, 0.9167509740226216, -0.827535652526785, -0.8818030769631394, -0.9906853057636372, -0.8822721779505264, 2.0782433585144706, 2.0282557218946855, -0.8954929220192098, 1.7866615436252993, -0.08049020901035116, -0.45378394604250133, 0.5459523374270943, 1.7197030126869044, 0.3824670655552625, -0.957018082500895, -0.522255715100206, 0.5221185782393967, -0.37485757127874875, -0.5566617662959691, -0.8123709478860014, 0.29366965851694743, -0.0850413846996384, -0.04473175295591152, -0.37788189763614555, -0.6566266748681084, 1.3646960859938941, -0.18554222363097056, 1.2608857606412667, -0.5525218583285384, 0.7235470324663364, 1.5772106695463057, -1.1557689600287397, -0.5223993511642664, -0.6891779022249445, -1.1183442365618064, 0.0995055407471527, 0.2915282805930497, 0.38447901373397075, 0.24560328724944816, 0.21860553849762943, 1.1690011631045691, 0.4694483908290291, 1.2466428891069556, 0.5636822430556009, -0.5317643553625623, -1.7177776755893035]}],\n",
       "                        {\"legend\": {\"bgcolor\": \"#F5F6F9\", \"font\": {\"color\": \"#4D5663\"}}, \"paper_bgcolor\": \"#F5F6F9\", \"plot_bgcolor\": \"#F5F6F9\", \"template\": {\"data\": {\"bar\": [{\"error_x\": {\"color\": \"#2a3f5f\"}, \"error_y\": {\"color\": \"#2a3f5f\"}, \"marker\": {\"line\": {\"color\": \"#E5ECF6\", \"width\": 0.5}}, \"type\": \"bar\"}], \"barpolar\": [{\"marker\": {\"line\": {\"color\": \"#E5ECF6\", \"width\": 0.5}}, \"type\": \"barpolar\"}], \"carpet\": [{\"aaxis\": {\"endlinecolor\": \"#2a3f5f\", \"gridcolor\": \"white\", \"linecolor\": \"white\", \"minorgridcolor\": \"white\", \"startlinecolor\": \"#2a3f5f\"}, \"baxis\": {\"endlinecolor\": \"#2a3f5f\", \"gridcolor\": \"white\", \"linecolor\": \"white\", \"minorgridcolor\": \"white\", \"startlinecolor\": \"#2a3f5f\"}, \"type\": \"carpet\"}], \"choropleth\": [{\"colorbar\": {\"outlinewidth\": 0, \"ticks\": \"\"}, \"type\": \"choropleth\"}], \"contour\": [{\"colorbar\": {\"outlinewidth\": 0, \"ticks\": \"\"}, \"colorscale\": [[0.0, \"#0d0887\"], [0.1111111111111111, \"#46039f\"], [0.2222222222222222, \"#7201a8\"], [0.3333333333333333, \"#9c179e\"], [0.4444444444444444, \"#bd3786\"], [0.5555555555555556, \"#d8576b\"], [0.6666666666666666, \"#ed7953\"], [0.7777777777777778, \"#fb9f3a\"], [0.8888888888888888, \"#fdca26\"], [1.0, \"#f0f921\"]], \"type\": \"contour\"}], \"contourcarpet\": [{\"colorbar\": {\"outlinewidth\": 0, \"ticks\": \"\"}, \"type\": \"contourcarpet\"}], \"heatmap\": [{\"colorbar\": {\"outlinewidth\": 0, \"ticks\": \"\"}, \"colorscale\": [[0.0, \"#0d0887\"], [0.1111111111111111, \"#46039f\"], [0.2222222222222222, \"#7201a8\"], [0.3333333333333333, \"#9c179e\"], [0.4444444444444444, \"#bd3786\"], [0.5555555555555556, \"#d8576b\"], [0.6666666666666666, \"#ed7953\"], [0.7777777777777778, \"#fb9f3a\"], [0.8888888888888888, \"#fdca26\"], [1.0, \"#f0f921\"]], \"type\": \"heatmap\"}], \"heatmapgl\": [{\"colorbar\": {\"outlinewidth\": 0, \"ticks\": \"\"}, \"colorscale\": [[0.0, \"#0d0887\"], [0.1111111111111111, \"#46039f\"], [0.2222222222222222, \"#7201a8\"], [0.3333333333333333, \"#9c179e\"], [0.4444444444444444, \"#bd3786\"], [0.5555555555555556, \"#d8576b\"], [0.6666666666666666, \"#ed7953\"], [0.7777777777777778, \"#fb9f3a\"], [0.8888888888888888, \"#fdca26\"], [1.0, \"#f0f921\"]], \"type\": \"heatmapgl\"}], \"histogram\": [{\"marker\": {\"colorbar\": {\"outlinewidth\": 0, \"ticks\": \"\"}}, \"type\": \"histogram\"}], \"histogram2d\": [{\"colorbar\": {\"outlinewidth\": 0, \"ticks\": \"\"}, \"colorscale\": [[0.0, \"#0d0887\"], [0.1111111111111111, \"#46039f\"], [0.2222222222222222, \"#7201a8\"], [0.3333333333333333, \"#9c179e\"], [0.4444444444444444, \"#bd3786\"], [0.5555555555555556, \"#d8576b\"], [0.6666666666666666, \"#ed7953\"], [0.7777777777777778, \"#fb9f3a\"], [0.8888888888888888, \"#fdca26\"], [1.0, \"#f0f921\"]], \"type\": \"histogram2d\"}], \"histogram2dcontour\": [{\"colorbar\": {\"outlinewidth\": 0, \"ticks\": \"\"}, \"colorscale\": [[0.0, \"#0d0887\"], [0.1111111111111111, \"#46039f\"], [0.2222222222222222, \"#7201a8\"], [0.3333333333333333, \"#9c179e\"], [0.4444444444444444, \"#bd3786\"], [0.5555555555555556, \"#d8576b\"], [0.6666666666666666, \"#ed7953\"], [0.7777777777777778, \"#fb9f3a\"], [0.8888888888888888, \"#fdca26\"], [1.0, \"#f0f921\"]], \"type\": \"histogram2dcontour\"}], \"mesh3d\": [{\"colorbar\": {\"outlinewidth\": 0, \"ticks\": \"\"}, \"type\": \"mesh3d\"}], \"parcoords\": [{\"line\": {\"colorbar\": {\"outlinewidth\": 0, \"ticks\": \"\"}}, \"type\": \"parcoords\"}], \"pie\": [{\"automargin\": true, \"type\": \"pie\"}], \"scatter\": [{\"marker\": {\"colorbar\": {\"outlinewidth\": 0, \"ticks\": \"\"}}, \"type\": \"scatter\"}], \"scatter3d\": [{\"line\": {\"colorbar\": {\"outlinewidth\": 0, \"ticks\": \"\"}}, \"marker\": {\"colorbar\": {\"outlinewidth\": 0, \"ticks\": \"\"}}, \"type\": \"scatter3d\"}], \"scattercarpet\": [{\"marker\": {\"colorbar\": {\"outlinewidth\": 0, \"ticks\": \"\"}}, \"type\": \"scattercarpet\"}], \"scattergeo\": [{\"marker\": {\"colorbar\": {\"outlinewidth\": 0, \"ticks\": \"\"}}, \"type\": \"scattergeo\"}], \"scattergl\": [{\"marker\": {\"colorbar\": {\"outlinewidth\": 0, \"ticks\": \"\"}}, \"type\": \"scattergl\"}], \"scattermapbox\": [{\"marker\": {\"colorbar\": {\"outlinewidth\": 0, \"ticks\": \"\"}}, \"type\": \"scattermapbox\"}], \"scatterpolar\": [{\"marker\": {\"colorbar\": {\"outlinewidth\": 0, \"ticks\": \"\"}}, \"type\": \"scatterpolar\"}], \"scatterpolargl\": [{\"marker\": {\"colorbar\": {\"outlinewidth\": 0, \"ticks\": \"\"}}, \"type\": \"scatterpolargl\"}], \"scatterternary\": [{\"marker\": {\"colorbar\": {\"outlinewidth\": 0, \"ticks\": \"\"}}, \"type\": \"scatterternary\"}], \"surface\": [{\"colorbar\": {\"outlinewidth\": 0, \"ticks\": \"\"}, \"colorscale\": [[0.0, \"#0d0887\"], [0.1111111111111111, \"#46039f\"], [0.2222222222222222, \"#7201a8\"], [0.3333333333333333, \"#9c179e\"], [0.4444444444444444, \"#bd3786\"], [0.5555555555555556, \"#d8576b\"], [0.6666666666666666, \"#ed7953\"], [0.7777777777777778, \"#fb9f3a\"], [0.8888888888888888, \"#fdca26\"], [1.0, \"#f0f921\"]], \"type\": \"surface\"}], \"table\": [{\"cells\": {\"fill\": {\"color\": \"#EBF0F8\"}, \"line\": {\"color\": \"white\"}}, \"header\": {\"fill\": {\"color\": \"#C8D4E3\"}, \"line\": {\"color\": \"white\"}}, \"type\": \"table\"}]}, \"layout\": {\"annotationdefaults\": {\"arrowcolor\": \"#2a3f5f\", \"arrowhead\": 0, \"arrowwidth\": 1}, \"coloraxis\": {\"colorbar\": {\"outlinewidth\": 0, \"ticks\": \"\"}}, \"colorscale\": {\"diverging\": [[0, \"#8e0152\"], [0.1, \"#c51b7d\"], [0.2, \"#de77ae\"], [0.3, \"#f1b6da\"], [0.4, \"#fde0ef\"], [0.5, \"#f7f7f7\"], [0.6, \"#e6f5d0\"], [0.7, \"#b8e186\"], [0.8, \"#7fbc41\"], [0.9, \"#4d9221\"], [1, \"#276419\"]], \"sequential\": [[0.0, \"#0d0887\"], [0.1111111111111111, \"#46039f\"], [0.2222222222222222, \"#7201a8\"], [0.3333333333333333, \"#9c179e\"], [0.4444444444444444, \"#bd3786\"], [0.5555555555555556, \"#d8576b\"], [0.6666666666666666, \"#ed7953\"], [0.7777777777777778, \"#fb9f3a\"], [0.8888888888888888, \"#fdca26\"], [1.0, \"#f0f921\"]], \"sequentialminus\": [[0.0, \"#0d0887\"], [0.1111111111111111, \"#46039f\"], [0.2222222222222222, \"#7201a8\"], [0.3333333333333333, \"#9c179e\"], [0.4444444444444444, \"#bd3786\"], [0.5555555555555556, \"#d8576b\"], [0.6666666666666666, \"#ed7953\"], [0.7777777777777778, \"#fb9f3a\"], [0.8888888888888888, \"#fdca26\"], [1.0, \"#f0f921\"]]}, \"colorway\": [\"#636efa\", \"#EF553B\", \"#00cc96\", \"#ab63fa\", \"#FFA15A\", \"#19d3f3\", \"#FF6692\", \"#B6E880\", \"#FF97FF\", \"#FECB52\"], \"font\": {\"color\": \"#2a3f5f\"}, \"geo\": {\"bgcolor\": \"white\", \"lakecolor\": \"white\", \"landcolor\": \"#E5ECF6\", \"showlakes\": true, \"showland\": true, \"subunitcolor\": \"white\"}, \"hoverlabel\": {\"align\": \"left\"}, \"hovermode\": \"closest\", \"mapbox\": {\"style\": \"light\"}, \"paper_bgcolor\": \"white\", \"plot_bgcolor\": \"#E5ECF6\", \"polar\": {\"angularaxis\": {\"gridcolor\": \"white\", \"linecolor\": \"white\", \"ticks\": \"\"}, \"bgcolor\": \"#E5ECF6\", \"radialaxis\": {\"gridcolor\": \"white\", \"linecolor\": \"white\", \"ticks\": \"\"}}, \"scene\": {\"xaxis\": {\"backgroundcolor\": \"#E5ECF6\", \"gridcolor\": \"white\", \"gridwidth\": 2, \"linecolor\": \"white\", \"showbackground\": true, \"ticks\": \"\", \"zerolinecolor\": \"white\"}, \"yaxis\": {\"backgroundcolor\": \"#E5ECF6\", \"gridcolor\": \"white\", \"gridwidth\": 2, \"linecolor\": \"white\", \"showbackground\": true, \"ticks\": \"\", \"zerolinecolor\": \"white\"}, \"zaxis\": {\"backgroundcolor\": \"#E5ECF6\", \"gridcolor\": \"white\", \"gridwidth\": 2, \"linecolor\": \"white\", \"showbackground\": true, \"ticks\": \"\", \"zerolinecolor\": \"white\"}}, \"shapedefaults\": {\"line\": {\"color\": \"#2a3f5f\"}}, \"ternary\": {\"aaxis\": {\"gridcolor\": \"white\", \"linecolor\": \"white\", \"ticks\": \"\"}, \"baxis\": {\"gridcolor\": \"white\", \"linecolor\": \"white\", \"ticks\": \"\"}, \"bgcolor\": \"#E5ECF6\", \"caxis\": {\"gridcolor\": \"white\", \"linecolor\": \"white\", \"ticks\": \"\"}}, \"title\": {\"x\": 0.05}, \"xaxis\": {\"automargin\": true, \"gridcolor\": \"white\", \"linecolor\": \"white\", \"ticks\": \"\", \"title\": {\"standoff\": 15}, \"zerolinecolor\": \"white\", \"zerolinewidth\": 2}, \"yaxis\": {\"automargin\": true, \"gridcolor\": \"white\", \"linecolor\": \"white\", \"ticks\": \"\", \"title\": {\"standoff\": 15}, \"zerolinecolor\": \"white\", \"zerolinewidth\": 2}}}, \"title\": {\"font\": {\"color\": \"#4D5663\"}}, \"xaxis\": {\"gridcolor\": \"#E1E5ED\", \"showgrid\": true, \"tickfont\": {\"color\": \"#4D5663\"}, \"title\": {\"font\": {\"color\": \"#4D5663\"}, \"text\": \"\"}, \"zerolinecolor\": \"#E1E5ED\"}, \"yaxis\": {\"gridcolor\": \"#E1E5ED\", \"showgrid\": true, \"tickfont\": {\"color\": \"#4D5663\"}, \"title\": {\"font\": {\"color\": \"#4D5663\"}, \"text\": \"\"}, \"zerolinecolor\": \"#E1E5ED\"}},\n",
       "                        {\"showLink\": true, \"linkText\": \"Export to plot.ly\", \"plotlyServerURL\": \"https://plot.ly\", \"responsive\": true}\n",
       "                    ).then(function(){\n",
       "                            \n",
       "var gd = document.getElementById('a93913e6-6489-4e58-8be7-338119b62de5');\n",
       "var x = new MutationObserver(function (mutations, observer) {{\n",
       "        var display = window.getComputedStyle(gd).display;\n",
       "        if (!display || display === 'none') {{\n",
       "            console.log([gd, 'removed!']);\n",
       "            Plotly.purge(gd);\n",
       "            observer.disconnect();\n",
       "        }}\n",
       "}});\n",
       "\n",
       "// Listen for the removal of the full notebook cells\n",
       "var notebookContainer = gd.closest('#notebook-container');\n",
       "if (notebookContainer) {{\n",
       "    x.observe(notebookContainer, {childList: true});\n",
       "}}\n",
       "\n",
       "// Listen for the clearing of the current output cell\n",
       "var outputEl = gd.closest('.output');\n",
       "if (outputEl) {{\n",
       "    x.observe(outputEl, {childList: true});\n",
       "}}\n",
       "\n",
       "                        })\n",
       "                };\n",
       "                });\n",
       "            </script>\n",
       "        </div>"
      ]
     },
     "metadata": {},
     "output_type": "display_data"
    }
   ],
   "source": [
    "df.iplot(kind='scatter',x='A',y='B',mode='markers',size=10)"
   ]
  },
  {
   "cell_type": "markdown",
   "metadata": {},
   "source": [
    "## Bar Plots"
   ]
  },
  {
   "cell_type": "code",
   "execution_count": 17,
   "metadata": {},
   "outputs": [
    {
     "data": {
      "application/vnd.plotly.v1+json": {
       "config": {
        "linkText": "Export to plot.ly",
        "plotlyServerURL": "https://plot.ly",
        "showLink": true
       },
       "data": [
        {
         "marker": {
          "color": "rgba(255, 153, 51, 0.6)",
          "line": {
           "color": "rgba(255, 153, 51, 1.0)",
           "width": 1
          }
         },
         "name": "Values",
         "orientation": "v",
         "text": "",
         "type": "bar",
         "x": [
          "A",
          "B",
          "C"
         ],
         "y": [
          32,
          43,
          50
         ]
        }
       ],
       "layout": {
        "legend": {
         "bgcolor": "#F5F6F9",
         "font": {
          "color": "#4D5663"
         }
        },
        "paper_bgcolor": "#F5F6F9",
        "plot_bgcolor": "#F5F6F9",
        "template": {
         "data": {
          "bar": [
           {
            "error_x": {
             "color": "#2a3f5f"
            },
            "error_y": {
             "color": "#2a3f5f"
            },
            "marker": {
             "line": {
              "color": "#E5ECF6",
              "width": 0.5
             }
            },
            "type": "bar"
           }
          ],
          "barpolar": [
           {
            "marker": {
             "line": {
              "color": "#E5ECF6",
              "width": 0.5
             }
            },
            "type": "barpolar"
           }
          ],
          "carpet": [
           {
            "aaxis": {
             "endlinecolor": "#2a3f5f",
             "gridcolor": "white",
             "linecolor": "white",
             "minorgridcolor": "white",
             "startlinecolor": "#2a3f5f"
            },
            "baxis": {
             "endlinecolor": "#2a3f5f",
             "gridcolor": "white",
             "linecolor": "white",
             "minorgridcolor": "white",
             "startlinecolor": "#2a3f5f"
            },
            "type": "carpet"
           }
          ],
          "choropleth": [
           {
            "colorbar": {
             "outlinewidth": 0,
             "ticks": ""
            },
            "type": "choropleth"
           }
          ],
          "contour": [
           {
            "colorbar": {
             "outlinewidth": 0,
             "ticks": ""
            },
            "colorscale": [
             [
              0,
              "#0d0887"
             ],
             [
              0.1111111111111111,
              "#46039f"
             ],
             [
              0.2222222222222222,
              "#7201a8"
             ],
             [
              0.3333333333333333,
              "#9c179e"
             ],
             [
              0.4444444444444444,
              "#bd3786"
             ],
             [
              0.5555555555555556,
              "#d8576b"
             ],
             [
              0.6666666666666666,
              "#ed7953"
             ],
             [
              0.7777777777777778,
              "#fb9f3a"
             ],
             [
              0.8888888888888888,
              "#fdca26"
             ],
             [
              1,
              "#f0f921"
             ]
            ],
            "type": "contour"
           }
          ],
          "contourcarpet": [
           {
            "colorbar": {
             "outlinewidth": 0,
             "ticks": ""
            },
            "type": "contourcarpet"
           }
          ],
          "heatmap": [
           {
            "colorbar": {
             "outlinewidth": 0,
             "ticks": ""
            },
            "colorscale": [
             [
              0,
              "#0d0887"
             ],
             [
              0.1111111111111111,
              "#46039f"
             ],
             [
              0.2222222222222222,
              "#7201a8"
             ],
             [
              0.3333333333333333,
              "#9c179e"
             ],
             [
              0.4444444444444444,
              "#bd3786"
             ],
             [
              0.5555555555555556,
              "#d8576b"
             ],
             [
              0.6666666666666666,
              "#ed7953"
             ],
             [
              0.7777777777777778,
              "#fb9f3a"
             ],
             [
              0.8888888888888888,
              "#fdca26"
             ],
             [
              1,
              "#f0f921"
             ]
            ],
            "type": "heatmap"
           }
          ],
          "heatmapgl": [
           {
            "colorbar": {
             "outlinewidth": 0,
             "ticks": ""
            },
            "colorscale": [
             [
              0,
              "#0d0887"
             ],
             [
              0.1111111111111111,
              "#46039f"
             ],
             [
              0.2222222222222222,
              "#7201a8"
             ],
             [
              0.3333333333333333,
              "#9c179e"
             ],
             [
              0.4444444444444444,
              "#bd3786"
             ],
             [
              0.5555555555555556,
              "#d8576b"
             ],
             [
              0.6666666666666666,
              "#ed7953"
             ],
             [
              0.7777777777777778,
              "#fb9f3a"
             ],
             [
              0.8888888888888888,
              "#fdca26"
             ],
             [
              1,
              "#f0f921"
             ]
            ],
            "type": "heatmapgl"
           }
          ],
          "histogram": [
           {
            "marker": {
             "colorbar": {
              "outlinewidth": 0,
              "ticks": ""
             }
            },
            "type": "histogram"
           }
          ],
          "histogram2d": [
           {
            "colorbar": {
             "outlinewidth": 0,
             "ticks": ""
            },
            "colorscale": [
             [
              0,
              "#0d0887"
             ],
             [
              0.1111111111111111,
              "#46039f"
             ],
             [
              0.2222222222222222,
              "#7201a8"
             ],
             [
              0.3333333333333333,
              "#9c179e"
             ],
             [
              0.4444444444444444,
              "#bd3786"
             ],
             [
              0.5555555555555556,
              "#d8576b"
             ],
             [
              0.6666666666666666,
              "#ed7953"
             ],
             [
              0.7777777777777778,
              "#fb9f3a"
             ],
             [
              0.8888888888888888,
              "#fdca26"
             ],
             [
              1,
              "#f0f921"
             ]
            ],
            "type": "histogram2d"
           }
          ],
          "histogram2dcontour": [
           {
            "colorbar": {
             "outlinewidth": 0,
             "ticks": ""
            },
            "colorscale": [
             [
              0,
              "#0d0887"
             ],
             [
              0.1111111111111111,
              "#46039f"
             ],
             [
              0.2222222222222222,
              "#7201a8"
             ],
             [
              0.3333333333333333,
              "#9c179e"
             ],
             [
              0.4444444444444444,
              "#bd3786"
             ],
             [
              0.5555555555555556,
              "#d8576b"
             ],
             [
              0.6666666666666666,
              "#ed7953"
             ],
             [
              0.7777777777777778,
              "#fb9f3a"
             ],
             [
              0.8888888888888888,
              "#fdca26"
             ],
             [
              1,
              "#f0f921"
             ]
            ],
            "type": "histogram2dcontour"
           }
          ],
          "mesh3d": [
           {
            "colorbar": {
             "outlinewidth": 0,
             "ticks": ""
            },
            "type": "mesh3d"
           }
          ],
          "parcoords": [
           {
            "line": {
             "colorbar": {
              "outlinewidth": 0,
              "ticks": ""
             }
            },
            "type": "parcoords"
           }
          ],
          "pie": [
           {
            "automargin": true,
            "type": "pie"
           }
          ],
          "scatter": [
           {
            "marker": {
             "colorbar": {
              "outlinewidth": 0,
              "ticks": ""
             }
            },
            "type": "scatter"
           }
          ],
          "scatter3d": [
           {
            "line": {
             "colorbar": {
              "outlinewidth": 0,
              "ticks": ""
             }
            },
            "marker": {
             "colorbar": {
              "outlinewidth": 0,
              "ticks": ""
             }
            },
            "type": "scatter3d"
           }
          ],
          "scattercarpet": [
           {
            "marker": {
             "colorbar": {
              "outlinewidth": 0,
              "ticks": ""
             }
            },
            "type": "scattercarpet"
           }
          ],
          "scattergeo": [
           {
            "marker": {
             "colorbar": {
              "outlinewidth": 0,
              "ticks": ""
             }
            },
            "type": "scattergeo"
           }
          ],
          "scattergl": [
           {
            "marker": {
             "colorbar": {
              "outlinewidth": 0,
              "ticks": ""
             }
            },
            "type": "scattergl"
           }
          ],
          "scattermapbox": [
           {
            "marker": {
             "colorbar": {
              "outlinewidth": 0,
              "ticks": ""
             }
            },
            "type": "scattermapbox"
           }
          ],
          "scatterpolar": [
           {
            "marker": {
             "colorbar": {
              "outlinewidth": 0,
              "ticks": ""
             }
            },
            "type": "scatterpolar"
           }
          ],
          "scatterpolargl": [
           {
            "marker": {
             "colorbar": {
              "outlinewidth": 0,
              "ticks": ""
             }
            },
            "type": "scatterpolargl"
           }
          ],
          "scatterternary": [
           {
            "marker": {
             "colorbar": {
              "outlinewidth": 0,
              "ticks": ""
             }
            },
            "type": "scatterternary"
           }
          ],
          "surface": [
           {
            "colorbar": {
             "outlinewidth": 0,
             "ticks": ""
            },
            "colorscale": [
             [
              0,
              "#0d0887"
             ],
             [
              0.1111111111111111,
              "#46039f"
             ],
             [
              0.2222222222222222,
              "#7201a8"
             ],
             [
              0.3333333333333333,
              "#9c179e"
             ],
             [
              0.4444444444444444,
              "#bd3786"
             ],
             [
              0.5555555555555556,
              "#d8576b"
             ],
             [
              0.6666666666666666,
              "#ed7953"
             ],
             [
              0.7777777777777778,
              "#fb9f3a"
             ],
             [
              0.8888888888888888,
              "#fdca26"
             ],
             [
              1,
              "#f0f921"
             ]
            ],
            "type": "surface"
           }
          ],
          "table": [
           {
            "cells": {
             "fill": {
              "color": "#EBF0F8"
             },
             "line": {
              "color": "white"
             }
            },
            "header": {
             "fill": {
              "color": "#C8D4E3"
             },
             "line": {
              "color": "white"
             }
            },
            "type": "table"
           }
          ]
         },
         "layout": {
          "annotationdefaults": {
           "arrowcolor": "#2a3f5f",
           "arrowhead": 0,
           "arrowwidth": 1
          },
          "coloraxis": {
           "colorbar": {
            "outlinewidth": 0,
            "ticks": ""
           }
          },
          "colorscale": {
           "diverging": [
            [
             0,
             "#8e0152"
            ],
            [
             0.1,
             "#c51b7d"
            ],
            [
             0.2,
             "#de77ae"
            ],
            [
             0.3,
             "#f1b6da"
            ],
            [
             0.4,
             "#fde0ef"
            ],
            [
             0.5,
             "#f7f7f7"
            ],
            [
             0.6,
             "#e6f5d0"
            ],
            [
             0.7,
             "#b8e186"
            ],
            [
             0.8,
             "#7fbc41"
            ],
            [
             0.9,
             "#4d9221"
            ],
            [
             1,
             "#276419"
            ]
           ],
           "sequential": [
            [
             0,
             "#0d0887"
            ],
            [
             0.1111111111111111,
             "#46039f"
            ],
            [
             0.2222222222222222,
             "#7201a8"
            ],
            [
             0.3333333333333333,
             "#9c179e"
            ],
            [
             0.4444444444444444,
             "#bd3786"
            ],
            [
             0.5555555555555556,
             "#d8576b"
            ],
            [
             0.6666666666666666,
             "#ed7953"
            ],
            [
             0.7777777777777778,
             "#fb9f3a"
            ],
            [
             0.8888888888888888,
             "#fdca26"
            ],
            [
             1,
             "#f0f921"
            ]
           ],
           "sequentialminus": [
            [
             0,
             "#0d0887"
            ],
            [
             0.1111111111111111,
             "#46039f"
            ],
            [
             0.2222222222222222,
             "#7201a8"
            ],
            [
             0.3333333333333333,
             "#9c179e"
            ],
            [
             0.4444444444444444,
             "#bd3786"
            ],
            [
             0.5555555555555556,
             "#d8576b"
            ],
            [
             0.6666666666666666,
             "#ed7953"
            ],
            [
             0.7777777777777778,
             "#fb9f3a"
            ],
            [
             0.8888888888888888,
             "#fdca26"
            ],
            [
             1,
             "#f0f921"
            ]
           ]
          },
          "colorway": [
           "#636efa",
           "#EF553B",
           "#00cc96",
           "#ab63fa",
           "#FFA15A",
           "#19d3f3",
           "#FF6692",
           "#B6E880",
           "#FF97FF",
           "#FECB52"
          ],
          "font": {
           "color": "#2a3f5f"
          },
          "geo": {
           "bgcolor": "white",
           "lakecolor": "white",
           "landcolor": "#E5ECF6",
           "showlakes": true,
           "showland": true,
           "subunitcolor": "white"
          },
          "hoverlabel": {
           "align": "left"
          },
          "hovermode": "closest",
          "mapbox": {
           "style": "light"
          },
          "paper_bgcolor": "white",
          "plot_bgcolor": "#E5ECF6",
          "polar": {
           "angularaxis": {
            "gridcolor": "white",
            "linecolor": "white",
            "ticks": ""
           },
           "bgcolor": "#E5ECF6",
           "radialaxis": {
            "gridcolor": "white",
            "linecolor": "white",
            "ticks": ""
           }
          },
          "scene": {
           "xaxis": {
            "backgroundcolor": "#E5ECF6",
            "gridcolor": "white",
            "gridwidth": 2,
            "linecolor": "white",
            "showbackground": true,
            "ticks": "",
            "zerolinecolor": "white"
           },
           "yaxis": {
            "backgroundcolor": "#E5ECF6",
            "gridcolor": "white",
            "gridwidth": 2,
            "linecolor": "white",
            "showbackground": true,
            "ticks": "",
            "zerolinecolor": "white"
           },
           "zaxis": {
            "backgroundcolor": "#E5ECF6",
            "gridcolor": "white",
            "gridwidth": 2,
            "linecolor": "white",
            "showbackground": true,
            "ticks": "",
            "zerolinecolor": "white"
           }
          },
          "shapedefaults": {
           "line": {
            "color": "#2a3f5f"
           }
          },
          "ternary": {
           "aaxis": {
            "gridcolor": "white",
            "linecolor": "white",
            "ticks": ""
           },
           "baxis": {
            "gridcolor": "white",
            "linecolor": "white",
            "ticks": ""
           },
           "bgcolor": "#E5ECF6",
           "caxis": {
            "gridcolor": "white",
            "linecolor": "white",
            "ticks": ""
           }
          },
          "title": {
           "x": 0.05
          },
          "xaxis": {
           "automargin": true,
           "gridcolor": "white",
           "linecolor": "white",
           "ticks": "",
           "title": {
            "standoff": 15
           },
           "zerolinecolor": "white",
           "zerolinewidth": 2
          },
          "yaxis": {
           "automargin": true,
           "gridcolor": "white",
           "linecolor": "white",
           "ticks": "",
           "title": {
            "standoff": 15
           },
           "zerolinecolor": "white",
           "zerolinewidth": 2
          }
         }
        },
        "title": {
         "font": {
          "color": "#4D5663"
         }
        },
        "xaxis": {
         "gridcolor": "#E1E5ED",
         "showgrid": true,
         "tickfont": {
          "color": "#4D5663"
         },
         "title": {
          "font": {
           "color": "#4D5663"
          },
          "text": ""
         },
         "zerolinecolor": "#E1E5ED"
        },
        "yaxis": {
         "gridcolor": "#E1E5ED",
         "showgrid": true,
         "tickfont": {
          "color": "#4D5663"
         },
         "title": {
          "font": {
           "color": "#4D5663"
          },
          "text": ""
         },
         "zerolinecolor": "#E1E5ED"
        }
       }
      },
      "text/html": [
       "<div>\n",
       "        \n",
       "        \n",
       "            <div id=\"51615c5a-5de0-4cd1-8e06-3cf183b6d401\" class=\"plotly-graph-div\" style=\"height:525px; width:100%;\"></div>\n",
       "            <script type=\"text/javascript\">\n",
       "                require([\"plotly\"], function(Plotly) {\n",
       "                    window.PLOTLYENV=window.PLOTLYENV || {};\n",
       "                    window.PLOTLYENV.BASE_URL='https://plot.ly';\n",
       "                    \n",
       "                if (document.getElementById(\"51615c5a-5de0-4cd1-8e06-3cf183b6d401\")) {\n",
       "                    Plotly.newPlot(\n",
       "                        '51615c5a-5de0-4cd1-8e06-3cf183b6d401',\n",
       "                        [{\"marker\": {\"color\": \"rgba(255, 153, 51, 0.6)\", \"line\": {\"color\": \"rgba(255, 153, 51, 1.0)\", \"width\": 1}}, \"name\": \"Values\", \"orientation\": \"v\", \"text\": \"\", \"type\": \"bar\", \"x\": [\"A\", \"B\", \"C\"], \"y\": [32, 43, 50]}],\n",
       "                        {\"legend\": {\"bgcolor\": \"#F5F6F9\", \"font\": {\"color\": \"#4D5663\"}}, \"paper_bgcolor\": \"#F5F6F9\", \"plot_bgcolor\": \"#F5F6F9\", \"template\": {\"data\": {\"bar\": [{\"error_x\": {\"color\": \"#2a3f5f\"}, \"error_y\": {\"color\": \"#2a3f5f\"}, \"marker\": {\"line\": {\"color\": \"#E5ECF6\", \"width\": 0.5}}, \"type\": \"bar\"}], \"barpolar\": [{\"marker\": {\"line\": {\"color\": \"#E5ECF6\", \"width\": 0.5}}, \"type\": \"barpolar\"}], \"carpet\": [{\"aaxis\": {\"endlinecolor\": \"#2a3f5f\", \"gridcolor\": \"white\", \"linecolor\": \"white\", \"minorgridcolor\": \"white\", \"startlinecolor\": \"#2a3f5f\"}, \"baxis\": {\"endlinecolor\": \"#2a3f5f\", \"gridcolor\": \"white\", \"linecolor\": \"white\", \"minorgridcolor\": \"white\", \"startlinecolor\": \"#2a3f5f\"}, \"type\": \"carpet\"}], \"choropleth\": [{\"colorbar\": {\"outlinewidth\": 0, \"ticks\": \"\"}, \"type\": \"choropleth\"}], \"contour\": [{\"colorbar\": {\"outlinewidth\": 0, \"ticks\": \"\"}, \"colorscale\": [[0.0, \"#0d0887\"], [0.1111111111111111, \"#46039f\"], [0.2222222222222222, \"#7201a8\"], [0.3333333333333333, \"#9c179e\"], [0.4444444444444444, \"#bd3786\"], [0.5555555555555556, \"#d8576b\"], [0.6666666666666666, \"#ed7953\"], [0.7777777777777778, \"#fb9f3a\"], [0.8888888888888888, \"#fdca26\"], [1.0, \"#f0f921\"]], \"type\": \"contour\"}], \"contourcarpet\": [{\"colorbar\": {\"outlinewidth\": 0, \"ticks\": \"\"}, \"type\": \"contourcarpet\"}], \"heatmap\": [{\"colorbar\": {\"outlinewidth\": 0, \"ticks\": \"\"}, \"colorscale\": [[0.0, \"#0d0887\"], [0.1111111111111111, \"#46039f\"], [0.2222222222222222, \"#7201a8\"], [0.3333333333333333, \"#9c179e\"], [0.4444444444444444, \"#bd3786\"], [0.5555555555555556, \"#d8576b\"], [0.6666666666666666, \"#ed7953\"], [0.7777777777777778, \"#fb9f3a\"], [0.8888888888888888, \"#fdca26\"], [1.0, \"#f0f921\"]], \"type\": \"heatmap\"}], \"heatmapgl\": [{\"colorbar\": {\"outlinewidth\": 0, \"ticks\": \"\"}, \"colorscale\": [[0.0, \"#0d0887\"], [0.1111111111111111, \"#46039f\"], [0.2222222222222222, \"#7201a8\"], [0.3333333333333333, \"#9c179e\"], [0.4444444444444444, \"#bd3786\"], [0.5555555555555556, \"#d8576b\"], [0.6666666666666666, \"#ed7953\"], [0.7777777777777778, \"#fb9f3a\"], [0.8888888888888888, \"#fdca26\"], [1.0, \"#f0f921\"]], \"type\": \"heatmapgl\"}], \"histogram\": [{\"marker\": {\"colorbar\": {\"outlinewidth\": 0, \"ticks\": \"\"}}, \"type\": \"histogram\"}], \"histogram2d\": [{\"colorbar\": {\"outlinewidth\": 0, \"ticks\": \"\"}, \"colorscale\": [[0.0, \"#0d0887\"], [0.1111111111111111, \"#46039f\"], [0.2222222222222222, \"#7201a8\"], [0.3333333333333333, \"#9c179e\"], [0.4444444444444444, \"#bd3786\"], [0.5555555555555556, \"#d8576b\"], [0.6666666666666666, \"#ed7953\"], [0.7777777777777778, \"#fb9f3a\"], [0.8888888888888888, \"#fdca26\"], [1.0, \"#f0f921\"]], \"type\": \"histogram2d\"}], \"histogram2dcontour\": [{\"colorbar\": {\"outlinewidth\": 0, \"ticks\": \"\"}, \"colorscale\": [[0.0, \"#0d0887\"], [0.1111111111111111, \"#46039f\"], [0.2222222222222222, \"#7201a8\"], [0.3333333333333333, \"#9c179e\"], [0.4444444444444444, \"#bd3786\"], [0.5555555555555556, \"#d8576b\"], [0.6666666666666666, \"#ed7953\"], [0.7777777777777778, \"#fb9f3a\"], [0.8888888888888888, \"#fdca26\"], [1.0, \"#f0f921\"]], \"type\": \"histogram2dcontour\"}], \"mesh3d\": [{\"colorbar\": {\"outlinewidth\": 0, \"ticks\": \"\"}, \"type\": \"mesh3d\"}], \"parcoords\": [{\"line\": {\"colorbar\": {\"outlinewidth\": 0, \"ticks\": \"\"}}, \"type\": \"parcoords\"}], \"pie\": [{\"automargin\": true, \"type\": \"pie\"}], \"scatter\": [{\"marker\": {\"colorbar\": {\"outlinewidth\": 0, \"ticks\": \"\"}}, \"type\": \"scatter\"}], \"scatter3d\": [{\"line\": {\"colorbar\": {\"outlinewidth\": 0, \"ticks\": \"\"}}, \"marker\": {\"colorbar\": {\"outlinewidth\": 0, \"ticks\": \"\"}}, \"type\": \"scatter3d\"}], \"scattercarpet\": [{\"marker\": {\"colorbar\": {\"outlinewidth\": 0, \"ticks\": \"\"}}, \"type\": \"scattercarpet\"}], \"scattergeo\": [{\"marker\": {\"colorbar\": {\"outlinewidth\": 0, \"ticks\": \"\"}}, \"type\": \"scattergeo\"}], \"scattergl\": [{\"marker\": {\"colorbar\": {\"outlinewidth\": 0, \"ticks\": \"\"}}, \"type\": \"scattergl\"}], \"scattermapbox\": [{\"marker\": {\"colorbar\": {\"outlinewidth\": 0, \"ticks\": \"\"}}, \"type\": \"scattermapbox\"}], \"scatterpolar\": [{\"marker\": {\"colorbar\": {\"outlinewidth\": 0, \"ticks\": \"\"}}, \"type\": \"scatterpolar\"}], \"scatterpolargl\": [{\"marker\": {\"colorbar\": {\"outlinewidth\": 0, \"ticks\": \"\"}}, \"type\": \"scatterpolargl\"}], \"scatterternary\": [{\"marker\": {\"colorbar\": {\"outlinewidth\": 0, \"ticks\": \"\"}}, \"type\": \"scatterternary\"}], \"surface\": [{\"colorbar\": {\"outlinewidth\": 0, \"ticks\": \"\"}, \"colorscale\": [[0.0, \"#0d0887\"], [0.1111111111111111, \"#46039f\"], [0.2222222222222222, \"#7201a8\"], [0.3333333333333333, \"#9c179e\"], [0.4444444444444444, \"#bd3786\"], [0.5555555555555556, \"#d8576b\"], [0.6666666666666666, \"#ed7953\"], [0.7777777777777778, \"#fb9f3a\"], [0.8888888888888888, \"#fdca26\"], [1.0, \"#f0f921\"]], \"type\": \"surface\"}], \"table\": [{\"cells\": {\"fill\": {\"color\": \"#EBF0F8\"}, \"line\": {\"color\": \"white\"}}, \"header\": {\"fill\": {\"color\": \"#C8D4E3\"}, \"line\": {\"color\": \"white\"}}, \"type\": \"table\"}]}, \"layout\": {\"annotationdefaults\": {\"arrowcolor\": \"#2a3f5f\", \"arrowhead\": 0, \"arrowwidth\": 1}, \"coloraxis\": {\"colorbar\": {\"outlinewidth\": 0, \"ticks\": \"\"}}, \"colorscale\": {\"diverging\": [[0, \"#8e0152\"], [0.1, \"#c51b7d\"], [0.2, \"#de77ae\"], [0.3, \"#f1b6da\"], [0.4, \"#fde0ef\"], [0.5, \"#f7f7f7\"], [0.6, \"#e6f5d0\"], [0.7, \"#b8e186\"], [0.8, \"#7fbc41\"], [0.9, \"#4d9221\"], [1, \"#276419\"]], \"sequential\": [[0.0, \"#0d0887\"], [0.1111111111111111, \"#46039f\"], [0.2222222222222222, \"#7201a8\"], [0.3333333333333333, \"#9c179e\"], [0.4444444444444444, \"#bd3786\"], [0.5555555555555556, \"#d8576b\"], [0.6666666666666666, \"#ed7953\"], [0.7777777777777778, \"#fb9f3a\"], [0.8888888888888888, \"#fdca26\"], [1.0, \"#f0f921\"]], \"sequentialminus\": [[0.0, \"#0d0887\"], [0.1111111111111111, \"#46039f\"], [0.2222222222222222, \"#7201a8\"], [0.3333333333333333, \"#9c179e\"], [0.4444444444444444, \"#bd3786\"], [0.5555555555555556, \"#d8576b\"], [0.6666666666666666, \"#ed7953\"], [0.7777777777777778, \"#fb9f3a\"], [0.8888888888888888, \"#fdca26\"], [1.0, \"#f0f921\"]]}, \"colorway\": [\"#636efa\", \"#EF553B\", \"#00cc96\", \"#ab63fa\", \"#FFA15A\", \"#19d3f3\", \"#FF6692\", \"#B6E880\", \"#FF97FF\", \"#FECB52\"], \"font\": {\"color\": \"#2a3f5f\"}, \"geo\": {\"bgcolor\": \"white\", \"lakecolor\": \"white\", \"landcolor\": \"#E5ECF6\", \"showlakes\": true, \"showland\": true, \"subunitcolor\": \"white\"}, \"hoverlabel\": {\"align\": \"left\"}, \"hovermode\": \"closest\", \"mapbox\": {\"style\": \"light\"}, \"paper_bgcolor\": \"white\", \"plot_bgcolor\": \"#E5ECF6\", \"polar\": {\"angularaxis\": {\"gridcolor\": \"white\", \"linecolor\": \"white\", \"ticks\": \"\"}, \"bgcolor\": \"#E5ECF6\", \"radialaxis\": {\"gridcolor\": \"white\", \"linecolor\": \"white\", \"ticks\": \"\"}}, \"scene\": {\"xaxis\": {\"backgroundcolor\": \"#E5ECF6\", \"gridcolor\": \"white\", \"gridwidth\": 2, \"linecolor\": \"white\", \"showbackground\": true, \"ticks\": \"\", \"zerolinecolor\": \"white\"}, \"yaxis\": {\"backgroundcolor\": \"#E5ECF6\", \"gridcolor\": \"white\", \"gridwidth\": 2, \"linecolor\": \"white\", \"showbackground\": true, \"ticks\": \"\", \"zerolinecolor\": \"white\"}, \"zaxis\": {\"backgroundcolor\": \"#E5ECF6\", \"gridcolor\": \"white\", \"gridwidth\": 2, \"linecolor\": \"white\", \"showbackground\": true, \"ticks\": \"\", \"zerolinecolor\": \"white\"}}, \"shapedefaults\": {\"line\": {\"color\": \"#2a3f5f\"}}, \"ternary\": {\"aaxis\": {\"gridcolor\": \"white\", \"linecolor\": \"white\", \"ticks\": \"\"}, \"baxis\": {\"gridcolor\": \"white\", \"linecolor\": \"white\", \"ticks\": \"\"}, \"bgcolor\": \"#E5ECF6\", \"caxis\": {\"gridcolor\": \"white\", \"linecolor\": \"white\", \"ticks\": \"\"}}, \"title\": {\"x\": 0.05}, \"xaxis\": {\"automargin\": true, \"gridcolor\": \"white\", \"linecolor\": \"white\", \"ticks\": \"\", \"title\": {\"standoff\": 15}, \"zerolinecolor\": \"white\", \"zerolinewidth\": 2}, \"yaxis\": {\"automargin\": true, \"gridcolor\": \"white\", \"linecolor\": \"white\", \"ticks\": \"\", \"title\": {\"standoff\": 15}, \"zerolinecolor\": \"white\", \"zerolinewidth\": 2}}}, \"title\": {\"font\": {\"color\": \"#4D5663\"}}, \"xaxis\": {\"gridcolor\": \"#E1E5ED\", \"showgrid\": true, \"tickfont\": {\"color\": \"#4D5663\"}, \"title\": {\"font\": {\"color\": \"#4D5663\"}, \"text\": \"\"}, \"zerolinecolor\": \"#E1E5ED\"}, \"yaxis\": {\"gridcolor\": \"#E1E5ED\", \"showgrid\": true, \"tickfont\": {\"color\": \"#4D5663\"}, \"title\": {\"font\": {\"color\": \"#4D5663\"}, \"text\": \"\"}, \"zerolinecolor\": \"#E1E5ED\"}},\n",
       "                        {\"showLink\": true, \"linkText\": \"Export to plot.ly\", \"plotlyServerURL\": \"https://plot.ly\", \"responsive\": true}\n",
       "                    ).then(function(){\n",
       "                            \n",
       "var gd = document.getElementById('51615c5a-5de0-4cd1-8e06-3cf183b6d401');\n",
       "var x = new MutationObserver(function (mutations, observer) {{\n",
       "        var display = window.getComputedStyle(gd).display;\n",
       "        if (!display || display === 'none') {{\n",
       "            console.log([gd, 'removed!']);\n",
       "            Plotly.purge(gd);\n",
       "            observer.disconnect();\n",
       "        }}\n",
       "}});\n",
       "\n",
       "// Listen for the removal of the full notebook cells\n",
       "var notebookContainer = gd.closest('#notebook-container');\n",
       "if (notebookContainer) {{\n",
       "    x.observe(notebookContainer, {childList: true});\n",
       "}}\n",
       "\n",
       "// Listen for the clearing of the current output cell\n",
       "var outputEl = gd.closest('.output');\n",
       "if (outputEl) {{\n",
       "    x.observe(outputEl, {childList: true});\n",
       "}}\n",
       "\n",
       "                        })\n",
       "                };\n",
       "                });\n",
       "            </script>\n",
       "        </div>"
      ]
     },
     "metadata": {},
     "output_type": "display_data"
    }
   ],
   "source": [
    "df2.iplot(kind='bar',x='Category',y='Values')"
   ]
  },
  {
   "cell_type": "code",
   "execution_count": 50,
   "metadata": {
    "scrolled": true
   },
   "outputs": [
    {
     "data": {
      "application/vnd.plotly.v1+json": {
       "config": {
        "linkText": "Export to plot.ly",
        "plotlyServerURL": "https://plot.ly",
        "showLink": true
       },
       "data": [
        {
         "marker": {
          "color": "rgba(255, 153, 51, 0.6)",
          "line": {
           "color": "rgba(255, 153, 51, 1.0)",
           "width": 1
          }
         },
         "name": "None",
         "orientation": "v",
         "text": "",
         "type": "bar",
         "x": [
          "A",
          "B",
          "C",
          "D"
         ],
         "y": [
          -10.437853632771938,
          18.879021414355844,
          8.989743350987581,
          17.821533018101594
         ]
        }
       ],
       "layout": {
        "legend": {
         "bgcolor": "#F5F6F9",
         "font": {
          "color": "#4D5663"
         }
        },
        "paper_bgcolor": "#F5F6F9",
        "plot_bgcolor": "#F5F6F9",
        "template": {
         "data": {
          "bar": [
           {
            "error_x": {
             "color": "#2a3f5f"
            },
            "error_y": {
             "color": "#2a3f5f"
            },
            "marker": {
             "line": {
              "color": "#E5ECF6",
              "width": 0.5
             }
            },
            "type": "bar"
           }
          ],
          "barpolar": [
           {
            "marker": {
             "line": {
              "color": "#E5ECF6",
              "width": 0.5
             }
            },
            "type": "barpolar"
           }
          ],
          "carpet": [
           {
            "aaxis": {
             "endlinecolor": "#2a3f5f",
             "gridcolor": "white",
             "linecolor": "white",
             "minorgridcolor": "white",
             "startlinecolor": "#2a3f5f"
            },
            "baxis": {
             "endlinecolor": "#2a3f5f",
             "gridcolor": "white",
             "linecolor": "white",
             "minorgridcolor": "white",
             "startlinecolor": "#2a3f5f"
            },
            "type": "carpet"
           }
          ],
          "choropleth": [
           {
            "colorbar": {
             "outlinewidth": 0,
             "ticks": ""
            },
            "type": "choropleth"
           }
          ],
          "contour": [
           {
            "colorbar": {
             "outlinewidth": 0,
             "ticks": ""
            },
            "colorscale": [
             [
              0,
              "#0d0887"
             ],
             [
              0.1111111111111111,
              "#46039f"
             ],
             [
              0.2222222222222222,
              "#7201a8"
             ],
             [
              0.3333333333333333,
              "#9c179e"
             ],
             [
              0.4444444444444444,
              "#bd3786"
             ],
             [
              0.5555555555555556,
              "#d8576b"
             ],
             [
              0.6666666666666666,
              "#ed7953"
             ],
             [
              0.7777777777777778,
              "#fb9f3a"
             ],
             [
              0.8888888888888888,
              "#fdca26"
             ],
             [
              1,
              "#f0f921"
             ]
            ],
            "type": "contour"
           }
          ],
          "contourcarpet": [
           {
            "colorbar": {
             "outlinewidth": 0,
             "ticks": ""
            },
            "type": "contourcarpet"
           }
          ],
          "heatmap": [
           {
            "colorbar": {
             "outlinewidth": 0,
             "ticks": ""
            },
            "colorscale": [
             [
              0,
              "#0d0887"
             ],
             [
              0.1111111111111111,
              "#46039f"
             ],
             [
              0.2222222222222222,
              "#7201a8"
             ],
             [
              0.3333333333333333,
              "#9c179e"
             ],
             [
              0.4444444444444444,
              "#bd3786"
             ],
             [
              0.5555555555555556,
              "#d8576b"
             ],
             [
              0.6666666666666666,
              "#ed7953"
             ],
             [
              0.7777777777777778,
              "#fb9f3a"
             ],
             [
              0.8888888888888888,
              "#fdca26"
             ],
             [
              1,
              "#f0f921"
             ]
            ],
            "type": "heatmap"
           }
          ],
          "heatmapgl": [
           {
            "colorbar": {
             "outlinewidth": 0,
             "ticks": ""
            },
            "colorscale": [
             [
              0,
              "#0d0887"
             ],
             [
              0.1111111111111111,
              "#46039f"
             ],
             [
              0.2222222222222222,
              "#7201a8"
             ],
             [
              0.3333333333333333,
              "#9c179e"
             ],
             [
              0.4444444444444444,
              "#bd3786"
             ],
             [
              0.5555555555555556,
              "#d8576b"
             ],
             [
              0.6666666666666666,
              "#ed7953"
             ],
             [
              0.7777777777777778,
              "#fb9f3a"
             ],
             [
              0.8888888888888888,
              "#fdca26"
             ],
             [
              1,
              "#f0f921"
             ]
            ],
            "type": "heatmapgl"
           }
          ],
          "histogram": [
           {
            "marker": {
             "colorbar": {
              "outlinewidth": 0,
              "ticks": ""
             }
            },
            "type": "histogram"
           }
          ],
          "histogram2d": [
           {
            "colorbar": {
             "outlinewidth": 0,
             "ticks": ""
            },
            "colorscale": [
             [
              0,
              "#0d0887"
             ],
             [
              0.1111111111111111,
              "#46039f"
             ],
             [
              0.2222222222222222,
              "#7201a8"
             ],
             [
              0.3333333333333333,
              "#9c179e"
             ],
             [
              0.4444444444444444,
              "#bd3786"
             ],
             [
              0.5555555555555556,
              "#d8576b"
             ],
             [
              0.6666666666666666,
              "#ed7953"
             ],
             [
              0.7777777777777778,
              "#fb9f3a"
             ],
             [
              0.8888888888888888,
              "#fdca26"
             ],
             [
              1,
              "#f0f921"
             ]
            ],
            "type": "histogram2d"
           }
          ],
          "histogram2dcontour": [
           {
            "colorbar": {
             "outlinewidth": 0,
             "ticks": ""
            },
            "colorscale": [
             [
              0,
              "#0d0887"
             ],
             [
              0.1111111111111111,
              "#46039f"
             ],
             [
              0.2222222222222222,
              "#7201a8"
             ],
             [
              0.3333333333333333,
              "#9c179e"
             ],
             [
              0.4444444444444444,
              "#bd3786"
             ],
             [
              0.5555555555555556,
              "#d8576b"
             ],
             [
              0.6666666666666666,
              "#ed7953"
             ],
             [
              0.7777777777777778,
              "#fb9f3a"
             ],
             [
              0.8888888888888888,
              "#fdca26"
             ],
             [
              1,
              "#f0f921"
             ]
            ],
            "type": "histogram2dcontour"
           }
          ],
          "mesh3d": [
           {
            "colorbar": {
             "outlinewidth": 0,
             "ticks": ""
            },
            "type": "mesh3d"
           }
          ],
          "parcoords": [
           {
            "line": {
             "colorbar": {
              "outlinewidth": 0,
              "ticks": ""
             }
            },
            "type": "parcoords"
           }
          ],
          "pie": [
           {
            "automargin": true,
            "type": "pie"
           }
          ],
          "scatter": [
           {
            "marker": {
             "colorbar": {
              "outlinewidth": 0,
              "ticks": ""
             }
            },
            "type": "scatter"
           }
          ],
          "scatter3d": [
           {
            "line": {
             "colorbar": {
              "outlinewidth": 0,
              "ticks": ""
             }
            },
            "marker": {
             "colorbar": {
              "outlinewidth": 0,
              "ticks": ""
             }
            },
            "type": "scatter3d"
           }
          ],
          "scattercarpet": [
           {
            "marker": {
             "colorbar": {
              "outlinewidth": 0,
              "ticks": ""
             }
            },
            "type": "scattercarpet"
           }
          ],
          "scattergeo": [
           {
            "marker": {
             "colorbar": {
              "outlinewidth": 0,
              "ticks": ""
             }
            },
            "type": "scattergeo"
           }
          ],
          "scattergl": [
           {
            "marker": {
             "colorbar": {
              "outlinewidth": 0,
              "ticks": ""
             }
            },
            "type": "scattergl"
           }
          ],
          "scattermapbox": [
           {
            "marker": {
             "colorbar": {
              "outlinewidth": 0,
              "ticks": ""
             }
            },
            "type": "scattermapbox"
           }
          ],
          "scatterpolar": [
           {
            "marker": {
             "colorbar": {
              "outlinewidth": 0,
              "ticks": ""
             }
            },
            "type": "scatterpolar"
           }
          ],
          "scatterpolargl": [
           {
            "marker": {
             "colorbar": {
              "outlinewidth": 0,
              "ticks": ""
             }
            },
            "type": "scatterpolargl"
           }
          ],
          "scatterternary": [
           {
            "marker": {
             "colorbar": {
              "outlinewidth": 0,
              "ticks": ""
             }
            },
            "type": "scatterternary"
           }
          ],
          "surface": [
           {
            "colorbar": {
             "outlinewidth": 0,
             "ticks": ""
            },
            "colorscale": [
             [
              0,
              "#0d0887"
             ],
             [
              0.1111111111111111,
              "#46039f"
             ],
             [
              0.2222222222222222,
              "#7201a8"
             ],
             [
              0.3333333333333333,
              "#9c179e"
             ],
             [
              0.4444444444444444,
              "#bd3786"
             ],
             [
              0.5555555555555556,
              "#d8576b"
             ],
             [
              0.6666666666666666,
              "#ed7953"
             ],
             [
              0.7777777777777778,
              "#fb9f3a"
             ],
             [
              0.8888888888888888,
              "#fdca26"
             ],
             [
              1,
              "#f0f921"
             ]
            ],
            "type": "surface"
           }
          ],
          "table": [
           {
            "cells": {
             "fill": {
              "color": "#EBF0F8"
             },
             "line": {
              "color": "white"
             }
            },
            "header": {
             "fill": {
              "color": "#C8D4E3"
             },
             "line": {
              "color": "white"
             }
            },
            "type": "table"
           }
          ]
         },
         "layout": {
          "annotationdefaults": {
           "arrowcolor": "#2a3f5f",
           "arrowhead": 0,
           "arrowwidth": 1
          },
          "coloraxis": {
           "colorbar": {
            "outlinewidth": 0,
            "ticks": ""
           }
          },
          "colorscale": {
           "diverging": [
            [
             0,
             "#8e0152"
            ],
            [
             0.1,
             "#c51b7d"
            ],
            [
             0.2,
             "#de77ae"
            ],
            [
             0.3,
             "#f1b6da"
            ],
            [
             0.4,
             "#fde0ef"
            ],
            [
             0.5,
             "#f7f7f7"
            ],
            [
             0.6,
             "#e6f5d0"
            ],
            [
             0.7,
             "#b8e186"
            ],
            [
             0.8,
             "#7fbc41"
            ],
            [
             0.9,
             "#4d9221"
            ],
            [
             1,
             "#276419"
            ]
           ],
           "sequential": [
            [
             0,
             "#0d0887"
            ],
            [
             0.1111111111111111,
             "#46039f"
            ],
            [
             0.2222222222222222,
             "#7201a8"
            ],
            [
             0.3333333333333333,
             "#9c179e"
            ],
            [
             0.4444444444444444,
             "#bd3786"
            ],
            [
             0.5555555555555556,
             "#d8576b"
            ],
            [
             0.6666666666666666,
             "#ed7953"
            ],
            [
             0.7777777777777778,
             "#fb9f3a"
            ],
            [
             0.8888888888888888,
             "#fdca26"
            ],
            [
             1,
             "#f0f921"
            ]
           ],
           "sequentialminus": [
            [
             0,
             "#0d0887"
            ],
            [
             0.1111111111111111,
             "#46039f"
            ],
            [
             0.2222222222222222,
             "#7201a8"
            ],
            [
             0.3333333333333333,
             "#9c179e"
            ],
            [
             0.4444444444444444,
             "#bd3786"
            ],
            [
             0.5555555555555556,
             "#d8576b"
            ],
            [
             0.6666666666666666,
             "#ed7953"
            ],
            [
             0.7777777777777778,
             "#fb9f3a"
            ],
            [
             0.8888888888888888,
             "#fdca26"
            ],
            [
             1,
             "#f0f921"
            ]
           ]
          },
          "colorway": [
           "#636efa",
           "#EF553B",
           "#00cc96",
           "#ab63fa",
           "#FFA15A",
           "#19d3f3",
           "#FF6692",
           "#B6E880",
           "#FF97FF",
           "#FECB52"
          ],
          "font": {
           "color": "#2a3f5f"
          },
          "geo": {
           "bgcolor": "white",
           "lakecolor": "white",
           "landcolor": "#E5ECF6",
           "showlakes": true,
           "showland": true,
           "subunitcolor": "white"
          },
          "hoverlabel": {
           "align": "left"
          },
          "hovermode": "closest",
          "mapbox": {
           "style": "light"
          },
          "paper_bgcolor": "white",
          "plot_bgcolor": "#E5ECF6",
          "polar": {
           "angularaxis": {
            "gridcolor": "white",
            "linecolor": "white",
            "ticks": ""
           },
           "bgcolor": "#E5ECF6",
           "radialaxis": {
            "gridcolor": "white",
            "linecolor": "white",
            "ticks": ""
           }
          },
          "scene": {
           "xaxis": {
            "backgroundcolor": "#E5ECF6",
            "gridcolor": "white",
            "gridwidth": 2,
            "linecolor": "white",
            "showbackground": true,
            "ticks": "",
            "zerolinecolor": "white"
           },
           "yaxis": {
            "backgroundcolor": "#E5ECF6",
            "gridcolor": "white",
            "gridwidth": 2,
            "linecolor": "white",
            "showbackground": true,
            "ticks": "",
            "zerolinecolor": "white"
           },
           "zaxis": {
            "backgroundcolor": "#E5ECF6",
            "gridcolor": "white",
            "gridwidth": 2,
            "linecolor": "white",
            "showbackground": true,
            "ticks": "",
            "zerolinecolor": "white"
           }
          },
          "shapedefaults": {
           "line": {
            "color": "#2a3f5f"
           }
          },
          "ternary": {
           "aaxis": {
            "gridcolor": "white",
            "linecolor": "white",
            "ticks": ""
           },
           "baxis": {
            "gridcolor": "white",
            "linecolor": "white",
            "ticks": ""
           },
           "bgcolor": "#E5ECF6",
           "caxis": {
            "gridcolor": "white",
            "linecolor": "white",
            "ticks": ""
           }
          },
          "title": {
           "x": 0.05
          },
          "xaxis": {
           "automargin": true,
           "gridcolor": "white",
           "linecolor": "white",
           "ticks": "",
           "title": {
            "standoff": 15
           },
           "zerolinecolor": "white",
           "zerolinewidth": 2
          },
          "yaxis": {
           "automargin": true,
           "gridcolor": "white",
           "linecolor": "white",
           "ticks": "",
           "title": {
            "standoff": 15
           },
           "zerolinecolor": "white",
           "zerolinewidth": 2
          }
         }
        },
        "title": {
         "font": {
          "color": "#4D5663"
         }
        },
        "xaxis": {
         "gridcolor": "#E1E5ED",
         "showgrid": true,
         "tickfont": {
          "color": "#4D5663"
         },
         "title": {
          "font": {
           "color": "#4D5663"
          },
          "text": ""
         },
         "zerolinecolor": "#E1E5ED"
        },
        "yaxis": {
         "gridcolor": "#E1E5ED",
         "showgrid": true,
         "tickfont": {
          "color": "#4D5663"
         },
         "title": {
          "font": {
           "color": "#4D5663"
          },
          "text": ""
         },
         "zerolinecolor": "#E1E5ED"
        }
       }
      },
      "text/html": [
       "<div>\n",
       "        \n",
       "        \n",
       "            <div id=\"3ffe6f05-3eca-4af5-ac64-783329f654bb\" class=\"plotly-graph-div\" style=\"height:525px; width:100%;\"></div>\n",
       "            <script type=\"text/javascript\">\n",
       "                require([\"plotly\"], function(Plotly) {\n",
       "                    window.PLOTLYENV=window.PLOTLYENV || {};\n",
       "                    window.PLOTLYENV.BASE_URL='https://plot.ly';\n",
       "                    \n",
       "                if (document.getElementById(\"3ffe6f05-3eca-4af5-ac64-783329f654bb\")) {\n",
       "                    Plotly.newPlot(\n",
       "                        '3ffe6f05-3eca-4af5-ac64-783329f654bb',\n",
       "                        [{\"marker\": {\"color\": \"rgba(255, 153, 51, 0.6)\", \"line\": {\"color\": \"rgba(255, 153, 51, 1.0)\", \"width\": 1}}, \"name\": \"None\", \"orientation\": \"v\", \"text\": \"\", \"type\": \"bar\", \"x\": [\"A\", \"B\", \"C\", \"D\"], \"y\": [-10.437853632771938, 18.879021414355844, 8.989743350987581, 17.821533018101594]}],\n",
       "                        {\"legend\": {\"bgcolor\": \"#F5F6F9\", \"font\": {\"color\": \"#4D5663\"}}, \"paper_bgcolor\": \"#F5F6F9\", \"plot_bgcolor\": \"#F5F6F9\", \"template\": {\"data\": {\"bar\": [{\"error_x\": {\"color\": \"#2a3f5f\"}, \"error_y\": {\"color\": \"#2a3f5f\"}, \"marker\": {\"line\": {\"color\": \"#E5ECF6\", \"width\": 0.5}}, \"type\": \"bar\"}], \"barpolar\": [{\"marker\": {\"line\": {\"color\": \"#E5ECF6\", \"width\": 0.5}}, \"type\": \"barpolar\"}], \"carpet\": [{\"aaxis\": {\"endlinecolor\": \"#2a3f5f\", \"gridcolor\": \"white\", \"linecolor\": \"white\", \"minorgridcolor\": \"white\", \"startlinecolor\": \"#2a3f5f\"}, \"baxis\": {\"endlinecolor\": \"#2a3f5f\", \"gridcolor\": \"white\", \"linecolor\": \"white\", \"minorgridcolor\": \"white\", \"startlinecolor\": \"#2a3f5f\"}, \"type\": \"carpet\"}], \"choropleth\": [{\"colorbar\": {\"outlinewidth\": 0, \"ticks\": \"\"}, \"type\": \"choropleth\"}], \"contour\": [{\"colorbar\": {\"outlinewidth\": 0, \"ticks\": \"\"}, \"colorscale\": [[0.0, \"#0d0887\"], [0.1111111111111111, \"#46039f\"], [0.2222222222222222, \"#7201a8\"], [0.3333333333333333, \"#9c179e\"], [0.4444444444444444, \"#bd3786\"], [0.5555555555555556, \"#d8576b\"], [0.6666666666666666, \"#ed7953\"], [0.7777777777777778, \"#fb9f3a\"], [0.8888888888888888, \"#fdca26\"], [1.0, \"#f0f921\"]], \"type\": \"contour\"}], \"contourcarpet\": [{\"colorbar\": {\"outlinewidth\": 0, \"ticks\": \"\"}, \"type\": \"contourcarpet\"}], \"heatmap\": [{\"colorbar\": {\"outlinewidth\": 0, \"ticks\": \"\"}, \"colorscale\": [[0.0, \"#0d0887\"], [0.1111111111111111, \"#46039f\"], [0.2222222222222222, \"#7201a8\"], [0.3333333333333333, \"#9c179e\"], [0.4444444444444444, \"#bd3786\"], [0.5555555555555556, \"#d8576b\"], [0.6666666666666666, \"#ed7953\"], [0.7777777777777778, \"#fb9f3a\"], [0.8888888888888888, \"#fdca26\"], [1.0, \"#f0f921\"]], \"type\": \"heatmap\"}], \"heatmapgl\": [{\"colorbar\": {\"outlinewidth\": 0, \"ticks\": \"\"}, \"colorscale\": [[0.0, \"#0d0887\"], [0.1111111111111111, \"#46039f\"], [0.2222222222222222, \"#7201a8\"], [0.3333333333333333, \"#9c179e\"], [0.4444444444444444, \"#bd3786\"], [0.5555555555555556, \"#d8576b\"], [0.6666666666666666, \"#ed7953\"], [0.7777777777777778, \"#fb9f3a\"], [0.8888888888888888, \"#fdca26\"], [1.0, \"#f0f921\"]], \"type\": \"heatmapgl\"}], \"histogram\": [{\"marker\": {\"colorbar\": {\"outlinewidth\": 0, \"ticks\": \"\"}}, \"type\": \"histogram\"}], \"histogram2d\": [{\"colorbar\": {\"outlinewidth\": 0, \"ticks\": \"\"}, \"colorscale\": [[0.0, \"#0d0887\"], [0.1111111111111111, \"#46039f\"], [0.2222222222222222, \"#7201a8\"], [0.3333333333333333, \"#9c179e\"], [0.4444444444444444, \"#bd3786\"], [0.5555555555555556, \"#d8576b\"], [0.6666666666666666, \"#ed7953\"], [0.7777777777777778, \"#fb9f3a\"], [0.8888888888888888, \"#fdca26\"], [1.0, \"#f0f921\"]], \"type\": \"histogram2d\"}], \"histogram2dcontour\": [{\"colorbar\": {\"outlinewidth\": 0, \"ticks\": \"\"}, \"colorscale\": [[0.0, \"#0d0887\"], [0.1111111111111111, \"#46039f\"], [0.2222222222222222, \"#7201a8\"], [0.3333333333333333, \"#9c179e\"], [0.4444444444444444, \"#bd3786\"], [0.5555555555555556, \"#d8576b\"], [0.6666666666666666, \"#ed7953\"], [0.7777777777777778, \"#fb9f3a\"], [0.8888888888888888, \"#fdca26\"], [1.0, \"#f0f921\"]], \"type\": \"histogram2dcontour\"}], \"mesh3d\": [{\"colorbar\": {\"outlinewidth\": 0, \"ticks\": \"\"}, \"type\": \"mesh3d\"}], \"parcoords\": [{\"line\": {\"colorbar\": {\"outlinewidth\": 0, \"ticks\": \"\"}}, \"type\": \"parcoords\"}], \"pie\": [{\"automargin\": true, \"type\": \"pie\"}], \"scatter\": [{\"marker\": {\"colorbar\": {\"outlinewidth\": 0, \"ticks\": \"\"}}, \"type\": \"scatter\"}], \"scatter3d\": [{\"line\": {\"colorbar\": {\"outlinewidth\": 0, \"ticks\": \"\"}}, \"marker\": {\"colorbar\": {\"outlinewidth\": 0, \"ticks\": \"\"}}, \"type\": \"scatter3d\"}], \"scattercarpet\": [{\"marker\": {\"colorbar\": {\"outlinewidth\": 0, \"ticks\": \"\"}}, \"type\": \"scattercarpet\"}], \"scattergeo\": [{\"marker\": {\"colorbar\": {\"outlinewidth\": 0, \"ticks\": \"\"}}, \"type\": \"scattergeo\"}], \"scattergl\": [{\"marker\": {\"colorbar\": {\"outlinewidth\": 0, \"ticks\": \"\"}}, \"type\": \"scattergl\"}], \"scattermapbox\": [{\"marker\": {\"colorbar\": {\"outlinewidth\": 0, \"ticks\": \"\"}}, \"type\": \"scattermapbox\"}], \"scatterpolar\": [{\"marker\": {\"colorbar\": {\"outlinewidth\": 0, \"ticks\": \"\"}}, \"type\": \"scatterpolar\"}], \"scatterpolargl\": [{\"marker\": {\"colorbar\": {\"outlinewidth\": 0, \"ticks\": \"\"}}, \"type\": \"scatterpolargl\"}], \"scatterternary\": [{\"marker\": {\"colorbar\": {\"outlinewidth\": 0, \"ticks\": \"\"}}, \"type\": \"scatterternary\"}], \"surface\": [{\"colorbar\": {\"outlinewidth\": 0, \"ticks\": \"\"}, \"colorscale\": [[0.0, \"#0d0887\"], [0.1111111111111111, \"#46039f\"], [0.2222222222222222, \"#7201a8\"], [0.3333333333333333, \"#9c179e\"], [0.4444444444444444, \"#bd3786\"], [0.5555555555555556, \"#d8576b\"], [0.6666666666666666, \"#ed7953\"], [0.7777777777777778, \"#fb9f3a\"], [0.8888888888888888, \"#fdca26\"], [1.0, \"#f0f921\"]], \"type\": \"surface\"}], \"table\": [{\"cells\": {\"fill\": {\"color\": \"#EBF0F8\"}, \"line\": {\"color\": \"white\"}}, \"header\": {\"fill\": {\"color\": \"#C8D4E3\"}, \"line\": {\"color\": \"white\"}}, \"type\": \"table\"}]}, \"layout\": {\"annotationdefaults\": {\"arrowcolor\": \"#2a3f5f\", \"arrowhead\": 0, \"arrowwidth\": 1}, \"coloraxis\": {\"colorbar\": {\"outlinewidth\": 0, \"ticks\": \"\"}}, \"colorscale\": {\"diverging\": [[0, \"#8e0152\"], [0.1, \"#c51b7d\"], [0.2, \"#de77ae\"], [0.3, \"#f1b6da\"], [0.4, \"#fde0ef\"], [0.5, \"#f7f7f7\"], [0.6, \"#e6f5d0\"], [0.7, \"#b8e186\"], [0.8, \"#7fbc41\"], [0.9, \"#4d9221\"], [1, \"#276419\"]], \"sequential\": [[0.0, \"#0d0887\"], [0.1111111111111111, \"#46039f\"], [0.2222222222222222, \"#7201a8\"], [0.3333333333333333, \"#9c179e\"], [0.4444444444444444, \"#bd3786\"], [0.5555555555555556, \"#d8576b\"], [0.6666666666666666, \"#ed7953\"], [0.7777777777777778, \"#fb9f3a\"], [0.8888888888888888, \"#fdca26\"], [1.0, \"#f0f921\"]], \"sequentialminus\": [[0.0, \"#0d0887\"], [0.1111111111111111, \"#46039f\"], [0.2222222222222222, \"#7201a8\"], [0.3333333333333333, \"#9c179e\"], [0.4444444444444444, \"#bd3786\"], [0.5555555555555556, \"#d8576b\"], [0.6666666666666666, \"#ed7953\"], [0.7777777777777778, \"#fb9f3a\"], [0.8888888888888888, \"#fdca26\"], [1.0, \"#f0f921\"]]}, \"colorway\": [\"#636efa\", \"#EF553B\", \"#00cc96\", \"#ab63fa\", \"#FFA15A\", \"#19d3f3\", \"#FF6692\", \"#B6E880\", \"#FF97FF\", \"#FECB52\"], \"font\": {\"color\": \"#2a3f5f\"}, \"geo\": {\"bgcolor\": \"white\", \"lakecolor\": \"white\", \"landcolor\": \"#E5ECF6\", \"showlakes\": true, \"showland\": true, \"subunitcolor\": \"white\"}, \"hoverlabel\": {\"align\": \"left\"}, \"hovermode\": \"closest\", \"mapbox\": {\"style\": \"light\"}, \"paper_bgcolor\": \"white\", \"plot_bgcolor\": \"#E5ECF6\", \"polar\": {\"angularaxis\": {\"gridcolor\": \"white\", \"linecolor\": \"white\", \"ticks\": \"\"}, \"bgcolor\": \"#E5ECF6\", \"radialaxis\": {\"gridcolor\": \"white\", \"linecolor\": \"white\", \"ticks\": \"\"}}, \"scene\": {\"xaxis\": {\"backgroundcolor\": \"#E5ECF6\", \"gridcolor\": \"white\", \"gridwidth\": 2, \"linecolor\": \"white\", \"showbackground\": true, \"ticks\": \"\", \"zerolinecolor\": \"white\"}, \"yaxis\": {\"backgroundcolor\": \"#E5ECF6\", \"gridcolor\": \"white\", \"gridwidth\": 2, \"linecolor\": \"white\", \"showbackground\": true, \"ticks\": \"\", \"zerolinecolor\": \"white\"}, \"zaxis\": {\"backgroundcolor\": \"#E5ECF6\", \"gridcolor\": \"white\", \"gridwidth\": 2, \"linecolor\": \"white\", \"showbackground\": true, \"ticks\": \"\", \"zerolinecolor\": \"white\"}}, \"shapedefaults\": {\"line\": {\"color\": \"#2a3f5f\"}}, \"ternary\": {\"aaxis\": {\"gridcolor\": \"white\", \"linecolor\": \"white\", \"ticks\": \"\"}, \"baxis\": {\"gridcolor\": \"white\", \"linecolor\": \"white\", \"ticks\": \"\"}, \"bgcolor\": \"#E5ECF6\", \"caxis\": {\"gridcolor\": \"white\", \"linecolor\": \"white\", \"ticks\": \"\"}}, \"title\": {\"x\": 0.05}, \"xaxis\": {\"automargin\": true, \"gridcolor\": \"white\", \"linecolor\": \"white\", \"ticks\": \"\", \"title\": {\"standoff\": 15}, \"zerolinecolor\": \"white\", \"zerolinewidth\": 2}, \"yaxis\": {\"automargin\": true, \"gridcolor\": \"white\", \"linecolor\": \"white\", \"ticks\": \"\", \"title\": {\"standoff\": 15}, \"zerolinecolor\": \"white\", \"zerolinewidth\": 2}}}, \"title\": {\"font\": {\"color\": \"#4D5663\"}}, \"xaxis\": {\"gridcolor\": \"#E1E5ED\", \"showgrid\": true, \"tickfont\": {\"color\": \"#4D5663\"}, \"title\": {\"font\": {\"color\": \"#4D5663\"}, \"text\": \"\"}, \"zerolinecolor\": \"#E1E5ED\"}, \"yaxis\": {\"gridcolor\": \"#E1E5ED\", \"showgrid\": true, \"tickfont\": {\"color\": \"#4D5663\"}, \"title\": {\"font\": {\"color\": \"#4D5663\"}, \"text\": \"\"}, \"zerolinecolor\": \"#E1E5ED\"}},\n",
       "                        {\"showLink\": true, \"linkText\": \"Export to plot.ly\", \"plotlyServerURL\": \"https://plot.ly\", \"responsive\": true}\n",
       "                    ).then(function(){\n",
       "                            \n",
       "var gd = document.getElementById('3ffe6f05-3eca-4af5-ac64-783329f654bb');\n",
       "var x = new MutationObserver(function (mutations, observer) {{\n",
       "        var display = window.getComputedStyle(gd).display;\n",
       "        if (!display || display === 'none') {{\n",
       "            console.log([gd, 'removed!']);\n",
       "            Plotly.purge(gd);\n",
       "            observer.disconnect();\n",
       "        }}\n",
       "}});\n",
       "\n",
       "// Listen for the removal of the full notebook cells\n",
       "var notebookContainer = gd.closest('#notebook-container');\n",
       "if (notebookContainer) {{\n",
       "    x.observe(notebookContainer, {childList: true});\n",
       "}}\n",
       "\n",
       "// Listen for the clearing of the current output cell\n",
       "var outputEl = gd.closest('.output');\n",
       "if (outputEl) {{\n",
       "    x.observe(outputEl, {childList: true});\n",
       "}}\n",
       "\n",
       "                        })\n",
       "                };\n",
       "                });\n",
       "            </script>\n",
       "        </div>"
      ]
     },
     "metadata": {},
     "output_type": "display_data"
    }
   ],
   "source": [
    "# can be done with aggregation functions or a group by function.\n",
    "#df.count().iplot(kind='bar')\n",
    "df.sum().iplot(kind='bar')"
   ]
  },
  {
   "cell_type": "code",
   "execution_count": 18,
   "metadata": {},
   "outputs": [
    {
     "data": {
      "application/vnd.plotly.v1+json": {
       "config": {
        "linkText": "Export to plot.ly",
        "plotlyServerURL": "https://plot.ly",
        "showLink": true
       },
       "data": [
        {
         "marker": {
          "color": "rgba(255, 153, 51, 0.6)",
          "line": {
           "color": "rgba(255, 153, 51, 1.0)",
           "width": 1
          }
         },
         "name": "None",
         "orientation": "v",
         "text": "",
         "type": "bar",
         "x": [
          "A",
          "B",
          "C",
          "D"
         ],
         "y": [
          100,
          100,
          100,
          100
         ]
        }
       ],
       "layout": {
        "legend": {
         "bgcolor": "#F5F6F9",
         "font": {
          "color": "#4D5663"
         }
        },
        "paper_bgcolor": "#F5F6F9",
        "plot_bgcolor": "#F5F6F9",
        "template": {
         "data": {
          "bar": [
           {
            "error_x": {
             "color": "#2a3f5f"
            },
            "error_y": {
             "color": "#2a3f5f"
            },
            "marker": {
             "line": {
              "color": "#E5ECF6",
              "width": 0.5
             }
            },
            "type": "bar"
           }
          ],
          "barpolar": [
           {
            "marker": {
             "line": {
              "color": "#E5ECF6",
              "width": 0.5
             }
            },
            "type": "barpolar"
           }
          ],
          "carpet": [
           {
            "aaxis": {
             "endlinecolor": "#2a3f5f",
             "gridcolor": "white",
             "linecolor": "white",
             "minorgridcolor": "white",
             "startlinecolor": "#2a3f5f"
            },
            "baxis": {
             "endlinecolor": "#2a3f5f",
             "gridcolor": "white",
             "linecolor": "white",
             "minorgridcolor": "white",
             "startlinecolor": "#2a3f5f"
            },
            "type": "carpet"
           }
          ],
          "choropleth": [
           {
            "colorbar": {
             "outlinewidth": 0,
             "ticks": ""
            },
            "type": "choropleth"
           }
          ],
          "contour": [
           {
            "colorbar": {
             "outlinewidth": 0,
             "ticks": ""
            },
            "colorscale": [
             [
              0,
              "#0d0887"
             ],
             [
              0.1111111111111111,
              "#46039f"
             ],
             [
              0.2222222222222222,
              "#7201a8"
             ],
             [
              0.3333333333333333,
              "#9c179e"
             ],
             [
              0.4444444444444444,
              "#bd3786"
             ],
             [
              0.5555555555555556,
              "#d8576b"
             ],
             [
              0.6666666666666666,
              "#ed7953"
             ],
             [
              0.7777777777777778,
              "#fb9f3a"
             ],
             [
              0.8888888888888888,
              "#fdca26"
             ],
             [
              1,
              "#f0f921"
             ]
            ],
            "type": "contour"
           }
          ],
          "contourcarpet": [
           {
            "colorbar": {
             "outlinewidth": 0,
             "ticks": ""
            },
            "type": "contourcarpet"
           }
          ],
          "heatmap": [
           {
            "colorbar": {
             "outlinewidth": 0,
             "ticks": ""
            },
            "colorscale": [
             [
              0,
              "#0d0887"
             ],
             [
              0.1111111111111111,
              "#46039f"
             ],
             [
              0.2222222222222222,
              "#7201a8"
             ],
             [
              0.3333333333333333,
              "#9c179e"
             ],
             [
              0.4444444444444444,
              "#bd3786"
             ],
             [
              0.5555555555555556,
              "#d8576b"
             ],
             [
              0.6666666666666666,
              "#ed7953"
             ],
             [
              0.7777777777777778,
              "#fb9f3a"
             ],
             [
              0.8888888888888888,
              "#fdca26"
             ],
             [
              1,
              "#f0f921"
             ]
            ],
            "type": "heatmap"
           }
          ],
          "heatmapgl": [
           {
            "colorbar": {
             "outlinewidth": 0,
             "ticks": ""
            },
            "colorscale": [
             [
              0,
              "#0d0887"
             ],
             [
              0.1111111111111111,
              "#46039f"
             ],
             [
              0.2222222222222222,
              "#7201a8"
             ],
             [
              0.3333333333333333,
              "#9c179e"
             ],
             [
              0.4444444444444444,
              "#bd3786"
             ],
             [
              0.5555555555555556,
              "#d8576b"
             ],
             [
              0.6666666666666666,
              "#ed7953"
             ],
             [
              0.7777777777777778,
              "#fb9f3a"
             ],
             [
              0.8888888888888888,
              "#fdca26"
             ],
             [
              1,
              "#f0f921"
             ]
            ],
            "type": "heatmapgl"
           }
          ],
          "histogram": [
           {
            "marker": {
             "colorbar": {
              "outlinewidth": 0,
              "ticks": ""
             }
            },
            "type": "histogram"
           }
          ],
          "histogram2d": [
           {
            "colorbar": {
             "outlinewidth": 0,
             "ticks": ""
            },
            "colorscale": [
             [
              0,
              "#0d0887"
             ],
             [
              0.1111111111111111,
              "#46039f"
             ],
             [
              0.2222222222222222,
              "#7201a8"
             ],
             [
              0.3333333333333333,
              "#9c179e"
             ],
             [
              0.4444444444444444,
              "#bd3786"
             ],
             [
              0.5555555555555556,
              "#d8576b"
             ],
             [
              0.6666666666666666,
              "#ed7953"
             ],
             [
              0.7777777777777778,
              "#fb9f3a"
             ],
             [
              0.8888888888888888,
              "#fdca26"
             ],
             [
              1,
              "#f0f921"
             ]
            ],
            "type": "histogram2d"
           }
          ],
          "histogram2dcontour": [
           {
            "colorbar": {
             "outlinewidth": 0,
             "ticks": ""
            },
            "colorscale": [
             [
              0,
              "#0d0887"
             ],
             [
              0.1111111111111111,
              "#46039f"
             ],
             [
              0.2222222222222222,
              "#7201a8"
             ],
             [
              0.3333333333333333,
              "#9c179e"
             ],
             [
              0.4444444444444444,
              "#bd3786"
             ],
             [
              0.5555555555555556,
              "#d8576b"
             ],
             [
              0.6666666666666666,
              "#ed7953"
             ],
             [
              0.7777777777777778,
              "#fb9f3a"
             ],
             [
              0.8888888888888888,
              "#fdca26"
             ],
             [
              1,
              "#f0f921"
             ]
            ],
            "type": "histogram2dcontour"
           }
          ],
          "mesh3d": [
           {
            "colorbar": {
             "outlinewidth": 0,
             "ticks": ""
            },
            "type": "mesh3d"
           }
          ],
          "parcoords": [
           {
            "line": {
             "colorbar": {
              "outlinewidth": 0,
              "ticks": ""
             }
            },
            "type": "parcoords"
           }
          ],
          "pie": [
           {
            "automargin": true,
            "type": "pie"
           }
          ],
          "scatter": [
           {
            "marker": {
             "colorbar": {
              "outlinewidth": 0,
              "ticks": ""
             }
            },
            "type": "scatter"
           }
          ],
          "scatter3d": [
           {
            "line": {
             "colorbar": {
              "outlinewidth": 0,
              "ticks": ""
             }
            },
            "marker": {
             "colorbar": {
              "outlinewidth": 0,
              "ticks": ""
             }
            },
            "type": "scatter3d"
           }
          ],
          "scattercarpet": [
           {
            "marker": {
             "colorbar": {
              "outlinewidth": 0,
              "ticks": ""
             }
            },
            "type": "scattercarpet"
           }
          ],
          "scattergeo": [
           {
            "marker": {
             "colorbar": {
              "outlinewidth": 0,
              "ticks": ""
             }
            },
            "type": "scattergeo"
           }
          ],
          "scattergl": [
           {
            "marker": {
             "colorbar": {
              "outlinewidth": 0,
              "ticks": ""
             }
            },
            "type": "scattergl"
           }
          ],
          "scattermapbox": [
           {
            "marker": {
             "colorbar": {
              "outlinewidth": 0,
              "ticks": ""
             }
            },
            "type": "scattermapbox"
           }
          ],
          "scatterpolar": [
           {
            "marker": {
             "colorbar": {
              "outlinewidth": 0,
              "ticks": ""
             }
            },
            "type": "scatterpolar"
           }
          ],
          "scatterpolargl": [
           {
            "marker": {
             "colorbar": {
              "outlinewidth": 0,
              "ticks": ""
             }
            },
            "type": "scatterpolargl"
           }
          ],
          "scatterternary": [
           {
            "marker": {
             "colorbar": {
              "outlinewidth": 0,
              "ticks": ""
             }
            },
            "type": "scatterternary"
           }
          ],
          "surface": [
           {
            "colorbar": {
             "outlinewidth": 0,
             "ticks": ""
            },
            "colorscale": [
             [
              0,
              "#0d0887"
             ],
             [
              0.1111111111111111,
              "#46039f"
             ],
             [
              0.2222222222222222,
              "#7201a8"
             ],
             [
              0.3333333333333333,
              "#9c179e"
             ],
             [
              0.4444444444444444,
              "#bd3786"
             ],
             [
              0.5555555555555556,
              "#d8576b"
             ],
             [
              0.6666666666666666,
              "#ed7953"
             ],
             [
              0.7777777777777778,
              "#fb9f3a"
             ],
             [
              0.8888888888888888,
              "#fdca26"
             ],
             [
              1,
              "#f0f921"
             ]
            ],
            "type": "surface"
           }
          ],
          "table": [
           {
            "cells": {
             "fill": {
              "color": "#EBF0F8"
             },
             "line": {
              "color": "white"
             }
            },
            "header": {
             "fill": {
              "color": "#C8D4E3"
             },
             "line": {
              "color": "white"
             }
            },
            "type": "table"
           }
          ]
         },
         "layout": {
          "annotationdefaults": {
           "arrowcolor": "#2a3f5f",
           "arrowhead": 0,
           "arrowwidth": 1
          },
          "coloraxis": {
           "colorbar": {
            "outlinewidth": 0,
            "ticks": ""
           }
          },
          "colorscale": {
           "diverging": [
            [
             0,
             "#8e0152"
            ],
            [
             0.1,
             "#c51b7d"
            ],
            [
             0.2,
             "#de77ae"
            ],
            [
             0.3,
             "#f1b6da"
            ],
            [
             0.4,
             "#fde0ef"
            ],
            [
             0.5,
             "#f7f7f7"
            ],
            [
             0.6,
             "#e6f5d0"
            ],
            [
             0.7,
             "#b8e186"
            ],
            [
             0.8,
             "#7fbc41"
            ],
            [
             0.9,
             "#4d9221"
            ],
            [
             1,
             "#276419"
            ]
           ],
           "sequential": [
            [
             0,
             "#0d0887"
            ],
            [
             0.1111111111111111,
             "#46039f"
            ],
            [
             0.2222222222222222,
             "#7201a8"
            ],
            [
             0.3333333333333333,
             "#9c179e"
            ],
            [
             0.4444444444444444,
             "#bd3786"
            ],
            [
             0.5555555555555556,
             "#d8576b"
            ],
            [
             0.6666666666666666,
             "#ed7953"
            ],
            [
             0.7777777777777778,
             "#fb9f3a"
            ],
            [
             0.8888888888888888,
             "#fdca26"
            ],
            [
             1,
             "#f0f921"
            ]
           ],
           "sequentialminus": [
            [
             0,
             "#0d0887"
            ],
            [
             0.1111111111111111,
             "#46039f"
            ],
            [
             0.2222222222222222,
             "#7201a8"
            ],
            [
             0.3333333333333333,
             "#9c179e"
            ],
            [
             0.4444444444444444,
             "#bd3786"
            ],
            [
             0.5555555555555556,
             "#d8576b"
            ],
            [
             0.6666666666666666,
             "#ed7953"
            ],
            [
             0.7777777777777778,
             "#fb9f3a"
            ],
            [
             0.8888888888888888,
             "#fdca26"
            ],
            [
             1,
             "#f0f921"
            ]
           ]
          },
          "colorway": [
           "#636efa",
           "#EF553B",
           "#00cc96",
           "#ab63fa",
           "#FFA15A",
           "#19d3f3",
           "#FF6692",
           "#B6E880",
           "#FF97FF",
           "#FECB52"
          ],
          "font": {
           "color": "#2a3f5f"
          },
          "geo": {
           "bgcolor": "white",
           "lakecolor": "white",
           "landcolor": "#E5ECF6",
           "showlakes": true,
           "showland": true,
           "subunitcolor": "white"
          },
          "hoverlabel": {
           "align": "left"
          },
          "hovermode": "closest",
          "mapbox": {
           "style": "light"
          },
          "paper_bgcolor": "white",
          "plot_bgcolor": "#E5ECF6",
          "polar": {
           "angularaxis": {
            "gridcolor": "white",
            "linecolor": "white",
            "ticks": ""
           },
           "bgcolor": "#E5ECF6",
           "radialaxis": {
            "gridcolor": "white",
            "linecolor": "white",
            "ticks": ""
           }
          },
          "scene": {
           "xaxis": {
            "backgroundcolor": "#E5ECF6",
            "gridcolor": "white",
            "gridwidth": 2,
            "linecolor": "white",
            "showbackground": true,
            "ticks": "",
            "zerolinecolor": "white"
           },
           "yaxis": {
            "backgroundcolor": "#E5ECF6",
            "gridcolor": "white",
            "gridwidth": 2,
            "linecolor": "white",
            "showbackground": true,
            "ticks": "",
            "zerolinecolor": "white"
           },
           "zaxis": {
            "backgroundcolor": "#E5ECF6",
            "gridcolor": "white",
            "gridwidth": 2,
            "linecolor": "white",
            "showbackground": true,
            "ticks": "",
            "zerolinecolor": "white"
           }
          },
          "shapedefaults": {
           "line": {
            "color": "#2a3f5f"
           }
          },
          "ternary": {
           "aaxis": {
            "gridcolor": "white",
            "linecolor": "white",
            "ticks": ""
           },
           "baxis": {
            "gridcolor": "white",
            "linecolor": "white",
            "ticks": ""
           },
           "bgcolor": "#E5ECF6",
           "caxis": {
            "gridcolor": "white",
            "linecolor": "white",
            "ticks": ""
           }
          },
          "title": {
           "x": 0.05
          },
          "xaxis": {
           "automargin": true,
           "gridcolor": "white",
           "linecolor": "white",
           "ticks": "",
           "title": {
            "standoff": 15
           },
           "zerolinecolor": "white",
           "zerolinewidth": 2
          },
          "yaxis": {
           "automargin": true,
           "gridcolor": "white",
           "linecolor": "white",
           "ticks": "",
           "title": {
            "standoff": 15
           },
           "zerolinecolor": "white",
           "zerolinewidth": 2
          }
         }
        },
        "title": {
         "font": {
          "color": "#4D5663"
         }
        },
        "xaxis": {
         "gridcolor": "#E1E5ED",
         "showgrid": true,
         "tickfont": {
          "color": "#4D5663"
         },
         "title": {
          "font": {
           "color": "#4D5663"
          },
          "text": ""
         },
         "zerolinecolor": "#E1E5ED"
        },
        "yaxis": {
         "gridcolor": "#E1E5ED",
         "showgrid": true,
         "tickfont": {
          "color": "#4D5663"
         },
         "title": {
          "font": {
           "color": "#4D5663"
          },
          "text": ""
         },
         "zerolinecolor": "#E1E5ED"
        }
       }
      },
      "text/html": [
       "<div>\n",
       "        \n",
       "        \n",
       "            <div id=\"51bbcc62-b661-429a-9478-1ecc5ede7b15\" class=\"plotly-graph-div\" style=\"height:525px; width:100%;\"></div>\n",
       "            <script type=\"text/javascript\">\n",
       "                require([\"plotly\"], function(Plotly) {\n",
       "                    window.PLOTLYENV=window.PLOTLYENV || {};\n",
       "                    window.PLOTLYENV.BASE_URL='https://plot.ly';\n",
       "                    \n",
       "                if (document.getElementById(\"51bbcc62-b661-429a-9478-1ecc5ede7b15\")) {\n",
       "                    Plotly.newPlot(\n",
       "                        '51bbcc62-b661-429a-9478-1ecc5ede7b15',\n",
       "                        [{\"marker\": {\"color\": \"rgba(255, 153, 51, 0.6)\", \"line\": {\"color\": \"rgba(255, 153, 51, 1.0)\", \"width\": 1}}, \"name\": \"None\", \"orientation\": \"v\", \"text\": \"\", \"type\": \"bar\", \"x\": [\"A\", \"B\", \"C\", \"D\"], \"y\": [100, 100, 100, 100]}],\n",
       "                        {\"legend\": {\"bgcolor\": \"#F5F6F9\", \"font\": {\"color\": \"#4D5663\"}}, \"paper_bgcolor\": \"#F5F6F9\", \"plot_bgcolor\": \"#F5F6F9\", \"template\": {\"data\": {\"bar\": [{\"error_x\": {\"color\": \"#2a3f5f\"}, \"error_y\": {\"color\": \"#2a3f5f\"}, \"marker\": {\"line\": {\"color\": \"#E5ECF6\", \"width\": 0.5}}, \"type\": \"bar\"}], \"barpolar\": [{\"marker\": {\"line\": {\"color\": \"#E5ECF6\", \"width\": 0.5}}, \"type\": \"barpolar\"}], \"carpet\": [{\"aaxis\": {\"endlinecolor\": \"#2a3f5f\", \"gridcolor\": \"white\", \"linecolor\": \"white\", \"minorgridcolor\": \"white\", \"startlinecolor\": \"#2a3f5f\"}, \"baxis\": {\"endlinecolor\": \"#2a3f5f\", \"gridcolor\": \"white\", \"linecolor\": \"white\", \"minorgridcolor\": \"white\", \"startlinecolor\": \"#2a3f5f\"}, \"type\": \"carpet\"}], \"choropleth\": [{\"colorbar\": {\"outlinewidth\": 0, \"ticks\": \"\"}, \"type\": \"choropleth\"}], \"contour\": [{\"colorbar\": {\"outlinewidth\": 0, \"ticks\": \"\"}, \"colorscale\": [[0.0, \"#0d0887\"], [0.1111111111111111, \"#46039f\"], [0.2222222222222222, \"#7201a8\"], [0.3333333333333333, \"#9c179e\"], [0.4444444444444444, \"#bd3786\"], [0.5555555555555556, \"#d8576b\"], [0.6666666666666666, \"#ed7953\"], [0.7777777777777778, \"#fb9f3a\"], [0.8888888888888888, \"#fdca26\"], [1.0, \"#f0f921\"]], \"type\": \"contour\"}], \"contourcarpet\": [{\"colorbar\": {\"outlinewidth\": 0, \"ticks\": \"\"}, \"type\": \"contourcarpet\"}], \"heatmap\": [{\"colorbar\": {\"outlinewidth\": 0, \"ticks\": \"\"}, \"colorscale\": [[0.0, \"#0d0887\"], [0.1111111111111111, \"#46039f\"], [0.2222222222222222, \"#7201a8\"], [0.3333333333333333, \"#9c179e\"], [0.4444444444444444, \"#bd3786\"], [0.5555555555555556, \"#d8576b\"], [0.6666666666666666, \"#ed7953\"], [0.7777777777777778, \"#fb9f3a\"], [0.8888888888888888, \"#fdca26\"], [1.0, \"#f0f921\"]], \"type\": \"heatmap\"}], \"heatmapgl\": [{\"colorbar\": {\"outlinewidth\": 0, \"ticks\": \"\"}, \"colorscale\": [[0.0, \"#0d0887\"], [0.1111111111111111, \"#46039f\"], [0.2222222222222222, \"#7201a8\"], [0.3333333333333333, \"#9c179e\"], [0.4444444444444444, \"#bd3786\"], [0.5555555555555556, \"#d8576b\"], [0.6666666666666666, \"#ed7953\"], [0.7777777777777778, \"#fb9f3a\"], [0.8888888888888888, \"#fdca26\"], [1.0, \"#f0f921\"]], \"type\": \"heatmapgl\"}], \"histogram\": [{\"marker\": {\"colorbar\": {\"outlinewidth\": 0, \"ticks\": \"\"}}, \"type\": \"histogram\"}], \"histogram2d\": [{\"colorbar\": {\"outlinewidth\": 0, \"ticks\": \"\"}, \"colorscale\": [[0.0, \"#0d0887\"], [0.1111111111111111, \"#46039f\"], [0.2222222222222222, \"#7201a8\"], [0.3333333333333333, \"#9c179e\"], [0.4444444444444444, \"#bd3786\"], [0.5555555555555556, \"#d8576b\"], [0.6666666666666666, \"#ed7953\"], [0.7777777777777778, \"#fb9f3a\"], [0.8888888888888888, \"#fdca26\"], [1.0, \"#f0f921\"]], \"type\": \"histogram2d\"}], \"histogram2dcontour\": [{\"colorbar\": {\"outlinewidth\": 0, \"ticks\": \"\"}, \"colorscale\": [[0.0, \"#0d0887\"], [0.1111111111111111, \"#46039f\"], [0.2222222222222222, \"#7201a8\"], [0.3333333333333333, \"#9c179e\"], [0.4444444444444444, \"#bd3786\"], [0.5555555555555556, \"#d8576b\"], [0.6666666666666666, \"#ed7953\"], [0.7777777777777778, \"#fb9f3a\"], [0.8888888888888888, \"#fdca26\"], [1.0, \"#f0f921\"]], \"type\": \"histogram2dcontour\"}], \"mesh3d\": [{\"colorbar\": {\"outlinewidth\": 0, \"ticks\": \"\"}, \"type\": \"mesh3d\"}], \"parcoords\": [{\"line\": {\"colorbar\": {\"outlinewidth\": 0, \"ticks\": \"\"}}, \"type\": \"parcoords\"}], \"pie\": [{\"automargin\": true, \"type\": \"pie\"}], \"scatter\": [{\"marker\": {\"colorbar\": {\"outlinewidth\": 0, \"ticks\": \"\"}}, \"type\": \"scatter\"}], \"scatter3d\": [{\"line\": {\"colorbar\": {\"outlinewidth\": 0, \"ticks\": \"\"}}, \"marker\": {\"colorbar\": {\"outlinewidth\": 0, \"ticks\": \"\"}}, \"type\": \"scatter3d\"}], \"scattercarpet\": [{\"marker\": {\"colorbar\": {\"outlinewidth\": 0, \"ticks\": \"\"}}, \"type\": \"scattercarpet\"}], \"scattergeo\": [{\"marker\": {\"colorbar\": {\"outlinewidth\": 0, \"ticks\": \"\"}}, \"type\": \"scattergeo\"}], \"scattergl\": [{\"marker\": {\"colorbar\": {\"outlinewidth\": 0, \"ticks\": \"\"}}, \"type\": \"scattergl\"}], \"scattermapbox\": [{\"marker\": {\"colorbar\": {\"outlinewidth\": 0, \"ticks\": \"\"}}, \"type\": \"scattermapbox\"}], \"scatterpolar\": [{\"marker\": {\"colorbar\": {\"outlinewidth\": 0, \"ticks\": \"\"}}, \"type\": \"scatterpolar\"}], \"scatterpolargl\": [{\"marker\": {\"colorbar\": {\"outlinewidth\": 0, \"ticks\": \"\"}}, \"type\": \"scatterpolargl\"}], \"scatterternary\": [{\"marker\": {\"colorbar\": {\"outlinewidth\": 0, \"ticks\": \"\"}}, \"type\": \"scatterternary\"}], \"surface\": [{\"colorbar\": {\"outlinewidth\": 0, \"ticks\": \"\"}, \"colorscale\": [[0.0, \"#0d0887\"], [0.1111111111111111, \"#46039f\"], [0.2222222222222222, \"#7201a8\"], [0.3333333333333333, \"#9c179e\"], [0.4444444444444444, \"#bd3786\"], [0.5555555555555556, \"#d8576b\"], [0.6666666666666666, \"#ed7953\"], [0.7777777777777778, \"#fb9f3a\"], [0.8888888888888888, \"#fdca26\"], [1.0, \"#f0f921\"]], \"type\": \"surface\"}], \"table\": [{\"cells\": {\"fill\": {\"color\": \"#EBF0F8\"}, \"line\": {\"color\": \"white\"}}, \"header\": {\"fill\": {\"color\": \"#C8D4E3\"}, \"line\": {\"color\": \"white\"}}, \"type\": \"table\"}]}, \"layout\": {\"annotationdefaults\": {\"arrowcolor\": \"#2a3f5f\", \"arrowhead\": 0, \"arrowwidth\": 1}, \"coloraxis\": {\"colorbar\": {\"outlinewidth\": 0, \"ticks\": \"\"}}, \"colorscale\": {\"diverging\": [[0, \"#8e0152\"], [0.1, \"#c51b7d\"], [0.2, \"#de77ae\"], [0.3, \"#f1b6da\"], [0.4, \"#fde0ef\"], [0.5, \"#f7f7f7\"], [0.6, \"#e6f5d0\"], [0.7, \"#b8e186\"], [0.8, \"#7fbc41\"], [0.9, \"#4d9221\"], [1, \"#276419\"]], \"sequential\": [[0.0, \"#0d0887\"], [0.1111111111111111, \"#46039f\"], [0.2222222222222222, \"#7201a8\"], [0.3333333333333333, \"#9c179e\"], [0.4444444444444444, \"#bd3786\"], [0.5555555555555556, \"#d8576b\"], [0.6666666666666666, \"#ed7953\"], [0.7777777777777778, \"#fb9f3a\"], [0.8888888888888888, \"#fdca26\"], [1.0, \"#f0f921\"]], \"sequentialminus\": [[0.0, \"#0d0887\"], [0.1111111111111111, \"#46039f\"], [0.2222222222222222, \"#7201a8\"], [0.3333333333333333, \"#9c179e\"], [0.4444444444444444, \"#bd3786\"], [0.5555555555555556, \"#d8576b\"], [0.6666666666666666, \"#ed7953\"], [0.7777777777777778, \"#fb9f3a\"], [0.8888888888888888, \"#fdca26\"], [1.0, \"#f0f921\"]]}, \"colorway\": [\"#636efa\", \"#EF553B\", \"#00cc96\", \"#ab63fa\", \"#FFA15A\", \"#19d3f3\", \"#FF6692\", \"#B6E880\", \"#FF97FF\", \"#FECB52\"], \"font\": {\"color\": \"#2a3f5f\"}, \"geo\": {\"bgcolor\": \"white\", \"lakecolor\": \"white\", \"landcolor\": \"#E5ECF6\", \"showlakes\": true, \"showland\": true, \"subunitcolor\": \"white\"}, \"hoverlabel\": {\"align\": \"left\"}, \"hovermode\": \"closest\", \"mapbox\": {\"style\": \"light\"}, \"paper_bgcolor\": \"white\", \"plot_bgcolor\": \"#E5ECF6\", \"polar\": {\"angularaxis\": {\"gridcolor\": \"white\", \"linecolor\": \"white\", \"ticks\": \"\"}, \"bgcolor\": \"#E5ECF6\", \"radialaxis\": {\"gridcolor\": \"white\", \"linecolor\": \"white\", \"ticks\": \"\"}}, \"scene\": {\"xaxis\": {\"backgroundcolor\": \"#E5ECF6\", \"gridcolor\": \"white\", \"gridwidth\": 2, \"linecolor\": \"white\", \"showbackground\": true, \"ticks\": \"\", \"zerolinecolor\": \"white\"}, \"yaxis\": {\"backgroundcolor\": \"#E5ECF6\", \"gridcolor\": \"white\", \"gridwidth\": 2, \"linecolor\": \"white\", \"showbackground\": true, \"ticks\": \"\", \"zerolinecolor\": \"white\"}, \"zaxis\": {\"backgroundcolor\": \"#E5ECF6\", \"gridcolor\": \"white\", \"gridwidth\": 2, \"linecolor\": \"white\", \"showbackground\": true, \"ticks\": \"\", \"zerolinecolor\": \"white\"}}, \"shapedefaults\": {\"line\": {\"color\": \"#2a3f5f\"}}, \"ternary\": {\"aaxis\": {\"gridcolor\": \"white\", \"linecolor\": \"white\", \"ticks\": \"\"}, \"baxis\": {\"gridcolor\": \"white\", \"linecolor\": \"white\", \"ticks\": \"\"}, \"bgcolor\": \"#E5ECF6\", \"caxis\": {\"gridcolor\": \"white\", \"linecolor\": \"white\", \"ticks\": \"\"}}, \"title\": {\"x\": 0.05}, \"xaxis\": {\"automargin\": true, \"gridcolor\": \"white\", \"linecolor\": \"white\", \"ticks\": \"\", \"title\": {\"standoff\": 15}, \"zerolinecolor\": \"white\", \"zerolinewidth\": 2}, \"yaxis\": {\"automargin\": true, \"gridcolor\": \"white\", \"linecolor\": \"white\", \"ticks\": \"\", \"title\": {\"standoff\": 15}, \"zerolinecolor\": \"white\", \"zerolinewidth\": 2}}}, \"title\": {\"font\": {\"color\": \"#4D5663\"}}, \"xaxis\": {\"gridcolor\": \"#E1E5ED\", \"showgrid\": true, \"tickfont\": {\"color\": \"#4D5663\"}, \"title\": {\"font\": {\"color\": \"#4D5663\"}, \"text\": \"\"}, \"zerolinecolor\": \"#E1E5ED\"}, \"yaxis\": {\"gridcolor\": \"#E1E5ED\", \"showgrid\": true, \"tickfont\": {\"color\": \"#4D5663\"}, \"title\": {\"font\": {\"color\": \"#4D5663\"}, \"text\": \"\"}, \"zerolinecolor\": \"#E1E5ED\"}},\n",
       "                        {\"showLink\": true, \"linkText\": \"Export to plot.ly\", \"plotlyServerURL\": \"https://plot.ly\", \"responsive\": true}\n",
       "                    ).then(function(){\n",
       "                            \n",
       "var gd = document.getElementById('51bbcc62-b661-429a-9478-1ecc5ede7b15');\n",
       "var x = new MutationObserver(function (mutations, observer) {{\n",
       "        var display = window.getComputedStyle(gd).display;\n",
       "        if (!display || display === 'none') {{\n",
       "            console.log([gd, 'removed!']);\n",
       "            Plotly.purge(gd);\n",
       "            observer.disconnect();\n",
       "        }}\n",
       "}});\n",
       "\n",
       "// Listen for the removal of the full notebook cells\n",
       "var notebookContainer = gd.closest('#notebook-container');\n",
       "if (notebookContainer) {{\n",
       "    x.observe(notebookContainer, {childList: true});\n",
       "}}\n",
       "\n",
       "// Listen for the clearing of the current output cell\n",
       "var outputEl = gd.closest('.output');\n",
       "if (outputEl) {{\n",
       "    x.observe(outputEl, {childList: true});\n",
       "}}\n",
       "\n",
       "                        })\n",
       "                };\n",
       "                });\n",
       "            </script>\n",
       "        </div>"
      ]
     },
     "metadata": {},
     "output_type": "display_data"
    }
   ],
   "source": [
    "df.count().iplot(kind='bar')"
   ]
  },
  {
   "cell_type": "markdown",
   "metadata": {},
   "source": [
    "## Boxplots"
   ]
  },
  {
   "cell_type": "code",
   "execution_count": 19,
   "metadata": {},
   "outputs": [
    {
     "data": {
      "application/vnd.plotly.v1+json": {
       "config": {
        "linkText": "Export to plot.ly",
        "plotlyServerURL": "https://plot.ly",
        "showLink": true
       },
       "data": [
        {
         "boxpoints": false,
         "line": {
          "width": 1.3
         },
         "marker": {
          "color": "rgba(255, 153, 51, 1.0)"
         },
         "name": "A",
         "orientation": "v",
         "type": "box",
         "y": [
          0.14612668346810087,
          -0.5150643958091404,
          0.993048156143555,
          1.5527565611998224,
          1.102283947004991,
          -2.4771102825000293,
          0.48535271977394,
          -5.997120287646958e-05,
          0.2728979161787896,
          0.14241623947301038,
          -1.7220839857720651,
          0.30479168294651615,
          0.1707684250962974,
          0.6284887755043934,
          -0.7850037217749689,
          -1.1402548447102723,
          -1.212921005329053,
          1.6666125120797235,
          -0.09525429818572638,
          0.9108399395049533,
          -0.6702079843333787,
          -1.8669920709525916,
          1.6318644734155594,
          1.4480641743665572,
          -0.20584286234038407,
          -0.9651543766878872,
          0.054311253909850594,
          -0.8525930402703691,
          -1.0848566097036196,
          0.22715446781637538,
          0.3832666550905886,
          0.21245695028944037,
          -0.0031198053900515408,
          0.8915668414548645,
          -0.9312260659908879,
          -0.6972621137761454,
          -0.9925852130986549,
          0.010933605125837584,
          -2.577121073522515,
          -0.5332388082426226,
          1.398496525872,
          -0.8155572221629612,
          -0.9005129185664054,
          -0.6955619676939033,
          0.24028614247159708,
          -0.14105753079894373,
          -0.6162582023375035,
          0.7117930742373001,
          -1.0493646331333701,
          0.7263194289302121,
          -0.9236975218766958,
          0.8101185177578193,
          1.2922900513898754,
          1.99699676194669,
          -0.6266941891218982,
          -0.6196112352306313,
          1.4954683268115523,
          -2.9005331410172115,
          -0.6144254979438556,
          0.3615184842676474,
          0.13442250363981223,
          0.22447929683610798,
          -0.011270422105252743,
          -0.14111226614689665,
          -0.5318804901994556,
          0.6493074858815254,
          -0.2738880128999982,
          0.9555595386204824,
          0.7301709692563028,
          -1.4019249307583348,
          -0.0068608240191281806,
          -0.471556716044861,
          -0.1636207573841797,
          -0.9752489923344956,
          0.669055675451341,
          -0.9661397959251155,
          -1.5034110492253536,
          -0.3084302353121149,
          -1.4552573990374573,
          -0.37808603369362415,
          -0.5446990641153069,
          -1.0328897660107783,
          -0.8372577968906745,
          -0.7355106232037772,
          -1.3968647200753481,
          0.11921688487375993,
          0.23800858493954524,
          -0.29667185768549426,
          0.045883212163534935,
          0.5890039282286894,
          -1.515246249470787,
          -0.1037424743255574,
          0.07342647048913974,
          -0.3282544929060498,
          -0.24513863167968586,
          -1.3103895947774227,
          -0.60110734404662,
          -0.5850987673040257,
          1.176709146660171,
          -0.02325427275882479
         ]
        },
        {
         "boxpoints": false,
         "line": {
          "width": 1.3
         },
         "marker": {
          "color": "rgba(55, 128, 191, 1.0)"
         },
         "name": "B",
         "orientation": "v",
         "type": "box",
         "y": [
          -2.0656920513651267,
          -1.7381898395197724,
          0.5749599646022417,
          -0.20398456935783446,
          -0.4464639680231975,
          0.004383762977137288,
          1.9272186733110637,
          -0.22658980720241415,
          0.21319561532434866,
          1.5343976664498042,
          -1.7943920159076656,
          -0.31464543291905195,
          -0.8012811797214887,
          1.4806559714007235,
          -0.4525548517573186,
          0.8822175236625406,
          -0.6555046997736079,
          0.5534536525657692,
          2.5421760186772,
          -1.6020691181124989,
          -1.30636280422524,
          -1.6922777152443158,
          -0.43175033360126613,
          1.3397945250406764,
          1.624479377795292,
          0.3372467612579277,
          -0.7424600919093032,
          1.3006818267114464,
          1.4148160695972485,
          0.6663625542733729,
          0.5732067675544568,
          0.3051087364651881,
          -1.4396219914247679,
          -0.7734455403957947,
          -0.02599984732944654,
          -1.0276684058819194,
          0.22756933882402786,
          0.7164414805356631,
          -0.010551172850629087,
          0.7465062931883728,
          -0.15654287357337096,
          1.285174065039588,
          -0.20984792674432232,
          0.3483310438811358,
          -0.10533457004704003,
          -1.3834922346350678,
          1.0968266309403547,
          -0.25116973554735844,
          -0.6065382611435444,
          -1.0337927095418653,
          -0.21471649762200568,
          -0.6424738047013894,
          2.1808737180863007,
          -0.367996144391834,
          0.9167509740226216,
          -0.827535652526785,
          -0.8818030769631394,
          -0.9906853057636372,
          -0.8822721779505264,
          2.0782433585144706,
          2.0282557218946855,
          -0.8954929220192098,
          1.7866615436252993,
          -0.08049020901035116,
          -0.45378394604250133,
          0.5459523374270943,
          1.7197030126869044,
          0.3824670655552625,
          -0.957018082500895,
          -0.522255715100206,
          0.5221185782393967,
          -0.37485757127874875,
          -0.5566617662959691,
          -0.8123709478860014,
          0.29366965851694743,
          -0.0850413846996384,
          -0.04473175295591152,
          -0.37788189763614555,
          -0.6566266748681084,
          1.3646960859938941,
          -0.18554222363097056,
          1.2608857606412667,
          -0.5525218583285384,
          0.7235470324663364,
          1.5772106695463057,
          -1.1557689600287397,
          -0.5223993511642664,
          -0.6891779022249445,
          -1.1183442365618064,
          0.0995055407471527,
          0.2915282805930497,
          0.38447901373397075,
          0.24560328724944816,
          0.21860553849762943,
          1.1690011631045691,
          0.4694483908290291,
          1.2466428891069556,
          0.5636822430556009,
          -0.5317643553625623,
          -1.7177776755893035
         ]
        },
        {
         "boxpoints": false,
         "line": {
          "width": 1.3
         },
         "marker": {
          "color": "rgba(50, 171, 96, 1.0)"
         },
         "name": "C",
         "orientation": "v",
         "type": "box",
         "y": [
          0.6595021923181175,
          -0.5783070347707022,
          -0.6167450929244684,
          0.6785052337884592,
          -0.0537021258004026,
          0.6844909416086591,
          -0.18202239344023416,
          0.16059726743056113,
          1.1057560827815023,
          0.6937183718079736,
          -0.5677501005004965,
          -1.2698249297322135,
          -1.0453653572627788,
          -0.2752238152112225,
          0.599149966850073,
          -0.10561929569785838,
          -2.32948808935334,
          -0.050014189480767406,
          0.5655517884300509,
          -0.9969010042440927,
          -0.10789467569861652,
          0.9908004400651876,
          0.27996149758972316,
          0.6087930041886269,
          0.3059871053475049,
          -0.11908947801875125,
          -0.3949278062220429,
          -0.2741828162559288,
          0.9870603445699812,
          1.3084442673116796,
          -1.020498757223305,
          -0.31116977960648384,
          0.18320880737188247,
          0.10460168508566524,
          -0.03289927612032592,
          -0.4656571886386562,
          -0.20620493018946937,
          -0.4281868686071399,
          -2.6689938986132096,
          0.45514349875098414,
          -0.6212463640702294,
          0.5831841894589714,
          0.5852205496425055,
          2.400692030967597,
          -0.26899485888276087,
          -1.3791119906082248,
          -1.248760478694921,
          1.4324887785340203,
          1.360037936169888,
          1.2782070543556088,
          -2.161249593821316,
          0.4927835835384399,
          -0.2263644306862405,
          -0.9782219874032975,
          -1.129215959881081,
          0.17972587891994685,
          -1.000132199370155,
          0.23374535434834273,
          0.8509302256371687,
          -0.10736088207705284,
          1.5780294409456168,
          1.1308703007729861,
          1.4765035524976244,
          1.4678872406042236,
          -1.6362286502889818,
          -2.1958433206809205,
          -1.2822335424956295,
          1.151059728054402,
          0.14265182618845473,
          -1.9177578724728785,
          2.7110333194037977,
          -0.39421858021715067,
          -0.8085310155004868,
          1.1830853738087017,
          0.09056524618334044,
          0.44209458750295416,
          1.1098381602092515,
          -0.8289891861411594,
          0.4471927666338585,
          -0.5037325719218807,
          1.4289074057151878,
          0.10728670395645366,
          0.12013752595177965,
          -1.4060180329486949,
          -0.8349815548330584,
          0.7184318948486428,
          2.171625814531254,
          -1.383440398083464,
          0.3667674241799676,
          -0.8414027681288679,
          -0.4585500807325058,
          -0.8345082027874404,
          -1.4035370739640114,
          1.1672954028055194,
          -0.8219949236976485,
          -0.05552025086368601,
          0.8620171483231306,
          0.6003316543488698,
          -0.4348256141123288,
          -0.04170140419105686
         ]
        },
        {
         "boxpoints": false,
         "line": {
          "width": 1.3
         },
         "marker": {
          "color": "rgba(128, 0, 128, 1.0)"
         },
         "name": "D",
         "orientation": "v",
         "type": "box",
         "y": [
          -0.9099823299189153,
          -1.4850533931447016,
          1.505972905283029,
          -1.0880214183536931,
          0.7683199313566231,
          -1.2072230866641296,
          0.029570986567331512,
          0.2032874010386068,
          -0.6503073995045521,
          -0.8280119944150713,
          0.25744382167433455,
          -0.41026963896684815,
          -0.14004432172252537,
          -0.09969290473759498,
          -0.4331452987016869,
          -1.8199085850062915,
          -0.26101317822779735,
          0.5263044795278107,
          0.21429498108040837,
          -1.4182252587011008,
          -1.4847027180828372,
          -1.9371877336072865,
          -0.8692799923789267,
          1.4273277305169767,
          1.7080184023236045,
          0.2684382224460977,
          0.054860024434420854,
          0.5181175691504669,
          0.3948938804432635,
          0.4752005589404257,
          0.30054174347583273,
          0.08342157512666086,
          -1.036498513774222,
          0.7258880000017822,
          1.7200116623596435,
          -0.3256333025382036,
          0.8107199545274077,
          0.18273157414119798,
          0.6819973447689638,
          0.8382263610424948,
          -0.002235620447868982,
          1.4329464647663768,
          -1.3355958068306728,
          -1.420488522801301,
          -0.14703708334707635,
          0.4184993051045839,
          0.6788320890725258,
          -1.7529060799565086,
          -0.01085125988732143,
          -1.5694845302600313,
          0.831665304542008,
          3.2029322343206075,
          -0.5526852403337608,
          0.9282607279481148,
          -1.258672148574228,
          0.22699679500288145,
          1.6277667244834413,
          0.2712547867281198,
          -0.8909417572249967,
          -0.47194127085596976,
          0.015102007372569747,
          0.869859178827262,
          0.12252600711332595,
          -0.4761431223243524,
          0.9487193062297217,
          0.9668343955984309,
          0.7710991139741503,
          -2.881594522257074,
          -0.6593641625209062,
          -0.6873525421360881,
          1.0431420542130063,
          -0.454982022242669,
          -0.30597432623563203,
          -1.191466660876326,
          0.34973970267450755,
          -0.6278767309568892,
          -0.3311313340023319,
          0.48981759985300954,
          -0.678273842961238,
          -2.9714777192328006,
          1.4880933302574844,
          -0.27050269557177264,
          -0.5659842576075041,
          0.43119297026014386,
          -0.0156238294691469,
          -0.6896490196013013,
          -0.870757654801849,
          -0.9627572594252957,
          -0.07879545237154305,
          -1.8342635143451822,
          1.360327185505662,
          -0.33154590625197267,
          -0.004649553679814088,
          1.5753032430101714,
          0.7550385256790704,
          0.2979539216882113,
          0.19867657095796756,
          -0.8953987160561826,
          0.4964043108307362,
          2.105453789711414
         ]
        }
       ],
       "layout": {
        "legend": {
         "bgcolor": "#F5F6F9",
         "font": {
          "color": "#4D5663"
         }
        },
        "paper_bgcolor": "#F5F6F9",
        "plot_bgcolor": "#F5F6F9",
        "template": {
         "data": {
          "bar": [
           {
            "error_x": {
             "color": "#2a3f5f"
            },
            "error_y": {
             "color": "#2a3f5f"
            },
            "marker": {
             "line": {
              "color": "#E5ECF6",
              "width": 0.5
             }
            },
            "type": "bar"
           }
          ],
          "barpolar": [
           {
            "marker": {
             "line": {
              "color": "#E5ECF6",
              "width": 0.5
             }
            },
            "type": "barpolar"
           }
          ],
          "carpet": [
           {
            "aaxis": {
             "endlinecolor": "#2a3f5f",
             "gridcolor": "white",
             "linecolor": "white",
             "minorgridcolor": "white",
             "startlinecolor": "#2a3f5f"
            },
            "baxis": {
             "endlinecolor": "#2a3f5f",
             "gridcolor": "white",
             "linecolor": "white",
             "minorgridcolor": "white",
             "startlinecolor": "#2a3f5f"
            },
            "type": "carpet"
           }
          ],
          "choropleth": [
           {
            "colorbar": {
             "outlinewidth": 0,
             "ticks": ""
            },
            "type": "choropleth"
           }
          ],
          "contour": [
           {
            "colorbar": {
             "outlinewidth": 0,
             "ticks": ""
            },
            "colorscale": [
             [
              0,
              "#0d0887"
             ],
             [
              0.1111111111111111,
              "#46039f"
             ],
             [
              0.2222222222222222,
              "#7201a8"
             ],
             [
              0.3333333333333333,
              "#9c179e"
             ],
             [
              0.4444444444444444,
              "#bd3786"
             ],
             [
              0.5555555555555556,
              "#d8576b"
             ],
             [
              0.6666666666666666,
              "#ed7953"
             ],
             [
              0.7777777777777778,
              "#fb9f3a"
             ],
             [
              0.8888888888888888,
              "#fdca26"
             ],
             [
              1,
              "#f0f921"
             ]
            ],
            "type": "contour"
           }
          ],
          "contourcarpet": [
           {
            "colorbar": {
             "outlinewidth": 0,
             "ticks": ""
            },
            "type": "contourcarpet"
           }
          ],
          "heatmap": [
           {
            "colorbar": {
             "outlinewidth": 0,
             "ticks": ""
            },
            "colorscale": [
             [
              0,
              "#0d0887"
             ],
             [
              0.1111111111111111,
              "#46039f"
             ],
             [
              0.2222222222222222,
              "#7201a8"
             ],
             [
              0.3333333333333333,
              "#9c179e"
             ],
             [
              0.4444444444444444,
              "#bd3786"
             ],
             [
              0.5555555555555556,
              "#d8576b"
             ],
             [
              0.6666666666666666,
              "#ed7953"
             ],
             [
              0.7777777777777778,
              "#fb9f3a"
             ],
             [
              0.8888888888888888,
              "#fdca26"
             ],
             [
              1,
              "#f0f921"
             ]
            ],
            "type": "heatmap"
           }
          ],
          "heatmapgl": [
           {
            "colorbar": {
             "outlinewidth": 0,
             "ticks": ""
            },
            "colorscale": [
             [
              0,
              "#0d0887"
             ],
             [
              0.1111111111111111,
              "#46039f"
             ],
             [
              0.2222222222222222,
              "#7201a8"
             ],
             [
              0.3333333333333333,
              "#9c179e"
             ],
             [
              0.4444444444444444,
              "#bd3786"
             ],
             [
              0.5555555555555556,
              "#d8576b"
             ],
             [
              0.6666666666666666,
              "#ed7953"
             ],
             [
              0.7777777777777778,
              "#fb9f3a"
             ],
             [
              0.8888888888888888,
              "#fdca26"
             ],
             [
              1,
              "#f0f921"
             ]
            ],
            "type": "heatmapgl"
           }
          ],
          "histogram": [
           {
            "marker": {
             "colorbar": {
              "outlinewidth": 0,
              "ticks": ""
             }
            },
            "type": "histogram"
           }
          ],
          "histogram2d": [
           {
            "colorbar": {
             "outlinewidth": 0,
             "ticks": ""
            },
            "colorscale": [
             [
              0,
              "#0d0887"
             ],
             [
              0.1111111111111111,
              "#46039f"
             ],
             [
              0.2222222222222222,
              "#7201a8"
             ],
             [
              0.3333333333333333,
              "#9c179e"
             ],
             [
              0.4444444444444444,
              "#bd3786"
             ],
             [
              0.5555555555555556,
              "#d8576b"
             ],
             [
              0.6666666666666666,
              "#ed7953"
             ],
             [
              0.7777777777777778,
              "#fb9f3a"
             ],
             [
              0.8888888888888888,
              "#fdca26"
             ],
             [
              1,
              "#f0f921"
             ]
            ],
            "type": "histogram2d"
           }
          ],
          "histogram2dcontour": [
           {
            "colorbar": {
             "outlinewidth": 0,
             "ticks": ""
            },
            "colorscale": [
             [
              0,
              "#0d0887"
             ],
             [
              0.1111111111111111,
              "#46039f"
             ],
             [
              0.2222222222222222,
              "#7201a8"
             ],
             [
              0.3333333333333333,
              "#9c179e"
             ],
             [
              0.4444444444444444,
              "#bd3786"
             ],
             [
              0.5555555555555556,
              "#d8576b"
             ],
             [
              0.6666666666666666,
              "#ed7953"
             ],
             [
              0.7777777777777778,
              "#fb9f3a"
             ],
             [
              0.8888888888888888,
              "#fdca26"
             ],
             [
              1,
              "#f0f921"
             ]
            ],
            "type": "histogram2dcontour"
           }
          ],
          "mesh3d": [
           {
            "colorbar": {
             "outlinewidth": 0,
             "ticks": ""
            },
            "type": "mesh3d"
           }
          ],
          "parcoords": [
           {
            "line": {
             "colorbar": {
              "outlinewidth": 0,
              "ticks": ""
             }
            },
            "type": "parcoords"
           }
          ],
          "pie": [
           {
            "automargin": true,
            "type": "pie"
           }
          ],
          "scatter": [
           {
            "marker": {
             "colorbar": {
              "outlinewidth": 0,
              "ticks": ""
             }
            },
            "type": "scatter"
           }
          ],
          "scatter3d": [
           {
            "line": {
             "colorbar": {
              "outlinewidth": 0,
              "ticks": ""
             }
            },
            "marker": {
             "colorbar": {
              "outlinewidth": 0,
              "ticks": ""
             }
            },
            "type": "scatter3d"
           }
          ],
          "scattercarpet": [
           {
            "marker": {
             "colorbar": {
              "outlinewidth": 0,
              "ticks": ""
             }
            },
            "type": "scattercarpet"
           }
          ],
          "scattergeo": [
           {
            "marker": {
             "colorbar": {
              "outlinewidth": 0,
              "ticks": ""
             }
            },
            "type": "scattergeo"
           }
          ],
          "scattergl": [
           {
            "marker": {
             "colorbar": {
              "outlinewidth": 0,
              "ticks": ""
             }
            },
            "type": "scattergl"
           }
          ],
          "scattermapbox": [
           {
            "marker": {
             "colorbar": {
              "outlinewidth": 0,
              "ticks": ""
             }
            },
            "type": "scattermapbox"
           }
          ],
          "scatterpolar": [
           {
            "marker": {
             "colorbar": {
              "outlinewidth": 0,
              "ticks": ""
             }
            },
            "type": "scatterpolar"
           }
          ],
          "scatterpolargl": [
           {
            "marker": {
             "colorbar": {
              "outlinewidth": 0,
              "ticks": ""
             }
            },
            "type": "scatterpolargl"
           }
          ],
          "scatterternary": [
           {
            "marker": {
             "colorbar": {
              "outlinewidth": 0,
              "ticks": ""
             }
            },
            "type": "scatterternary"
           }
          ],
          "surface": [
           {
            "colorbar": {
             "outlinewidth": 0,
             "ticks": ""
            },
            "colorscale": [
             [
              0,
              "#0d0887"
             ],
             [
              0.1111111111111111,
              "#46039f"
             ],
             [
              0.2222222222222222,
              "#7201a8"
             ],
             [
              0.3333333333333333,
              "#9c179e"
             ],
             [
              0.4444444444444444,
              "#bd3786"
             ],
             [
              0.5555555555555556,
              "#d8576b"
             ],
             [
              0.6666666666666666,
              "#ed7953"
             ],
             [
              0.7777777777777778,
              "#fb9f3a"
             ],
             [
              0.8888888888888888,
              "#fdca26"
             ],
             [
              1,
              "#f0f921"
             ]
            ],
            "type": "surface"
           }
          ],
          "table": [
           {
            "cells": {
             "fill": {
              "color": "#EBF0F8"
             },
             "line": {
              "color": "white"
             }
            },
            "header": {
             "fill": {
              "color": "#C8D4E3"
             },
             "line": {
              "color": "white"
             }
            },
            "type": "table"
           }
          ]
         },
         "layout": {
          "annotationdefaults": {
           "arrowcolor": "#2a3f5f",
           "arrowhead": 0,
           "arrowwidth": 1
          },
          "coloraxis": {
           "colorbar": {
            "outlinewidth": 0,
            "ticks": ""
           }
          },
          "colorscale": {
           "diverging": [
            [
             0,
             "#8e0152"
            ],
            [
             0.1,
             "#c51b7d"
            ],
            [
             0.2,
             "#de77ae"
            ],
            [
             0.3,
             "#f1b6da"
            ],
            [
             0.4,
             "#fde0ef"
            ],
            [
             0.5,
             "#f7f7f7"
            ],
            [
             0.6,
             "#e6f5d0"
            ],
            [
             0.7,
             "#b8e186"
            ],
            [
             0.8,
             "#7fbc41"
            ],
            [
             0.9,
             "#4d9221"
            ],
            [
             1,
             "#276419"
            ]
           ],
           "sequential": [
            [
             0,
             "#0d0887"
            ],
            [
             0.1111111111111111,
             "#46039f"
            ],
            [
             0.2222222222222222,
             "#7201a8"
            ],
            [
             0.3333333333333333,
             "#9c179e"
            ],
            [
             0.4444444444444444,
             "#bd3786"
            ],
            [
             0.5555555555555556,
             "#d8576b"
            ],
            [
             0.6666666666666666,
             "#ed7953"
            ],
            [
             0.7777777777777778,
             "#fb9f3a"
            ],
            [
             0.8888888888888888,
             "#fdca26"
            ],
            [
             1,
             "#f0f921"
            ]
           ],
           "sequentialminus": [
            [
             0,
             "#0d0887"
            ],
            [
             0.1111111111111111,
             "#46039f"
            ],
            [
             0.2222222222222222,
             "#7201a8"
            ],
            [
             0.3333333333333333,
             "#9c179e"
            ],
            [
             0.4444444444444444,
             "#bd3786"
            ],
            [
             0.5555555555555556,
             "#d8576b"
            ],
            [
             0.6666666666666666,
             "#ed7953"
            ],
            [
             0.7777777777777778,
             "#fb9f3a"
            ],
            [
             0.8888888888888888,
             "#fdca26"
            ],
            [
             1,
             "#f0f921"
            ]
           ]
          },
          "colorway": [
           "#636efa",
           "#EF553B",
           "#00cc96",
           "#ab63fa",
           "#FFA15A",
           "#19d3f3",
           "#FF6692",
           "#B6E880",
           "#FF97FF",
           "#FECB52"
          ],
          "font": {
           "color": "#2a3f5f"
          },
          "geo": {
           "bgcolor": "white",
           "lakecolor": "white",
           "landcolor": "#E5ECF6",
           "showlakes": true,
           "showland": true,
           "subunitcolor": "white"
          },
          "hoverlabel": {
           "align": "left"
          },
          "hovermode": "closest",
          "mapbox": {
           "style": "light"
          },
          "paper_bgcolor": "white",
          "plot_bgcolor": "#E5ECF6",
          "polar": {
           "angularaxis": {
            "gridcolor": "white",
            "linecolor": "white",
            "ticks": ""
           },
           "bgcolor": "#E5ECF6",
           "radialaxis": {
            "gridcolor": "white",
            "linecolor": "white",
            "ticks": ""
           }
          },
          "scene": {
           "xaxis": {
            "backgroundcolor": "#E5ECF6",
            "gridcolor": "white",
            "gridwidth": 2,
            "linecolor": "white",
            "showbackground": true,
            "ticks": "",
            "zerolinecolor": "white"
           },
           "yaxis": {
            "backgroundcolor": "#E5ECF6",
            "gridcolor": "white",
            "gridwidth": 2,
            "linecolor": "white",
            "showbackground": true,
            "ticks": "",
            "zerolinecolor": "white"
           },
           "zaxis": {
            "backgroundcolor": "#E5ECF6",
            "gridcolor": "white",
            "gridwidth": 2,
            "linecolor": "white",
            "showbackground": true,
            "ticks": "",
            "zerolinecolor": "white"
           }
          },
          "shapedefaults": {
           "line": {
            "color": "#2a3f5f"
           }
          },
          "ternary": {
           "aaxis": {
            "gridcolor": "white",
            "linecolor": "white",
            "ticks": ""
           },
           "baxis": {
            "gridcolor": "white",
            "linecolor": "white",
            "ticks": ""
           },
           "bgcolor": "#E5ECF6",
           "caxis": {
            "gridcolor": "white",
            "linecolor": "white",
            "ticks": ""
           }
          },
          "title": {
           "x": 0.05
          },
          "xaxis": {
           "automargin": true,
           "gridcolor": "white",
           "linecolor": "white",
           "ticks": "",
           "title": {
            "standoff": 15
           },
           "zerolinecolor": "white",
           "zerolinewidth": 2
          },
          "yaxis": {
           "automargin": true,
           "gridcolor": "white",
           "linecolor": "white",
           "ticks": "",
           "title": {
            "standoff": 15
           },
           "zerolinecolor": "white",
           "zerolinewidth": 2
          }
         }
        },
        "title": {
         "font": {
          "color": "#4D5663"
         }
        },
        "xaxis": {
         "gridcolor": "#E1E5ED",
         "showgrid": true,
         "tickfont": {
          "color": "#4D5663"
         },
         "title": {
          "font": {
           "color": "#4D5663"
          },
          "text": ""
         },
         "zerolinecolor": "#E1E5ED"
        },
        "yaxis": {
         "gridcolor": "#E1E5ED",
         "showgrid": true,
         "tickfont": {
          "color": "#4D5663"
         },
         "title": {
          "font": {
           "color": "#4D5663"
          },
          "text": ""
         },
         "zerolinecolor": "#E1E5ED"
        }
       }
      },
      "text/html": [
       "<div>\n",
       "        \n",
       "        \n",
       "            <div id=\"c7e9a241-d2dc-4d78-8de9-816adde098aa\" class=\"plotly-graph-div\" style=\"height:525px; width:100%;\"></div>\n",
       "            <script type=\"text/javascript\">\n",
       "                require([\"plotly\"], function(Plotly) {\n",
       "                    window.PLOTLYENV=window.PLOTLYENV || {};\n",
       "                    window.PLOTLYENV.BASE_URL='https://plot.ly';\n",
       "                    \n",
       "                if (document.getElementById(\"c7e9a241-d2dc-4d78-8de9-816adde098aa\")) {\n",
       "                    Plotly.newPlot(\n",
       "                        'c7e9a241-d2dc-4d78-8de9-816adde098aa',\n",
       "                        [{\"boxpoints\": false, \"line\": {\"width\": 1.3}, \"marker\": {\"color\": \"rgba(255, 153, 51, 1.0)\"}, \"name\": \"A\", \"orientation\": \"v\", \"type\": \"box\", \"y\": [0.14612668346810087, -0.5150643958091404, 0.993048156143555, 1.5527565611998224, 1.102283947004991, -2.4771102825000293, 0.48535271977394, -5.997120287646958e-05, 0.2728979161787896, 0.14241623947301038, -1.7220839857720651, 0.30479168294651615, 0.1707684250962974, 0.6284887755043934, -0.7850037217749689, -1.1402548447102723, -1.212921005329053, 1.6666125120797235, -0.09525429818572638, 0.9108399395049533, -0.6702079843333787, -1.8669920709525916, 1.6318644734155594, 1.4480641743665572, -0.20584286234038407, -0.9651543766878872, 0.054311253909850594, -0.8525930402703691, -1.0848566097036196, 0.22715446781637538, 0.3832666550905886, 0.21245695028944037, -0.0031198053900515408, 0.8915668414548645, -0.9312260659908879, -0.6972621137761454, -0.9925852130986549, 0.010933605125837584, -2.577121073522515, -0.5332388082426226, 1.398496525872, -0.8155572221629612, -0.9005129185664054, -0.6955619676939033, 0.24028614247159708, -0.14105753079894373, -0.6162582023375035, 0.7117930742373001, -1.0493646331333701, 0.7263194289302121, -0.9236975218766958, 0.8101185177578193, 1.2922900513898754, 1.99699676194669, -0.6266941891218982, -0.6196112352306313, 1.4954683268115523, -2.9005331410172115, -0.6144254979438556, 0.3615184842676474, 0.13442250363981223, 0.22447929683610798, -0.011270422105252743, -0.14111226614689665, -0.5318804901994556, 0.6493074858815254, -0.2738880128999982, 0.9555595386204824, 0.7301709692563028, -1.4019249307583348, -0.0068608240191281806, -0.471556716044861, -0.1636207573841797, -0.9752489923344956, 0.669055675451341, -0.9661397959251155, -1.5034110492253536, -0.3084302353121149, -1.4552573990374573, -0.37808603369362415, -0.5446990641153069, -1.0328897660107783, -0.8372577968906745, -0.7355106232037772, -1.3968647200753481, 0.11921688487375993, 0.23800858493954524, -0.29667185768549426, 0.045883212163534935, 0.5890039282286894, -1.515246249470787, -0.1037424743255574, 0.07342647048913974, -0.3282544929060498, -0.24513863167968586, -1.3103895947774227, -0.60110734404662, -0.5850987673040257, 1.176709146660171, -0.02325427275882479]}, {\"boxpoints\": false, \"line\": {\"width\": 1.3}, \"marker\": {\"color\": \"rgba(55, 128, 191, 1.0)\"}, \"name\": \"B\", \"orientation\": \"v\", \"type\": \"box\", \"y\": [-2.0656920513651267, -1.7381898395197724, 0.5749599646022417, -0.20398456935783446, -0.4464639680231975, 0.004383762977137288, 1.9272186733110637, -0.22658980720241415, 0.21319561532434866, 1.5343976664498042, -1.7943920159076656, -0.31464543291905195, -0.8012811797214887, 1.4806559714007235, -0.4525548517573186, 0.8822175236625406, -0.6555046997736079, 0.5534536525657692, 2.5421760186772, -1.6020691181124989, -1.30636280422524, -1.6922777152443158, -0.43175033360126613, 1.3397945250406764, 1.624479377795292, 0.3372467612579277, -0.7424600919093032, 1.3006818267114464, 1.4148160695972485, 0.6663625542733729, 0.5732067675544568, 0.3051087364651881, -1.4396219914247679, -0.7734455403957947, -0.02599984732944654, -1.0276684058819194, 0.22756933882402786, 0.7164414805356631, -0.010551172850629087, 0.7465062931883728, -0.15654287357337096, 1.285174065039588, -0.20984792674432232, 0.3483310438811358, -0.10533457004704003, -1.3834922346350678, 1.0968266309403547, -0.25116973554735844, -0.6065382611435444, -1.0337927095418653, -0.21471649762200568, -0.6424738047013894, 2.1808737180863007, -0.367996144391834, 0.9167509740226216, -0.827535652526785, -0.8818030769631394, -0.9906853057636372, -0.8822721779505264, 2.0782433585144706, 2.0282557218946855, -0.8954929220192098, 1.7866615436252993, -0.08049020901035116, -0.45378394604250133, 0.5459523374270943, 1.7197030126869044, 0.3824670655552625, -0.957018082500895, -0.522255715100206, 0.5221185782393967, -0.37485757127874875, -0.5566617662959691, -0.8123709478860014, 0.29366965851694743, -0.0850413846996384, -0.04473175295591152, -0.37788189763614555, -0.6566266748681084, 1.3646960859938941, -0.18554222363097056, 1.2608857606412667, -0.5525218583285384, 0.7235470324663364, 1.5772106695463057, -1.1557689600287397, -0.5223993511642664, -0.6891779022249445, -1.1183442365618064, 0.0995055407471527, 0.2915282805930497, 0.38447901373397075, 0.24560328724944816, 0.21860553849762943, 1.1690011631045691, 0.4694483908290291, 1.2466428891069556, 0.5636822430556009, -0.5317643553625623, -1.7177776755893035]}, {\"boxpoints\": false, \"line\": {\"width\": 1.3}, \"marker\": {\"color\": \"rgba(50, 171, 96, 1.0)\"}, \"name\": \"C\", \"orientation\": \"v\", \"type\": \"box\", \"y\": [0.6595021923181175, -0.5783070347707022, -0.6167450929244684, 0.6785052337884592, -0.0537021258004026, 0.6844909416086591, -0.18202239344023416, 0.16059726743056113, 1.1057560827815023, 0.6937183718079736, -0.5677501005004965, -1.2698249297322135, -1.0453653572627788, -0.2752238152112225, 0.599149966850073, -0.10561929569785838, -2.32948808935334, -0.050014189480767406, 0.5655517884300509, -0.9969010042440927, -0.10789467569861652, 0.9908004400651876, 0.27996149758972316, 0.6087930041886269, 0.3059871053475049, -0.11908947801875125, -0.3949278062220429, -0.2741828162559288, 0.9870603445699812, 1.3084442673116796, -1.020498757223305, -0.31116977960648384, 0.18320880737188247, 0.10460168508566524, -0.03289927612032592, -0.4656571886386562, -0.20620493018946937, -0.4281868686071399, -2.6689938986132096, 0.45514349875098414, -0.6212463640702294, 0.5831841894589714, 0.5852205496425055, 2.400692030967597, -0.26899485888276087, -1.3791119906082248, -1.248760478694921, 1.4324887785340203, 1.360037936169888, 1.2782070543556088, -2.161249593821316, 0.4927835835384399, -0.2263644306862405, -0.9782219874032975, -1.129215959881081, 0.17972587891994685, -1.000132199370155, 0.23374535434834273, 0.8509302256371687, -0.10736088207705284, 1.5780294409456168, 1.1308703007729861, 1.4765035524976244, 1.4678872406042236, -1.6362286502889818, -2.1958433206809205, -1.2822335424956295, 1.151059728054402, 0.14265182618845473, -1.9177578724728785, 2.7110333194037977, -0.39421858021715067, -0.8085310155004868, 1.1830853738087017, 0.09056524618334044, 0.44209458750295416, 1.1098381602092515, -0.8289891861411594, 0.4471927666338585, -0.5037325719218807, 1.4289074057151878, 0.10728670395645366, 0.12013752595177965, -1.4060180329486949, -0.8349815548330584, 0.7184318948486428, 2.171625814531254, -1.383440398083464, 0.3667674241799676, -0.8414027681288679, -0.4585500807325058, -0.8345082027874404, -1.4035370739640114, 1.1672954028055194, -0.8219949236976485, -0.05552025086368601, 0.8620171483231306, 0.6003316543488698, -0.4348256141123288, -0.04170140419105686]}, {\"boxpoints\": false, \"line\": {\"width\": 1.3}, \"marker\": {\"color\": \"rgba(128, 0, 128, 1.0)\"}, \"name\": \"D\", \"orientation\": \"v\", \"type\": \"box\", \"y\": [-0.9099823299189153, -1.4850533931447016, 1.505972905283029, -1.0880214183536931, 0.7683199313566231, -1.2072230866641296, 0.029570986567331512, 0.2032874010386068, -0.6503073995045521, -0.8280119944150713, 0.25744382167433455, -0.41026963896684815, -0.14004432172252537, -0.09969290473759498, -0.4331452987016869, -1.8199085850062915, -0.26101317822779735, 0.5263044795278107, 0.21429498108040837, -1.4182252587011008, -1.4847027180828372, -1.9371877336072865, -0.8692799923789267, 1.4273277305169767, 1.7080184023236045, 0.2684382224460977, 0.054860024434420854, 0.5181175691504669, 0.3948938804432635, 0.4752005589404257, 0.30054174347583273, 0.08342157512666086, -1.036498513774222, 0.7258880000017822, 1.7200116623596435, -0.3256333025382036, 0.8107199545274077, 0.18273157414119798, 0.6819973447689638, 0.8382263610424948, -0.002235620447868982, 1.4329464647663768, -1.3355958068306728, -1.420488522801301, -0.14703708334707635, 0.4184993051045839, 0.6788320890725258, -1.7529060799565086, -0.01085125988732143, -1.5694845302600313, 0.831665304542008, 3.2029322343206075, -0.5526852403337608, 0.9282607279481148, -1.258672148574228, 0.22699679500288145, 1.6277667244834413, 0.2712547867281198, -0.8909417572249967, -0.47194127085596976, 0.015102007372569747, 0.869859178827262, 0.12252600711332595, -0.4761431223243524, 0.9487193062297217, 0.9668343955984309, 0.7710991139741503, -2.881594522257074, -0.6593641625209062, -0.6873525421360881, 1.0431420542130063, -0.454982022242669, -0.30597432623563203, -1.191466660876326, 0.34973970267450755, -0.6278767309568892, -0.3311313340023319, 0.48981759985300954, -0.678273842961238, -2.9714777192328006, 1.4880933302574844, -0.27050269557177264, -0.5659842576075041, 0.43119297026014386, -0.0156238294691469, -0.6896490196013013, -0.870757654801849, -0.9627572594252957, -0.07879545237154305, -1.8342635143451822, 1.360327185505662, -0.33154590625197267, -0.004649553679814088, 1.5753032430101714, 0.7550385256790704, 0.2979539216882113, 0.19867657095796756, -0.8953987160561826, 0.4964043108307362, 2.105453789711414]}],\n",
       "                        {\"legend\": {\"bgcolor\": \"#F5F6F9\", \"font\": {\"color\": \"#4D5663\"}}, \"paper_bgcolor\": \"#F5F6F9\", \"plot_bgcolor\": \"#F5F6F9\", \"template\": {\"data\": {\"bar\": [{\"error_x\": {\"color\": \"#2a3f5f\"}, \"error_y\": {\"color\": \"#2a3f5f\"}, \"marker\": {\"line\": {\"color\": \"#E5ECF6\", \"width\": 0.5}}, \"type\": \"bar\"}], \"barpolar\": [{\"marker\": {\"line\": {\"color\": \"#E5ECF6\", \"width\": 0.5}}, \"type\": \"barpolar\"}], \"carpet\": [{\"aaxis\": {\"endlinecolor\": \"#2a3f5f\", \"gridcolor\": \"white\", \"linecolor\": \"white\", \"minorgridcolor\": \"white\", \"startlinecolor\": \"#2a3f5f\"}, \"baxis\": {\"endlinecolor\": \"#2a3f5f\", \"gridcolor\": \"white\", \"linecolor\": \"white\", \"minorgridcolor\": \"white\", \"startlinecolor\": \"#2a3f5f\"}, \"type\": \"carpet\"}], \"choropleth\": [{\"colorbar\": {\"outlinewidth\": 0, \"ticks\": \"\"}, \"type\": \"choropleth\"}], \"contour\": [{\"colorbar\": {\"outlinewidth\": 0, \"ticks\": \"\"}, \"colorscale\": [[0.0, \"#0d0887\"], [0.1111111111111111, \"#46039f\"], [0.2222222222222222, \"#7201a8\"], [0.3333333333333333, \"#9c179e\"], [0.4444444444444444, \"#bd3786\"], [0.5555555555555556, \"#d8576b\"], [0.6666666666666666, \"#ed7953\"], [0.7777777777777778, \"#fb9f3a\"], [0.8888888888888888, \"#fdca26\"], [1.0, \"#f0f921\"]], \"type\": \"contour\"}], \"contourcarpet\": [{\"colorbar\": {\"outlinewidth\": 0, \"ticks\": \"\"}, \"type\": \"contourcarpet\"}], \"heatmap\": [{\"colorbar\": {\"outlinewidth\": 0, \"ticks\": \"\"}, \"colorscale\": [[0.0, \"#0d0887\"], [0.1111111111111111, \"#46039f\"], [0.2222222222222222, \"#7201a8\"], [0.3333333333333333, \"#9c179e\"], [0.4444444444444444, \"#bd3786\"], [0.5555555555555556, \"#d8576b\"], [0.6666666666666666, \"#ed7953\"], [0.7777777777777778, \"#fb9f3a\"], [0.8888888888888888, \"#fdca26\"], [1.0, \"#f0f921\"]], \"type\": \"heatmap\"}], \"heatmapgl\": [{\"colorbar\": {\"outlinewidth\": 0, \"ticks\": \"\"}, \"colorscale\": [[0.0, \"#0d0887\"], [0.1111111111111111, \"#46039f\"], [0.2222222222222222, \"#7201a8\"], [0.3333333333333333, \"#9c179e\"], [0.4444444444444444, \"#bd3786\"], [0.5555555555555556, \"#d8576b\"], [0.6666666666666666, \"#ed7953\"], [0.7777777777777778, \"#fb9f3a\"], [0.8888888888888888, \"#fdca26\"], [1.0, \"#f0f921\"]], \"type\": \"heatmapgl\"}], \"histogram\": [{\"marker\": {\"colorbar\": {\"outlinewidth\": 0, \"ticks\": \"\"}}, \"type\": \"histogram\"}], \"histogram2d\": [{\"colorbar\": {\"outlinewidth\": 0, \"ticks\": \"\"}, \"colorscale\": [[0.0, \"#0d0887\"], [0.1111111111111111, \"#46039f\"], [0.2222222222222222, \"#7201a8\"], [0.3333333333333333, \"#9c179e\"], [0.4444444444444444, \"#bd3786\"], [0.5555555555555556, \"#d8576b\"], [0.6666666666666666, \"#ed7953\"], [0.7777777777777778, \"#fb9f3a\"], [0.8888888888888888, \"#fdca26\"], [1.0, \"#f0f921\"]], \"type\": \"histogram2d\"}], \"histogram2dcontour\": [{\"colorbar\": {\"outlinewidth\": 0, \"ticks\": \"\"}, \"colorscale\": [[0.0, \"#0d0887\"], [0.1111111111111111, \"#46039f\"], [0.2222222222222222, \"#7201a8\"], [0.3333333333333333, \"#9c179e\"], [0.4444444444444444, \"#bd3786\"], [0.5555555555555556, \"#d8576b\"], [0.6666666666666666, \"#ed7953\"], [0.7777777777777778, \"#fb9f3a\"], [0.8888888888888888, \"#fdca26\"], [1.0, \"#f0f921\"]], \"type\": \"histogram2dcontour\"}], \"mesh3d\": [{\"colorbar\": {\"outlinewidth\": 0, \"ticks\": \"\"}, \"type\": \"mesh3d\"}], \"parcoords\": [{\"line\": {\"colorbar\": {\"outlinewidth\": 0, \"ticks\": \"\"}}, \"type\": \"parcoords\"}], \"pie\": [{\"automargin\": true, \"type\": \"pie\"}], \"scatter\": [{\"marker\": {\"colorbar\": {\"outlinewidth\": 0, \"ticks\": \"\"}}, \"type\": \"scatter\"}], \"scatter3d\": [{\"line\": {\"colorbar\": {\"outlinewidth\": 0, \"ticks\": \"\"}}, \"marker\": {\"colorbar\": {\"outlinewidth\": 0, \"ticks\": \"\"}}, \"type\": \"scatter3d\"}], \"scattercarpet\": [{\"marker\": {\"colorbar\": {\"outlinewidth\": 0, \"ticks\": \"\"}}, \"type\": \"scattercarpet\"}], \"scattergeo\": [{\"marker\": {\"colorbar\": {\"outlinewidth\": 0, \"ticks\": \"\"}}, \"type\": \"scattergeo\"}], \"scattergl\": [{\"marker\": {\"colorbar\": {\"outlinewidth\": 0, \"ticks\": \"\"}}, \"type\": \"scattergl\"}], \"scattermapbox\": [{\"marker\": {\"colorbar\": {\"outlinewidth\": 0, \"ticks\": \"\"}}, \"type\": \"scattermapbox\"}], \"scatterpolar\": [{\"marker\": {\"colorbar\": {\"outlinewidth\": 0, \"ticks\": \"\"}}, \"type\": \"scatterpolar\"}], \"scatterpolargl\": [{\"marker\": {\"colorbar\": {\"outlinewidth\": 0, \"ticks\": \"\"}}, \"type\": \"scatterpolargl\"}], \"scatterternary\": [{\"marker\": {\"colorbar\": {\"outlinewidth\": 0, \"ticks\": \"\"}}, \"type\": \"scatterternary\"}], \"surface\": [{\"colorbar\": {\"outlinewidth\": 0, \"ticks\": \"\"}, \"colorscale\": [[0.0, \"#0d0887\"], [0.1111111111111111, \"#46039f\"], [0.2222222222222222, \"#7201a8\"], [0.3333333333333333, \"#9c179e\"], [0.4444444444444444, \"#bd3786\"], [0.5555555555555556, \"#d8576b\"], [0.6666666666666666, \"#ed7953\"], [0.7777777777777778, \"#fb9f3a\"], [0.8888888888888888, \"#fdca26\"], [1.0, \"#f0f921\"]], \"type\": \"surface\"}], \"table\": [{\"cells\": {\"fill\": {\"color\": \"#EBF0F8\"}, \"line\": {\"color\": \"white\"}}, \"header\": {\"fill\": {\"color\": \"#C8D4E3\"}, \"line\": {\"color\": \"white\"}}, \"type\": \"table\"}]}, \"layout\": {\"annotationdefaults\": {\"arrowcolor\": \"#2a3f5f\", \"arrowhead\": 0, \"arrowwidth\": 1}, \"coloraxis\": {\"colorbar\": {\"outlinewidth\": 0, \"ticks\": \"\"}}, \"colorscale\": {\"diverging\": [[0, \"#8e0152\"], [0.1, \"#c51b7d\"], [0.2, \"#de77ae\"], [0.3, \"#f1b6da\"], [0.4, \"#fde0ef\"], [0.5, \"#f7f7f7\"], [0.6, \"#e6f5d0\"], [0.7, \"#b8e186\"], [0.8, \"#7fbc41\"], [0.9, \"#4d9221\"], [1, \"#276419\"]], \"sequential\": [[0.0, \"#0d0887\"], [0.1111111111111111, \"#46039f\"], [0.2222222222222222, \"#7201a8\"], [0.3333333333333333, \"#9c179e\"], [0.4444444444444444, \"#bd3786\"], [0.5555555555555556, \"#d8576b\"], [0.6666666666666666, \"#ed7953\"], [0.7777777777777778, \"#fb9f3a\"], [0.8888888888888888, \"#fdca26\"], [1.0, \"#f0f921\"]], \"sequentialminus\": [[0.0, \"#0d0887\"], [0.1111111111111111, \"#46039f\"], [0.2222222222222222, \"#7201a8\"], [0.3333333333333333, \"#9c179e\"], [0.4444444444444444, \"#bd3786\"], [0.5555555555555556, \"#d8576b\"], [0.6666666666666666, \"#ed7953\"], [0.7777777777777778, \"#fb9f3a\"], [0.8888888888888888, \"#fdca26\"], [1.0, \"#f0f921\"]]}, \"colorway\": [\"#636efa\", \"#EF553B\", \"#00cc96\", \"#ab63fa\", \"#FFA15A\", \"#19d3f3\", \"#FF6692\", \"#B6E880\", \"#FF97FF\", \"#FECB52\"], \"font\": {\"color\": \"#2a3f5f\"}, \"geo\": {\"bgcolor\": \"white\", \"lakecolor\": \"white\", \"landcolor\": \"#E5ECF6\", \"showlakes\": true, \"showland\": true, \"subunitcolor\": \"white\"}, \"hoverlabel\": {\"align\": \"left\"}, \"hovermode\": \"closest\", \"mapbox\": {\"style\": \"light\"}, \"paper_bgcolor\": \"white\", \"plot_bgcolor\": \"#E5ECF6\", \"polar\": {\"angularaxis\": {\"gridcolor\": \"white\", \"linecolor\": \"white\", \"ticks\": \"\"}, \"bgcolor\": \"#E5ECF6\", \"radialaxis\": {\"gridcolor\": \"white\", \"linecolor\": \"white\", \"ticks\": \"\"}}, \"scene\": {\"xaxis\": {\"backgroundcolor\": \"#E5ECF6\", \"gridcolor\": \"white\", \"gridwidth\": 2, \"linecolor\": \"white\", \"showbackground\": true, \"ticks\": \"\", \"zerolinecolor\": \"white\"}, \"yaxis\": {\"backgroundcolor\": \"#E5ECF6\", \"gridcolor\": \"white\", \"gridwidth\": 2, \"linecolor\": \"white\", \"showbackground\": true, \"ticks\": \"\", \"zerolinecolor\": \"white\"}, \"zaxis\": {\"backgroundcolor\": \"#E5ECF6\", \"gridcolor\": \"white\", \"gridwidth\": 2, \"linecolor\": \"white\", \"showbackground\": true, \"ticks\": \"\", \"zerolinecolor\": \"white\"}}, \"shapedefaults\": {\"line\": {\"color\": \"#2a3f5f\"}}, \"ternary\": {\"aaxis\": {\"gridcolor\": \"white\", \"linecolor\": \"white\", \"ticks\": \"\"}, \"baxis\": {\"gridcolor\": \"white\", \"linecolor\": \"white\", \"ticks\": \"\"}, \"bgcolor\": \"#E5ECF6\", \"caxis\": {\"gridcolor\": \"white\", \"linecolor\": \"white\", \"ticks\": \"\"}}, \"title\": {\"x\": 0.05}, \"xaxis\": {\"automargin\": true, \"gridcolor\": \"white\", \"linecolor\": \"white\", \"ticks\": \"\", \"title\": {\"standoff\": 15}, \"zerolinecolor\": \"white\", \"zerolinewidth\": 2}, \"yaxis\": {\"automargin\": true, \"gridcolor\": \"white\", \"linecolor\": \"white\", \"ticks\": \"\", \"title\": {\"standoff\": 15}, \"zerolinecolor\": \"white\", \"zerolinewidth\": 2}}}, \"title\": {\"font\": {\"color\": \"#4D5663\"}}, \"xaxis\": {\"gridcolor\": \"#E1E5ED\", \"showgrid\": true, \"tickfont\": {\"color\": \"#4D5663\"}, \"title\": {\"font\": {\"color\": \"#4D5663\"}, \"text\": \"\"}, \"zerolinecolor\": \"#E1E5ED\"}, \"yaxis\": {\"gridcolor\": \"#E1E5ED\", \"showgrid\": true, \"tickfont\": {\"color\": \"#4D5663\"}, \"title\": {\"font\": {\"color\": \"#4D5663\"}, \"text\": \"\"}, \"zerolinecolor\": \"#E1E5ED\"}},\n",
       "                        {\"showLink\": true, \"linkText\": \"Export to plot.ly\", \"plotlyServerURL\": \"https://plot.ly\", \"responsive\": true}\n",
       "                    ).then(function(){\n",
       "                            \n",
       "var gd = document.getElementById('c7e9a241-d2dc-4d78-8de9-816adde098aa');\n",
       "var x = new MutationObserver(function (mutations, observer) {{\n",
       "        var display = window.getComputedStyle(gd).display;\n",
       "        if (!display || display === 'none') {{\n",
       "            console.log([gd, 'removed!']);\n",
       "            Plotly.purge(gd);\n",
       "            observer.disconnect();\n",
       "        }}\n",
       "}});\n",
       "\n",
       "// Listen for the removal of the full notebook cells\n",
       "var notebookContainer = gd.closest('#notebook-container');\n",
       "if (notebookContainer) {{\n",
       "    x.observe(notebookContainer, {childList: true});\n",
       "}}\n",
       "\n",
       "// Listen for the clearing of the current output cell\n",
       "var outputEl = gd.closest('.output');\n",
       "if (outputEl) {{\n",
       "    x.observe(outputEl, {childList: true});\n",
       "}}\n",
       "\n",
       "                        })\n",
       "                };\n",
       "                });\n",
       "            </script>\n",
       "        </div>"
      ]
     },
     "metadata": {},
     "output_type": "display_data"
    }
   ],
   "source": [
    "df.iplot(kind='box')"
   ]
  },
  {
   "cell_type": "markdown",
   "metadata": {},
   "source": [
    "## 3d Surface"
   ]
  },
  {
   "cell_type": "code",
   "execution_count": 52,
   "metadata": {},
   "outputs": [],
   "source": [
    "df3 = pd.DataFrame({'x':[1,2,3,4,5],'y':[10,20,30,20,10],'z':[500,400,300,200,100]})\n"
   ]
  },
  {
   "cell_type": "code",
   "execution_count": 53,
   "metadata": {},
   "outputs": [
    {
     "data": {
      "text/html": [
       "<div>\n",
       "<style scoped>\n",
       "    .dataframe tbody tr th:only-of-type {\n",
       "        vertical-align: middle;\n",
       "    }\n",
       "\n",
       "    .dataframe tbody tr th {\n",
       "        vertical-align: top;\n",
       "    }\n",
       "\n",
       "    .dataframe thead th {\n",
       "        text-align: right;\n",
       "    }\n",
       "</style>\n",
       "<table border=\"1\" class=\"dataframe\">\n",
       "  <thead>\n",
       "    <tr style=\"text-align: right;\">\n",
       "      <th></th>\n",
       "      <th>x</th>\n",
       "      <th>y</th>\n",
       "      <th>z</th>\n",
       "    </tr>\n",
       "  </thead>\n",
       "  <tbody>\n",
       "    <tr>\n",
       "      <th>0</th>\n",
       "      <td>1</td>\n",
       "      <td>10</td>\n",
       "      <td>500</td>\n",
       "    </tr>\n",
       "    <tr>\n",
       "      <th>1</th>\n",
       "      <td>2</td>\n",
       "      <td>20</td>\n",
       "      <td>400</td>\n",
       "    </tr>\n",
       "    <tr>\n",
       "      <th>2</th>\n",
       "      <td>3</td>\n",
       "      <td>30</td>\n",
       "      <td>300</td>\n",
       "    </tr>\n",
       "    <tr>\n",
       "      <th>3</th>\n",
       "      <td>4</td>\n",
       "      <td>20</td>\n",
       "      <td>200</td>\n",
       "    </tr>\n",
       "    <tr>\n",
       "      <th>4</th>\n",
       "      <td>5</td>\n",
       "      <td>10</td>\n",
       "      <td>100</td>\n",
       "    </tr>\n",
       "  </tbody>\n",
       "</table>\n",
       "</div>"
      ],
      "text/plain": [
       "   x   y    z\n",
       "0  1  10  500\n",
       "1  2  20  400\n",
       "2  3  30  300\n",
       "3  4  20  200\n",
       "4  5  10  100"
      ]
     },
     "execution_count": 53,
     "metadata": {},
     "output_type": "execute_result"
    }
   ],
   "source": [
    "df3.head()"
   ]
  },
  {
   "cell_type": "code",
   "execution_count": 55,
   "metadata": {
    "scrolled": true
   },
   "outputs": [
    {
     "data": {
      "application/vnd.plotly.v1+json": {
       "config": {
        "linkText": "Export to plot.ly",
        "plotlyServerURL": "https://plot.ly",
        "showLink": true
       },
       "data": [
        {
         "colorscale": [
          [
           0,
           "rgb(165,0,38)"
          ],
          [
           0.1,
           "rgb(215,48,39)"
          ],
          [
           0.2,
           "rgb(244,109,67)"
          ],
          [
           0.3,
           "rgb(253,174,97)"
          ],
          [
           0.4,
           "rgb(254,224,144)"
          ],
          [
           0.5,
           "rgb(255,255,191)"
          ],
          [
           0.6,
           "rgb(224,243,248)"
          ],
          [
           0.7,
           "rgb(171,217,233)"
          ],
          [
           0.8,
           "rgb(116,173,209)"
          ],
          [
           0.9,
           "rgb(69,117,180)"
          ],
          [
           1,
           "rgb(49,54,149)"
          ]
         ],
         "type": "surface",
         "x": [
          0,
          1,
          2,
          3,
          4
         ],
         "y": [
          "x",
          "y",
          "z"
         ],
         "z": [
          [
           1,
           2,
           3,
           4,
           5
          ],
          [
           10,
           20,
           30,
           20,
           10
          ],
          [
           500,
           400,
           300,
           200,
           100
          ]
         ]
        }
       ],
       "layout": {
        "legend": {
         "bgcolor": "#F5F6F9",
         "font": {
          "color": "#4D5663"
         }
        },
        "paper_bgcolor": "#F5F6F9",
        "plot_bgcolor": "#F5F6F9",
        "template": {
         "data": {
          "bar": [
           {
            "error_x": {
             "color": "#2a3f5f"
            },
            "error_y": {
             "color": "#2a3f5f"
            },
            "marker": {
             "line": {
              "color": "#E5ECF6",
              "width": 0.5
             }
            },
            "type": "bar"
           }
          ],
          "barpolar": [
           {
            "marker": {
             "line": {
              "color": "#E5ECF6",
              "width": 0.5
             }
            },
            "type": "barpolar"
           }
          ],
          "carpet": [
           {
            "aaxis": {
             "endlinecolor": "#2a3f5f",
             "gridcolor": "white",
             "linecolor": "white",
             "minorgridcolor": "white",
             "startlinecolor": "#2a3f5f"
            },
            "baxis": {
             "endlinecolor": "#2a3f5f",
             "gridcolor": "white",
             "linecolor": "white",
             "minorgridcolor": "white",
             "startlinecolor": "#2a3f5f"
            },
            "type": "carpet"
           }
          ],
          "choropleth": [
           {
            "colorbar": {
             "outlinewidth": 0,
             "ticks": ""
            },
            "type": "choropleth"
           }
          ],
          "contour": [
           {
            "colorbar": {
             "outlinewidth": 0,
             "ticks": ""
            },
            "colorscale": [
             [
              0,
              "#0d0887"
             ],
             [
              0.1111111111111111,
              "#46039f"
             ],
             [
              0.2222222222222222,
              "#7201a8"
             ],
             [
              0.3333333333333333,
              "#9c179e"
             ],
             [
              0.4444444444444444,
              "#bd3786"
             ],
             [
              0.5555555555555556,
              "#d8576b"
             ],
             [
              0.6666666666666666,
              "#ed7953"
             ],
             [
              0.7777777777777778,
              "#fb9f3a"
             ],
             [
              0.8888888888888888,
              "#fdca26"
             ],
             [
              1,
              "#f0f921"
             ]
            ],
            "type": "contour"
           }
          ],
          "contourcarpet": [
           {
            "colorbar": {
             "outlinewidth": 0,
             "ticks": ""
            },
            "type": "contourcarpet"
           }
          ],
          "heatmap": [
           {
            "colorbar": {
             "outlinewidth": 0,
             "ticks": ""
            },
            "colorscale": [
             [
              0,
              "#0d0887"
             ],
             [
              0.1111111111111111,
              "#46039f"
             ],
             [
              0.2222222222222222,
              "#7201a8"
             ],
             [
              0.3333333333333333,
              "#9c179e"
             ],
             [
              0.4444444444444444,
              "#bd3786"
             ],
             [
              0.5555555555555556,
              "#d8576b"
             ],
             [
              0.6666666666666666,
              "#ed7953"
             ],
             [
              0.7777777777777778,
              "#fb9f3a"
             ],
             [
              0.8888888888888888,
              "#fdca26"
             ],
             [
              1,
              "#f0f921"
             ]
            ],
            "type": "heatmap"
           }
          ],
          "heatmapgl": [
           {
            "colorbar": {
             "outlinewidth": 0,
             "ticks": ""
            },
            "colorscale": [
             [
              0,
              "#0d0887"
             ],
             [
              0.1111111111111111,
              "#46039f"
             ],
             [
              0.2222222222222222,
              "#7201a8"
             ],
             [
              0.3333333333333333,
              "#9c179e"
             ],
             [
              0.4444444444444444,
              "#bd3786"
             ],
             [
              0.5555555555555556,
              "#d8576b"
             ],
             [
              0.6666666666666666,
              "#ed7953"
             ],
             [
              0.7777777777777778,
              "#fb9f3a"
             ],
             [
              0.8888888888888888,
              "#fdca26"
             ],
             [
              1,
              "#f0f921"
             ]
            ],
            "type": "heatmapgl"
           }
          ],
          "histogram": [
           {
            "marker": {
             "colorbar": {
              "outlinewidth": 0,
              "ticks": ""
             }
            },
            "type": "histogram"
           }
          ],
          "histogram2d": [
           {
            "colorbar": {
             "outlinewidth": 0,
             "ticks": ""
            },
            "colorscale": [
             [
              0,
              "#0d0887"
             ],
             [
              0.1111111111111111,
              "#46039f"
             ],
             [
              0.2222222222222222,
              "#7201a8"
             ],
             [
              0.3333333333333333,
              "#9c179e"
             ],
             [
              0.4444444444444444,
              "#bd3786"
             ],
             [
              0.5555555555555556,
              "#d8576b"
             ],
             [
              0.6666666666666666,
              "#ed7953"
             ],
             [
              0.7777777777777778,
              "#fb9f3a"
             ],
             [
              0.8888888888888888,
              "#fdca26"
             ],
             [
              1,
              "#f0f921"
             ]
            ],
            "type": "histogram2d"
           }
          ],
          "histogram2dcontour": [
           {
            "colorbar": {
             "outlinewidth": 0,
             "ticks": ""
            },
            "colorscale": [
             [
              0,
              "#0d0887"
             ],
             [
              0.1111111111111111,
              "#46039f"
             ],
             [
              0.2222222222222222,
              "#7201a8"
             ],
             [
              0.3333333333333333,
              "#9c179e"
             ],
             [
              0.4444444444444444,
              "#bd3786"
             ],
             [
              0.5555555555555556,
              "#d8576b"
             ],
             [
              0.6666666666666666,
              "#ed7953"
             ],
             [
              0.7777777777777778,
              "#fb9f3a"
             ],
             [
              0.8888888888888888,
              "#fdca26"
             ],
             [
              1,
              "#f0f921"
             ]
            ],
            "type": "histogram2dcontour"
           }
          ],
          "mesh3d": [
           {
            "colorbar": {
             "outlinewidth": 0,
             "ticks": ""
            },
            "type": "mesh3d"
           }
          ],
          "parcoords": [
           {
            "line": {
             "colorbar": {
              "outlinewidth": 0,
              "ticks": ""
             }
            },
            "type": "parcoords"
           }
          ],
          "pie": [
           {
            "automargin": true,
            "type": "pie"
           }
          ],
          "scatter": [
           {
            "marker": {
             "colorbar": {
              "outlinewidth": 0,
              "ticks": ""
             }
            },
            "type": "scatter"
           }
          ],
          "scatter3d": [
           {
            "line": {
             "colorbar": {
              "outlinewidth": 0,
              "ticks": ""
             }
            },
            "marker": {
             "colorbar": {
              "outlinewidth": 0,
              "ticks": ""
             }
            },
            "type": "scatter3d"
           }
          ],
          "scattercarpet": [
           {
            "marker": {
             "colorbar": {
              "outlinewidth": 0,
              "ticks": ""
             }
            },
            "type": "scattercarpet"
           }
          ],
          "scattergeo": [
           {
            "marker": {
             "colorbar": {
              "outlinewidth": 0,
              "ticks": ""
             }
            },
            "type": "scattergeo"
           }
          ],
          "scattergl": [
           {
            "marker": {
             "colorbar": {
              "outlinewidth": 0,
              "ticks": ""
             }
            },
            "type": "scattergl"
           }
          ],
          "scattermapbox": [
           {
            "marker": {
             "colorbar": {
              "outlinewidth": 0,
              "ticks": ""
             }
            },
            "type": "scattermapbox"
           }
          ],
          "scatterpolar": [
           {
            "marker": {
             "colorbar": {
              "outlinewidth": 0,
              "ticks": ""
             }
            },
            "type": "scatterpolar"
           }
          ],
          "scatterpolargl": [
           {
            "marker": {
             "colorbar": {
              "outlinewidth": 0,
              "ticks": ""
             }
            },
            "type": "scatterpolargl"
           }
          ],
          "scatterternary": [
           {
            "marker": {
             "colorbar": {
              "outlinewidth": 0,
              "ticks": ""
             }
            },
            "type": "scatterternary"
           }
          ],
          "surface": [
           {
            "colorbar": {
             "outlinewidth": 0,
             "ticks": ""
            },
            "colorscale": [
             [
              0,
              "#0d0887"
             ],
             [
              0.1111111111111111,
              "#46039f"
             ],
             [
              0.2222222222222222,
              "#7201a8"
             ],
             [
              0.3333333333333333,
              "#9c179e"
             ],
             [
              0.4444444444444444,
              "#bd3786"
             ],
             [
              0.5555555555555556,
              "#d8576b"
             ],
             [
              0.6666666666666666,
              "#ed7953"
             ],
             [
              0.7777777777777778,
              "#fb9f3a"
             ],
             [
              0.8888888888888888,
              "#fdca26"
             ],
             [
              1,
              "#f0f921"
             ]
            ],
            "type": "surface"
           }
          ],
          "table": [
           {
            "cells": {
             "fill": {
              "color": "#EBF0F8"
             },
             "line": {
              "color": "white"
             }
            },
            "header": {
             "fill": {
              "color": "#C8D4E3"
             },
             "line": {
              "color": "white"
             }
            },
            "type": "table"
           }
          ]
         },
         "layout": {
          "annotationdefaults": {
           "arrowcolor": "#2a3f5f",
           "arrowhead": 0,
           "arrowwidth": 1
          },
          "coloraxis": {
           "colorbar": {
            "outlinewidth": 0,
            "ticks": ""
           }
          },
          "colorscale": {
           "diverging": [
            [
             0,
             "#8e0152"
            ],
            [
             0.1,
             "#c51b7d"
            ],
            [
             0.2,
             "#de77ae"
            ],
            [
             0.3,
             "#f1b6da"
            ],
            [
             0.4,
             "#fde0ef"
            ],
            [
             0.5,
             "#f7f7f7"
            ],
            [
             0.6,
             "#e6f5d0"
            ],
            [
             0.7,
             "#b8e186"
            ],
            [
             0.8,
             "#7fbc41"
            ],
            [
             0.9,
             "#4d9221"
            ],
            [
             1,
             "#276419"
            ]
           ],
           "sequential": [
            [
             0,
             "#0d0887"
            ],
            [
             0.1111111111111111,
             "#46039f"
            ],
            [
             0.2222222222222222,
             "#7201a8"
            ],
            [
             0.3333333333333333,
             "#9c179e"
            ],
            [
             0.4444444444444444,
             "#bd3786"
            ],
            [
             0.5555555555555556,
             "#d8576b"
            ],
            [
             0.6666666666666666,
             "#ed7953"
            ],
            [
             0.7777777777777778,
             "#fb9f3a"
            ],
            [
             0.8888888888888888,
             "#fdca26"
            ],
            [
             1,
             "#f0f921"
            ]
           ],
           "sequentialminus": [
            [
             0,
             "#0d0887"
            ],
            [
             0.1111111111111111,
             "#46039f"
            ],
            [
             0.2222222222222222,
             "#7201a8"
            ],
            [
             0.3333333333333333,
             "#9c179e"
            ],
            [
             0.4444444444444444,
             "#bd3786"
            ],
            [
             0.5555555555555556,
             "#d8576b"
            ],
            [
             0.6666666666666666,
             "#ed7953"
            ],
            [
             0.7777777777777778,
             "#fb9f3a"
            ],
            [
             0.8888888888888888,
             "#fdca26"
            ],
            [
             1,
             "#f0f921"
            ]
           ]
          },
          "colorway": [
           "#636efa",
           "#EF553B",
           "#00cc96",
           "#ab63fa",
           "#FFA15A",
           "#19d3f3",
           "#FF6692",
           "#B6E880",
           "#FF97FF",
           "#FECB52"
          ],
          "font": {
           "color": "#2a3f5f"
          },
          "geo": {
           "bgcolor": "white",
           "lakecolor": "white",
           "landcolor": "#E5ECF6",
           "showlakes": true,
           "showland": true,
           "subunitcolor": "white"
          },
          "hoverlabel": {
           "align": "left"
          },
          "hovermode": "closest",
          "mapbox": {
           "style": "light"
          },
          "paper_bgcolor": "white",
          "plot_bgcolor": "#E5ECF6",
          "polar": {
           "angularaxis": {
            "gridcolor": "white",
            "linecolor": "white",
            "ticks": ""
           },
           "bgcolor": "#E5ECF6",
           "radialaxis": {
            "gridcolor": "white",
            "linecolor": "white",
            "ticks": ""
           }
          },
          "scene": {
           "xaxis": {
            "backgroundcolor": "#E5ECF6",
            "gridcolor": "white",
            "gridwidth": 2,
            "linecolor": "white",
            "showbackground": true,
            "ticks": "",
            "zerolinecolor": "white"
           },
           "yaxis": {
            "backgroundcolor": "#E5ECF6",
            "gridcolor": "white",
            "gridwidth": 2,
            "linecolor": "white",
            "showbackground": true,
            "ticks": "",
            "zerolinecolor": "white"
           },
           "zaxis": {
            "backgroundcolor": "#E5ECF6",
            "gridcolor": "white",
            "gridwidth": 2,
            "linecolor": "white",
            "showbackground": true,
            "ticks": "",
            "zerolinecolor": "white"
           }
          },
          "shapedefaults": {
           "line": {
            "color": "#2a3f5f"
           }
          },
          "ternary": {
           "aaxis": {
            "gridcolor": "white",
            "linecolor": "white",
            "ticks": ""
           },
           "baxis": {
            "gridcolor": "white",
            "linecolor": "white",
            "ticks": ""
           },
           "bgcolor": "#E5ECF6",
           "caxis": {
            "gridcolor": "white",
            "linecolor": "white",
            "ticks": ""
           }
          },
          "title": {
           "x": 0.05
          },
          "xaxis": {
           "automargin": true,
           "gridcolor": "white",
           "linecolor": "white",
           "ticks": "",
           "title": {
            "standoff": 15
           },
           "zerolinecolor": "white",
           "zerolinewidth": 2
          },
          "yaxis": {
           "automargin": true,
           "gridcolor": "white",
           "linecolor": "white",
           "ticks": "",
           "title": {
            "standoff": 15
           },
           "zerolinecolor": "white",
           "zerolinewidth": 2
          }
         }
        },
        "title": {
         "font": {
          "color": "#4D5663"
         }
        },
        "xaxis": {
         "gridcolor": "#E1E5ED",
         "showgrid": true,
         "tickfont": {
          "color": "#4D5663"
         },
         "title": {
          "font": {
           "color": "#4D5663"
          },
          "text": ""
         },
         "zerolinecolor": "#E1E5ED"
        },
        "yaxis": {
         "gridcolor": "#E1E5ED",
         "showgrid": true,
         "tickfont": {
          "color": "#4D5663"
         },
         "title": {
          "font": {
           "color": "#4D5663"
          },
          "text": ""
         },
         "zerolinecolor": "#E1E5ED"
        }
       }
      },
      "text/html": [
       "<div>\n",
       "        \n",
       "        \n",
       "            <div id=\"e30b7f3d-a3f9-4df7-aa9a-2907ecc7db69\" class=\"plotly-graph-div\" style=\"height:525px; width:100%;\"></div>\n",
       "            <script type=\"text/javascript\">\n",
       "                require([\"plotly\"], function(Plotly) {\n",
       "                    window.PLOTLYENV=window.PLOTLYENV || {};\n",
       "                    window.PLOTLYENV.BASE_URL='https://plot.ly';\n",
       "                    \n",
       "                if (document.getElementById(\"e30b7f3d-a3f9-4df7-aa9a-2907ecc7db69\")) {\n",
       "                    Plotly.newPlot(\n",
       "                        'e30b7f3d-a3f9-4df7-aa9a-2907ecc7db69',\n",
       "                        [{\"colorscale\": [[0.0, \"rgb(165,0,38)\"], [0.1, \"rgb(215,48,39)\"], [0.2, \"rgb(244,109,67)\"], [0.3, \"rgb(253,174,97)\"], [0.4, \"rgb(254,224,144)\"], [0.5, \"rgb(255,255,191)\"], [0.6, \"rgb(224,243,248)\"], [0.7, \"rgb(171,217,233)\"], [0.8, \"rgb(116,173,209)\"], [0.9, \"rgb(69,117,180)\"], [1.0, \"rgb(49,54,149)\"]], \"type\": \"surface\", \"x\": [0, 1, 2, 3, 4], \"y\": [\"x\", \"y\", \"z\"], \"z\": [[1, 2, 3, 4, 5], [10, 20, 30, 20, 10], [500, 400, 300, 200, 100]]}],\n",
       "                        {\"legend\": {\"bgcolor\": \"#F5F6F9\", \"font\": {\"color\": \"#4D5663\"}}, \"paper_bgcolor\": \"#F5F6F9\", \"plot_bgcolor\": \"#F5F6F9\", \"template\": {\"data\": {\"bar\": [{\"error_x\": {\"color\": \"#2a3f5f\"}, \"error_y\": {\"color\": \"#2a3f5f\"}, \"marker\": {\"line\": {\"color\": \"#E5ECF6\", \"width\": 0.5}}, \"type\": \"bar\"}], \"barpolar\": [{\"marker\": {\"line\": {\"color\": \"#E5ECF6\", \"width\": 0.5}}, \"type\": \"barpolar\"}], \"carpet\": [{\"aaxis\": {\"endlinecolor\": \"#2a3f5f\", \"gridcolor\": \"white\", \"linecolor\": \"white\", \"minorgridcolor\": \"white\", \"startlinecolor\": \"#2a3f5f\"}, \"baxis\": {\"endlinecolor\": \"#2a3f5f\", \"gridcolor\": \"white\", \"linecolor\": \"white\", \"minorgridcolor\": \"white\", \"startlinecolor\": \"#2a3f5f\"}, \"type\": \"carpet\"}], \"choropleth\": [{\"colorbar\": {\"outlinewidth\": 0, \"ticks\": \"\"}, \"type\": \"choropleth\"}], \"contour\": [{\"colorbar\": {\"outlinewidth\": 0, \"ticks\": \"\"}, \"colorscale\": [[0.0, \"#0d0887\"], [0.1111111111111111, \"#46039f\"], [0.2222222222222222, \"#7201a8\"], [0.3333333333333333, \"#9c179e\"], [0.4444444444444444, \"#bd3786\"], [0.5555555555555556, \"#d8576b\"], [0.6666666666666666, \"#ed7953\"], [0.7777777777777778, \"#fb9f3a\"], [0.8888888888888888, \"#fdca26\"], [1.0, \"#f0f921\"]], \"type\": \"contour\"}], \"contourcarpet\": [{\"colorbar\": {\"outlinewidth\": 0, \"ticks\": \"\"}, \"type\": \"contourcarpet\"}], \"heatmap\": [{\"colorbar\": {\"outlinewidth\": 0, \"ticks\": \"\"}, \"colorscale\": [[0.0, \"#0d0887\"], [0.1111111111111111, \"#46039f\"], [0.2222222222222222, \"#7201a8\"], [0.3333333333333333, \"#9c179e\"], [0.4444444444444444, \"#bd3786\"], [0.5555555555555556, \"#d8576b\"], [0.6666666666666666, \"#ed7953\"], [0.7777777777777778, \"#fb9f3a\"], [0.8888888888888888, \"#fdca26\"], [1.0, \"#f0f921\"]], \"type\": \"heatmap\"}], \"heatmapgl\": [{\"colorbar\": {\"outlinewidth\": 0, \"ticks\": \"\"}, \"colorscale\": [[0.0, \"#0d0887\"], [0.1111111111111111, \"#46039f\"], [0.2222222222222222, \"#7201a8\"], [0.3333333333333333, \"#9c179e\"], [0.4444444444444444, \"#bd3786\"], [0.5555555555555556, \"#d8576b\"], [0.6666666666666666, \"#ed7953\"], [0.7777777777777778, \"#fb9f3a\"], [0.8888888888888888, \"#fdca26\"], [1.0, \"#f0f921\"]], \"type\": \"heatmapgl\"}], \"histogram\": [{\"marker\": {\"colorbar\": {\"outlinewidth\": 0, \"ticks\": \"\"}}, \"type\": \"histogram\"}], \"histogram2d\": [{\"colorbar\": {\"outlinewidth\": 0, \"ticks\": \"\"}, \"colorscale\": [[0.0, \"#0d0887\"], [0.1111111111111111, \"#46039f\"], [0.2222222222222222, \"#7201a8\"], [0.3333333333333333, \"#9c179e\"], [0.4444444444444444, \"#bd3786\"], [0.5555555555555556, \"#d8576b\"], [0.6666666666666666, \"#ed7953\"], [0.7777777777777778, \"#fb9f3a\"], [0.8888888888888888, \"#fdca26\"], [1.0, \"#f0f921\"]], \"type\": \"histogram2d\"}], \"histogram2dcontour\": [{\"colorbar\": {\"outlinewidth\": 0, \"ticks\": \"\"}, \"colorscale\": [[0.0, \"#0d0887\"], [0.1111111111111111, \"#46039f\"], [0.2222222222222222, \"#7201a8\"], [0.3333333333333333, \"#9c179e\"], [0.4444444444444444, \"#bd3786\"], [0.5555555555555556, \"#d8576b\"], [0.6666666666666666, \"#ed7953\"], [0.7777777777777778, \"#fb9f3a\"], [0.8888888888888888, \"#fdca26\"], [1.0, \"#f0f921\"]], \"type\": \"histogram2dcontour\"}], \"mesh3d\": [{\"colorbar\": {\"outlinewidth\": 0, \"ticks\": \"\"}, \"type\": \"mesh3d\"}], \"parcoords\": [{\"line\": {\"colorbar\": {\"outlinewidth\": 0, \"ticks\": \"\"}}, \"type\": \"parcoords\"}], \"pie\": [{\"automargin\": true, \"type\": \"pie\"}], \"scatter\": [{\"marker\": {\"colorbar\": {\"outlinewidth\": 0, \"ticks\": \"\"}}, \"type\": \"scatter\"}], \"scatter3d\": [{\"line\": {\"colorbar\": {\"outlinewidth\": 0, \"ticks\": \"\"}}, \"marker\": {\"colorbar\": {\"outlinewidth\": 0, \"ticks\": \"\"}}, \"type\": \"scatter3d\"}], \"scattercarpet\": [{\"marker\": {\"colorbar\": {\"outlinewidth\": 0, \"ticks\": \"\"}}, \"type\": \"scattercarpet\"}], \"scattergeo\": [{\"marker\": {\"colorbar\": {\"outlinewidth\": 0, \"ticks\": \"\"}}, \"type\": \"scattergeo\"}], \"scattergl\": [{\"marker\": {\"colorbar\": {\"outlinewidth\": 0, \"ticks\": \"\"}}, \"type\": \"scattergl\"}], \"scattermapbox\": [{\"marker\": {\"colorbar\": {\"outlinewidth\": 0, \"ticks\": \"\"}}, \"type\": \"scattermapbox\"}], \"scatterpolar\": [{\"marker\": {\"colorbar\": {\"outlinewidth\": 0, \"ticks\": \"\"}}, \"type\": \"scatterpolar\"}], \"scatterpolargl\": [{\"marker\": {\"colorbar\": {\"outlinewidth\": 0, \"ticks\": \"\"}}, \"type\": \"scatterpolargl\"}], \"scatterternary\": [{\"marker\": {\"colorbar\": {\"outlinewidth\": 0, \"ticks\": \"\"}}, \"type\": \"scatterternary\"}], \"surface\": [{\"colorbar\": {\"outlinewidth\": 0, \"ticks\": \"\"}, \"colorscale\": [[0.0, \"#0d0887\"], [0.1111111111111111, \"#46039f\"], [0.2222222222222222, \"#7201a8\"], [0.3333333333333333, \"#9c179e\"], [0.4444444444444444, \"#bd3786\"], [0.5555555555555556, \"#d8576b\"], [0.6666666666666666, \"#ed7953\"], [0.7777777777777778, \"#fb9f3a\"], [0.8888888888888888, \"#fdca26\"], [1.0, \"#f0f921\"]], \"type\": \"surface\"}], \"table\": [{\"cells\": {\"fill\": {\"color\": \"#EBF0F8\"}, \"line\": {\"color\": \"white\"}}, \"header\": {\"fill\": {\"color\": \"#C8D4E3\"}, \"line\": {\"color\": \"white\"}}, \"type\": \"table\"}]}, \"layout\": {\"annotationdefaults\": {\"arrowcolor\": \"#2a3f5f\", \"arrowhead\": 0, \"arrowwidth\": 1}, \"coloraxis\": {\"colorbar\": {\"outlinewidth\": 0, \"ticks\": \"\"}}, \"colorscale\": {\"diverging\": [[0, \"#8e0152\"], [0.1, \"#c51b7d\"], [0.2, \"#de77ae\"], [0.3, \"#f1b6da\"], [0.4, \"#fde0ef\"], [0.5, \"#f7f7f7\"], [0.6, \"#e6f5d0\"], [0.7, \"#b8e186\"], [0.8, \"#7fbc41\"], [0.9, \"#4d9221\"], [1, \"#276419\"]], \"sequential\": [[0.0, \"#0d0887\"], [0.1111111111111111, \"#46039f\"], [0.2222222222222222, \"#7201a8\"], [0.3333333333333333, \"#9c179e\"], [0.4444444444444444, \"#bd3786\"], [0.5555555555555556, \"#d8576b\"], [0.6666666666666666, \"#ed7953\"], [0.7777777777777778, \"#fb9f3a\"], [0.8888888888888888, \"#fdca26\"], [1.0, \"#f0f921\"]], \"sequentialminus\": [[0.0, \"#0d0887\"], [0.1111111111111111, \"#46039f\"], [0.2222222222222222, \"#7201a8\"], [0.3333333333333333, \"#9c179e\"], [0.4444444444444444, \"#bd3786\"], [0.5555555555555556, \"#d8576b\"], [0.6666666666666666, \"#ed7953\"], [0.7777777777777778, \"#fb9f3a\"], [0.8888888888888888, \"#fdca26\"], [1.0, \"#f0f921\"]]}, \"colorway\": [\"#636efa\", \"#EF553B\", \"#00cc96\", \"#ab63fa\", \"#FFA15A\", \"#19d3f3\", \"#FF6692\", \"#B6E880\", \"#FF97FF\", \"#FECB52\"], \"font\": {\"color\": \"#2a3f5f\"}, \"geo\": {\"bgcolor\": \"white\", \"lakecolor\": \"white\", \"landcolor\": \"#E5ECF6\", \"showlakes\": true, \"showland\": true, \"subunitcolor\": \"white\"}, \"hoverlabel\": {\"align\": \"left\"}, \"hovermode\": \"closest\", \"mapbox\": {\"style\": \"light\"}, \"paper_bgcolor\": \"white\", \"plot_bgcolor\": \"#E5ECF6\", \"polar\": {\"angularaxis\": {\"gridcolor\": \"white\", \"linecolor\": \"white\", \"ticks\": \"\"}, \"bgcolor\": \"#E5ECF6\", \"radialaxis\": {\"gridcolor\": \"white\", \"linecolor\": \"white\", \"ticks\": \"\"}}, \"scene\": {\"xaxis\": {\"backgroundcolor\": \"#E5ECF6\", \"gridcolor\": \"white\", \"gridwidth\": 2, \"linecolor\": \"white\", \"showbackground\": true, \"ticks\": \"\", \"zerolinecolor\": \"white\"}, \"yaxis\": {\"backgroundcolor\": \"#E5ECF6\", \"gridcolor\": \"white\", \"gridwidth\": 2, \"linecolor\": \"white\", \"showbackground\": true, \"ticks\": \"\", \"zerolinecolor\": \"white\"}, \"zaxis\": {\"backgroundcolor\": \"#E5ECF6\", \"gridcolor\": \"white\", \"gridwidth\": 2, \"linecolor\": \"white\", \"showbackground\": true, \"ticks\": \"\", \"zerolinecolor\": \"white\"}}, \"shapedefaults\": {\"line\": {\"color\": \"#2a3f5f\"}}, \"ternary\": {\"aaxis\": {\"gridcolor\": \"white\", \"linecolor\": \"white\", \"ticks\": \"\"}, \"baxis\": {\"gridcolor\": \"white\", \"linecolor\": \"white\", \"ticks\": \"\"}, \"bgcolor\": \"#E5ECF6\", \"caxis\": {\"gridcolor\": \"white\", \"linecolor\": \"white\", \"ticks\": \"\"}}, \"title\": {\"x\": 0.05}, \"xaxis\": {\"automargin\": true, \"gridcolor\": \"white\", \"linecolor\": \"white\", \"ticks\": \"\", \"title\": {\"standoff\": 15}, \"zerolinecolor\": \"white\", \"zerolinewidth\": 2}, \"yaxis\": {\"automargin\": true, \"gridcolor\": \"white\", \"linecolor\": \"white\", \"ticks\": \"\", \"title\": {\"standoff\": 15}, \"zerolinecolor\": \"white\", \"zerolinewidth\": 2}}}, \"title\": {\"font\": {\"color\": \"#4D5663\"}}, \"xaxis\": {\"gridcolor\": \"#E1E5ED\", \"showgrid\": true, \"tickfont\": {\"color\": \"#4D5663\"}, \"title\": {\"font\": {\"color\": \"#4D5663\"}, \"text\": \"\"}, \"zerolinecolor\": \"#E1E5ED\"}, \"yaxis\": {\"gridcolor\": \"#E1E5ED\", \"showgrid\": true, \"tickfont\": {\"color\": \"#4D5663\"}, \"title\": {\"font\": {\"color\": \"#4D5663\"}, \"text\": \"\"}, \"zerolinecolor\": \"#E1E5ED\"}},\n",
       "                        {\"showLink\": true, \"linkText\": \"Export to plot.ly\", \"plotlyServerURL\": \"https://plot.ly\", \"responsive\": true}\n",
       "                    ).then(function(){\n",
       "                            \n",
       "var gd = document.getElementById('e30b7f3d-a3f9-4df7-aa9a-2907ecc7db69');\n",
       "var x = new MutationObserver(function (mutations, observer) {{\n",
       "        var display = window.getComputedStyle(gd).display;\n",
       "        if (!display || display === 'none') {{\n",
       "            console.log([gd, 'removed!']);\n",
       "            Plotly.purge(gd);\n",
       "            observer.disconnect();\n",
       "        }}\n",
       "}});\n",
       "\n",
       "// Listen for the removal of the full notebook cells\n",
       "var notebookContainer = gd.closest('#notebook-container');\n",
       "if (notebookContainer) {{\n",
       "    x.observe(notebookContainer, {childList: true});\n",
       "}}\n",
       "\n",
       "// Listen for the clearing of the current output cell\n",
       "var outputEl = gd.closest('.output');\n",
       "if (outputEl) {{\n",
       "    x.observe(outputEl, {childList: true});\n",
       "}}\n",
       "\n",
       "                        })\n",
       "                };\n",
       "                });\n",
       "            </script>\n",
       "        </div>"
      ]
     },
     "metadata": {},
     "output_type": "display_data"
    }
   ],
   "source": [
    "df3.iplot(kind='surface',colorscale='rdylbu')"
   ]
  },
  {
   "cell_type": "code",
   "execution_count": 57,
   "metadata": {},
   "outputs": [
    {
     "data": {
      "text/html": [
       "<div>\n",
       "<style scoped>\n",
       "    .dataframe tbody tr th:only-of-type {\n",
       "        vertical-align: middle;\n",
       "    }\n",
       "\n",
       "    .dataframe tbody tr th {\n",
       "        vertical-align: top;\n",
       "    }\n",
       "\n",
       "    .dataframe thead th {\n",
       "        text-align: right;\n",
       "    }\n",
       "</style>\n",
       "<table border=\"1\" class=\"dataframe\">\n",
       "  <thead>\n",
       "    <tr style=\"text-align: right;\">\n",
       "      <th></th>\n",
       "      <th>x</th>\n",
       "      <th>y</th>\n",
       "      <th>z</th>\n",
       "    </tr>\n",
       "  </thead>\n",
       "  <tbody>\n",
       "    <tr>\n",
       "      <th>0</th>\n",
       "      <td>1</td>\n",
       "      <td>10</td>\n",
       "      <td>5</td>\n",
       "    </tr>\n",
       "    <tr>\n",
       "      <th>1</th>\n",
       "      <td>2</td>\n",
       "      <td>20</td>\n",
       "      <td>4</td>\n",
       "    </tr>\n",
       "    <tr>\n",
       "      <th>2</th>\n",
       "      <td>3</td>\n",
       "      <td>30</td>\n",
       "      <td>3</td>\n",
       "    </tr>\n",
       "    <tr>\n",
       "      <th>3</th>\n",
       "      <td>4</td>\n",
       "      <td>20</td>\n",
       "      <td>2</td>\n",
       "    </tr>\n",
       "    <tr>\n",
       "      <th>4</th>\n",
       "      <td>5</td>\n",
       "      <td>10</td>\n",
       "      <td>1</td>\n",
       "    </tr>\n",
       "  </tbody>\n",
       "</table>\n",
       "</div>"
      ],
      "text/plain": [
       "   x   y  z\n",
       "0  1  10  5\n",
       "1  2  20  4\n",
       "2  3  30  3\n",
       "3  4  20  2\n",
       "4  5  10  1"
      ]
     },
     "execution_count": 57,
     "metadata": {},
     "output_type": "execute_result"
    }
   ],
   "source": [
    "df3 = pd.DataFrame({'x':[1,2,3,4,5],'y':[10,20,30,20,10],'z':[5,4,3,2,1]})\n",
    "df3.head()"
   ]
  },
  {
   "cell_type": "code",
   "execution_count": null,
   "metadata": {},
   "outputs": [],
   "source": []
  },
  {
   "cell_type": "code",
   "execution_count": 58,
   "metadata": {},
   "outputs": [
    {
     "data": {
      "application/vnd.plotly.v1+json": {
       "config": {
        "linkText": "Export to plot.ly",
        "plotlyServerURL": "https://plot.ly",
        "showLink": true
       },
       "data": [
        {
         "colorscale": [
          [
           0,
           "rgb(165,0,38)"
          ],
          [
           0.1,
           "rgb(215,48,39)"
          ],
          [
           0.2,
           "rgb(244,109,67)"
          ],
          [
           0.3,
           "rgb(253,174,97)"
          ],
          [
           0.4,
           "rgb(254,224,144)"
          ],
          [
           0.5,
           "rgb(255,255,191)"
          ],
          [
           0.6,
           "rgb(224,243,248)"
          ],
          [
           0.7,
           "rgb(171,217,233)"
          ],
          [
           0.8,
           "rgb(116,173,209)"
          ],
          [
           0.9,
           "rgb(69,117,180)"
          ],
          [
           1,
           "rgb(49,54,149)"
          ]
         ],
         "type": "surface",
         "x": [
          0,
          1,
          2,
          3,
          4
         ],
         "y": [
          "x",
          "y",
          "z"
         ],
         "z": [
          [
           1,
           2,
           3,
           4,
           5
          ],
          [
           10,
           20,
           30,
           20,
           10
          ],
          [
           5,
           4,
           3,
           2,
           1
          ]
         ]
        }
       ],
       "layout": {
        "legend": {
         "bgcolor": "#F5F6F9",
         "font": {
          "color": "#4D5663"
         }
        },
        "paper_bgcolor": "#F5F6F9",
        "plot_bgcolor": "#F5F6F9",
        "template": {
         "data": {
          "bar": [
           {
            "error_x": {
             "color": "#2a3f5f"
            },
            "error_y": {
             "color": "#2a3f5f"
            },
            "marker": {
             "line": {
              "color": "#E5ECF6",
              "width": 0.5
             }
            },
            "type": "bar"
           }
          ],
          "barpolar": [
           {
            "marker": {
             "line": {
              "color": "#E5ECF6",
              "width": 0.5
             }
            },
            "type": "barpolar"
           }
          ],
          "carpet": [
           {
            "aaxis": {
             "endlinecolor": "#2a3f5f",
             "gridcolor": "white",
             "linecolor": "white",
             "minorgridcolor": "white",
             "startlinecolor": "#2a3f5f"
            },
            "baxis": {
             "endlinecolor": "#2a3f5f",
             "gridcolor": "white",
             "linecolor": "white",
             "minorgridcolor": "white",
             "startlinecolor": "#2a3f5f"
            },
            "type": "carpet"
           }
          ],
          "choropleth": [
           {
            "colorbar": {
             "outlinewidth": 0,
             "ticks": ""
            },
            "type": "choropleth"
           }
          ],
          "contour": [
           {
            "colorbar": {
             "outlinewidth": 0,
             "ticks": ""
            },
            "colorscale": [
             [
              0,
              "#0d0887"
             ],
             [
              0.1111111111111111,
              "#46039f"
             ],
             [
              0.2222222222222222,
              "#7201a8"
             ],
             [
              0.3333333333333333,
              "#9c179e"
             ],
             [
              0.4444444444444444,
              "#bd3786"
             ],
             [
              0.5555555555555556,
              "#d8576b"
             ],
             [
              0.6666666666666666,
              "#ed7953"
             ],
             [
              0.7777777777777778,
              "#fb9f3a"
             ],
             [
              0.8888888888888888,
              "#fdca26"
             ],
             [
              1,
              "#f0f921"
             ]
            ],
            "type": "contour"
           }
          ],
          "contourcarpet": [
           {
            "colorbar": {
             "outlinewidth": 0,
             "ticks": ""
            },
            "type": "contourcarpet"
           }
          ],
          "heatmap": [
           {
            "colorbar": {
             "outlinewidth": 0,
             "ticks": ""
            },
            "colorscale": [
             [
              0,
              "#0d0887"
             ],
             [
              0.1111111111111111,
              "#46039f"
             ],
             [
              0.2222222222222222,
              "#7201a8"
             ],
             [
              0.3333333333333333,
              "#9c179e"
             ],
             [
              0.4444444444444444,
              "#bd3786"
             ],
             [
              0.5555555555555556,
              "#d8576b"
             ],
             [
              0.6666666666666666,
              "#ed7953"
             ],
             [
              0.7777777777777778,
              "#fb9f3a"
             ],
             [
              0.8888888888888888,
              "#fdca26"
             ],
             [
              1,
              "#f0f921"
             ]
            ],
            "type": "heatmap"
           }
          ],
          "heatmapgl": [
           {
            "colorbar": {
             "outlinewidth": 0,
             "ticks": ""
            },
            "colorscale": [
             [
              0,
              "#0d0887"
             ],
             [
              0.1111111111111111,
              "#46039f"
             ],
             [
              0.2222222222222222,
              "#7201a8"
             ],
             [
              0.3333333333333333,
              "#9c179e"
             ],
             [
              0.4444444444444444,
              "#bd3786"
             ],
             [
              0.5555555555555556,
              "#d8576b"
             ],
             [
              0.6666666666666666,
              "#ed7953"
             ],
             [
              0.7777777777777778,
              "#fb9f3a"
             ],
             [
              0.8888888888888888,
              "#fdca26"
             ],
             [
              1,
              "#f0f921"
             ]
            ],
            "type": "heatmapgl"
           }
          ],
          "histogram": [
           {
            "marker": {
             "colorbar": {
              "outlinewidth": 0,
              "ticks": ""
             }
            },
            "type": "histogram"
           }
          ],
          "histogram2d": [
           {
            "colorbar": {
             "outlinewidth": 0,
             "ticks": ""
            },
            "colorscale": [
             [
              0,
              "#0d0887"
             ],
             [
              0.1111111111111111,
              "#46039f"
             ],
             [
              0.2222222222222222,
              "#7201a8"
             ],
             [
              0.3333333333333333,
              "#9c179e"
             ],
             [
              0.4444444444444444,
              "#bd3786"
             ],
             [
              0.5555555555555556,
              "#d8576b"
             ],
             [
              0.6666666666666666,
              "#ed7953"
             ],
             [
              0.7777777777777778,
              "#fb9f3a"
             ],
             [
              0.8888888888888888,
              "#fdca26"
             ],
             [
              1,
              "#f0f921"
             ]
            ],
            "type": "histogram2d"
           }
          ],
          "histogram2dcontour": [
           {
            "colorbar": {
             "outlinewidth": 0,
             "ticks": ""
            },
            "colorscale": [
             [
              0,
              "#0d0887"
             ],
             [
              0.1111111111111111,
              "#46039f"
             ],
             [
              0.2222222222222222,
              "#7201a8"
             ],
             [
              0.3333333333333333,
              "#9c179e"
             ],
             [
              0.4444444444444444,
              "#bd3786"
             ],
             [
              0.5555555555555556,
              "#d8576b"
             ],
             [
              0.6666666666666666,
              "#ed7953"
             ],
             [
              0.7777777777777778,
              "#fb9f3a"
             ],
             [
              0.8888888888888888,
              "#fdca26"
             ],
             [
              1,
              "#f0f921"
             ]
            ],
            "type": "histogram2dcontour"
           }
          ],
          "mesh3d": [
           {
            "colorbar": {
             "outlinewidth": 0,
             "ticks": ""
            },
            "type": "mesh3d"
           }
          ],
          "parcoords": [
           {
            "line": {
             "colorbar": {
              "outlinewidth": 0,
              "ticks": ""
             }
            },
            "type": "parcoords"
           }
          ],
          "pie": [
           {
            "automargin": true,
            "type": "pie"
           }
          ],
          "scatter": [
           {
            "marker": {
             "colorbar": {
              "outlinewidth": 0,
              "ticks": ""
             }
            },
            "type": "scatter"
           }
          ],
          "scatter3d": [
           {
            "line": {
             "colorbar": {
              "outlinewidth": 0,
              "ticks": ""
             }
            },
            "marker": {
             "colorbar": {
              "outlinewidth": 0,
              "ticks": ""
             }
            },
            "type": "scatter3d"
           }
          ],
          "scattercarpet": [
           {
            "marker": {
             "colorbar": {
              "outlinewidth": 0,
              "ticks": ""
             }
            },
            "type": "scattercarpet"
           }
          ],
          "scattergeo": [
           {
            "marker": {
             "colorbar": {
              "outlinewidth": 0,
              "ticks": ""
             }
            },
            "type": "scattergeo"
           }
          ],
          "scattergl": [
           {
            "marker": {
             "colorbar": {
              "outlinewidth": 0,
              "ticks": ""
             }
            },
            "type": "scattergl"
           }
          ],
          "scattermapbox": [
           {
            "marker": {
             "colorbar": {
              "outlinewidth": 0,
              "ticks": ""
             }
            },
            "type": "scattermapbox"
           }
          ],
          "scatterpolar": [
           {
            "marker": {
             "colorbar": {
              "outlinewidth": 0,
              "ticks": ""
             }
            },
            "type": "scatterpolar"
           }
          ],
          "scatterpolargl": [
           {
            "marker": {
             "colorbar": {
              "outlinewidth": 0,
              "ticks": ""
             }
            },
            "type": "scatterpolargl"
           }
          ],
          "scatterternary": [
           {
            "marker": {
             "colorbar": {
              "outlinewidth": 0,
              "ticks": ""
             }
            },
            "type": "scatterternary"
           }
          ],
          "surface": [
           {
            "colorbar": {
             "outlinewidth": 0,
             "ticks": ""
            },
            "colorscale": [
             [
              0,
              "#0d0887"
             ],
             [
              0.1111111111111111,
              "#46039f"
             ],
             [
              0.2222222222222222,
              "#7201a8"
             ],
             [
              0.3333333333333333,
              "#9c179e"
             ],
             [
              0.4444444444444444,
              "#bd3786"
             ],
             [
              0.5555555555555556,
              "#d8576b"
             ],
             [
              0.6666666666666666,
              "#ed7953"
             ],
             [
              0.7777777777777778,
              "#fb9f3a"
             ],
             [
              0.8888888888888888,
              "#fdca26"
             ],
             [
              1,
              "#f0f921"
             ]
            ],
            "type": "surface"
           }
          ],
          "table": [
           {
            "cells": {
             "fill": {
              "color": "#EBF0F8"
             },
             "line": {
              "color": "white"
             }
            },
            "header": {
             "fill": {
              "color": "#C8D4E3"
             },
             "line": {
              "color": "white"
             }
            },
            "type": "table"
           }
          ]
         },
         "layout": {
          "annotationdefaults": {
           "arrowcolor": "#2a3f5f",
           "arrowhead": 0,
           "arrowwidth": 1
          },
          "coloraxis": {
           "colorbar": {
            "outlinewidth": 0,
            "ticks": ""
           }
          },
          "colorscale": {
           "diverging": [
            [
             0,
             "#8e0152"
            ],
            [
             0.1,
             "#c51b7d"
            ],
            [
             0.2,
             "#de77ae"
            ],
            [
             0.3,
             "#f1b6da"
            ],
            [
             0.4,
             "#fde0ef"
            ],
            [
             0.5,
             "#f7f7f7"
            ],
            [
             0.6,
             "#e6f5d0"
            ],
            [
             0.7,
             "#b8e186"
            ],
            [
             0.8,
             "#7fbc41"
            ],
            [
             0.9,
             "#4d9221"
            ],
            [
             1,
             "#276419"
            ]
           ],
           "sequential": [
            [
             0,
             "#0d0887"
            ],
            [
             0.1111111111111111,
             "#46039f"
            ],
            [
             0.2222222222222222,
             "#7201a8"
            ],
            [
             0.3333333333333333,
             "#9c179e"
            ],
            [
             0.4444444444444444,
             "#bd3786"
            ],
            [
             0.5555555555555556,
             "#d8576b"
            ],
            [
             0.6666666666666666,
             "#ed7953"
            ],
            [
             0.7777777777777778,
             "#fb9f3a"
            ],
            [
             0.8888888888888888,
             "#fdca26"
            ],
            [
             1,
             "#f0f921"
            ]
           ],
           "sequentialminus": [
            [
             0,
             "#0d0887"
            ],
            [
             0.1111111111111111,
             "#46039f"
            ],
            [
             0.2222222222222222,
             "#7201a8"
            ],
            [
             0.3333333333333333,
             "#9c179e"
            ],
            [
             0.4444444444444444,
             "#bd3786"
            ],
            [
             0.5555555555555556,
             "#d8576b"
            ],
            [
             0.6666666666666666,
             "#ed7953"
            ],
            [
             0.7777777777777778,
             "#fb9f3a"
            ],
            [
             0.8888888888888888,
             "#fdca26"
            ],
            [
             1,
             "#f0f921"
            ]
           ]
          },
          "colorway": [
           "#636efa",
           "#EF553B",
           "#00cc96",
           "#ab63fa",
           "#FFA15A",
           "#19d3f3",
           "#FF6692",
           "#B6E880",
           "#FF97FF",
           "#FECB52"
          ],
          "font": {
           "color": "#2a3f5f"
          },
          "geo": {
           "bgcolor": "white",
           "lakecolor": "white",
           "landcolor": "#E5ECF6",
           "showlakes": true,
           "showland": true,
           "subunitcolor": "white"
          },
          "hoverlabel": {
           "align": "left"
          },
          "hovermode": "closest",
          "mapbox": {
           "style": "light"
          },
          "paper_bgcolor": "white",
          "plot_bgcolor": "#E5ECF6",
          "polar": {
           "angularaxis": {
            "gridcolor": "white",
            "linecolor": "white",
            "ticks": ""
           },
           "bgcolor": "#E5ECF6",
           "radialaxis": {
            "gridcolor": "white",
            "linecolor": "white",
            "ticks": ""
           }
          },
          "scene": {
           "xaxis": {
            "backgroundcolor": "#E5ECF6",
            "gridcolor": "white",
            "gridwidth": 2,
            "linecolor": "white",
            "showbackground": true,
            "ticks": "",
            "zerolinecolor": "white"
           },
           "yaxis": {
            "backgroundcolor": "#E5ECF6",
            "gridcolor": "white",
            "gridwidth": 2,
            "linecolor": "white",
            "showbackground": true,
            "ticks": "",
            "zerolinecolor": "white"
           },
           "zaxis": {
            "backgroundcolor": "#E5ECF6",
            "gridcolor": "white",
            "gridwidth": 2,
            "linecolor": "white",
            "showbackground": true,
            "ticks": "",
            "zerolinecolor": "white"
           }
          },
          "shapedefaults": {
           "line": {
            "color": "#2a3f5f"
           }
          },
          "ternary": {
           "aaxis": {
            "gridcolor": "white",
            "linecolor": "white",
            "ticks": ""
           },
           "baxis": {
            "gridcolor": "white",
            "linecolor": "white",
            "ticks": ""
           },
           "bgcolor": "#E5ECF6",
           "caxis": {
            "gridcolor": "white",
            "linecolor": "white",
            "ticks": ""
           }
          },
          "title": {
           "x": 0.05
          },
          "xaxis": {
           "automargin": true,
           "gridcolor": "white",
           "linecolor": "white",
           "ticks": "",
           "title": {
            "standoff": 15
           },
           "zerolinecolor": "white",
           "zerolinewidth": 2
          },
          "yaxis": {
           "automargin": true,
           "gridcolor": "white",
           "linecolor": "white",
           "ticks": "",
           "title": {
            "standoff": 15
           },
           "zerolinecolor": "white",
           "zerolinewidth": 2
          }
         }
        },
        "title": {
         "font": {
          "color": "#4D5663"
         }
        },
        "xaxis": {
         "gridcolor": "#E1E5ED",
         "showgrid": true,
         "tickfont": {
          "color": "#4D5663"
         },
         "title": {
          "font": {
           "color": "#4D5663"
          },
          "text": ""
         },
         "zerolinecolor": "#E1E5ED"
        },
        "yaxis": {
         "gridcolor": "#E1E5ED",
         "showgrid": true,
         "tickfont": {
          "color": "#4D5663"
         },
         "title": {
          "font": {
           "color": "#4D5663"
          },
          "text": ""
         },
         "zerolinecolor": "#E1E5ED"
        }
       }
      },
      "text/html": [
       "<div>\n",
       "        \n",
       "        \n",
       "            <div id=\"0333d8a5-0741-4160-ae44-4df38b2350ec\" class=\"plotly-graph-div\" style=\"height:525px; width:100%;\"></div>\n",
       "            <script type=\"text/javascript\">\n",
       "                require([\"plotly\"], function(Plotly) {\n",
       "                    window.PLOTLYENV=window.PLOTLYENV || {};\n",
       "                    window.PLOTLYENV.BASE_URL='https://plot.ly';\n",
       "                    \n",
       "                if (document.getElementById(\"0333d8a5-0741-4160-ae44-4df38b2350ec\")) {\n",
       "                    Plotly.newPlot(\n",
       "                        '0333d8a5-0741-4160-ae44-4df38b2350ec',\n",
       "                        [{\"colorscale\": [[0.0, \"rgb(165,0,38)\"], [0.1, \"rgb(215,48,39)\"], [0.2, \"rgb(244,109,67)\"], [0.3, \"rgb(253,174,97)\"], [0.4, \"rgb(254,224,144)\"], [0.5, \"rgb(255,255,191)\"], [0.6, \"rgb(224,243,248)\"], [0.7, \"rgb(171,217,233)\"], [0.8, \"rgb(116,173,209)\"], [0.9, \"rgb(69,117,180)\"], [1.0, \"rgb(49,54,149)\"]], \"type\": \"surface\", \"x\": [0, 1, 2, 3, 4], \"y\": [\"x\", \"y\", \"z\"], \"z\": [[1, 2, 3, 4, 5], [10, 20, 30, 20, 10], [5, 4, 3, 2, 1]]}],\n",
       "                        {\"legend\": {\"bgcolor\": \"#F5F6F9\", \"font\": {\"color\": \"#4D5663\"}}, \"paper_bgcolor\": \"#F5F6F9\", \"plot_bgcolor\": \"#F5F6F9\", \"template\": {\"data\": {\"bar\": [{\"error_x\": {\"color\": \"#2a3f5f\"}, \"error_y\": {\"color\": \"#2a3f5f\"}, \"marker\": {\"line\": {\"color\": \"#E5ECF6\", \"width\": 0.5}}, \"type\": \"bar\"}], \"barpolar\": [{\"marker\": {\"line\": {\"color\": \"#E5ECF6\", \"width\": 0.5}}, \"type\": \"barpolar\"}], \"carpet\": [{\"aaxis\": {\"endlinecolor\": \"#2a3f5f\", \"gridcolor\": \"white\", \"linecolor\": \"white\", \"minorgridcolor\": \"white\", \"startlinecolor\": \"#2a3f5f\"}, \"baxis\": {\"endlinecolor\": \"#2a3f5f\", \"gridcolor\": \"white\", \"linecolor\": \"white\", \"minorgridcolor\": \"white\", \"startlinecolor\": \"#2a3f5f\"}, \"type\": \"carpet\"}], \"choropleth\": [{\"colorbar\": {\"outlinewidth\": 0, \"ticks\": \"\"}, \"type\": \"choropleth\"}], \"contour\": [{\"colorbar\": {\"outlinewidth\": 0, \"ticks\": \"\"}, \"colorscale\": [[0.0, \"#0d0887\"], [0.1111111111111111, \"#46039f\"], [0.2222222222222222, \"#7201a8\"], [0.3333333333333333, \"#9c179e\"], [0.4444444444444444, \"#bd3786\"], [0.5555555555555556, \"#d8576b\"], [0.6666666666666666, \"#ed7953\"], [0.7777777777777778, \"#fb9f3a\"], [0.8888888888888888, \"#fdca26\"], [1.0, \"#f0f921\"]], \"type\": \"contour\"}], \"contourcarpet\": [{\"colorbar\": {\"outlinewidth\": 0, \"ticks\": \"\"}, \"type\": \"contourcarpet\"}], \"heatmap\": [{\"colorbar\": {\"outlinewidth\": 0, \"ticks\": \"\"}, \"colorscale\": [[0.0, \"#0d0887\"], [0.1111111111111111, \"#46039f\"], [0.2222222222222222, \"#7201a8\"], [0.3333333333333333, \"#9c179e\"], [0.4444444444444444, \"#bd3786\"], [0.5555555555555556, \"#d8576b\"], [0.6666666666666666, \"#ed7953\"], [0.7777777777777778, \"#fb9f3a\"], [0.8888888888888888, \"#fdca26\"], [1.0, \"#f0f921\"]], \"type\": \"heatmap\"}], \"heatmapgl\": [{\"colorbar\": {\"outlinewidth\": 0, \"ticks\": \"\"}, \"colorscale\": [[0.0, \"#0d0887\"], [0.1111111111111111, \"#46039f\"], [0.2222222222222222, \"#7201a8\"], [0.3333333333333333, \"#9c179e\"], [0.4444444444444444, \"#bd3786\"], [0.5555555555555556, \"#d8576b\"], [0.6666666666666666, \"#ed7953\"], [0.7777777777777778, \"#fb9f3a\"], [0.8888888888888888, \"#fdca26\"], [1.0, \"#f0f921\"]], \"type\": \"heatmapgl\"}], \"histogram\": [{\"marker\": {\"colorbar\": {\"outlinewidth\": 0, \"ticks\": \"\"}}, \"type\": \"histogram\"}], \"histogram2d\": [{\"colorbar\": {\"outlinewidth\": 0, \"ticks\": \"\"}, \"colorscale\": [[0.0, \"#0d0887\"], [0.1111111111111111, \"#46039f\"], [0.2222222222222222, \"#7201a8\"], [0.3333333333333333, \"#9c179e\"], [0.4444444444444444, \"#bd3786\"], [0.5555555555555556, \"#d8576b\"], [0.6666666666666666, \"#ed7953\"], [0.7777777777777778, \"#fb9f3a\"], [0.8888888888888888, \"#fdca26\"], [1.0, \"#f0f921\"]], \"type\": \"histogram2d\"}], \"histogram2dcontour\": [{\"colorbar\": {\"outlinewidth\": 0, \"ticks\": \"\"}, \"colorscale\": [[0.0, \"#0d0887\"], [0.1111111111111111, \"#46039f\"], [0.2222222222222222, \"#7201a8\"], [0.3333333333333333, \"#9c179e\"], [0.4444444444444444, \"#bd3786\"], [0.5555555555555556, \"#d8576b\"], [0.6666666666666666, \"#ed7953\"], [0.7777777777777778, \"#fb9f3a\"], [0.8888888888888888, \"#fdca26\"], [1.0, \"#f0f921\"]], \"type\": \"histogram2dcontour\"}], \"mesh3d\": [{\"colorbar\": {\"outlinewidth\": 0, \"ticks\": \"\"}, \"type\": \"mesh3d\"}], \"parcoords\": [{\"line\": {\"colorbar\": {\"outlinewidth\": 0, \"ticks\": \"\"}}, \"type\": \"parcoords\"}], \"pie\": [{\"automargin\": true, \"type\": \"pie\"}], \"scatter\": [{\"marker\": {\"colorbar\": {\"outlinewidth\": 0, \"ticks\": \"\"}}, \"type\": \"scatter\"}], \"scatter3d\": [{\"line\": {\"colorbar\": {\"outlinewidth\": 0, \"ticks\": \"\"}}, \"marker\": {\"colorbar\": {\"outlinewidth\": 0, \"ticks\": \"\"}}, \"type\": \"scatter3d\"}], \"scattercarpet\": [{\"marker\": {\"colorbar\": {\"outlinewidth\": 0, \"ticks\": \"\"}}, \"type\": \"scattercarpet\"}], \"scattergeo\": [{\"marker\": {\"colorbar\": {\"outlinewidth\": 0, \"ticks\": \"\"}}, \"type\": \"scattergeo\"}], \"scattergl\": [{\"marker\": {\"colorbar\": {\"outlinewidth\": 0, \"ticks\": \"\"}}, \"type\": \"scattergl\"}], \"scattermapbox\": [{\"marker\": {\"colorbar\": {\"outlinewidth\": 0, \"ticks\": \"\"}}, \"type\": \"scattermapbox\"}], \"scatterpolar\": [{\"marker\": {\"colorbar\": {\"outlinewidth\": 0, \"ticks\": \"\"}}, \"type\": \"scatterpolar\"}], \"scatterpolargl\": [{\"marker\": {\"colorbar\": {\"outlinewidth\": 0, \"ticks\": \"\"}}, \"type\": \"scatterpolargl\"}], \"scatterternary\": [{\"marker\": {\"colorbar\": {\"outlinewidth\": 0, \"ticks\": \"\"}}, \"type\": \"scatterternary\"}], \"surface\": [{\"colorbar\": {\"outlinewidth\": 0, \"ticks\": \"\"}, \"colorscale\": [[0.0, \"#0d0887\"], [0.1111111111111111, \"#46039f\"], [0.2222222222222222, \"#7201a8\"], [0.3333333333333333, \"#9c179e\"], [0.4444444444444444, \"#bd3786\"], [0.5555555555555556, \"#d8576b\"], [0.6666666666666666, \"#ed7953\"], [0.7777777777777778, \"#fb9f3a\"], [0.8888888888888888, \"#fdca26\"], [1.0, \"#f0f921\"]], \"type\": \"surface\"}], \"table\": [{\"cells\": {\"fill\": {\"color\": \"#EBF0F8\"}, \"line\": {\"color\": \"white\"}}, \"header\": {\"fill\": {\"color\": \"#C8D4E3\"}, \"line\": {\"color\": \"white\"}}, \"type\": \"table\"}]}, \"layout\": {\"annotationdefaults\": {\"arrowcolor\": \"#2a3f5f\", \"arrowhead\": 0, \"arrowwidth\": 1}, \"coloraxis\": {\"colorbar\": {\"outlinewidth\": 0, \"ticks\": \"\"}}, \"colorscale\": {\"diverging\": [[0, \"#8e0152\"], [0.1, \"#c51b7d\"], [0.2, \"#de77ae\"], [0.3, \"#f1b6da\"], [0.4, \"#fde0ef\"], [0.5, \"#f7f7f7\"], [0.6, \"#e6f5d0\"], [0.7, \"#b8e186\"], [0.8, \"#7fbc41\"], [0.9, \"#4d9221\"], [1, \"#276419\"]], \"sequential\": [[0.0, \"#0d0887\"], [0.1111111111111111, \"#46039f\"], [0.2222222222222222, \"#7201a8\"], [0.3333333333333333, \"#9c179e\"], [0.4444444444444444, \"#bd3786\"], [0.5555555555555556, \"#d8576b\"], [0.6666666666666666, \"#ed7953\"], [0.7777777777777778, \"#fb9f3a\"], [0.8888888888888888, \"#fdca26\"], [1.0, \"#f0f921\"]], \"sequentialminus\": [[0.0, \"#0d0887\"], [0.1111111111111111, \"#46039f\"], [0.2222222222222222, \"#7201a8\"], [0.3333333333333333, \"#9c179e\"], [0.4444444444444444, \"#bd3786\"], [0.5555555555555556, \"#d8576b\"], [0.6666666666666666, \"#ed7953\"], [0.7777777777777778, \"#fb9f3a\"], [0.8888888888888888, \"#fdca26\"], [1.0, \"#f0f921\"]]}, \"colorway\": [\"#636efa\", \"#EF553B\", \"#00cc96\", \"#ab63fa\", \"#FFA15A\", \"#19d3f3\", \"#FF6692\", \"#B6E880\", \"#FF97FF\", \"#FECB52\"], \"font\": {\"color\": \"#2a3f5f\"}, \"geo\": {\"bgcolor\": \"white\", \"lakecolor\": \"white\", \"landcolor\": \"#E5ECF6\", \"showlakes\": true, \"showland\": true, \"subunitcolor\": \"white\"}, \"hoverlabel\": {\"align\": \"left\"}, \"hovermode\": \"closest\", \"mapbox\": {\"style\": \"light\"}, \"paper_bgcolor\": \"white\", \"plot_bgcolor\": \"#E5ECF6\", \"polar\": {\"angularaxis\": {\"gridcolor\": \"white\", \"linecolor\": \"white\", \"ticks\": \"\"}, \"bgcolor\": \"#E5ECF6\", \"radialaxis\": {\"gridcolor\": \"white\", \"linecolor\": \"white\", \"ticks\": \"\"}}, \"scene\": {\"xaxis\": {\"backgroundcolor\": \"#E5ECF6\", \"gridcolor\": \"white\", \"gridwidth\": 2, \"linecolor\": \"white\", \"showbackground\": true, \"ticks\": \"\", \"zerolinecolor\": \"white\"}, \"yaxis\": {\"backgroundcolor\": \"#E5ECF6\", \"gridcolor\": \"white\", \"gridwidth\": 2, \"linecolor\": \"white\", \"showbackground\": true, \"ticks\": \"\", \"zerolinecolor\": \"white\"}, \"zaxis\": {\"backgroundcolor\": \"#E5ECF6\", \"gridcolor\": \"white\", \"gridwidth\": 2, \"linecolor\": \"white\", \"showbackground\": true, \"ticks\": \"\", \"zerolinecolor\": \"white\"}}, \"shapedefaults\": {\"line\": {\"color\": \"#2a3f5f\"}}, \"ternary\": {\"aaxis\": {\"gridcolor\": \"white\", \"linecolor\": \"white\", \"ticks\": \"\"}, \"baxis\": {\"gridcolor\": \"white\", \"linecolor\": \"white\", \"ticks\": \"\"}, \"bgcolor\": \"#E5ECF6\", \"caxis\": {\"gridcolor\": \"white\", \"linecolor\": \"white\", \"ticks\": \"\"}}, \"title\": {\"x\": 0.05}, \"xaxis\": {\"automargin\": true, \"gridcolor\": \"white\", \"linecolor\": \"white\", \"ticks\": \"\", \"title\": {\"standoff\": 15}, \"zerolinecolor\": \"white\", \"zerolinewidth\": 2}, \"yaxis\": {\"automargin\": true, \"gridcolor\": \"white\", \"linecolor\": \"white\", \"ticks\": \"\", \"title\": {\"standoff\": 15}, \"zerolinecolor\": \"white\", \"zerolinewidth\": 2}}}, \"title\": {\"font\": {\"color\": \"#4D5663\"}}, \"xaxis\": {\"gridcolor\": \"#E1E5ED\", \"showgrid\": true, \"tickfont\": {\"color\": \"#4D5663\"}, \"title\": {\"font\": {\"color\": \"#4D5663\"}, \"text\": \"\"}, \"zerolinecolor\": \"#E1E5ED\"}, \"yaxis\": {\"gridcolor\": \"#E1E5ED\", \"showgrid\": true, \"tickfont\": {\"color\": \"#4D5663\"}, \"title\": {\"font\": {\"color\": \"#4D5663\"}, \"text\": \"\"}, \"zerolinecolor\": \"#E1E5ED\"}},\n",
       "                        {\"showLink\": true, \"linkText\": \"Export to plot.ly\", \"plotlyServerURL\": \"https://plot.ly\", \"responsive\": true}\n",
       "                    ).then(function(){\n",
       "                            \n",
       "var gd = document.getElementById('0333d8a5-0741-4160-ae44-4df38b2350ec');\n",
       "var x = new MutationObserver(function (mutations, observer) {{\n",
       "        var display = window.getComputedStyle(gd).display;\n",
       "        if (!display || display === 'none') {{\n",
       "            console.log([gd, 'removed!']);\n",
       "            Plotly.purge(gd);\n",
       "            observer.disconnect();\n",
       "        }}\n",
       "}});\n",
       "\n",
       "// Listen for the removal of the full notebook cells\n",
       "var notebookContainer = gd.closest('#notebook-container');\n",
       "if (notebookContainer) {{\n",
       "    x.observe(notebookContainer, {childList: true});\n",
       "}}\n",
       "\n",
       "// Listen for the clearing of the current output cell\n",
       "var outputEl = gd.closest('.output');\n",
       "if (outputEl) {{\n",
       "    x.observe(outputEl, {childList: true});\n",
       "}}\n",
       "\n",
       "                        })\n",
       "                };\n",
       "                });\n",
       "            </script>\n",
       "        </div>"
      ]
     },
     "metadata": {},
     "output_type": "display_data"
    }
   ],
   "source": [
    "df3.iplot(kind='surface',colorscale='rdylbu')"
   ]
  },
  {
   "cell_type": "code",
   "execution_count": null,
   "metadata": {},
   "outputs": [],
   "source": []
  },
  {
   "cell_type": "markdown",
   "metadata": {},
   "source": [
    "## Spread"
   ]
  },
  {
   "cell_type": "code",
   "execution_count": 59,
   "metadata": {},
   "outputs": [
    {
     "data": {
      "text/html": [
       "<div>\n",
       "<style scoped>\n",
       "    .dataframe tbody tr th:only-of-type {\n",
       "        vertical-align: middle;\n",
       "    }\n",
       "\n",
       "    .dataframe tbody tr th {\n",
       "        vertical-align: top;\n",
       "    }\n",
       "\n",
       "    .dataframe thead th {\n",
       "        text-align: right;\n",
       "    }\n",
       "</style>\n",
       "<table border=\"1\" class=\"dataframe\">\n",
       "  <thead>\n",
       "    <tr style=\"text-align: right;\">\n",
       "      <th></th>\n",
       "      <th>A</th>\n",
       "      <th>B</th>\n",
       "    </tr>\n",
       "  </thead>\n",
       "  <tbody>\n",
       "    <tr>\n",
       "      <th>0</th>\n",
       "      <td>1.151355</td>\n",
       "      <td>1.185145</td>\n",
       "    </tr>\n",
       "    <tr>\n",
       "      <th>1</th>\n",
       "      <td>-0.936165</td>\n",
       "      <td>-0.300876</td>\n",
       "    </tr>\n",
       "    <tr>\n",
       "      <th>2</th>\n",
       "      <td>-1.384623</td>\n",
       "      <td>-0.154327</td>\n",
       "    </tr>\n",
       "    <tr>\n",
       "      <th>3</th>\n",
       "      <td>-0.279678</td>\n",
       "      <td>2.402355</td>\n",
       "    </tr>\n",
       "    <tr>\n",
       "      <th>4</th>\n",
       "      <td>0.299175</td>\n",
       "      <td>1.905077</td>\n",
       "    </tr>\n",
       "    <tr>\n",
       "      <th>...</th>\n",
       "      <td>...</td>\n",
       "      <td>...</td>\n",
       "    </tr>\n",
       "    <tr>\n",
       "      <th>95</th>\n",
       "      <td>0.963680</td>\n",
       "      <td>0.030227</td>\n",
       "    </tr>\n",
       "    <tr>\n",
       "      <th>96</th>\n",
       "      <td>0.603015</td>\n",
       "      <td>-0.062817</td>\n",
       "    </tr>\n",
       "    <tr>\n",
       "      <th>97</th>\n",
       "      <td>0.384584</td>\n",
       "      <td>-0.431922</td>\n",
       "    </tr>\n",
       "    <tr>\n",
       "      <th>98</th>\n",
       "      <td>0.922509</td>\n",
       "      <td>-1.574555</td>\n",
       "    </tr>\n",
       "    <tr>\n",
       "      <th>99</th>\n",
       "      <td>-1.698159</td>\n",
       "      <td>-0.270933</td>\n",
       "    </tr>\n",
       "  </tbody>\n",
       "</table>\n",
       "<p>100 rows × 2 columns</p>\n",
       "</div>"
      ],
      "text/plain": [
       "           A         B\n",
       "0   1.151355  1.185145\n",
       "1  -0.936165 -0.300876\n",
       "2  -1.384623 -0.154327\n",
       "3  -0.279678  2.402355\n",
       "4   0.299175  1.905077\n",
       "..       ...       ...\n",
       "95  0.963680  0.030227\n",
       "96  0.603015 -0.062817\n",
       "97  0.384584 -0.431922\n",
       "98  0.922509 -1.574555\n",
       "99 -1.698159 -0.270933\n",
       "\n",
       "[100 rows x 2 columns]"
      ]
     },
     "execution_count": 59,
     "metadata": {},
     "output_type": "execute_result"
    }
   ],
   "source": [
    "df[['A','B']]"
   ]
  },
  {
   "cell_type": "code",
   "execution_count": 21,
   "metadata": {},
   "outputs": [
    {
     "name": "stderr",
     "output_type": "stream",
     "text": [
      "/opt/anaconda3/lib/python3.7/site-packages/cufflinks/plotlytools.py:849: FutureWarning:\n",
      "\n",
      "The pandas.np module is deprecated and will be removed from pandas in a future version. Import numpy directly instead\n",
      "\n",
      "/opt/anaconda3/lib/python3.7/site-packages/cufflinks/plotlytools.py:850: FutureWarning:\n",
      "\n",
      "The pandas.np module is deprecated and will be removed from pandas in a future version. Import numpy directly instead\n",
      "\n"
     ]
    },
    {
     "data": {
      "application/vnd.plotly.v1+json": {
       "config": {
        "linkText": "Export to plot.ly",
        "plotlyServerURL": "https://plot.ly",
        "showLink": true
       },
       "data": [
        {
         "line": {
          "color": "rgba(255, 153, 51, 1.0)",
          "dash": "solid",
          "shape": "linear",
          "width": 1.3
         },
         "mode": "lines",
         "name": "A",
         "text": "",
         "type": "scatter",
         "x": [
          0,
          1,
          2,
          3,
          4,
          5,
          6,
          7,
          8,
          9,
          10,
          11,
          12,
          13,
          14,
          15,
          16,
          17,
          18,
          19,
          20,
          21,
          22,
          23,
          24,
          25,
          26,
          27,
          28,
          29,
          30,
          31,
          32,
          33,
          34,
          35,
          36,
          37,
          38,
          39,
          40,
          41,
          42,
          43,
          44,
          45,
          46,
          47,
          48,
          49,
          50,
          51,
          52,
          53,
          54,
          55,
          56,
          57,
          58,
          59,
          60,
          61,
          62,
          63,
          64,
          65,
          66,
          67,
          68,
          69,
          70,
          71,
          72,
          73,
          74,
          75,
          76,
          77,
          78,
          79,
          80,
          81,
          82,
          83,
          84,
          85,
          86,
          87,
          88,
          89,
          90,
          91,
          92,
          93,
          94,
          95,
          96,
          97,
          98,
          99
         ],
         "y": [
          0.14612668346810087,
          -0.5150643958091404,
          0.993048156143555,
          1.5527565611998224,
          1.102283947004991,
          -2.4771102825000293,
          0.48535271977394,
          -5.997120287646958e-05,
          0.2728979161787896,
          0.14241623947301038,
          -1.7220839857720651,
          0.30479168294651615,
          0.1707684250962974,
          0.6284887755043934,
          -0.7850037217749689,
          -1.1402548447102723,
          -1.212921005329053,
          1.6666125120797235,
          -0.09525429818572638,
          0.9108399395049533,
          -0.6702079843333787,
          -1.8669920709525916,
          1.6318644734155594,
          1.4480641743665572,
          -0.20584286234038407,
          -0.9651543766878872,
          0.054311253909850594,
          -0.8525930402703691,
          -1.0848566097036196,
          0.22715446781637538,
          0.3832666550905886,
          0.21245695028944037,
          -0.0031198053900515408,
          0.8915668414548645,
          -0.9312260659908879,
          -0.6972621137761454,
          -0.9925852130986549,
          0.010933605125837584,
          -2.577121073522515,
          -0.5332388082426226,
          1.398496525872,
          -0.8155572221629612,
          -0.9005129185664054,
          -0.6955619676939033,
          0.24028614247159708,
          -0.14105753079894373,
          -0.6162582023375035,
          0.7117930742373001,
          -1.0493646331333701,
          0.7263194289302121,
          -0.9236975218766958,
          0.8101185177578193,
          1.2922900513898754,
          1.99699676194669,
          -0.6266941891218982,
          -0.6196112352306313,
          1.4954683268115523,
          -2.9005331410172115,
          -0.6144254979438556,
          0.3615184842676474,
          0.13442250363981223,
          0.22447929683610798,
          -0.011270422105252743,
          -0.14111226614689665,
          -0.5318804901994556,
          0.6493074858815254,
          -0.2738880128999982,
          0.9555595386204824,
          0.7301709692563028,
          -1.4019249307583348,
          -0.0068608240191281806,
          -0.471556716044861,
          -0.1636207573841797,
          -0.9752489923344956,
          0.669055675451341,
          -0.9661397959251155,
          -1.5034110492253536,
          -0.3084302353121149,
          -1.4552573990374573,
          -0.37808603369362415,
          -0.5446990641153069,
          -1.0328897660107783,
          -0.8372577968906745,
          -0.7355106232037772,
          -1.3968647200753481,
          0.11921688487375993,
          0.23800858493954524,
          -0.29667185768549426,
          0.045883212163534935,
          0.5890039282286894,
          -1.515246249470787,
          -0.1037424743255574,
          0.07342647048913974,
          -0.3282544929060498,
          -0.24513863167968586,
          -1.3103895947774227,
          -0.60110734404662,
          -0.5850987673040257,
          1.176709146660171,
          -0.02325427275882479
         ]
        },
        {
         "line": {
          "color": "rgba(55, 128, 191, 1.0)",
          "dash": "solid",
          "shape": "linear",
          "width": 1.3
         },
         "mode": "lines",
         "name": "B",
         "text": "",
         "type": "scatter",
         "x": [
          0,
          1,
          2,
          3,
          4,
          5,
          6,
          7,
          8,
          9,
          10,
          11,
          12,
          13,
          14,
          15,
          16,
          17,
          18,
          19,
          20,
          21,
          22,
          23,
          24,
          25,
          26,
          27,
          28,
          29,
          30,
          31,
          32,
          33,
          34,
          35,
          36,
          37,
          38,
          39,
          40,
          41,
          42,
          43,
          44,
          45,
          46,
          47,
          48,
          49,
          50,
          51,
          52,
          53,
          54,
          55,
          56,
          57,
          58,
          59,
          60,
          61,
          62,
          63,
          64,
          65,
          66,
          67,
          68,
          69,
          70,
          71,
          72,
          73,
          74,
          75,
          76,
          77,
          78,
          79,
          80,
          81,
          82,
          83,
          84,
          85,
          86,
          87,
          88,
          89,
          90,
          91,
          92,
          93,
          94,
          95,
          96,
          97,
          98,
          99
         ],
         "y": [
          -2.0656920513651267,
          -1.7381898395197724,
          0.5749599646022417,
          -0.20398456935783446,
          -0.4464639680231975,
          0.004383762977137288,
          1.9272186733110637,
          -0.22658980720241415,
          0.21319561532434866,
          1.5343976664498042,
          -1.7943920159076656,
          -0.31464543291905195,
          -0.8012811797214887,
          1.4806559714007235,
          -0.4525548517573186,
          0.8822175236625406,
          -0.6555046997736079,
          0.5534536525657692,
          2.5421760186772,
          -1.6020691181124989,
          -1.30636280422524,
          -1.6922777152443158,
          -0.43175033360126613,
          1.3397945250406764,
          1.624479377795292,
          0.3372467612579277,
          -0.7424600919093032,
          1.3006818267114464,
          1.4148160695972485,
          0.6663625542733729,
          0.5732067675544568,
          0.3051087364651881,
          -1.4396219914247679,
          -0.7734455403957947,
          -0.02599984732944654,
          -1.0276684058819194,
          0.22756933882402786,
          0.7164414805356631,
          -0.010551172850629087,
          0.7465062931883728,
          -0.15654287357337096,
          1.285174065039588,
          -0.20984792674432232,
          0.3483310438811358,
          -0.10533457004704003,
          -1.3834922346350678,
          1.0968266309403547,
          -0.25116973554735844,
          -0.6065382611435444,
          -1.0337927095418653,
          -0.21471649762200568,
          -0.6424738047013894,
          2.1808737180863007,
          -0.367996144391834,
          0.9167509740226216,
          -0.827535652526785,
          -0.8818030769631394,
          -0.9906853057636372,
          -0.8822721779505264,
          2.0782433585144706,
          2.0282557218946855,
          -0.8954929220192098,
          1.7866615436252993,
          -0.08049020901035116,
          -0.45378394604250133,
          0.5459523374270943,
          1.7197030126869044,
          0.3824670655552625,
          -0.957018082500895,
          -0.522255715100206,
          0.5221185782393967,
          -0.37485757127874875,
          -0.5566617662959691,
          -0.8123709478860014,
          0.29366965851694743,
          -0.0850413846996384,
          -0.04473175295591152,
          -0.37788189763614555,
          -0.6566266748681084,
          1.3646960859938941,
          -0.18554222363097056,
          1.2608857606412667,
          -0.5525218583285384,
          0.7235470324663364,
          1.5772106695463057,
          -1.1557689600287397,
          -0.5223993511642664,
          -0.6891779022249445,
          -1.1183442365618064,
          0.0995055407471527,
          0.2915282805930497,
          0.38447901373397075,
          0.24560328724944816,
          0.21860553849762943,
          1.1690011631045691,
          0.4694483908290291,
          1.2466428891069556,
          0.5636822430556009,
          -0.5317643553625623,
          -1.7177776755893035
         ]
        },
        {
         "connectgaps": false,
         "fill": "tozeroy",
         "line": {
          "color": "green",
          "dash": "solid",
          "shape": "linear",
          "width": 0.5
         },
         "mode": "lines",
         "name": "Spread",
         "showlegend": false,
         "type": "scatter",
         "x": [
          0,
          1,
          2,
          3,
          4,
          5,
          6,
          7,
          8,
          9,
          10,
          11,
          12,
          13,
          14,
          15,
          16,
          17,
          18,
          19,
          20,
          21,
          22,
          23,
          24,
          25,
          26,
          27,
          28,
          29,
          30,
          31,
          32,
          33,
          34,
          35,
          36,
          37,
          38,
          39,
          40,
          41,
          42,
          43,
          44,
          45,
          46,
          47,
          48,
          49,
          50,
          51,
          52,
          53,
          54,
          55,
          56,
          57,
          58,
          59,
          60,
          61,
          62,
          63,
          64,
          65,
          66,
          67,
          68,
          69,
          70,
          71,
          72,
          73,
          74,
          75,
          76,
          77,
          78,
          79,
          80,
          81,
          82,
          83,
          84,
          85,
          86,
          87,
          88,
          89,
          90,
          91,
          92,
          93,
          94,
          95,
          96,
          97,
          98,
          99
         ],
         "xaxis": "x2",
         "y": [
          2.2118187348332277,
          1.2231254437106318,
          0.41808819154131327,
          1.7567411305576568,
          1.5487479150281884,
          "",
          "",
          0.2265298359995377,
          0.05970230085444095,
          "",
          0.0723080301356005,
          0.619437115865568,
          0.9720496048177861,
          "",
          "",
          "",
          "",
          1.1131588595139543,
          "",
          2.512909057617452,
          0.6361548198918613,
          "",
          2.0636148070168256,
          0.10826964932588079,
          "",
          "",
          0.7967713458191538,
          "",
          "",
          "",
          "",
          "",
          1.4365021860347162,
          1.6650123818506593,
          "",
          0.330406292105774,
          "",
          "",
          "",
          "",
          1.5550393994453708,
          "",
          "",
          "",
          0.34562071251863713,
          1.242434703836124,
          "",
          0.9629628097846585,
          "",
          1.7601121384720773,
          "",
          1.4525923224592088,
          "",
          2.3649929063385238,
          "",
          0.20792441729615363,
          2.377271403774692,
          "",
          0.2678466800066708,
          "",
          "",
          1.1199722188553178,
          "",
          "",
          "",
          0.10335514845443117,
          "",
          0.5730924730652198,
          1.6871890517571977,
          "",
          "",
          "",
          0.3930410089117894,
          "",
          0.3753860169343936,
          "",
          "",
          0.06945166232403066,
          "",
          "",
          "",
          "",
          "",
          "",
          "",
          1.2749858449024998,
          0.7604079361038116,
          0.3925060445394502,
          1.1642274487253412,
          0.48949838748153673,
          "",
          "",
          "",
          "",
          "",
          "",
          "",
          "",
          1.7084735020227333,
          1.6945234028304788
         ],
         "yaxis": "y2"
        },
        {
         "connectgaps": false,
         "fill": "tozeroy",
         "line": {
          "color": "red",
          "dash": "solid",
          "shape": "linear",
          "width": 0.5
         },
         "mode": "lines",
         "name": "Spread",
         "showlegend": false,
         "type": "scatter",
         "x": [
          0,
          1,
          2,
          3,
          4,
          5,
          6,
          7,
          8,
          9,
          10,
          11,
          12,
          13,
          14,
          15,
          16,
          17,
          18,
          19,
          20,
          21,
          22,
          23,
          24,
          25,
          26,
          27,
          28,
          29,
          30,
          31,
          32,
          33,
          34,
          35,
          36,
          37,
          38,
          39,
          40,
          41,
          42,
          43,
          44,
          45,
          46,
          47,
          48,
          49,
          50,
          51,
          52,
          53,
          54,
          55,
          56,
          57,
          58,
          59,
          60,
          61,
          62,
          63,
          64,
          65,
          66,
          67,
          68,
          69,
          70,
          71,
          72,
          73,
          74,
          75,
          76,
          77,
          78,
          79,
          80,
          81,
          82,
          83,
          84,
          85,
          86,
          87,
          88,
          89,
          90,
          91,
          92,
          93,
          94,
          95,
          96,
          97,
          98,
          99
         ],
         "xaxis": "x2",
         "y": [
          "",
          "",
          "",
          "",
          "",
          -2.4814940454771666,
          -1.4418659535371237,
          "",
          "",
          -1.3919814269767938,
          "",
          "",
          "",
          -0.85216719589633,
          -0.33244887001765033,
          -2.0224723683728127,
          -0.557416305555445,
          "",
          -2.6374303168629263,
          "",
          "",
          -0.17471435570827576,
          "",
          "",
          -1.830322240135676,
          -1.302401137945815,
          "",
          -2.1532748669818154,
          -2.4996726793008683,
          -0.4392080864569975,
          -0.18994011246386816,
          -0.09265178617574774,
          "",
          "",
          -0.9052262186614414,
          "",
          -1.2201545519226826,
          -0.7055078754098255,
          -2.5665699006718863,
          -1.2797451014309953,
          "",
          -2.1007312872025494,
          -0.6906649918220831,
          -1.043893011575039,
          "",
          "",
          -1.713084833277858,
          "",
          -0.4428263719898258,
          "",
          -0.7089810242546901,
          "",
          -0.8885836666964253,
          "",
          -1.5434451631445198,
          "",
          "",
          -1.9098478352535744,
          "",
          -1.7167248742468233,
          -1.8938332182548732,
          "",
          -1.797931965730552,
          -0.06062205713654549,
          -0.07809654415695427,
          "",
          -1.9935910255869027,
          "",
          "",
          -0.8796692156581288,
          -0.5289794022585248,
          -0.09669914476611224,
          "",
          -0.16287804444849419,
          "",
          -0.881098411225477,
          -1.4586792962694421,
          "",
          -0.7986307241693489,
          -1.7427821196875182,
          -0.3591568404843363,
          -2.2937755266520448,
          -0.2847359385621361,
          -1.4590576556701138,
          -2.974075389621654,
          "",
          "",
          "",
          "",
          "",
          -1.8067745300638367,
          -0.48822148805952814,
          -0.17217681676030844,
          -0.5468600314036792,
          -1.4141397947842549,
          -1.7798379856064517,
          -1.8477502331535756,
          -1.1487810103596265,
          "",
          ""
         ],
         "yaxis": "y2"
        }
       ],
       "layout": {
        "hovermode": "x",
        "legend": {
         "bgcolor": "#F5F6F9",
         "font": {
          "color": "#4D5663"
         }
        },
        "paper_bgcolor": "#F5F6F9",
        "plot_bgcolor": "#F5F6F9",
        "template": {
         "data": {
          "bar": [
           {
            "error_x": {
             "color": "#2a3f5f"
            },
            "error_y": {
             "color": "#2a3f5f"
            },
            "marker": {
             "line": {
              "color": "#E5ECF6",
              "width": 0.5
             }
            },
            "type": "bar"
           }
          ],
          "barpolar": [
           {
            "marker": {
             "line": {
              "color": "#E5ECF6",
              "width": 0.5
             }
            },
            "type": "barpolar"
           }
          ],
          "carpet": [
           {
            "aaxis": {
             "endlinecolor": "#2a3f5f",
             "gridcolor": "white",
             "linecolor": "white",
             "minorgridcolor": "white",
             "startlinecolor": "#2a3f5f"
            },
            "baxis": {
             "endlinecolor": "#2a3f5f",
             "gridcolor": "white",
             "linecolor": "white",
             "minorgridcolor": "white",
             "startlinecolor": "#2a3f5f"
            },
            "type": "carpet"
           }
          ],
          "choropleth": [
           {
            "colorbar": {
             "outlinewidth": 0,
             "ticks": ""
            },
            "type": "choropleth"
           }
          ],
          "contour": [
           {
            "colorbar": {
             "outlinewidth": 0,
             "ticks": ""
            },
            "colorscale": [
             [
              0,
              "#0d0887"
             ],
             [
              0.1111111111111111,
              "#46039f"
             ],
             [
              0.2222222222222222,
              "#7201a8"
             ],
             [
              0.3333333333333333,
              "#9c179e"
             ],
             [
              0.4444444444444444,
              "#bd3786"
             ],
             [
              0.5555555555555556,
              "#d8576b"
             ],
             [
              0.6666666666666666,
              "#ed7953"
             ],
             [
              0.7777777777777778,
              "#fb9f3a"
             ],
             [
              0.8888888888888888,
              "#fdca26"
             ],
             [
              1,
              "#f0f921"
             ]
            ],
            "type": "contour"
           }
          ],
          "contourcarpet": [
           {
            "colorbar": {
             "outlinewidth": 0,
             "ticks": ""
            },
            "type": "contourcarpet"
           }
          ],
          "heatmap": [
           {
            "colorbar": {
             "outlinewidth": 0,
             "ticks": ""
            },
            "colorscale": [
             [
              0,
              "#0d0887"
             ],
             [
              0.1111111111111111,
              "#46039f"
             ],
             [
              0.2222222222222222,
              "#7201a8"
             ],
             [
              0.3333333333333333,
              "#9c179e"
             ],
             [
              0.4444444444444444,
              "#bd3786"
             ],
             [
              0.5555555555555556,
              "#d8576b"
             ],
             [
              0.6666666666666666,
              "#ed7953"
             ],
             [
              0.7777777777777778,
              "#fb9f3a"
             ],
             [
              0.8888888888888888,
              "#fdca26"
             ],
             [
              1,
              "#f0f921"
             ]
            ],
            "type": "heatmap"
           }
          ],
          "heatmapgl": [
           {
            "colorbar": {
             "outlinewidth": 0,
             "ticks": ""
            },
            "colorscale": [
             [
              0,
              "#0d0887"
             ],
             [
              0.1111111111111111,
              "#46039f"
             ],
             [
              0.2222222222222222,
              "#7201a8"
             ],
             [
              0.3333333333333333,
              "#9c179e"
             ],
             [
              0.4444444444444444,
              "#bd3786"
             ],
             [
              0.5555555555555556,
              "#d8576b"
             ],
             [
              0.6666666666666666,
              "#ed7953"
             ],
             [
              0.7777777777777778,
              "#fb9f3a"
             ],
             [
              0.8888888888888888,
              "#fdca26"
             ],
             [
              1,
              "#f0f921"
             ]
            ],
            "type": "heatmapgl"
           }
          ],
          "histogram": [
           {
            "marker": {
             "colorbar": {
              "outlinewidth": 0,
              "ticks": ""
             }
            },
            "type": "histogram"
           }
          ],
          "histogram2d": [
           {
            "colorbar": {
             "outlinewidth": 0,
             "ticks": ""
            },
            "colorscale": [
             [
              0,
              "#0d0887"
             ],
             [
              0.1111111111111111,
              "#46039f"
             ],
             [
              0.2222222222222222,
              "#7201a8"
             ],
             [
              0.3333333333333333,
              "#9c179e"
             ],
             [
              0.4444444444444444,
              "#bd3786"
             ],
             [
              0.5555555555555556,
              "#d8576b"
             ],
             [
              0.6666666666666666,
              "#ed7953"
             ],
             [
              0.7777777777777778,
              "#fb9f3a"
             ],
             [
              0.8888888888888888,
              "#fdca26"
             ],
             [
              1,
              "#f0f921"
             ]
            ],
            "type": "histogram2d"
           }
          ],
          "histogram2dcontour": [
           {
            "colorbar": {
             "outlinewidth": 0,
             "ticks": ""
            },
            "colorscale": [
             [
              0,
              "#0d0887"
             ],
             [
              0.1111111111111111,
              "#46039f"
             ],
             [
              0.2222222222222222,
              "#7201a8"
             ],
             [
              0.3333333333333333,
              "#9c179e"
             ],
             [
              0.4444444444444444,
              "#bd3786"
             ],
             [
              0.5555555555555556,
              "#d8576b"
             ],
             [
              0.6666666666666666,
              "#ed7953"
             ],
             [
              0.7777777777777778,
              "#fb9f3a"
             ],
             [
              0.8888888888888888,
              "#fdca26"
             ],
             [
              1,
              "#f0f921"
             ]
            ],
            "type": "histogram2dcontour"
           }
          ],
          "mesh3d": [
           {
            "colorbar": {
             "outlinewidth": 0,
             "ticks": ""
            },
            "type": "mesh3d"
           }
          ],
          "parcoords": [
           {
            "line": {
             "colorbar": {
              "outlinewidth": 0,
              "ticks": ""
             }
            },
            "type": "parcoords"
           }
          ],
          "pie": [
           {
            "automargin": true,
            "type": "pie"
           }
          ],
          "scatter": [
           {
            "marker": {
             "colorbar": {
              "outlinewidth": 0,
              "ticks": ""
             }
            },
            "type": "scatter"
           }
          ],
          "scatter3d": [
           {
            "line": {
             "colorbar": {
              "outlinewidth": 0,
              "ticks": ""
             }
            },
            "marker": {
             "colorbar": {
              "outlinewidth": 0,
              "ticks": ""
             }
            },
            "type": "scatter3d"
           }
          ],
          "scattercarpet": [
           {
            "marker": {
             "colorbar": {
              "outlinewidth": 0,
              "ticks": ""
             }
            },
            "type": "scattercarpet"
           }
          ],
          "scattergeo": [
           {
            "marker": {
             "colorbar": {
              "outlinewidth": 0,
              "ticks": ""
             }
            },
            "type": "scattergeo"
           }
          ],
          "scattergl": [
           {
            "marker": {
             "colorbar": {
              "outlinewidth": 0,
              "ticks": ""
             }
            },
            "type": "scattergl"
           }
          ],
          "scattermapbox": [
           {
            "marker": {
             "colorbar": {
              "outlinewidth": 0,
              "ticks": ""
             }
            },
            "type": "scattermapbox"
           }
          ],
          "scatterpolar": [
           {
            "marker": {
             "colorbar": {
              "outlinewidth": 0,
              "ticks": ""
             }
            },
            "type": "scatterpolar"
           }
          ],
          "scatterpolargl": [
           {
            "marker": {
             "colorbar": {
              "outlinewidth": 0,
              "ticks": ""
             }
            },
            "type": "scatterpolargl"
           }
          ],
          "scatterternary": [
           {
            "marker": {
             "colorbar": {
              "outlinewidth": 0,
              "ticks": ""
             }
            },
            "type": "scatterternary"
           }
          ],
          "surface": [
           {
            "colorbar": {
             "outlinewidth": 0,
             "ticks": ""
            },
            "colorscale": [
             [
              0,
              "#0d0887"
             ],
             [
              0.1111111111111111,
              "#46039f"
             ],
             [
              0.2222222222222222,
              "#7201a8"
             ],
             [
              0.3333333333333333,
              "#9c179e"
             ],
             [
              0.4444444444444444,
              "#bd3786"
             ],
             [
              0.5555555555555556,
              "#d8576b"
             ],
             [
              0.6666666666666666,
              "#ed7953"
             ],
             [
              0.7777777777777778,
              "#fb9f3a"
             ],
             [
              0.8888888888888888,
              "#fdca26"
             ],
             [
              1,
              "#f0f921"
             ]
            ],
            "type": "surface"
           }
          ],
          "table": [
           {
            "cells": {
             "fill": {
              "color": "#EBF0F8"
             },
             "line": {
              "color": "white"
             }
            },
            "header": {
             "fill": {
              "color": "#C8D4E3"
             },
             "line": {
              "color": "white"
             }
            },
            "type": "table"
           }
          ]
         },
         "layout": {
          "annotationdefaults": {
           "arrowcolor": "#2a3f5f",
           "arrowhead": 0,
           "arrowwidth": 1
          },
          "coloraxis": {
           "colorbar": {
            "outlinewidth": 0,
            "ticks": ""
           }
          },
          "colorscale": {
           "diverging": [
            [
             0,
             "#8e0152"
            ],
            [
             0.1,
             "#c51b7d"
            ],
            [
             0.2,
             "#de77ae"
            ],
            [
             0.3,
             "#f1b6da"
            ],
            [
             0.4,
             "#fde0ef"
            ],
            [
             0.5,
             "#f7f7f7"
            ],
            [
             0.6,
             "#e6f5d0"
            ],
            [
             0.7,
             "#b8e186"
            ],
            [
             0.8,
             "#7fbc41"
            ],
            [
             0.9,
             "#4d9221"
            ],
            [
             1,
             "#276419"
            ]
           ],
           "sequential": [
            [
             0,
             "#0d0887"
            ],
            [
             0.1111111111111111,
             "#46039f"
            ],
            [
             0.2222222222222222,
             "#7201a8"
            ],
            [
             0.3333333333333333,
             "#9c179e"
            ],
            [
             0.4444444444444444,
             "#bd3786"
            ],
            [
             0.5555555555555556,
             "#d8576b"
            ],
            [
             0.6666666666666666,
             "#ed7953"
            ],
            [
             0.7777777777777778,
             "#fb9f3a"
            ],
            [
             0.8888888888888888,
             "#fdca26"
            ],
            [
             1,
             "#f0f921"
            ]
           ],
           "sequentialminus": [
            [
             0,
             "#0d0887"
            ],
            [
             0.1111111111111111,
             "#46039f"
            ],
            [
             0.2222222222222222,
             "#7201a8"
            ],
            [
             0.3333333333333333,
             "#9c179e"
            ],
            [
             0.4444444444444444,
             "#bd3786"
            ],
            [
             0.5555555555555556,
             "#d8576b"
            ],
            [
             0.6666666666666666,
             "#ed7953"
            ],
            [
             0.7777777777777778,
             "#fb9f3a"
            ],
            [
             0.8888888888888888,
             "#fdca26"
            ],
            [
             1,
             "#f0f921"
            ]
           ]
          },
          "colorway": [
           "#636efa",
           "#EF553B",
           "#00cc96",
           "#ab63fa",
           "#FFA15A",
           "#19d3f3",
           "#FF6692",
           "#B6E880",
           "#FF97FF",
           "#FECB52"
          ],
          "font": {
           "color": "#2a3f5f"
          },
          "geo": {
           "bgcolor": "white",
           "lakecolor": "white",
           "landcolor": "#E5ECF6",
           "showlakes": true,
           "showland": true,
           "subunitcolor": "white"
          },
          "hoverlabel": {
           "align": "left"
          },
          "hovermode": "closest",
          "mapbox": {
           "style": "light"
          },
          "paper_bgcolor": "white",
          "plot_bgcolor": "#E5ECF6",
          "polar": {
           "angularaxis": {
            "gridcolor": "white",
            "linecolor": "white",
            "ticks": ""
           },
           "bgcolor": "#E5ECF6",
           "radialaxis": {
            "gridcolor": "white",
            "linecolor": "white",
            "ticks": ""
           }
          },
          "scene": {
           "xaxis": {
            "backgroundcolor": "#E5ECF6",
            "gridcolor": "white",
            "gridwidth": 2,
            "linecolor": "white",
            "showbackground": true,
            "ticks": "",
            "zerolinecolor": "white"
           },
           "yaxis": {
            "backgroundcolor": "#E5ECF6",
            "gridcolor": "white",
            "gridwidth": 2,
            "linecolor": "white",
            "showbackground": true,
            "ticks": "",
            "zerolinecolor": "white"
           },
           "zaxis": {
            "backgroundcolor": "#E5ECF6",
            "gridcolor": "white",
            "gridwidth": 2,
            "linecolor": "white",
            "showbackground": true,
            "ticks": "",
            "zerolinecolor": "white"
           }
          },
          "shapedefaults": {
           "line": {
            "color": "#2a3f5f"
           }
          },
          "ternary": {
           "aaxis": {
            "gridcolor": "white",
            "linecolor": "white",
            "ticks": ""
           },
           "baxis": {
            "gridcolor": "white",
            "linecolor": "white",
            "ticks": ""
           },
           "bgcolor": "#E5ECF6",
           "caxis": {
            "gridcolor": "white",
            "linecolor": "white",
            "ticks": ""
           }
          },
          "title": {
           "x": 0.05
          },
          "xaxis": {
           "automargin": true,
           "gridcolor": "white",
           "linecolor": "white",
           "ticks": "",
           "title": {
            "standoff": 15
           },
           "zerolinecolor": "white",
           "zerolinewidth": 2
          },
          "yaxis": {
           "automargin": true,
           "gridcolor": "white",
           "linecolor": "white",
           "ticks": "",
           "title": {
            "standoff": 15
           },
           "zerolinecolor": "white",
           "zerolinewidth": 2
          }
         }
        },
        "title": {
         "font": {
          "color": "#4D5663"
         }
        },
        "xaxis": {
         "gridcolor": "#E1E5ED",
         "showgrid": true,
         "tickfont": {
          "color": "#4D5663"
         },
         "title": {
          "font": {
           "color": "#4D5663"
          },
          "text": ""
         },
         "zerolinecolor": "#E1E5ED"
        },
        "xaxis2": {
         "anchor": "y2",
         "gridcolor": "#E1E5ED",
         "showgrid": true,
         "showticklabels": false,
         "tickfont": {
          "color": "#4D5663"
         },
         "title": {
          "font": {
           "color": "#4D5663"
          },
          "text": ""
         },
         "zerolinecolor": "#E1E5ED"
        },
        "yaxis": {
         "domain": [
          0.3,
          1
         ],
         "gridcolor": "#E1E5ED",
         "showgrid": true,
         "tickfont": {
          "color": "#4D5663"
         },
         "title": {
          "font": {
           "color": "#4D5663"
          },
          "text": ""
         },
         "zerolinecolor": "#E1E5ED"
        },
        "yaxis2": {
         "domain": [
          0,
          0.25
         ],
         "gridcolor": "#E1E5ED",
         "showgrid": true,
         "tickfont": {
          "color": "#4D5663"
         },
         "title": {
          "font": {
           "color": "#4D5663"
          },
          "text": "Spread"
         },
         "zerolinecolor": "#E1E5ED"
        }
       }
      },
      "text/html": [
       "<div>\n",
       "        \n",
       "        \n",
       "            <div id=\"4210f4dc-de8b-4afd-8ec3-6a1f1dd04ee0\" class=\"plotly-graph-div\" style=\"height:525px; width:100%;\"></div>\n",
       "            <script type=\"text/javascript\">\n",
       "                require([\"plotly\"], function(Plotly) {\n",
       "                    window.PLOTLYENV=window.PLOTLYENV || {};\n",
       "                    window.PLOTLYENV.BASE_URL='https://plot.ly';\n",
       "                    \n",
       "                if (document.getElementById(\"4210f4dc-de8b-4afd-8ec3-6a1f1dd04ee0\")) {\n",
       "                    Plotly.newPlot(\n",
       "                        '4210f4dc-de8b-4afd-8ec3-6a1f1dd04ee0',\n",
       "                        [{\"line\": {\"color\": \"rgba(255, 153, 51, 1.0)\", \"dash\": \"solid\", \"shape\": \"linear\", \"width\": 1.3}, \"mode\": \"lines\", \"name\": \"A\", \"text\": \"\", \"type\": \"scatter\", \"x\": [0, 1, 2, 3, 4, 5, 6, 7, 8, 9, 10, 11, 12, 13, 14, 15, 16, 17, 18, 19, 20, 21, 22, 23, 24, 25, 26, 27, 28, 29, 30, 31, 32, 33, 34, 35, 36, 37, 38, 39, 40, 41, 42, 43, 44, 45, 46, 47, 48, 49, 50, 51, 52, 53, 54, 55, 56, 57, 58, 59, 60, 61, 62, 63, 64, 65, 66, 67, 68, 69, 70, 71, 72, 73, 74, 75, 76, 77, 78, 79, 80, 81, 82, 83, 84, 85, 86, 87, 88, 89, 90, 91, 92, 93, 94, 95, 96, 97, 98, 99], \"y\": [0.14612668346810087, -0.5150643958091404, 0.993048156143555, 1.5527565611998224, 1.102283947004991, -2.4771102825000293, 0.48535271977394, -5.997120287646958e-05, 0.2728979161787896, 0.14241623947301038, -1.7220839857720651, 0.30479168294651615, 0.1707684250962974, 0.6284887755043934, -0.7850037217749689, -1.1402548447102723, -1.212921005329053, 1.6666125120797235, -0.09525429818572638, 0.9108399395049533, -0.6702079843333787, -1.8669920709525916, 1.6318644734155594, 1.4480641743665572, -0.20584286234038407, -0.9651543766878872, 0.054311253909850594, -0.8525930402703691, -1.0848566097036196, 0.22715446781637538, 0.3832666550905886, 0.21245695028944037, -0.0031198053900515408, 0.8915668414548645, -0.9312260659908879, -0.6972621137761454, -0.9925852130986549, 0.010933605125837584, -2.577121073522515, -0.5332388082426226, 1.398496525872, -0.8155572221629612, -0.9005129185664054, -0.6955619676939033, 0.24028614247159708, -0.14105753079894373, -0.6162582023375035, 0.7117930742373001, -1.0493646331333701, 0.7263194289302121, -0.9236975218766958, 0.8101185177578193, 1.2922900513898754, 1.99699676194669, -0.6266941891218982, -0.6196112352306313, 1.4954683268115523, -2.9005331410172115, -0.6144254979438556, 0.3615184842676474, 0.13442250363981223, 0.22447929683610798, -0.011270422105252743, -0.14111226614689665, -0.5318804901994556, 0.6493074858815254, -0.2738880128999982, 0.9555595386204824, 0.7301709692563028, -1.4019249307583348, -0.0068608240191281806, -0.471556716044861, -0.1636207573841797, -0.9752489923344956, 0.669055675451341, -0.9661397959251155, -1.5034110492253536, -0.3084302353121149, -1.4552573990374573, -0.37808603369362415, -0.5446990641153069, -1.0328897660107783, -0.8372577968906745, -0.7355106232037772, -1.3968647200753481, 0.11921688487375993, 0.23800858493954524, -0.29667185768549426, 0.045883212163534935, 0.5890039282286894, -1.515246249470787, -0.1037424743255574, 0.07342647048913974, -0.3282544929060498, -0.24513863167968586, -1.3103895947774227, -0.60110734404662, -0.5850987673040257, 1.176709146660171, -0.02325427275882479]}, {\"line\": {\"color\": \"rgba(55, 128, 191, 1.0)\", \"dash\": \"solid\", \"shape\": \"linear\", \"width\": 1.3}, \"mode\": \"lines\", \"name\": \"B\", \"text\": \"\", \"type\": \"scatter\", \"x\": [0, 1, 2, 3, 4, 5, 6, 7, 8, 9, 10, 11, 12, 13, 14, 15, 16, 17, 18, 19, 20, 21, 22, 23, 24, 25, 26, 27, 28, 29, 30, 31, 32, 33, 34, 35, 36, 37, 38, 39, 40, 41, 42, 43, 44, 45, 46, 47, 48, 49, 50, 51, 52, 53, 54, 55, 56, 57, 58, 59, 60, 61, 62, 63, 64, 65, 66, 67, 68, 69, 70, 71, 72, 73, 74, 75, 76, 77, 78, 79, 80, 81, 82, 83, 84, 85, 86, 87, 88, 89, 90, 91, 92, 93, 94, 95, 96, 97, 98, 99], \"y\": [-2.0656920513651267, -1.7381898395197724, 0.5749599646022417, -0.20398456935783446, -0.4464639680231975, 0.004383762977137288, 1.9272186733110637, -0.22658980720241415, 0.21319561532434866, 1.5343976664498042, -1.7943920159076656, -0.31464543291905195, -0.8012811797214887, 1.4806559714007235, -0.4525548517573186, 0.8822175236625406, -0.6555046997736079, 0.5534536525657692, 2.5421760186772, -1.6020691181124989, -1.30636280422524, -1.6922777152443158, -0.43175033360126613, 1.3397945250406764, 1.624479377795292, 0.3372467612579277, -0.7424600919093032, 1.3006818267114464, 1.4148160695972485, 0.6663625542733729, 0.5732067675544568, 0.3051087364651881, -1.4396219914247679, -0.7734455403957947, -0.02599984732944654, -1.0276684058819194, 0.22756933882402786, 0.7164414805356631, -0.010551172850629087, 0.7465062931883728, -0.15654287357337096, 1.285174065039588, -0.20984792674432232, 0.3483310438811358, -0.10533457004704003, -1.3834922346350678, 1.0968266309403547, -0.25116973554735844, -0.6065382611435444, -1.0337927095418653, -0.21471649762200568, -0.6424738047013894, 2.1808737180863007, -0.367996144391834, 0.9167509740226216, -0.827535652526785, -0.8818030769631394, -0.9906853057636372, -0.8822721779505264, 2.0782433585144706, 2.0282557218946855, -0.8954929220192098, 1.7866615436252993, -0.08049020901035116, -0.45378394604250133, 0.5459523374270943, 1.7197030126869044, 0.3824670655552625, -0.957018082500895, -0.522255715100206, 0.5221185782393967, -0.37485757127874875, -0.5566617662959691, -0.8123709478860014, 0.29366965851694743, -0.0850413846996384, -0.04473175295591152, -0.37788189763614555, -0.6566266748681084, 1.3646960859938941, -0.18554222363097056, 1.2608857606412667, -0.5525218583285384, 0.7235470324663364, 1.5772106695463057, -1.1557689600287397, -0.5223993511642664, -0.6891779022249445, -1.1183442365618064, 0.0995055407471527, 0.2915282805930497, 0.38447901373397075, 0.24560328724944816, 0.21860553849762943, 1.1690011631045691, 0.4694483908290291, 1.2466428891069556, 0.5636822430556009, -0.5317643553625623, -1.7177776755893035]}, {\"connectgaps\": false, \"fill\": \"tozeroy\", \"line\": {\"color\": \"green\", \"dash\": \"solid\", \"shape\": \"linear\", \"width\": 0.5}, \"mode\": \"lines\", \"name\": \"Spread\", \"showlegend\": false, \"type\": \"scatter\", \"x\": [0, 1, 2, 3, 4, 5, 6, 7, 8, 9, 10, 11, 12, 13, 14, 15, 16, 17, 18, 19, 20, 21, 22, 23, 24, 25, 26, 27, 28, 29, 30, 31, 32, 33, 34, 35, 36, 37, 38, 39, 40, 41, 42, 43, 44, 45, 46, 47, 48, 49, 50, 51, 52, 53, 54, 55, 56, 57, 58, 59, 60, 61, 62, 63, 64, 65, 66, 67, 68, 69, 70, 71, 72, 73, 74, 75, 76, 77, 78, 79, 80, 81, 82, 83, 84, 85, 86, 87, 88, 89, 90, 91, 92, 93, 94, 95, 96, 97, 98, 99], \"xaxis\": \"x2\", \"y\": [2.2118187348332277, 1.2231254437106318, 0.41808819154131327, 1.7567411305576568, 1.5487479150281884, \"\", \"\", 0.2265298359995377, 0.05970230085444095, \"\", 0.0723080301356005, 0.619437115865568, 0.9720496048177861, \"\", \"\", \"\", \"\", 1.1131588595139543, \"\", 2.512909057617452, 0.6361548198918613, \"\", 2.0636148070168256, 0.10826964932588079, \"\", \"\", 0.7967713458191538, \"\", \"\", \"\", \"\", \"\", 1.4365021860347162, 1.6650123818506593, \"\", 0.330406292105774, \"\", \"\", \"\", \"\", 1.5550393994453708, \"\", \"\", \"\", 0.34562071251863713, 1.242434703836124, \"\", 0.9629628097846585, \"\", 1.7601121384720773, \"\", 1.4525923224592088, \"\", 2.3649929063385238, \"\", 0.20792441729615363, 2.377271403774692, \"\", 0.2678466800066708, \"\", \"\", 1.1199722188553178, \"\", \"\", \"\", 0.10335514845443117, \"\", 0.5730924730652198, 1.6871890517571977, \"\", \"\", \"\", 0.3930410089117894, \"\", 0.3753860169343936, \"\", \"\", 0.06945166232403066, \"\", \"\", \"\", \"\", \"\", \"\", \"\", 1.2749858449024998, 0.7604079361038116, 0.3925060445394502, 1.1642274487253412, 0.48949838748153673, \"\", \"\", \"\", \"\", \"\", \"\", \"\", \"\", 1.7084735020227333, 1.6945234028304788], \"yaxis\": \"y2\"}, {\"connectgaps\": false, \"fill\": \"tozeroy\", \"line\": {\"color\": \"red\", \"dash\": \"solid\", \"shape\": \"linear\", \"width\": 0.5}, \"mode\": \"lines\", \"name\": \"Spread\", \"showlegend\": false, \"type\": \"scatter\", \"x\": [0, 1, 2, 3, 4, 5, 6, 7, 8, 9, 10, 11, 12, 13, 14, 15, 16, 17, 18, 19, 20, 21, 22, 23, 24, 25, 26, 27, 28, 29, 30, 31, 32, 33, 34, 35, 36, 37, 38, 39, 40, 41, 42, 43, 44, 45, 46, 47, 48, 49, 50, 51, 52, 53, 54, 55, 56, 57, 58, 59, 60, 61, 62, 63, 64, 65, 66, 67, 68, 69, 70, 71, 72, 73, 74, 75, 76, 77, 78, 79, 80, 81, 82, 83, 84, 85, 86, 87, 88, 89, 90, 91, 92, 93, 94, 95, 96, 97, 98, 99], \"xaxis\": \"x2\", \"y\": [\"\", \"\", \"\", \"\", \"\", -2.4814940454771666, -1.4418659535371237, \"\", \"\", -1.3919814269767938, \"\", \"\", \"\", -0.85216719589633, -0.33244887001765033, -2.0224723683728127, -0.557416305555445, \"\", -2.6374303168629263, \"\", \"\", -0.17471435570827576, \"\", \"\", -1.830322240135676, -1.302401137945815, \"\", -2.1532748669818154, -2.4996726793008683, -0.4392080864569975, -0.18994011246386816, -0.09265178617574774, \"\", \"\", -0.9052262186614414, \"\", -1.2201545519226826, -0.7055078754098255, -2.5665699006718863, -1.2797451014309953, \"\", -2.1007312872025494, -0.6906649918220831, -1.043893011575039, \"\", \"\", -1.713084833277858, \"\", -0.4428263719898258, \"\", -0.7089810242546901, \"\", -0.8885836666964253, \"\", -1.5434451631445198, \"\", \"\", -1.9098478352535744, \"\", -1.7167248742468233, -1.8938332182548732, \"\", -1.797931965730552, -0.06062205713654549, -0.07809654415695427, \"\", -1.9935910255869027, \"\", \"\", -0.8796692156581288, -0.5289794022585248, -0.09669914476611224, \"\", -0.16287804444849419, \"\", -0.881098411225477, -1.4586792962694421, \"\", -0.7986307241693489, -1.7427821196875182, -0.3591568404843363, -2.2937755266520448, -0.2847359385621361, -1.4590576556701138, -2.974075389621654, \"\", \"\", \"\", \"\", \"\", -1.8067745300638367, -0.48822148805952814, -0.17217681676030844, -0.5468600314036792, -1.4141397947842549, -1.7798379856064517, -1.8477502331535756, -1.1487810103596265, \"\", \"\"], \"yaxis\": \"y2\"}],\n",
       "                        {\"hovermode\": \"x\", \"legend\": {\"bgcolor\": \"#F5F6F9\", \"font\": {\"color\": \"#4D5663\"}}, \"paper_bgcolor\": \"#F5F6F9\", \"plot_bgcolor\": \"#F5F6F9\", \"template\": {\"data\": {\"bar\": [{\"error_x\": {\"color\": \"#2a3f5f\"}, \"error_y\": {\"color\": \"#2a3f5f\"}, \"marker\": {\"line\": {\"color\": \"#E5ECF6\", \"width\": 0.5}}, \"type\": \"bar\"}], \"barpolar\": [{\"marker\": {\"line\": {\"color\": \"#E5ECF6\", \"width\": 0.5}}, \"type\": \"barpolar\"}], \"carpet\": [{\"aaxis\": {\"endlinecolor\": \"#2a3f5f\", \"gridcolor\": \"white\", \"linecolor\": \"white\", \"minorgridcolor\": \"white\", \"startlinecolor\": \"#2a3f5f\"}, \"baxis\": {\"endlinecolor\": \"#2a3f5f\", \"gridcolor\": \"white\", \"linecolor\": \"white\", \"minorgridcolor\": \"white\", \"startlinecolor\": \"#2a3f5f\"}, \"type\": \"carpet\"}], \"choropleth\": [{\"colorbar\": {\"outlinewidth\": 0, \"ticks\": \"\"}, \"type\": \"choropleth\"}], \"contour\": [{\"colorbar\": {\"outlinewidth\": 0, \"ticks\": \"\"}, \"colorscale\": [[0.0, \"#0d0887\"], [0.1111111111111111, \"#46039f\"], [0.2222222222222222, \"#7201a8\"], [0.3333333333333333, \"#9c179e\"], [0.4444444444444444, \"#bd3786\"], [0.5555555555555556, \"#d8576b\"], [0.6666666666666666, \"#ed7953\"], [0.7777777777777778, \"#fb9f3a\"], [0.8888888888888888, \"#fdca26\"], [1.0, \"#f0f921\"]], \"type\": \"contour\"}], \"contourcarpet\": [{\"colorbar\": {\"outlinewidth\": 0, \"ticks\": \"\"}, \"type\": \"contourcarpet\"}], \"heatmap\": [{\"colorbar\": {\"outlinewidth\": 0, \"ticks\": \"\"}, \"colorscale\": [[0.0, \"#0d0887\"], [0.1111111111111111, \"#46039f\"], [0.2222222222222222, \"#7201a8\"], [0.3333333333333333, \"#9c179e\"], [0.4444444444444444, \"#bd3786\"], [0.5555555555555556, \"#d8576b\"], [0.6666666666666666, \"#ed7953\"], [0.7777777777777778, \"#fb9f3a\"], [0.8888888888888888, \"#fdca26\"], [1.0, \"#f0f921\"]], \"type\": \"heatmap\"}], \"heatmapgl\": [{\"colorbar\": {\"outlinewidth\": 0, \"ticks\": \"\"}, \"colorscale\": [[0.0, \"#0d0887\"], [0.1111111111111111, \"#46039f\"], [0.2222222222222222, \"#7201a8\"], [0.3333333333333333, \"#9c179e\"], [0.4444444444444444, \"#bd3786\"], [0.5555555555555556, \"#d8576b\"], [0.6666666666666666, \"#ed7953\"], [0.7777777777777778, \"#fb9f3a\"], [0.8888888888888888, \"#fdca26\"], [1.0, \"#f0f921\"]], \"type\": \"heatmapgl\"}], \"histogram\": [{\"marker\": {\"colorbar\": {\"outlinewidth\": 0, \"ticks\": \"\"}}, \"type\": \"histogram\"}], \"histogram2d\": [{\"colorbar\": {\"outlinewidth\": 0, \"ticks\": \"\"}, \"colorscale\": [[0.0, \"#0d0887\"], [0.1111111111111111, \"#46039f\"], [0.2222222222222222, \"#7201a8\"], [0.3333333333333333, \"#9c179e\"], [0.4444444444444444, \"#bd3786\"], [0.5555555555555556, \"#d8576b\"], [0.6666666666666666, \"#ed7953\"], [0.7777777777777778, \"#fb9f3a\"], [0.8888888888888888, \"#fdca26\"], [1.0, \"#f0f921\"]], \"type\": \"histogram2d\"}], \"histogram2dcontour\": [{\"colorbar\": {\"outlinewidth\": 0, \"ticks\": \"\"}, \"colorscale\": [[0.0, \"#0d0887\"], [0.1111111111111111, \"#46039f\"], [0.2222222222222222, \"#7201a8\"], [0.3333333333333333, \"#9c179e\"], [0.4444444444444444, \"#bd3786\"], [0.5555555555555556, \"#d8576b\"], [0.6666666666666666, \"#ed7953\"], [0.7777777777777778, \"#fb9f3a\"], [0.8888888888888888, \"#fdca26\"], [1.0, \"#f0f921\"]], \"type\": \"histogram2dcontour\"}], \"mesh3d\": [{\"colorbar\": {\"outlinewidth\": 0, \"ticks\": \"\"}, \"type\": \"mesh3d\"}], \"parcoords\": [{\"line\": {\"colorbar\": {\"outlinewidth\": 0, \"ticks\": \"\"}}, \"type\": \"parcoords\"}], \"pie\": [{\"automargin\": true, \"type\": \"pie\"}], \"scatter\": [{\"marker\": {\"colorbar\": {\"outlinewidth\": 0, \"ticks\": \"\"}}, \"type\": \"scatter\"}], \"scatter3d\": [{\"line\": {\"colorbar\": {\"outlinewidth\": 0, \"ticks\": \"\"}}, \"marker\": {\"colorbar\": {\"outlinewidth\": 0, \"ticks\": \"\"}}, \"type\": \"scatter3d\"}], \"scattercarpet\": [{\"marker\": {\"colorbar\": {\"outlinewidth\": 0, \"ticks\": \"\"}}, \"type\": \"scattercarpet\"}], \"scattergeo\": [{\"marker\": {\"colorbar\": {\"outlinewidth\": 0, \"ticks\": \"\"}}, \"type\": \"scattergeo\"}], \"scattergl\": [{\"marker\": {\"colorbar\": {\"outlinewidth\": 0, \"ticks\": \"\"}}, \"type\": \"scattergl\"}], \"scattermapbox\": [{\"marker\": {\"colorbar\": {\"outlinewidth\": 0, \"ticks\": \"\"}}, \"type\": \"scattermapbox\"}], \"scatterpolar\": [{\"marker\": {\"colorbar\": {\"outlinewidth\": 0, \"ticks\": \"\"}}, \"type\": \"scatterpolar\"}], \"scatterpolargl\": [{\"marker\": {\"colorbar\": {\"outlinewidth\": 0, \"ticks\": \"\"}}, \"type\": \"scatterpolargl\"}], \"scatterternary\": [{\"marker\": {\"colorbar\": {\"outlinewidth\": 0, \"ticks\": \"\"}}, \"type\": \"scatterternary\"}], \"surface\": [{\"colorbar\": {\"outlinewidth\": 0, \"ticks\": \"\"}, \"colorscale\": [[0.0, \"#0d0887\"], [0.1111111111111111, \"#46039f\"], [0.2222222222222222, \"#7201a8\"], [0.3333333333333333, \"#9c179e\"], [0.4444444444444444, \"#bd3786\"], [0.5555555555555556, \"#d8576b\"], [0.6666666666666666, \"#ed7953\"], [0.7777777777777778, \"#fb9f3a\"], [0.8888888888888888, \"#fdca26\"], [1.0, \"#f0f921\"]], \"type\": \"surface\"}], \"table\": [{\"cells\": {\"fill\": {\"color\": \"#EBF0F8\"}, \"line\": {\"color\": \"white\"}}, \"header\": {\"fill\": {\"color\": \"#C8D4E3\"}, \"line\": {\"color\": \"white\"}}, \"type\": \"table\"}]}, \"layout\": {\"annotationdefaults\": {\"arrowcolor\": \"#2a3f5f\", \"arrowhead\": 0, \"arrowwidth\": 1}, \"coloraxis\": {\"colorbar\": {\"outlinewidth\": 0, \"ticks\": \"\"}}, \"colorscale\": {\"diverging\": [[0, \"#8e0152\"], [0.1, \"#c51b7d\"], [0.2, \"#de77ae\"], [0.3, \"#f1b6da\"], [0.4, \"#fde0ef\"], [0.5, \"#f7f7f7\"], [0.6, \"#e6f5d0\"], [0.7, \"#b8e186\"], [0.8, \"#7fbc41\"], [0.9, \"#4d9221\"], [1, \"#276419\"]], \"sequential\": [[0.0, \"#0d0887\"], [0.1111111111111111, \"#46039f\"], [0.2222222222222222, \"#7201a8\"], [0.3333333333333333, \"#9c179e\"], [0.4444444444444444, \"#bd3786\"], [0.5555555555555556, \"#d8576b\"], [0.6666666666666666, \"#ed7953\"], [0.7777777777777778, \"#fb9f3a\"], [0.8888888888888888, \"#fdca26\"], [1.0, \"#f0f921\"]], \"sequentialminus\": [[0.0, \"#0d0887\"], [0.1111111111111111, \"#46039f\"], [0.2222222222222222, \"#7201a8\"], [0.3333333333333333, \"#9c179e\"], [0.4444444444444444, \"#bd3786\"], [0.5555555555555556, \"#d8576b\"], [0.6666666666666666, \"#ed7953\"], [0.7777777777777778, \"#fb9f3a\"], [0.8888888888888888, \"#fdca26\"], [1.0, \"#f0f921\"]]}, \"colorway\": [\"#636efa\", \"#EF553B\", \"#00cc96\", \"#ab63fa\", \"#FFA15A\", \"#19d3f3\", \"#FF6692\", \"#B6E880\", \"#FF97FF\", \"#FECB52\"], \"font\": {\"color\": \"#2a3f5f\"}, \"geo\": {\"bgcolor\": \"white\", \"lakecolor\": \"white\", \"landcolor\": \"#E5ECF6\", \"showlakes\": true, \"showland\": true, \"subunitcolor\": \"white\"}, \"hoverlabel\": {\"align\": \"left\"}, \"hovermode\": \"closest\", \"mapbox\": {\"style\": \"light\"}, \"paper_bgcolor\": \"white\", \"plot_bgcolor\": \"#E5ECF6\", \"polar\": {\"angularaxis\": {\"gridcolor\": \"white\", \"linecolor\": \"white\", \"ticks\": \"\"}, \"bgcolor\": \"#E5ECF6\", \"radialaxis\": {\"gridcolor\": \"white\", \"linecolor\": \"white\", \"ticks\": \"\"}}, \"scene\": {\"xaxis\": {\"backgroundcolor\": \"#E5ECF6\", \"gridcolor\": \"white\", \"gridwidth\": 2, \"linecolor\": \"white\", \"showbackground\": true, \"ticks\": \"\", \"zerolinecolor\": \"white\"}, \"yaxis\": {\"backgroundcolor\": \"#E5ECF6\", \"gridcolor\": \"white\", \"gridwidth\": 2, \"linecolor\": \"white\", \"showbackground\": true, \"ticks\": \"\", \"zerolinecolor\": \"white\"}, \"zaxis\": {\"backgroundcolor\": \"#E5ECF6\", \"gridcolor\": \"white\", \"gridwidth\": 2, \"linecolor\": \"white\", \"showbackground\": true, \"ticks\": \"\", \"zerolinecolor\": \"white\"}}, \"shapedefaults\": {\"line\": {\"color\": \"#2a3f5f\"}}, \"ternary\": {\"aaxis\": {\"gridcolor\": \"white\", \"linecolor\": \"white\", \"ticks\": \"\"}, \"baxis\": {\"gridcolor\": \"white\", \"linecolor\": \"white\", \"ticks\": \"\"}, \"bgcolor\": \"#E5ECF6\", \"caxis\": {\"gridcolor\": \"white\", \"linecolor\": \"white\", \"ticks\": \"\"}}, \"title\": {\"x\": 0.05}, \"xaxis\": {\"automargin\": true, \"gridcolor\": \"white\", \"linecolor\": \"white\", \"ticks\": \"\", \"title\": {\"standoff\": 15}, \"zerolinecolor\": \"white\", \"zerolinewidth\": 2}, \"yaxis\": {\"automargin\": true, \"gridcolor\": \"white\", \"linecolor\": \"white\", \"ticks\": \"\", \"title\": {\"standoff\": 15}, \"zerolinecolor\": \"white\", \"zerolinewidth\": 2}}}, \"title\": {\"font\": {\"color\": \"#4D5663\"}}, \"xaxis\": {\"gridcolor\": \"#E1E5ED\", \"showgrid\": true, \"tickfont\": {\"color\": \"#4D5663\"}, \"title\": {\"font\": {\"color\": \"#4D5663\"}, \"text\": \"\"}, \"zerolinecolor\": \"#E1E5ED\"}, \"xaxis2\": {\"anchor\": \"y2\", \"gridcolor\": \"#E1E5ED\", \"showgrid\": true, \"showticklabels\": false, \"tickfont\": {\"color\": \"#4D5663\"}, \"title\": {\"font\": {\"color\": \"#4D5663\"}, \"text\": \"\"}, \"zerolinecolor\": \"#E1E5ED\"}, \"yaxis\": {\"domain\": [0.3, 1], \"gridcolor\": \"#E1E5ED\", \"showgrid\": true, \"tickfont\": {\"color\": \"#4D5663\"}, \"title\": {\"font\": {\"color\": \"#4D5663\"}, \"text\": \"\"}, \"zerolinecolor\": \"#E1E5ED\"}, \"yaxis2\": {\"domain\": [0, 0.25], \"gridcolor\": \"#E1E5ED\", \"showgrid\": true, \"tickfont\": {\"color\": \"#4D5663\"}, \"title\": {\"font\": {\"color\": \"#4D5663\"}, \"text\": \"Spread\"}, \"zerolinecolor\": \"#E1E5ED\"}},\n",
       "                        {\"showLink\": true, \"linkText\": \"Export to plot.ly\", \"plotlyServerURL\": \"https://plot.ly\", \"responsive\": true}\n",
       "                    ).then(function(){\n",
       "                            \n",
       "var gd = document.getElementById('4210f4dc-de8b-4afd-8ec3-6a1f1dd04ee0');\n",
       "var x = new MutationObserver(function (mutations, observer) {{\n",
       "        var display = window.getComputedStyle(gd).display;\n",
       "        if (!display || display === 'none') {{\n",
       "            console.log([gd, 'removed!']);\n",
       "            Plotly.purge(gd);\n",
       "            observer.disconnect();\n",
       "        }}\n",
       "}});\n",
       "\n",
       "// Listen for the removal of the full notebook cells\n",
       "var notebookContainer = gd.closest('#notebook-container');\n",
       "if (notebookContainer) {{\n",
       "    x.observe(notebookContainer, {childList: true});\n",
       "}}\n",
       "\n",
       "// Listen for the clearing of the current output cell\n",
       "var outputEl = gd.closest('.output');\n",
       "if (outputEl) {{\n",
       "    x.observe(outputEl, {childList: true});\n",
       "}}\n",
       "\n",
       "                        })\n",
       "                };\n",
       "                });\n",
       "            </script>\n",
       "        </div>"
      ]
     },
     "metadata": {},
     "output_type": "display_data"
    }
   ],
   "source": [
    "df[['A','B']].iplot(kind='spread')"
   ]
  },
  {
   "cell_type": "markdown",
   "metadata": {},
   "source": [
    "## histogram"
   ]
  },
  {
   "cell_type": "code",
   "execution_count": 22,
   "metadata": {},
   "outputs": [
    {
     "data": {
      "application/vnd.plotly.v1+json": {
       "config": {
        "linkText": "Export to plot.ly",
        "plotlyServerURL": "https://plot.ly",
        "showLink": true
       },
       "data": [
        {
         "histfunc": "count",
         "histnorm": "",
         "marker": {
          "color": "rgba(255, 153, 51, 1.0)",
          "line": {
           "color": "#4D5663",
           "width": 1.3
          }
         },
         "name": "A",
         "nbinsx": 25,
         "opacity": 0.8,
         "orientation": "v",
         "type": "histogram",
         "x": [
          0.14612668346810087,
          -0.5150643958091404,
          0.993048156143555,
          1.5527565611998224,
          1.102283947004991,
          -2.4771102825000293,
          0.48535271977394,
          -5.997120287646958e-05,
          0.2728979161787896,
          0.14241623947301038,
          -1.7220839857720651,
          0.30479168294651615,
          0.1707684250962974,
          0.6284887755043934,
          -0.7850037217749689,
          -1.1402548447102723,
          -1.212921005329053,
          1.6666125120797235,
          -0.09525429818572638,
          0.9108399395049533,
          -0.6702079843333787,
          -1.8669920709525916,
          1.6318644734155594,
          1.4480641743665572,
          -0.20584286234038407,
          -0.9651543766878872,
          0.054311253909850594,
          -0.8525930402703691,
          -1.0848566097036196,
          0.22715446781637538,
          0.3832666550905886,
          0.21245695028944037,
          -0.0031198053900515408,
          0.8915668414548645,
          -0.9312260659908879,
          -0.6972621137761454,
          -0.9925852130986549,
          0.010933605125837584,
          -2.577121073522515,
          -0.5332388082426226,
          1.398496525872,
          -0.8155572221629612,
          -0.9005129185664054,
          -0.6955619676939033,
          0.24028614247159708,
          -0.14105753079894373,
          -0.6162582023375035,
          0.7117930742373001,
          -1.0493646331333701,
          0.7263194289302121,
          -0.9236975218766958,
          0.8101185177578193,
          1.2922900513898754,
          1.99699676194669,
          -0.6266941891218982,
          -0.6196112352306313,
          1.4954683268115523,
          -2.9005331410172115,
          -0.6144254979438556,
          0.3615184842676474,
          0.13442250363981223,
          0.22447929683610798,
          -0.011270422105252743,
          -0.14111226614689665,
          -0.5318804901994556,
          0.6493074858815254,
          -0.2738880128999982,
          0.9555595386204824,
          0.7301709692563028,
          -1.4019249307583348,
          -0.0068608240191281806,
          -0.471556716044861,
          -0.1636207573841797,
          -0.9752489923344956,
          0.669055675451341,
          -0.9661397959251155,
          -1.5034110492253536,
          -0.3084302353121149,
          -1.4552573990374573,
          -0.37808603369362415,
          -0.5446990641153069,
          -1.0328897660107783,
          -0.8372577968906745,
          -0.7355106232037772,
          -1.3968647200753481,
          0.11921688487375993,
          0.23800858493954524,
          -0.29667185768549426,
          0.045883212163534935,
          0.5890039282286894,
          -1.515246249470787,
          -0.1037424743255574,
          0.07342647048913974,
          -0.3282544929060498,
          -0.24513863167968586,
          -1.3103895947774227,
          -0.60110734404662,
          -0.5850987673040257,
          1.176709146660171,
          -0.02325427275882479
         ]
        }
       ],
       "layout": {
        "barmode": "overlay",
        "legend": {
         "bgcolor": "#F5F6F9",
         "font": {
          "color": "#4D5663"
         }
        },
        "paper_bgcolor": "#F5F6F9",
        "plot_bgcolor": "#F5F6F9",
        "template": {
         "data": {
          "bar": [
           {
            "error_x": {
             "color": "#2a3f5f"
            },
            "error_y": {
             "color": "#2a3f5f"
            },
            "marker": {
             "line": {
              "color": "#E5ECF6",
              "width": 0.5
             }
            },
            "type": "bar"
           }
          ],
          "barpolar": [
           {
            "marker": {
             "line": {
              "color": "#E5ECF6",
              "width": 0.5
             }
            },
            "type": "barpolar"
           }
          ],
          "carpet": [
           {
            "aaxis": {
             "endlinecolor": "#2a3f5f",
             "gridcolor": "white",
             "linecolor": "white",
             "minorgridcolor": "white",
             "startlinecolor": "#2a3f5f"
            },
            "baxis": {
             "endlinecolor": "#2a3f5f",
             "gridcolor": "white",
             "linecolor": "white",
             "minorgridcolor": "white",
             "startlinecolor": "#2a3f5f"
            },
            "type": "carpet"
           }
          ],
          "choropleth": [
           {
            "colorbar": {
             "outlinewidth": 0,
             "ticks": ""
            },
            "type": "choropleth"
           }
          ],
          "contour": [
           {
            "colorbar": {
             "outlinewidth": 0,
             "ticks": ""
            },
            "colorscale": [
             [
              0,
              "#0d0887"
             ],
             [
              0.1111111111111111,
              "#46039f"
             ],
             [
              0.2222222222222222,
              "#7201a8"
             ],
             [
              0.3333333333333333,
              "#9c179e"
             ],
             [
              0.4444444444444444,
              "#bd3786"
             ],
             [
              0.5555555555555556,
              "#d8576b"
             ],
             [
              0.6666666666666666,
              "#ed7953"
             ],
             [
              0.7777777777777778,
              "#fb9f3a"
             ],
             [
              0.8888888888888888,
              "#fdca26"
             ],
             [
              1,
              "#f0f921"
             ]
            ],
            "type": "contour"
           }
          ],
          "contourcarpet": [
           {
            "colorbar": {
             "outlinewidth": 0,
             "ticks": ""
            },
            "type": "contourcarpet"
           }
          ],
          "heatmap": [
           {
            "colorbar": {
             "outlinewidth": 0,
             "ticks": ""
            },
            "colorscale": [
             [
              0,
              "#0d0887"
             ],
             [
              0.1111111111111111,
              "#46039f"
             ],
             [
              0.2222222222222222,
              "#7201a8"
             ],
             [
              0.3333333333333333,
              "#9c179e"
             ],
             [
              0.4444444444444444,
              "#bd3786"
             ],
             [
              0.5555555555555556,
              "#d8576b"
             ],
             [
              0.6666666666666666,
              "#ed7953"
             ],
             [
              0.7777777777777778,
              "#fb9f3a"
             ],
             [
              0.8888888888888888,
              "#fdca26"
             ],
             [
              1,
              "#f0f921"
             ]
            ],
            "type": "heatmap"
           }
          ],
          "heatmapgl": [
           {
            "colorbar": {
             "outlinewidth": 0,
             "ticks": ""
            },
            "colorscale": [
             [
              0,
              "#0d0887"
             ],
             [
              0.1111111111111111,
              "#46039f"
             ],
             [
              0.2222222222222222,
              "#7201a8"
             ],
             [
              0.3333333333333333,
              "#9c179e"
             ],
             [
              0.4444444444444444,
              "#bd3786"
             ],
             [
              0.5555555555555556,
              "#d8576b"
             ],
             [
              0.6666666666666666,
              "#ed7953"
             ],
             [
              0.7777777777777778,
              "#fb9f3a"
             ],
             [
              0.8888888888888888,
              "#fdca26"
             ],
             [
              1,
              "#f0f921"
             ]
            ],
            "type": "heatmapgl"
           }
          ],
          "histogram": [
           {
            "marker": {
             "colorbar": {
              "outlinewidth": 0,
              "ticks": ""
             }
            },
            "type": "histogram"
           }
          ],
          "histogram2d": [
           {
            "colorbar": {
             "outlinewidth": 0,
             "ticks": ""
            },
            "colorscale": [
             [
              0,
              "#0d0887"
             ],
             [
              0.1111111111111111,
              "#46039f"
             ],
             [
              0.2222222222222222,
              "#7201a8"
             ],
             [
              0.3333333333333333,
              "#9c179e"
             ],
             [
              0.4444444444444444,
              "#bd3786"
             ],
             [
              0.5555555555555556,
              "#d8576b"
             ],
             [
              0.6666666666666666,
              "#ed7953"
             ],
             [
              0.7777777777777778,
              "#fb9f3a"
             ],
             [
              0.8888888888888888,
              "#fdca26"
             ],
             [
              1,
              "#f0f921"
             ]
            ],
            "type": "histogram2d"
           }
          ],
          "histogram2dcontour": [
           {
            "colorbar": {
             "outlinewidth": 0,
             "ticks": ""
            },
            "colorscale": [
             [
              0,
              "#0d0887"
             ],
             [
              0.1111111111111111,
              "#46039f"
             ],
             [
              0.2222222222222222,
              "#7201a8"
             ],
             [
              0.3333333333333333,
              "#9c179e"
             ],
             [
              0.4444444444444444,
              "#bd3786"
             ],
             [
              0.5555555555555556,
              "#d8576b"
             ],
             [
              0.6666666666666666,
              "#ed7953"
             ],
             [
              0.7777777777777778,
              "#fb9f3a"
             ],
             [
              0.8888888888888888,
              "#fdca26"
             ],
             [
              1,
              "#f0f921"
             ]
            ],
            "type": "histogram2dcontour"
           }
          ],
          "mesh3d": [
           {
            "colorbar": {
             "outlinewidth": 0,
             "ticks": ""
            },
            "type": "mesh3d"
           }
          ],
          "parcoords": [
           {
            "line": {
             "colorbar": {
              "outlinewidth": 0,
              "ticks": ""
             }
            },
            "type": "parcoords"
           }
          ],
          "pie": [
           {
            "automargin": true,
            "type": "pie"
           }
          ],
          "scatter": [
           {
            "marker": {
             "colorbar": {
              "outlinewidth": 0,
              "ticks": ""
             }
            },
            "type": "scatter"
           }
          ],
          "scatter3d": [
           {
            "line": {
             "colorbar": {
              "outlinewidth": 0,
              "ticks": ""
             }
            },
            "marker": {
             "colorbar": {
              "outlinewidth": 0,
              "ticks": ""
             }
            },
            "type": "scatter3d"
           }
          ],
          "scattercarpet": [
           {
            "marker": {
             "colorbar": {
              "outlinewidth": 0,
              "ticks": ""
             }
            },
            "type": "scattercarpet"
           }
          ],
          "scattergeo": [
           {
            "marker": {
             "colorbar": {
              "outlinewidth": 0,
              "ticks": ""
             }
            },
            "type": "scattergeo"
           }
          ],
          "scattergl": [
           {
            "marker": {
             "colorbar": {
              "outlinewidth": 0,
              "ticks": ""
             }
            },
            "type": "scattergl"
           }
          ],
          "scattermapbox": [
           {
            "marker": {
             "colorbar": {
              "outlinewidth": 0,
              "ticks": ""
             }
            },
            "type": "scattermapbox"
           }
          ],
          "scatterpolar": [
           {
            "marker": {
             "colorbar": {
              "outlinewidth": 0,
              "ticks": ""
             }
            },
            "type": "scatterpolar"
           }
          ],
          "scatterpolargl": [
           {
            "marker": {
             "colorbar": {
              "outlinewidth": 0,
              "ticks": ""
             }
            },
            "type": "scatterpolargl"
           }
          ],
          "scatterternary": [
           {
            "marker": {
             "colorbar": {
              "outlinewidth": 0,
              "ticks": ""
             }
            },
            "type": "scatterternary"
           }
          ],
          "surface": [
           {
            "colorbar": {
             "outlinewidth": 0,
             "ticks": ""
            },
            "colorscale": [
             [
              0,
              "#0d0887"
             ],
             [
              0.1111111111111111,
              "#46039f"
             ],
             [
              0.2222222222222222,
              "#7201a8"
             ],
             [
              0.3333333333333333,
              "#9c179e"
             ],
             [
              0.4444444444444444,
              "#bd3786"
             ],
             [
              0.5555555555555556,
              "#d8576b"
             ],
             [
              0.6666666666666666,
              "#ed7953"
             ],
             [
              0.7777777777777778,
              "#fb9f3a"
             ],
             [
              0.8888888888888888,
              "#fdca26"
             ],
             [
              1,
              "#f0f921"
             ]
            ],
            "type": "surface"
           }
          ],
          "table": [
           {
            "cells": {
             "fill": {
              "color": "#EBF0F8"
             },
             "line": {
              "color": "white"
             }
            },
            "header": {
             "fill": {
              "color": "#C8D4E3"
             },
             "line": {
              "color": "white"
             }
            },
            "type": "table"
           }
          ]
         },
         "layout": {
          "annotationdefaults": {
           "arrowcolor": "#2a3f5f",
           "arrowhead": 0,
           "arrowwidth": 1
          },
          "coloraxis": {
           "colorbar": {
            "outlinewidth": 0,
            "ticks": ""
           }
          },
          "colorscale": {
           "diverging": [
            [
             0,
             "#8e0152"
            ],
            [
             0.1,
             "#c51b7d"
            ],
            [
             0.2,
             "#de77ae"
            ],
            [
             0.3,
             "#f1b6da"
            ],
            [
             0.4,
             "#fde0ef"
            ],
            [
             0.5,
             "#f7f7f7"
            ],
            [
             0.6,
             "#e6f5d0"
            ],
            [
             0.7,
             "#b8e186"
            ],
            [
             0.8,
             "#7fbc41"
            ],
            [
             0.9,
             "#4d9221"
            ],
            [
             1,
             "#276419"
            ]
           ],
           "sequential": [
            [
             0,
             "#0d0887"
            ],
            [
             0.1111111111111111,
             "#46039f"
            ],
            [
             0.2222222222222222,
             "#7201a8"
            ],
            [
             0.3333333333333333,
             "#9c179e"
            ],
            [
             0.4444444444444444,
             "#bd3786"
            ],
            [
             0.5555555555555556,
             "#d8576b"
            ],
            [
             0.6666666666666666,
             "#ed7953"
            ],
            [
             0.7777777777777778,
             "#fb9f3a"
            ],
            [
             0.8888888888888888,
             "#fdca26"
            ],
            [
             1,
             "#f0f921"
            ]
           ],
           "sequentialminus": [
            [
             0,
             "#0d0887"
            ],
            [
             0.1111111111111111,
             "#46039f"
            ],
            [
             0.2222222222222222,
             "#7201a8"
            ],
            [
             0.3333333333333333,
             "#9c179e"
            ],
            [
             0.4444444444444444,
             "#bd3786"
            ],
            [
             0.5555555555555556,
             "#d8576b"
            ],
            [
             0.6666666666666666,
             "#ed7953"
            ],
            [
             0.7777777777777778,
             "#fb9f3a"
            ],
            [
             0.8888888888888888,
             "#fdca26"
            ],
            [
             1,
             "#f0f921"
            ]
           ]
          },
          "colorway": [
           "#636efa",
           "#EF553B",
           "#00cc96",
           "#ab63fa",
           "#FFA15A",
           "#19d3f3",
           "#FF6692",
           "#B6E880",
           "#FF97FF",
           "#FECB52"
          ],
          "font": {
           "color": "#2a3f5f"
          },
          "geo": {
           "bgcolor": "white",
           "lakecolor": "white",
           "landcolor": "#E5ECF6",
           "showlakes": true,
           "showland": true,
           "subunitcolor": "white"
          },
          "hoverlabel": {
           "align": "left"
          },
          "hovermode": "closest",
          "mapbox": {
           "style": "light"
          },
          "paper_bgcolor": "white",
          "plot_bgcolor": "#E5ECF6",
          "polar": {
           "angularaxis": {
            "gridcolor": "white",
            "linecolor": "white",
            "ticks": ""
           },
           "bgcolor": "#E5ECF6",
           "radialaxis": {
            "gridcolor": "white",
            "linecolor": "white",
            "ticks": ""
           }
          },
          "scene": {
           "xaxis": {
            "backgroundcolor": "#E5ECF6",
            "gridcolor": "white",
            "gridwidth": 2,
            "linecolor": "white",
            "showbackground": true,
            "ticks": "",
            "zerolinecolor": "white"
           },
           "yaxis": {
            "backgroundcolor": "#E5ECF6",
            "gridcolor": "white",
            "gridwidth": 2,
            "linecolor": "white",
            "showbackground": true,
            "ticks": "",
            "zerolinecolor": "white"
           },
           "zaxis": {
            "backgroundcolor": "#E5ECF6",
            "gridcolor": "white",
            "gridwidth": 2,
            "linecolor": "white",
            "showbackground": true,
            "ticks": "",
            "zerolinecolor": "white"
           }
          },
          "shapedefaults": {
           "line": {
            "color": "#2a3f5f"
           }
          },
          "ternary": {
           "aaxis": {
            "gridcolor": "white",
            "linecolor": "white",
            "ticks": ""
           },
           "baxis": {
            "gridcolor": "white",
            "linecolor": "white",
            "ticks": ""
           },
           "bgcolor": "#E5ECF6",
           "caxis": {
            "gridcolor": "white",
            "linecolor": "white",
            "ticks": ""
           }
          },
          "title": {
           "x": 0.05
          },
          "xaxis": {
           "automargin": true,
           "gridcolor": "white",
           "linecolor": "white",
           "ticks": "",
           "title": {
            "standoff": 15
           },
           "zerolinecolor": "white",
           "zerolinewidth": 2
          },
          "yaxis": {
           "automargin": true,
           "gridcolor": "white",
           "linecolor": "white",
           "ticks": "",
           "title": {
            "standoff": 15
           },
           "zerolinecolor": "white",
           "zerolinewidth": 2
          }
         }
        },
        "title": {
         "font": {
          "color": "#4D5663"
         }
        },
        "xaxis": {
         "gridcolor": "#E1E5ED",
         "showgrid": true,
         "tickfont": {
          "color": "#4D5663"
         },
         "title": {
          "font": {
           "color": "#4D5663"
          },
          "text": ""
         },
         "zerolinecolor": "#E1E5ED"
        },
        "yaxis": {
         "gridcolor": "#E1E5ED",
         "showgrid": true,
         "tickfont": {
          "color": "#4D5663"
         },
         "title": {
          "font": {
           "color": "#4D5663"
          },
          "text": ""
         },
         "zerolinecolor": "#E1E5ED"
        }
       }
      },
      "text/html": [
       "<div>\n",
       "        \n",
       "        \n",
       "            <div id=\"613326cb-4ffb-46e7-bfe8-b5529fdd50bc\" class=\"plotly-graph-div\" style=\"height:525px; width:100%;\"></div>\n",
       "            <script type=\"text/javascript\">\n",
       "                require([\"plotly\"], function(Plotly) {\n",
       "                    window.PLOTLYENV=window.PLOTLYENV || {};\n",
       "                    window.PLOTLYENV.BASE_URL='https://plot.ly';\n",
       "                    \n",
       "                if (document.getElementById(\"613326cb-4ffb-46e7-bfe8-b5529fdd50bc\")) {\n",
       "                    Plotly.newPlot(\n",
       "                        '613326cb-4ffb-46e7-bfe8-b5529fdd50bc',\n",
       "                        [{\"histfunc\": \"count\", \"histnorm\": \"\", \"marker\": {\"color\": \"rgba(255, 153, 51, 1.0)\", \"line\": {\"color\": \"#4D5663\", \"width\": 1.3}}, \"name\": \"A\", \"nbinsx\": 25, \"opacity\": 0.8, \"orientation\": \"v\", \"type\": \"histogram\", \"x\": [0.14612668346810087, -0.5150643958091404, 0.993048156143555, 1.5527565611998224, 1.102283947004991, -2.4771102825000293, 0.48535271977394, -5.997120287646958e-05, 0.2728979161787896, 0.14241623947301038, -1.7220839857720651, 0.30479168294651615, 0.1707684250962974, 0.6284887755043934, -0.7850037217749689, -1.1402548447102723, -1.212921005329053, 1.6666125120797235, -0.09525429818572638, 0.9108399395049533, -0.6702079843333787, -1.8669920709525916, 1.6318644734155594, 1.4480641743665572, -0.20584286234038407, -0.9651543766878872, 0.054311253909850594, -0.8525930402703691, -1.0848566097036196, 0.22715446781637538, 0.3832666550905886, 0.21245695028944037, -0.0031198053900515408, 0.8915668414548645, -0.9312260659908879, -0.6972621137761454, -0.9925852130986549, 0.010933605125837584, -2.577121073522515, -0.5332388082426226, 1.398496525872, -0.8155572221629612, -0.9005129185664054, -0.6955619676939033, 0.24028614247159708, -0.14105753079894373, -0.6162582023375035, 0.7117930742373001, -1.0493646331333701, 0.7263194289302121, -0.9236975218766958, 0.8101185177578193, 1.2922900513898754, 1.99699676194669, -0.6266941891218982, -0.6196112352306313, 1.4954683268115523, -2.9005331410172115, -0.6144254979438556, 0.3615184842676474, 0.13442250363981223, 0.22447929683610798, -0.011270422105252743, -0.14111226614689665, -0.5318804901994556, 0.6493074858815254, -0.2738880128999982, 0.9555595386204824, 0.7301709692563028, -1.4019249307583348, -0.0068608240191281806, -0.471556716044861, -0.1636207573841797, -0.9752489923344956, 0.669055675451341, -0.9661397959251155, -1.5034110492253536, -0.3084302353121149, -1.4552573990374573, -0.37808603369362415, -0.5446990641153069, -1.0328897660107783, -0.8372577968906745, -0.7355106232037772, -1.3968647200753481, 0.11921688487375993, 0.23800858493954524, -0.29667185768549426, 0.045883212163534935, 0.5890039282286894, -1.515246249470787, -0.1037424743255574, 0.07342647048913974, -0.3282544929060498, -0.24513863167968586, -1.3103895947774227, -0.60110734404662, -0.5850987673040257, 1.176709146660171, -0.02325427275882479]}],\n",
       "                        {\"barmode\": \"overlay\", \"legend\": {\"bgcolor\": \"#F5F6F9\", \"font\": {\"color\": \"#4D5663\"}}, \"paper_bgcolor\": \"#F5F6F9\", \"plot_bgcolor\": \"#F5F6F9\", \"template\": {\"data\": {\"bar\": [{\"error_x\": {\"color\": \"#2a3f5f\"}, \"error_y\": {\"color\": \"#2a3f5f\"}, \"marker\": {\"line\": {\"color\": \"#E5ECF6\", \"width\": 0.5}}, \"type\": \"bar\"}], \"barpolar\": [{\"marker\": {\"line\": {\"color\": \"#E5ECF6\", \"width\": 0.5}}, \"type\": \"barpolar\"}], \"carpet\": [{\"aaxis\": {\"endlinecolor\": \"#2a3f5f\", \"gridcolor\": \"white\", \"linecolor\": \"white\", \"minorgridcolor\": \"white\", \"startlinecolor\": \"#2a3f5f\"}, \"baxis\": {\"endlinecolor\": \"#2a3f5f\", \"gridcolor\": \"white\", \"linecolor\": \"white\", \"minorgridcolor\": \"white\", \"startlinecolor\": \"#2a3f5f\"}, \"type\": \"carpet\"}], \"choropleth\": [{\"colorbar\": {\"outlinewidth\": 0, \"ticks\": \"\"}, \"type\": \"choropleth\"}], \"contour\": [{\"colorbar\": {\"outlinewidth\": 0, \"ticks\": \"\"}, \"colorscale\": [[0.0, \"#0d0887\"], [0.1111111111111111, \"#46039f\"], [0.2222222222222222, \"#7201a8\"], [0.3333333333333333, \"#9c179e\"], [0.4444444444444444, \"#bd3786\"], [0.5555555555555556, \"#d8576b\"], [0.6666666666666666, \"#ed7953\"], [0.7777777777777778, \"#fb9f3a\"], [0.8888888888888888, \"#fdca26\"], [1.0, \"#f0f921\"]], \"type\": \"contour\"}], \"contourcarpet\": [{\"colorbar\": {\"outlinewidth\": 0, \"ticks\": \"\"}, \"type\": \"contourcarpet\"}], \"heatmap\": [{\"colorbar\": {\"outlinewidth\": 0, \"ticks\": \"\"}, \"colorscale\": [[0.0, \"#0d0887\"], [0.1111111111111111, \"#46039f\"], [0.2222222222222222, \"#7201a8\"], [0.3333333333333333, \"#9c179e\"], [0.4444444444444444, \"#bd3786\"], [0.5555555555555556, \"#d8576b\"], [0.6666666666666666, \"#ed7953\"], [0.7777777777777778, \"#fb9f3a\"], [0.8888888888888888, \"#fdca26\"], [1.0, \"#f0f921\"]], \"type\": \"heatmap\"}], \"heatmapgl\": [{\"colorbar\": {\"outlinewidth\": 0, \"ticks\": \"\"}, \"colorscale\": [[0.0, \"#0d0887\"], [0.1111111111111111, \"#46039f\"], [0.2222222222222222, \"#7201a8\"], [0.3333333333333333, \"#9c179e\"], [0.4444444444444444, \"#bd3786\"], [0.5555555555555556, \"#d8576b\"], [0.6666666666666666, \"#ed7953\"], [0.7777777777777778, \"#fb9f3a\"], [0.8888888888888888, \"#fdca26\"], [1.0, \"#f0f921\"]], \"type\": \"heatmapgl\"}], \"histogram\": [{\"marker\": {\"colorbar\": {\"outlinewidth\": 0, \"ticks\": \"\"}}, \"type\": \"histogram\"}], \"histogram2d\": [{\"colorbar\": {\"outlinewidth\": 0, \"ticks\": \"\"}, \"colorscale\": [[0.0, \"#0d0887\"], [0.1111111111111111, \"#46039f\"], [0.2222222222222222, \"#7201a8\"], [0.3333333333333333, \"#9c179e\"], [0.4444444444444444, \"#bd3786\"], [0.5555555555555556, \"#d8576b\"], [0.6666666666666666, \"#ed7953\"], [0.7777777777777778, \"#fb9f3a\"], [0.8888888888888888, \"#fdca26\"], [1.0, \"#f0f921\"]], \"type\": \"histogram2d\"}], \"histogram2dcontour\": [{\"colorbar\": {\"outlinewidth\": 0, \"ticks\": \"\"}, \"colorscale\": [[0.0, \"#0d0887\"], [0.1111111111111111, \"#46039f\"], [0.2222222222222222, \"#7201a8\"], [0.3333333333333333, \"#9c179e\"], [0.4444444444444444, \"#bd3786\"], [0.5555555555555556, \"#d8576b\"], [0.6666666666666666, \"#ed7953\"], [0.7777777777777778, \"#fb9f3a\"], [0.8888888888888888, \"#fdca26\"], [1.0, \"#f0f921\"]], \"type\": \"histogram2dcontour\"}], \"mesh3d\": [{\"colorbar\": {\"outlinewidth\": 0, \"ticks\": \"\"}, \"type\": \"mesh3d\"}], \"parcoords\": [{\"line\": {\"colorbar\": {\"outlinewidth\": 0, \"ticks\": \"\"}}, \"type\": \"parcoords\"}], \"pie\": [{\"automargin\": true, \"type\": \"pie\"}], \"scatter\": [{\"marker\": {\"colorbar\": {\"outlinewidth\": 0, \"ticks\": \"\"}}, \"type\": \"scatter\"}], \"scatter3d\": [{\"line\": {\"colorbar\": {\"outlinewidth\": 0, \"ticks\": \"\"}}, \"marker\": {\"colorbar\": {\"outlinewidth\": 0, \"ticks\": \"\"}}, \"type\": \"scatter3d\"}], \"scattercarpet\": [{\"marker\": {\"colorbar\": {\"outlinewidth\": 0, \"ticks\": \"\"}}, \"type\": \"scattercarpet\"}], \"scattergeo\": [{\"marker\": {\"colorbar\": {\"outlinewidth\": 0, \"ticks\": \"\"}}, \"type\": \"scattergeo\"}], \"scattergl\": [{\"marker\": {\"colorbar\": {\"outlinewidth\": 0, \"ticks\": \"\"}}, \"type\": \"scattergl\"}], \"scattermapbox\": [{\"marker\": {\"colorbar\": {\"outlinewidth\": 0, \"ticks\": \"\"}}, \"type\": \"scattermapbox\"}], \"scatterpolar\": [{\"marker\": {\"colorbar\": {\"outlinewidth\": 0, \"ticks\": \"\"}}, \"type\": \"scatterpolar\"}], \"scatterpolargl\": [{\"marker\": {\"colorbar\": {\"outlinewidth\": 0, \"ticks\": \"\"}}, \"type\": \"scatterpolargl\"}], \"scatterternary\": [{\"marker\": {\"colorbar\": {\"outlinewidth\": 0, \"ticks\": \"\"}}, \"type\": \"scatterternary\"}], \"surface\": [{\"colorbar\": {\"outlinewidth\": 0, \"ticks\": \"\"}, \"colorscale\": [[0.0, \"#0d0887\"], [0.1111111111111111, \"#46039f\"], [0.2222222222222222, \"#7201a8\"], [0.3333333333333333, \"#9c179e\"], [0.4444444444444444, \"#bd3786\"], [0.5555555555555556, \"#d8576b\"], [0.6666666666666666, \"#ed7953\"], [0.7777777777777778, \"#fb9f3a\"], [0.8888888888888888, \"#fdca26\"], [1.0, \"#f0f921\"]], \"type\": \"surface\"}], \"table\": [{\"cells\": {\"fill\": {\"color\": \"#EBF0F8\"}, \"line\": {\"color\": \"white\"}}, \"header\": {\"fill\": {\"color\": \"#C8D4E3\"}, \"line\": {\"color\": \"white\"}}, \"type\": \"table\"}]}, \"layout\": {\"annotationdefaults\": {\"arrowcolor\": \"#2a3f5f\", \"arrowhead\": 0, \"arrowwidth\": 1}, \"coloraxis\": {\"colorbar\": {\"outlinewidth\": 0, \"ticks\": \"\"}}, \"colorscale\": {\"diverging\": [[0, \"#8e0152\"], [0.1, \"#c51b7d\"], [0.2, \"#de77ae\"], [0.3, \"#f1b6da\"], [0.4, \"#fde0ef\"], [0.5, \"#f7f7f7\"], [0.6, \"#e6f5d0\"], [0.7, \"#b8e186\"], [0.8, \"#7fbc41\"], [0.9, \"#4d9221\"], [1, \"#276419\"]], \"sequential\": [[0.0, \"#0d0887\"], [0.1111111111111111, \"#46039f\"], [0.2222222222222222, \"#7201a8\"], [0.3333333333333333, \"#9c179e\"], [0.4444444444444444, \"#bd3786\"], [0.5555555555555556, \"#d8576b\"], [0.6666666666666666, \"#ed7953\"], [0.7777777777777778, \"#fb9f3a\"], [0.8888888888888888, \"#fdca26\"], [1.0, \"#f0f921\"]], \"sequentialminus\": [[0.0, \"#0d0887\"], [0.1111111111111111, \"#46039f\"], [0.2222222222222222, \"#7201a8\"], [0.3333333333333333, \"#9c179e\"], [0.4444444444444444, \"#bd3786\"], [0.5555555555555556, \"#d8576b\"], [0.6666666666666666, \"#ed7953\"], [0.7777777777777778, \"#fb9f3a\"], [0.8888888888888888, \"#fdca26\"], [1.0, \"#f0f921\"]]}, \"colorway\": [\"#636efa\", \"#EF553B\", \"#00cc96\", \"#ab63fa\", \"#FFA15A\", \"#19d3f3\", \"#FF6692\", \"#B6E880\", \"#FF97FF\", \"#FECB52\"], \"font\": {\"color\": \"#2a3f5f\"}, \"geo\": {\"bgcolor\": \"white\", \"lakecolor\": \"white\", \"landcolor\": \"#E5ECF6\", \"showlakes\": true, \"showland\": true, \"subunitcolor\": \"white\"}, \"hoverlabel\": {\"align\": \"left\"}, \"hovermode\": \"closest\", \"mapbox\": {\"style\": \"light\"}, \"paper_bgcolor\": \"white\", \"plot_bgcolor\": \"#E5ECF6\", \"polar\": {\"angularaxis\": {\"gridcolor\": \"white\", \"linecolor\": \"white\", \"ticks\": \"\"}, \"bgcolor\": \"#E5ECF6\", \"radialaxis\": {\"gridcolor\": \"white\", \"linecolor\": \"white\", \"ticks\": \"\"}}, \"scene\": {\"xaxis\": {\"backgroundcolor\": \"#E5ECF6\", \"gridcolor\": \"white\", \"gridwidth\": 2, \"linecolor\": \"white\", \"showbackground\": true, \"ticks\": \"\", \"zerolinecolor\": \"white\"}, \"yaxis\": {\"backgroundcolor\": \"#E5ECF6\", \"gridcolor\": \"white\", \"gridwidth\": 2, \"linecolor\": \"white\", \"showbackground\": true, \"ticks\": \"\", \"zerolinecolor\": \"white\"}, \"zaxis\": {\"backgroundcolor\": \"#E5ECF6\", \"gridcolor\": \"white\", \"gridwidth\": 2, \"linecolor\": \"white\", \"showbackground\": true, \"ticks\": \"\", \"zerolinecolor\": \"white\"}}, \"shapedefaults\": {\"line\": {\"color\": \"#2a3f5f\"}}, \"ternary\": {\"aaxis\": {\"gridcolor\": \"white\", \"linecolor\": \"white\", \"ticks\": \"\"}, \"baxis\": {\"gridcolor\": \"white\", \"linecolor\": \"white\", \"ticks\": \"\"}, \"bgcolor\": \"#E5ECF6\", \"caxis\": {\"gridcolor\": \"white\", \"linecolor\": \"white\", \"ticks\": \"\"}}, \"title\": {\"x\": 0.05}, \"xaxis\": {\"automargin\": true, \"gridcolor\": \"white\", \"linecolor\": \"white\", \"ticks\": \"\", \"title\": {\"standoff\": 15}, \"zerolinecolor\": \"white\", \"zerolinewidth\": 2}, \"yaxis\": {\"automargin\": true, \"gridcolor\": \"white\", \"linecolor\": \"white\", \"ticks\": \"\", \"title\": {\"standoff\": 15}, \"zerolinecolor\": \"white\", \"zerolinewidth\": 2}}}, \"title\": {\"font\": {\"color\": \"#4D5663\"}}, \"xaxis\": {\"gridcolor\": \"#E1E5ED\", \"showgrid\": true, \"tickfont\": {\"color\": \"#4D5663\"}, \"title\": {\"font\": {\"color\": \"#4D5663\"}, \"text\": \"\"}, \"zerolinecolor\": \"#E1E5ED\"}, \"yaxis\": {\"gridcolor\": \"#E1E5ED\", \"showgrid\": true, \"tickfont\": {\"color\": \"#4D5663\"}, \"title\": {\"font\": {\"color\": \"#4D5663\"}, \"text\": \"\"}, \"zerolinecolor\": \"#E1E5ED\"}},\n",
       "                        {\"showLink\": true, \"linkText\": \"Export to plot.ly\", \"plotlyServerURL\": \"https://plot.ly\", \"responsive\": true}\n",
       "                    ).then(function(){\n",
       "                            \n",
       "var gd = document.getElementById('613326cb-4ffb-46e7-bfe8-b5529fdd50bc');\n",
       "var x = new MutationObserver(function (mutations, observer) {{\n",
       "        var display = window.getComputedStyle(gd).display;\n",
       "        if (!display || display === 'none') {{\n",
       "            console.log([gd, 'removed!']);\n",
       "            Plotly.purge(gd);\n",
       "            observer.disconnect();\n",
       "        }}\n",
       "}});\n",
       "\n",
       "// Listen for the removal of the full notebook cells\n",
       "var notebookContainer = gd.closest('#notebook-container');\n",
       "if (notebookContainer) {{\n",
       "    x.observe(notebookContainer, {childList: true});\n",
       "}}\n",
       "\n",
       "// Listen for the clearing of the current output cell\n",
       "var outputEl = gd.closest('.output');\n",
       "if (outputEl) {{\n",
       "    x.observe(outputEl, {childList: true});\n",
       "}}\n",
       "\n",
       "                        })\n",
       "                };\n",
       "                });\n",
       "            </script>\n",
       "        </div>"
      ]
     },
     "metadata": {},
     "output_type": "display_data"
    }
   ],
   "source": [
    "df['A'].iplot(kind='hist',bins=25)"
   ]
  },
  {
   "cell_type": "code",
   "execution_count": 23,
   "metadata": {},
   "outputs": [
    {
     "data": {
      "application/vnd.plotly.v1+json": {
       "config": {
        "linkText": "Export to plot.ly",
        "plotlyServerURL": "https://plot.ly",
        "showLink": true
       },
       "data": [
        {
         "marker": {
          "color": [
           "rgb(255, 153, 51)",
           "rgb(55, 128, 191)",
           "rgb(50, 171, 96)",
           "rgb(128, 0, 128)",
           "rgb(219, 64, 82)",
           "rgb(0, 128, 128)",
           "rgb(255, 255, 51)",
           "rgb(128, 128, 0)",
           "rgb(251, 128, 114)",
           "rgb(128, 177, 211)"
          ],
          "line": {
           "width": 1.3
          },
          "size": [
           73,
           50,
           50,
           74,
           60,
           74,
           58,
           64,
           82,
           74,
           51,
           38,
           42,
           56,
           72,
           59,
           18,
           60,
           72,
           43,
           59,
           80,
           66,
           72,
           67,
           59,
           54,
           56,
           79,
           85,
           42,
           55,
           65,
           63,
           60,
           52,
           57,
           53,
           12,
           70,
           50,
           72,
           72,
           106,
           56,
           35,
           38,
           88,
           86,
           85,
           21,
           70,
           57,
           43,
           40,
           64,
           43,
           65,
           77,
           59,
           90,
           82,
           89,
           88,
           31,
           20,
           37,
           83,
           64,
           25,
           112,
           54,
           46,
           83,
           63,
           69,
           82,
           46,
           69,
           52,
           88,
           63,
           63,
           35,
           46,
           74,
           101,
           35,
           68,
           45,
           53,
           46,
           35,
           83,
           46,
           60,
           77,
           72,
           53,
           60
          ],
          "symbol": "circle"
         },
         "mode": "markers",
         "text": "",
         "type": "scatter",
         "x": [
          0.14612668346810087,
          -0.5150643958091404,
          0.993048156143555,
          1.5527565611998224,
          1.102283947004991,
          -2.4771102825000293,
          0.48535271977394,
          -5.997120287646958e-05,
          0.2728979161787896,
          0.14241623947301038,
          -1.7220839857720651,
          0.30479168294651615,
          0.1707684250962974,
          0.6284887755043934,
          -0.7850037217749689,
          -1.1402548447102723,
          -1.212921005329053,
          1.6666125120797235,
          -0.09525429818572638,
          0.9108399395049533,
          -0.6702079843333787,
          -1.8669920709525916,
          1.6318644734155594,
          1.4480641743665572,
          -0.20584286234038407,
          -0.9651543766878872,
          0.054311253909850594,
          -0.8525930402703691,
          -1.0848566097036196,
          0.22715446781637538,
          0.3832666550905886,
          0.21245695028944037,
          -0.0031198053900515408,
          0.8915668414548645,
          -0.9312260659908879,
          -0.6972621137761454,
          -0.9925852130986549,
          0.010933605125837584,
          -2.577121073522515,
          -0.5332388082426226,
          1.398496525872,
          -0.8155572221629612,
          -0.9005129185664054,
          -0.6955619676939033,
          0.24028614247159708,
          -0.14105753079894373,
          -0.6162582023375035,
          0.7117930742373001,
          -1.0493646331333701,
          0.7263194289302121,
          -0.9236975218766958,
          0.8101185177578193,
          1.2922900513898754,
          1.99699676194669,
          -0.6266941891218982,
          -0.6196112352306313,
          1.4954683268115523,
          -2.9005331410172115,
          -0.6144254979438556,
          0.3615184842676474,
          0.13442250363981223,
          0.22447929683610798,
          -0.011270422105252743,
          -0.14111226614689665,
          -0.5318804901994556,
          0.6493074858815254,
          -0.2738880128999982,
          0.9555595386204824,
          0.7301709692563028,
          -1.4019249307583348,
          -0.0068608240191281806,
          -0.471556716044861,
          -0.1636207573841797,
          -0.9752489923344956,
          0.669055675451341,
          -0.9661397959251155,
          -1.5034110492253536,
          -0.3084302353121149,
          -1.4552573990374573,
          -0.37808603369362415,
          -0.5446990641153069,
          -1.0328897660107783,
          -0.8372577968906745,
          -0.7355106232037772,
          -1.3968647200753481,
          0.11921688487375993,
          0.23800858493954524,
          -0.29667185768549426,
          0.045883212163534935,
          0.5890039282286894,
          -1.515246249470787,
          -0.1037424743255574,
          0.07342647048913974,
          -0.3282544929060498,
          -0.24513863167968586,
          -1.3103895947774227,
          -0.60110734404662,
          -0.5850987673040257,
          1.176709146660171,
          -0.02325427275882479
         ],
         "y": [
          -2.0656920513651267,
          -1.7381898395197724,
          0.5749599646022417,
          -0.20398456935783446,
          -0.4464639680231975,
          0.004383762977137288,
          1.9272186733110637,
          -0.22658980720241415,
          0.21319561532434866,
          1.5343976664498042,
          -1.7943920159076656,
          -0.31464543291905195,
          -0.8012811797214887,
          1.4806559714007235,
          -0.4525548517573186,
          0.8822175236625406,
          -0.6555046997736079,
          0.5534536525657692,
          2.5421760186772,
          -1.6020691181124989,
          -1.30636280422524,
          -1.6922777152443158,
          -0.43175033360126613,
          1.3397945250406764,
          1.624479377795292,
          0.3372467612579277,
          -0.7424600919093032,
          1.3006818267114464,
          1.4148160695972485,
          0.6663625542733729,
          0.5732067675544568,
          0.3051087364651881,
          -1.4396219914247679,
          -0.7734455403957947,
          -0.02599984732944654,
          -1.0276684058819194,
          0.22756933882402786,
          0.7164414805356631,
          -0.010551172850629087,
          0.7465062931883728,
          -0.15654287357337096,
          1.285174065039588,
          -0.20984792674432232,
          0.3483310438811358,
          -0.10533457004704003,
          -1.3834922346350678,
          1.0968266309403547,
          -0.25116973554735844,
          -0.6065382611435444,
          -1.0337927095418653,
          -0.21471649762200568,
          -0.6424738047013894,
          2.1808737180863007,
          -0.367996144391834,
          0.9167509740226216,
          -0.827535652526785,
          -0.8818030769631394,
          -0.9906853057636372,
          -0.8822721779505264,
          2.0782433585144706,
          2.0282557218946855,
          -0.8954929220192098,
          1.7866615436252993,
          -0.08049020901035116,
          -0.45378394604250133,
          0.5459523374270943,
          1.7197030126869044,
          0.3824670655552625,
          -0.957018082500895,
          -0.522255715100206,
          0.5221185782393967,
          -0.37485757127874875,
          -0.5566617662959691,
          -0.8123709478860014,
          0.29366965851694743,
          -0.0850413846996384,
          -0.04473175295591152,
          -0.37788189763614555,
          -0.6566266748681084,
          1.3646960859938941,
          -0.18554222363097056,
          1.2608857606412667,
          -0.5525218583285384,
          0.7235470324663364,
          1.5772106695463057,
          -1.1557689600287397,
          -0.5223993511642664,
          -0.6891779022249445,
          -1.1183442365618064,
          0.0995055407471527,
          0.2915282805930497,
          0.38447901373397075,
          0.24560328724944816,
          0.21860553849762943,
          1.1690011631045691,
          0.4694483908290291,
          1.2466428891069556,
          0.5636822430556009,
          -0.5317643553625623,
          -1.7177776755893035
         ]
        }
       ],
       "layout": {
        "legend": {
         "bgcolor": "#F5F6F9",
         "font": {
          "color": "#4D5663"
         }
        },
        "paper_bgcolor": "#F5F6F9",
        "plot_bgcolor": "#F5F6F9",
        "template": {
         "data": {
          "bar": [
           {
            "error_x": {
             "color": "#2a3f5f"
            },
            "error_y": {
             "color": "#2a3f5f"
            },
            "marker": {
             "line": {
              "color": "#E5ECF6",
              "width": 0.5
             }
            },
            "type": "bar"
           }
          ],
          "barpolar": [
           {
            "marker": {
             "line": {
              "color": "#E5ECF6",
              "width": 0.5
             }
            },
            "type": "barpolar"
           }
          ],
          "carpet": [
           {
            "aaxis": {
             "endlinecolor": "#2a3f5f",
             "gridcolor": "white",
             "linecolor": "white",
             "minorgridcolor": "white",
             "startlinecolor": "#2a3f5f"
            },
            "baxis": {
             "endlinecolor": "#2a3f5f",
             "gridcolor": "white",
             "linecolor": "white",
             "minorgridcolor": "white",
             "startlinecolor": "#2a3f5f"
            },
            "type": "carpet"
           }
          ],
          "choropleth": [
           {
            "colorbar": {
             "outlinewidth": 0,
             "ticks": ""
            },
            "type": "choropleth"
           }
          ],
          "contour": [
           {
            "colorbar": {
             "outlinewidth": 0,
             "ticks": ""
            },
            "colorscale": [
             [
              0,
              "#0d0887"
             ],
             [
              0.1111111111111111,
              "#46039f"
             ],
             [
              0.2222222222222222,
              "#7201a8"
             ],
             [
              0.3333333333333333,
              "#9c179e"
             ],
             [
              0.4444444444444444,
              "#bd3786"
             ],
             [
              0.5555555555555556,
              "#d8576b"
             ],
             [
              0.6666666666666666,
              "#ed7953"
             ],
             [
              0.7777777777777778,
              "#fb9f3a"
             ],
             [
              0.8888888888888888,
              "#fdca26"
             ],
             [
              1,
              "#f0f921"
             ]
            ],
            "type": "contour"
           }
          ],
          "contourcarpet": [
           {
            "colorbar": {
             "outlinewidth": 0,
             "ticks": ""
            },
            "type": "contourcarpet"
           }
          ],
          "heatmap": [
           {
            "colorbar": {
             "outlinewidth": 0,
             "ticks": ""
            },
            "colorscale": [
             [
              0,
              "#0d0887"
             ],
             [
              0.1111111111111111,
              "#46039f"
             ],
             [
              0.2222222222222222,
              "#7201a8"
             ],
             [
              0.3333333333333333,
              "#9c179e"
             ],
             [
              0.4444444444444444,
              "#bd3786"
             ],
             [
              0.5555555555555556,
              "#d8576b"
             ],
             [
              0.6666666666666666,
              "#ed7953"
             ],
             [
              0.7777777777777778,
              "#fb9f3a"
             ],
             [
              0.8888888888888888,
              "#fdca26"
             ],
             [
              1,
              "#f0f921"
             ]
            ],
            "type": "heatmap"
           }
          ],
          "heatmapgl": [
           {
            "colorbar": {
             "outlinewidth": 0,
             "ticks": ""
            },
            "colorscale": [
             [
              0,
              "#0d0887"
             ],
             [
              0.1111111111111111,
              "#46039f"
             ],
             [
              0.2222222222222222,
              "#7201a8"
             ],
             [
              0.3333333333333333,
              "#9c179e"
             ],
             [
              0.4444444444444444,
              "#bd3786"
             ],
             [
              0.5555555555555556,
              "#d8576b"
             ],
             [
              0.6666666666666666,
              "#ed7953"
             ],
             [
              0.7777777777777778,
              "#fb9f3a"
             ],
             [
              0.8888888888888888,
              "#fdca26"
             ],
             [
              1,
              "#f0f921"
             ]
            ],
            "type": "heatmapgl"
           }
          ],
          "histogram": [
           {
            "marker": {
             "colorbar": {
              "outlinewidth": 0,
              "ticks": ""
             }
            },
            "type": "histogram"
           }
          ],
          "histogram2d": [
           {
            "colorbar": {
             "outlinewidth": 0,
             "ticks": ""
            },
            "colorscale": [
             [
              0,
              "#0d0887"
             ],
             [
              0.1111111111111111,
              "#46039f"
             ],
             [
              0.2222222222222222,
              "#7201a8"
             ],
             [
              0.3333333333333333,
              "#9c179e"
             ],
             [
              0.4444444444444444,
              "#bd3786"
             ],
             [
              0.5555555555555556,
              "#d8576b"
             ],
             [
              0.6666666666666666,
              "#ed7953"
             ],
             [
              0.7777777777777778,
              "#fb9f3a"
             ],
             [
              0.8888888888888888,
              "#fdca26"
             ],
             [
              1,
              "#f0f921"
             ]
            ],
            "type": "histogram2d"
           }
          ],
          "histogram2dcontour": [
           {
            "colorbar": {
             "outlinewidth": 0,
             "ticks": ""
            },
            "colorscale": [
             [
              0,
              "#0d0887"
             ],
             [
              0.1111111111111111,
              "#46039f"
             ],
             [
              0.2222222222222222,
              "#7201a8"
             ],
             [
              0.3333333333333333,
              "#9c179e"
             ],
             [
              0.4444444444444444,
              "#bd3786"
             ],
             [
              0.5555555555555556,
              "#d8576b"
             ],
             [
              0.6666666666666666,
              "#ed7953"
             ],
             [
              0.7777777777777778,
              "#fb9f3a"
             ],
             [
              0.8888888888888888,
              "#fdca26"
             ],
             [
              1,
              "#f0f921"
             ]
            ],
            "type": "histogram2dcontour"
           }
          ],
          "mesh3d": [
           {
            "colorbar": {
             "outlinewidth": 0,
             "ticks": ""
            },
            "type": "mesh3d"
           }
          ],
          "parcoords": [
           {
            "line": {
             "colorbar": {
              "outlinewidth": 0,
              "ticks": ""
             }
            },
            "type": "parcoords"
           }
          ],
          "pie": [
           {
            "automargin": true,
            "type": "pie"
           }
          ],
          "scatter": [
           {
            "marker": {
             "colorbar": {
              "outlinewidth": 0,
              "ticks": ""
             }
            },
            "type": "scatter"
           }
          ],
          "scatter3d": [
           {
            "line": {
             "colorbar": {
              "outlinewidth": 0,
              "ticks": ""
             }
            },
            "marker": {
             "colorbar": {
              "outlinewidth": 0,
              "ticks": ""
             }
            },
            "type": "scatter3d"
           }
          ],
          "scattercarpet": [
           {
            "marker": {
             "colorbar": {
              "outlinewidth": 0,
              "ticks": ""
             }
            },
            "type": "scattercarpet"
           }
          ],
          "scattergeo": [
           {
            "marker": {
             "colorbar": {
              "outlinewidth": 0,
              "ticks": ""
             }
            },
            "type": "scattergeo"
           }
          ],
          "scattergl": [
           {
            "marker": {
             "colorbar": {
              "outlinewidth": 0,
              "ticks": ""
             }
            },
            "type": "scattergl"
           }
          ],
          "scattermapbox": [
           {
            "marker": {
             "colorbar": {
              "outlinewidth": 0,
              "ticks": ""
             }
            },
            "type": "scattermapbox"
           }
          ],
          "scatterpolar": [
           {
            "marker": {
             "colorbar": {
              "outlinewidth": 0,
              "ticks": ""
             }
            },
            "type": "scatterpolar"
           }
          ],
          "scatterpolargl": [
           {
            "marker": {
             "colorbar": {
              "outlinewidth": 0,
              "ticks": ""
             }
            },
            "type": "scatterpolargl"
           }
          ],
          "scatterternary": [
           {
            "marker": {
             "colorbar": {
              "outlinewidth": 0,
              "ticks": ""
             }
            },
            "type": "scatterternary"
           }
          ],
          "surface": [
           {
            "colorbar": {
             "outlinewidth": 0,
             "ticks": ""
            },
            "colorscale": [
             [
              0,
              "#0d0887"
             ],
             [
              0.1111111111111111,
              "#46039f"
             ],
             [
              0.2222222222222222,
              "#7201a8"
             ],
             [
              0.3333333333333333,
              "#9c179e"
             ],
             [
              0.4444444444444444,
              "#bd3786"
             ],
             [
              0.5555555555555556,
              "#d8576b"
             ],
             [
              0.6666666666666666,
              "#ed7953"
             ],
             [
              0.7777777777777778,
              "#fb9f3a"
             ],
             [
              0.8888888888888888,
              "#fdca26"
             ],
             [
              1,
              "#f0f921"
             ]
            ],
            "type": "surface"
           }
          ],
          "table": [
           {
            "cells": {
             "fill": {
              "color": "#EBF0F8"
             },
             "line": {
              "color": "white"
             }
            },
            "header": {
             "fill": {
              "color": "#C8D4E3"
             },
             "line": {
              "color": "white"
             }
            },
            "type": "table"
           }
          ]
         },
         "layout": {
          "annotationdefaults": {
           "arrowcolor": "#2a3f5f",
           "arrowhead": 0,
           "arrowwidth": 1
          },
          "coloraxis": {
           "colorbar": {
            "outlinewidth": 0,
            "ticks": ""
           }
          },
          "colorscale": {
           "diverging": [
            [
             0,
             "#8e0152"
            ],
            [
             0.1,
             "#c51b7d"
            ],
            [
             0.2,
             "#de77ae"
            ],
            [
             0.3,
             "#f1b6da"
            ],
            [
             0.4,
             "#fde0ef"
            ],
            [
             0.5,
             "#f7f7f7"
            ],
            [
             0.6,
             "#e6f5d0"
            ],
            [
             0.7,
             "#b8e186"
            ],
            [
             0.8,
             "#7fbc41"
            ],
            [
             0.9,
             "#4d9221"
            ],
            [
             1,
             "#276419"
            ]
           ],
           "sequential": [
            [
             0,
             "#0d0887"
            ],
            [
             0.1111111111111111,
             "#46039f"
            ],
            [
             0.2222222222222222,
             "#7201a8"
            ],
            [
             0.3333333333333333,
             "#9c179e"
            ],
            [
             0.4444444444444444,
             "#bd3786"
            ],
            [
             0.5555555555555556,
             "#d8576b"
            ],
            [
             0.6666666666666666,
             "#ed7953"
            ],
            [
             0.7777777777777778,
             "#fb9f3a"
            ],
            [
             0.8888888888888888,
             "#fdca26"
            ],
            [
             1,
             "#f0f921"
            ]
           ],
           "sequentialminus": [
            [
             0,
             "#0d0887"
            ],
            [
             0.1111111111111111,
             "#46039f"
            ],
            [
             0.2222222222222222,
             "#7201a8"
            ],
            [
             0.3333333333333333,
             "#9c179e"
            ],
            [
             0.4444444444444444,
             "#bd3786"
            ],
            [
             0.5555555555555556,
             "#d8576b"
            ],
            [
             0.6666666666666666,
             "#ed7953"
            ],
            [
             0.7777777777777778,
             "#fb9f3a"
            ],
            [
             0.8888888888888888,
             "#fdca26"
            ],
            [
             1,
             "#f0f921"
            ]
           ]
          },
          "colorway": [
           "#636efa",
           "#EF553B",
           "#00cc96",
           "#ab63fa",
           "#FFA15A",
           "#19d3f3",
           "#FF6692",
           "#B6E880",
           "#FF97FF",
           "#FECB52"
          ],
          "font": {
           "color": "#2a3f5f"
          },
          "geo": {
           "bgcolor": "white",
           "lakecolor": "white",
           "landcolor": "#E5ECF6",
           "showlakes": true,
           "showland": true,
           "subunitcolor": "white"
          },
          "hoverlabel": {
           "align": "left"
          },
          "hovermode": "closest",
          "mapbox": {
           "style": "light"
          },
          "paper_bgcolor": "white",
          "plot_bgcolor": "#E5ECF6",
          "polar": {
           "angularaxis": {
            "gridcolor": "white",
            "linecolor": "white",
            "ticks": ""
           },
           "bgcolor": "#E5ECF6",
           "radialaxis": {
            "gridcolor": "white",
            "linecolor": "white",
            "ticks": ""
           }
          },
          "scene": {
           "xaxis": {
            "backgroundcolor": "#E5ECF6",
            "gridcolor": "white",
            "gridwidth": 2,
            "linecolor": "white",
            "showbackground": true,
            "ticks": "",
            "zerolinecolor": "white"
           },
           "yaxis": {
            "backgroundcolor": "#E5ECF6",
            "gridcolor": "white",
            "gridwidth": 2,
            "linecolor": "white",
            "showbackground": true,
            "ticks": "",
            "zerolinecolor": "white"
           },
           "zaxis": {
            "backgroundcolor": "#E5ECF6",
            "gridcolor": "white",
            "gridwidth": 2,
            "linecolor": "white",
            "showbackground": true,
            "ticks": "",
            "zerolinecolor": "white"
           }
          },
          "shapedefaults": {
           "line": {
            "color": "#2a3f5f"
           }
          },
          "ternary": {
           "aaxis": {
            "gridcolor": "white",
            "linecolor": "white",
            "ticks": ""
           },
           "baxis": {
            "gridcolor": "white",
            "linecolor": "white",
            "ticks": ""
           },
           "bgcolor": "#E5ECF6",
           "caxis": {
            "gridcolor": "white",
            "linecolor": "white",
            "ticks": ""
           }
          },
          "title": {
           "x": 0.05
          },
          "xaxis": {
           "automargin": true,
           "gridcolor": "white",
           "linecolor": "white",
           "ticks": "",
           "title": {
            "standoff": 15
           },
           "zerolinecolor": "white",
           "zerolinewidth": 2
          },
          "yaxis": {
           "automargin": true,
           "gridcolor": "white",
           "linecolor": "white",
           "ticks": "",
           "title": {
            "standoff": 15
           },
           "zerolinecolor": "white",
           "zerolinewidth": 2
          }
         }
        },
        "title": {
         "font": {
          "color": "#4D5663"
         }
        },
        "xaxis": {
         "gridcolor": "#E1E5ED",
         "showgrid": true,
         "tickfont": {
          "color": "#4D5663"
         },
         "title": {
          "font": {
           "color": "#4D5663"
          },
          "text": ""
         },
         "zerolinecolor": "#E1E5ED"
        },
        "yaxis": {
         "gridcolor": "#E1E5ED",
         "showgrid": true,
         "tickfont": {
          "color": "#4D5663"
         },
         "title": {
          "font": {
           "color": "#4D5663"
          },
          "text": ""
         },
         "zerolinecolor": "#E1E5ED"
        }
       }
      },
      "text/html": [
       "<div>\n",
       "        \n",
       "        \n",
       "            <div id=\"89366296-2fef-4937-bbaa-edfdf4c08273\" class=\"plotly-graph-div\" style=\"height:525px; width:100%;\"></div>\n",
       "            <script type=\"text/javascript\">\n",
       "                require([\"plotly\"], function(Plotly) {\n",
       "                    window.PLOTLYENV=window.PLOTLYENV || {};\n",
       "                    window.PLOTLYENV.BASE_URL='https://plot.ly';\n",
       "                    \n",
       "                if (document.getElementById(\"89366296-2fef-4937-bbaa-edfdf4c08273\")) {\n",
       "                    Plotly.newPlot(\n",
       "                        '89366296-2fef-4937-bbaa-edfdf4c08273',\n",
       "                        [{\"marker\": {\"color\": [\"rgb(255, 153, 51)\", \"rgb(55, 128, 191)\", \"rgb(50, 171, 96)\", \"rgb(128, 0, 128)\", \"rgb(219, 64, 82)\", \"rgb(0, 128, 128)\", \"rgb(255, 255, 51)\", \"rgb(128, 128, 0)\", \"rgb(251, 128, 114)\", \"rgb(128, 177, 211)\"], \"line\": {\"width\": 1.3}, \"size\": [73, 50, 50, 74, 60, 74, 58, 64, 82, 74, 51, 38, 42, 56, 72, 59, 18, 60, 72, 43, 59, 80, 66, 72, 67, 59, 54, 56, 79, 85, 42, 55, 65, 63, 60, 52, 57, 53, 12, 70, 50, 72, 72, 106, 56, 35, 38, 88, 86, 85, 21, 70, 57, 43, 40, 64, 43, 65, 77, 59, 90, 82, 89, 88, 31, 20, 37, 83, 64, 25, 112, 54, 46, 83, 63, 69, 82, 46, 69, 52, 88, 63, 63, 35, 46, 74, 101, 35, 68, 45, 53, 46, 35, 83, 46, 60, 77, 72, 53, 60], \"symbol\": \"circle\"}, \"mode\": \"markers\", \"text\": \"\", \"type\": \"scatter\", \"x\": [0.14612668346810087, -0.5150643958091404, 0.993048156143555, 1.5527565611998224, 1.102283947004991, -2.4771102825000293, 0.48535271977394, -5.997120287646958e-05, 0.2728979161787896, 0.14241623947301038, -1.7220839857720651, 0.30479168294651615, 0.1707684250962974, 0.6284887755043934, -0.7850037217749689, -1.1402548447102723, -1.212921005329053, 1.6666125120797235, -0.09525429818572638, 0.9108399395049533, -0.6702079843333787, -1.8669920709525916, 1.6318644734155594, 1.4480641743665572, -0.20584286234038407, -0.9651543766878872, 0.054311253909850594, -0.8525930402703691, -1.0848566097036196, 0.22715446781637538, 0.3832666550905886, 0.21245695028944037, -0.0031198053900515408, 0.8915668414548645, -0.9312260659908879, -0.6972621137761454, -0.9925852130986549, 0.010933605125837584, -2.577121073522515, -0.5332388082426226, 1.398496525872, -0.8155572221629612, -0.9005129185664054, -0.6955619676939033, 0.24028614247159708, -0.14105753079894373, -0.6162582023375035, 0.7117930742373001, -1.0493646331333701, 0.7263194289302121, -0.9236975218766958, 0.8101185177578193, 1.2922900513898754, 1.99699676194669, -0.6266941891218982, -0.6196112352306313, 1.4954683268115523, -2.9005331410172115, -0.6144254979438556, 0.3615184842676474, 0.13442250363981223, 0.22447929683610798, -0.011270422105252743, -0.14111226614689665, -0.5318804901994556, 0.6493074858815254, -0.2738880128999982, 0.9555595386204824, 0.7301709692563028, -1.4019249307583348, -0.0068608240191281806, -0.471556716044861, -0.1636207573841797, -0.9752489923344956, 0.669055675451341, -0.9661397959251155, -1.5034110492253536, -0.3084302353121149, -1.4552573990374573, -0.37808603369362415, -0.5446990641153069, -1.0328897660107783, -0.8372577968906745, -0.7355106232037772, -1.3968647200753481, 0.11921688487375993, 0.23800858493954524, -0.29667185768549426, 0.045883212163534935, 0.5890039282286894, -1.515246249470787, -0.1037424743255574, 0.07342647048913974, -0.3282544929060498, -0.24513863167968586, -1.3103895947774227, -0.60110734404662, -0.5850987673040257, 1.176709146660171, -0.02325427275882479], \"y\": [-2.0656920513651267, -1.7381898395197724, 0.5749599646022417, -0.20398456935783446, -0.4464639680231975, 0.004383762977137288, 1.9272186733110637, -0.22658980720241415, 0.21319561532434866, 1.5343976664498042, -1.7943920159076656, -0.31464543291905195, -0.8012811797214887, 1.4806559714007235, -0.4525548517573186, 0.8822175236625406, -0.6555046997736079, 0.5534536525657692, 2.5421760186772, -1.6020691181124989, -1.30636280422524, -1.6922777152443158, -0.43175033360126613, 1.3397945250406764, 1.624479377795292, 0.3372467612579277, -0.7424600919093032, 1.3006818267114464, 1.4148160695972485, 0.6663625542733729, 0.5732067675544568, 0.3051087364651881, -1.4396219914247679, -0.7734455403957947, -0.02599984732944654, -1.0276684058819194, 0.22756933882402786, 0.7164414805356631, -0.010551172850629087, 0.7465062931883728, -0.15654287357337096, 1.285174065039588, -0.20984792674432232, 0.3483310438811358, -0.10533457004704003, -1.3834922346350678, 1.0968266309403547, -0.25116973554735844, -0.6065382611435444, -1.0337927095418653, -0.21471649762200568, -0.6424738047013894, 2.1808737180863007, -0.367996144391834, 0.9167509740226216, -0.827535652526785, -0.8818030769631394, -0.9906853057636372, -0.8822721779505264, 2.0782433585144706, 2.0282557218946855, -0.8954929220192098, 1.7866615436252993, -0.08049020901035116, -0.45378394604250133, 0.5459523374270943, 1.7197030126869044, 0.3824670655552625, -0.957018082500895, -0.522255715100206, 0.5221185782393967, -0.37485757127874875, -0.5566617662959691, -0.8123709478860014, 0.29366965851694743, -0.0850413846996384, -0.04473175295591152, -0.37788189763614555, -0.6566266748681084, 1.3646960859938941, -0.18554222363097056, 1.2608857606412667, -0.5525218583285384, 0.7235470324663364, 1.5772106695463057, -1.1557689600287397, -0.5223993511642664, -0.6891779022249445, -1.1183442365618064, 0.0995055407471527, 0.2915282805930497, 0.38447901373397075, 0.24560328724944816, 0.21860553849762943, 1.1690011631045691, 0.4694483908290291, 1.2466428891069556, 0.5636822430556009, -0.5317643553625623, -1.7177776755893035]}],\n",
       "                        {\"legend\": {\"bgcolor\": \"#F5F6F9\", \"font\": {\"color\": \"#4D5663\"}}, \"paper_bgcolor\": \"#F5F6F9\", \"plot_bgcolor\": \"#F5F6F9\", \"template\": {\"data\": {\"bar\": [{\"error_x\": {\"color\": \"#2a3f5f\"}, \"error_y\": {\"color\": \"#2a3f5f\"}, \"marker\": {\"line\": {\"color\": \"#E5ECF6\", \"width\": 0.5}}, \"type\": \"bar\"}], \"barpolar\": [{\"marker\": {\"line\": {\"color\": \"#E5ECF6\", \"width\": 0.5}}, \"type\": \"barpolar\"}], \"carpet\": [{\"aaxis\": {\"endlinecolor\": \"#2a3f5f\", \"gridcolor\": \"white\", \"linecolor\": \"white\", \"minorgridcolor\": \"white\", \"startlinecolor\": \"#2a3f5f\"}, \"baxis\": {\"endlinecolor\": \"#2a3f5f\", \"gridcolor\": \"white\", \"linecolor\": \"white\", \"minorgridcolor\": \"white\", \"startlinecolor\": \"#2a3f5f\"}, \"type\": \"carpet\"}], \"choropleth\": [{\"colorbar\": {\"outlinewidth\": 0, \"ticks\": \"\"}, \"type\": \"choropleth\"}], \"contour\": [{\"colorbar\": {\"outlinewidth\": 0, \"ticks\": \"\"}, \"colorscale\": [[0.0, \"#0d0887\"], [0.1111111111111111, \"#46039f\"], [0.2222222222222222, \"#7201a8\"], [0.3333333333333333, \"#9c179e\"], [0.4444444444444444, \"#bd3786\"], [0.5555555555555556, \"#d8576b\"], [0.6666666666666666, \"#ed7953\"], [0.7777777777777778, \"#fb9f3a\"], [0.8888888888888888, \"#fdca26\"], [1.0, \"#f0f921\"]], \"type\": \"contour\"}], \"contourcarpet\": [{\"colorbar\": {\"outlinewidth\": 0, \"ticks\": \"\"}, \"type\": \"contourcarpet\"}], \"heatmap\": [{\"colorbar\": {\"outlinewidth\": 0, \"ticks\": \"\"}, \"colorscale\": [[0.0, \"#0d0887\"], [0.1111111111111111, \"#46039f\"], [0.2222222222222222, \"#7201a8\"], [0.3333333333333333, \"#9c179e\"], [0.4444444444444444, \"#bd3786\"], [0.5555555555555556, \"#d8576b\"], [0.6666666666666666, \"#ed7953\"], [0.7777777777777778, \"#fb9f3a\"], [0.8888888888888888, \"#fdca26\"], [1.0, \"#f0f921\"]], \"type\": \"heatmap\"}], \"heatmapgl\": [{\"colorbar\": {\"outlinewidth\": 0, \"ticks\": \"\"}, \"colorscale\": [[0.0, \"#0d0887\"], [0.1111111111111111, \"#46039f\"], [0.2222222222222222, \"#7201a8\"], [0.3333333333333333, \"#9c179e\"], [0.4444444444444444, \"#bd3786\"], [0.5555555555555556, \"#d8576b\"], [0.6666666666666666, \"#ed7953\"], [0.7777777777777778, \"#fb9f3a\"], [0.8888888888888888, \"#fdca26\"], [1.0, \"#f0f921\"]], \"type\": \"heatmapgl\"}], \"histogram\": [{\"marker\": {\"colorbar\": {\"outlinewidth\": 0, \"ticks\": \"\"}}, \"type\": \"histogram\"}], \"histogram2d\": [{\"colorbar\": {\"outlinewidth\": 0, \"ticks\": \"\"}, \"colorscale\": [[0.0, \"#0d0887\"], [0.1111111111111111, \"#46039f\"], [0.2222222222222222, \"#7201a8\"], [0.3333333333333333, \"#9c179e\"], [0.4444444444444444, \"#bd3786\"], [0.5555555555555556, \"#d8576b\"], [0.6666666666666666, \"#ed7953\"], [0.7777777777777778, \"#fb9f3a\"], [0.8888888888888888, \"#fdca26\"], [1.0, \"#f0f921\"]], \"type\": \"histogram2d\"}], \"histogram2dcontour\": [{\"colorbar\": {\"outlinewidth\": 0, \"ticks\": \"\"}, \"colorscale\": [[0.0, \"#0d0887\"], [0.1111111111111111, \"#46039f\"], [0.2222222222222222, \"#7201a8\"], [0.3333333333333333, \"#9c179e\"], [0.4444444444444444, \"#bd3786\"], [0.5555555555555556, \"#d8576b\"], [0.6666666666666666, \"#ed7953\"], [0.7777777777777778, \"#fb9f3a\"], [0.8888888888888888, \"#fdca26\"], [1.0, \"#f0f921\"]], \"type\": \"histogram2dcontour\"}], \"mesh3d\": [{\"colorbar\": {\"outlinewidth\": 0, \"ticks\": \"\"}, \"type\": \"mesh3d\"}], \"parcoords\": [{\"line\": {\"colorbar\": {\"outlinewidth\": 0, \"ticks\": \"\"}}, \"type\": \"parcoords\"}], \"pie\": [{\"automargin\": true, \"type\": \"pie\"}], \"scatter\": [{\"marker\": {\"colorbar\": {\"outlinewidth\": 0, \"ticks\": \"\"}}, \"type\": \"scatter\"}], \"scatter3d\": [{\"line\": {\"colorbar\": {\"outlinewidth\": 0, \"ticks\": \"\"}}, \"marker\": {\"colorbar\": {\"outlinewidth\": 0, \"ticks\": \"\"}}, \"type\": \"scatter3d\"}], \"scattercarpet\": [{\"marker\": {\"colorbar\": {\"outlinewidth\": 0, \"ticks\": \"\"}}, \"type\": \"scattercarpet\"}], \"scattergeo\": [{\"marker\": {\"colorbar\": {\"outlinewidth\": 0, \"ticks\": \"\"}}, \"type\": \"scattergeo\"}], \"scattergl\": [{\"marker\": {\"colorbar\": {\"outlinewidth\": 0, \"ticks\": \"\"}}, \"type\": \"scattergl\"}], \"scattermapbox\": [{\"marker\": {\"colorbar\": {\"outlinewidth\": 0, \"ticks\": \"\"}}, \"type\": \"scattermapbox\"}], \"scatterpolar\": [{\"marker\": {\"colorbar\": {\"outlinewidth\": 0, \"ticks\": \"\"}}, \"type\": \"scatterpolar\"}], \"scatterpolargl\": [{\"marker\": {\"colorbar\": {\"outlinewidth\": 0, \"ticks\": \"\"}}, \"type\": \"scatterpolargl\"}], \"scatterternary\": [{\"marker\": {\"colorbar\": {\"outlinewidth\": 0, \"ticks\": \"\"}}, \"type\": \"scatterternary\"}], \"surface\": [{\"colorbar\": {\"outlinewidth\": 0, \"ticks\": \"\"}, \"colorscale\": [[0.0, \"#0d0887\"], [0.1111111111111111, \"#46039f\"], [0.2222222222222222, \"#7201a8\"], [0.3333333333333333, \"#9c179e\"], [0.4444444444444444, \"#bd3786\"], [0.5555555555555556, \"#d8576b\"], [0.6666666666666666, \"#ed7953\"], [0.7777777777777778, \"#fb9f3a\"], [0.8888888888888888, \"#fdca26\"], [1.0, \"#f0f921\"]], \"type\": \"surface\"}], \"table\": [{\"cells\": {\"fill\": {\"color\": \"#EBF0F8\"}, \"line\": {\"color\": \"white\"}}, \"header\": {\"fill\": {\"color\": \"#C8D4E3\"}, \"line\": {\"color\": \"white\"}}, \"type\": \"table\"}]}, \"layout\": {\"annotationdefaults\": {\"arrowcolor\": \"#2a3f5f\", \"arrowhead\": 0, \"arrowwidth\": 1}, \"coloraxis\": {\"colorbar\": {\"outlinewidth\": 0, \"ticks\": \"\"}}, \"colorscale\": {\"diverging\": [[0, \"#8e0152\"], [0.1, \"#c51b7d\"], [0.2, \"#de77ae\"], [0.3, \"#f1b6da\"], [0.4, \"#fde0ef\"], [0.5, \"#f7f7f7\"], [0.6, \"#e6f5d0\"], [0.7, \"#b8e186\"], [0.8, \"#7fbc41\"], [0.9, \"#4d9221\"], [1, \"#276419\"]], \"sequential\": [[0.0, \"#0d0887\"], [0.1111111111111111, \"#46039f\"], [0.2222222222222222, \"#7201a8\"], [0.3333333333333333, \"#9c179e\"], [0.4444444444444444, \"#bd3786\"], [0.5555555555555556, \"#d8576b\"], [0.6666666666666666, \"#ed7953\"], [0.7777777777777778, \"#fb9f3a\"], [0.8888888888888888, \"#fdca26\"], [1.0, \"#f0f921\"]], \"sequentialminus\": [[0.0, \"#0d0887\"], [0.1111111111111111, \"#46039f\"], [0.2222222222222222, \"#7201a8\"], [0.3333333333333333, \"#9c179e\"], [0.4444444444444444, \"#bd3786\"], [0.5555555555555556, \"#d8576b\"], [0.6666666666666666, \"#ed7953\"], [0.7777777777777778, \"#fb9f3a\"], [0.8888888888888888, \"#fdca26\"], [1.0, \"#f0f921\"]]}, \"colorway\": [\"#636efa\", \"#EF553B\", \"#00cc96\", \"#ab63fa\", \"#FFA15A\", \"#19d3f3\", \"#FF6692\", \"#B6E880\", \"#FF97FF\", \"#FECB52\"], \"font\": {\"color\": \"#2a3f5f\"}, \"geo\": {\"bgcolor\": \"white\", \"lakecolor\": \"white\", \"landcolor\": \"#E5ECF6\", \"showlakes\": true, \"showland\": true, \"subunitcolor\": \"white\"}, \"hoverlabel\": {\"align\": \"left\"}, \"hovermode\": \"closest\", \"mapbox\": {\"style\": \"light\"}, \"paper_bgcolor\": \"white\", \"plot_bgcolor\": \"#E5ECF6\", \"polar\": {\"angularaxis\": {\"gridcolor\": \"white\", \"linecolor\": \"white\", \"ticks\": \"\"}, \"bgcolor\": \"#E5ECF6\", \"radialaxis\": {\"gridcolor\": \"white\", \"linecolor\": \"white\", \"ticks\": \"\"}}, \"scene\": {\"xaxis\": {\"backgroundcolor\": \"#E5ECF6\", \"gridcolor\": \"white\", \"gridwidth\": 2, \"linecolor\": \"white\", \"showbackground\": true, \"ticks\": \"\", \"zerolinecolor\": \"white\"}, \"yaxis\": {\"backgroundcolor\": \"#E5ECF6\", \"gridcolor\": \"white\", \"gridwidth\": 2, \"linecolor\": \"white\", \"showbackground\": true, \"ticks\": \"\", \"zerolinecolor\": \"white\"}, \"zaxis\": {\"backgroundcolor\": \"#E5ECF6\", \"gridcolor\": \"white\", \"gridwidth\": 2, \"linecolor\": \"white\", \"showbackground\": true, \"ticks\": \"\", \"zerolinecolor\": \"white\"}}, \"shapedefaults\": {\"line\": {\"color\": \"#2a3f5f\"}}, \"ternary\": {\"aaxis\": {\"gridcolor\": \"white\", \"linecolor\": \"white\", \"ticks\": \"\"}, \"baxis\": {\"gridcolor\": \"white\", \"linecolor\": \"white\", \"ticks\": \"\"}, \"bgcolor\": \"#E5ECF6\", \"caxis\": {\"gridcolor\": \"white\", \"linecolor\": \"white\", \"ticks\": \"\"}}, \"title\": {\"x\": 0.05}, \"xaxis\": {\"automargin\": true, \"gridcolor\": \"white\", \"linecolor\": \"white\", \"ticks\": \"\", \"title\": {\"standoff\": 15}, \"zerolinecolor\": \"white\", \"zerolinewidth\": 2}, \"yaxis\": {\"automargin\": true, \"gridcolor\": \"white\", \"linecolor\": \"white\", \"ticks\": \"\", \"title\": {\"standoff\": 15}, \"zerolinecolor\": \"white\", \"zerolinewidth\": 2}}}, \"title\": {\"font\": {\"color\": \"#4D5663\"}}, \"xaxis\": {\"gridcolor\": \"#E1E5ED\", \"showgrid\": true, \"tickfont\": {\"color\": \"#4D5663\"}, \"title\": {\"font\": {\"color\": \"#4D5663\"}, \"text\": \"\"}, \"zerolinecolor\": \"#E1E5ED\"}, \"yaxis\": {\"gridcolor\": \"#E1E5ED\", \"showgrid\": true, \"tickfont\": {\"color\": \"#4D5663\"}, \"title\": {\"font\": {\"color\": \"#4D5663\"}, \"text\": \"\"}, \"zerolinecolor\": \"#E1E5ED\"}},\n",
       "                        {\"showLink\": true, \"linkText\": \"Export to plot.ly\", \"plotlyServerURL\": \"https://plot.ly\", \"responsive\": true}\n",
       "                    ).then(function(){\n",
       "                            \n",
       "var gd = document.getElementById('89366296-2fef-4937-bbaa-edfdf4c08273');\n",
       "var x = new MutationObserver(function (mutations, observer) {{\n",
       "        var display = window.getComputedStyle(gd).display;\n",
       "        if (!display || display === 'none') {{\n",
       "            console.log([gd, 'removed!']);\n",
       "            Plotly.purge(gd);\n",
       "            observer.disconnect();\n",
       "        }}\n",
       "}});\n",
       "\n",
       "// Listen for the removal of the full notebook cells\n",
       "var notebookContainer = gd.closest('#notebook-container');\n",
       "if (notebookContainer) {{\n",
       "    x.observe(notebookContainer, {childList: true});\n",
       "}}\n",
       "\n",
       "// Listen for the clearing of the current output cell\n",
       "var outputEl = gd.closest('.output');\n",
       "if (outputEl) {{\n",
       "    x.observe(outputEl, {childList: true});\n",
       "}}\n",
       "\n",
       "                        })\n",
       "                };\n",
       "                });\n",
       "            </script>\n",
       "        </div>"
      ]
     },
     "metadata": {},
     "output_type": "display_data"
    }
   ],
   "source": [
    "df.iplot(kind='bubble',x='A',y='B',size='C')"
   ]
  },
  {
   "cell_type": "markdown",
   "metadata": {},
   "source": [
    "## scatter_matrix()\n",
    "\n",
    "Similar to sns.pairplot()"
   ]
  },
  {
   "cell_type": "code",
   "execution_count": 24,
   "metadata": {},
   "outputs": [
    {
     "data": {
      "application/vnd.plotly.v1+json": {
       "config": {
        "linkText": "Export to plot.ly",
        "plotlyServerURL": "https://plot.ly",
        "showLink": true
       },
       "data": [
        {
         "histfunc": "count",
         "histnorm": "",
         "marker": {
          "color": "rgba(255, 153, 51, 1.0)",
          "line": {
           "color": "#4D5663",
           "width": 1.3
          }
         },
         "name": "A",
         "nbinsx": 10,
         "opacity": 0.8,
         "orientation": "v",
         "type": "histogram",
         "x": [
          0.14612668346810087,
          -0.5150643958091404,
          0.993048156143555,
          1.5527565611998224,
          1.102283947004991,
          -2.4771102825000293,
          0.48535271977394,
          -5.997120287646958e-05,
          0.2728979161787896,
          0.14241623947301038,
          -1.7220839857720651,
          0.30479168294651615,
          0.1707684250962974,
          0.6284887755043934,
          -0.7850037217749689,
          -1.1402548447102723,
          -1.212921005329053,
          1.6666125120797235,
          -0.09525429818572638,
          0.9108399395049533,
          -0.6702079843333787,
          -1.8669920709525916,
          1.6318644734155594,
          1.4480641743665572,
          -0.20584286234038407,
          -0.9651543766878872,
          0.054311253909850594,
          -0.8525930402703691,
          -1.0848566097036196,
          0.22715446781637538,
          0.3832666550905886,
          0.21245695028944037,
          -0.0031198053900515408,
          0.8915668414548645,
          -0.9312260659908879,
          -0.6972621137761454,
          -0.9925852130986549,
          0.010933605125837584,
          -2.577121073522515,
          -0.5332388082426226,
          1.398496525872,
          -0.8155572221629612,
          -0.9005129185664054,
          -0.6955619676939033,
          0.24028614247159708,
          -0.14105753079894373,
          -0.6162582023375035,
          0.7117930742373001,
          -1.0493646331333701,
          0.7263194289302121,
          -0.9236975218766958,
          0.8101185177578193,
          1.2922900513898754,
          1.99699676194669,
          -0.6266941891218982,
          -0.6196112352306313,
          1.4954683268115523,
          -2.9005331410172115,
          -0.6144254979438556,
          0.3615184842676474,
          0.13442250363981223,
          0.22447929683610798,
          -0.011270422105252743,
          -0.14111226614689665,
          -0.5318804901994556,
          0.6493074858815254,
          -0.2738880128999982,
          0.9555595386204824,
          0.7301709692563028,
          -1.4019249307583348,
          -0.0068608240191281806,
          -0.471556716044861,
          -0.1636207573841797,
          -0.9752489923344956,
          0.669055675451341,
          -0.9661397959251155,
          -1.5034110492253536,
          -0.3084302353121149,
          -1.4552573990374573,
          -0.37808603369362415,
          -0.5446990641153069,
          -1.0328897660107783,
          -0.8372577968906745,
          -0.7355106232037772,
          -1.3968647200753481,
          0.11921688487375993,
          0.23800858493954524,
          -0.29667185768549426,
          0.045883212163534935,
          0.5890039282286894,
          -1.515246249470787,
          -0.1037424743255574,
          0.07342647048913974,
          -0.3282544929060498,
          -0.24513863167968586,
          -1.3103895947774227,
          -0.60110734404662,
          -0.5850987673040257,
          1.176709146660171,
          -0.02325427275882479
         ],
         "xaxis": "x",
         "yaxis": "y"
        },
        {
         "line": {
          "color": "rgba(128, 128, 128, 1.0)",
          "dash": "solid",
          "shape": "linear",
          "width": 1.3
         },
         "marker": {
          "size": 2,
          "symbol": "circle"
         },
         "mode": "markers",
         "name": "A",
         "text": "",
         "type": "scatter",
         "x": [
          -2.0656920513651267,
          -1.7381898395197724,
          0.5749599646022417,
          -0.20398456935783446,
          -0.4464639680231975,
          0.004383762977137288,
          1.9272186733110637,
          -0.22658980720241415,
          0.21319561532434866,
          1.5343976664498042,
          -1.7943920159076656,
          -0.31464543291905195,
          -0.8012811797214887,
          1.4806559714007235,
          -0.4525548517573186,
          0.8822175236625406,
          -0.6555046997736079,
          0.5534536525657692,
          2.5421760186772,
          -1.6020691181124989,
          -1.30636280422524,
          -1.6922777152443158,
          -0.43175033360126613,
          1.3397945250406764,
          1.624479377795292,
          0.3372467612579277,
          -0.7424600919093032,
          1.3006818267114464,
          1.4148160695972485,
          0.6663625542733729,
          0.5732067675544568,
          0.3051087364651881,
          -1.4396219914247679,
          -0.7734455403957947,
          -0.02599984732944654,
          -1.0276684058819194,
          0.22756933882402786,
          0.7164414805356631,
          -0.010551172850629087,
          0.7465062931883728,
          -0.15654287357337096,
          1.285174065039588,
          -0.20984792674432232,
          0.3483310438811358,
          -0.10533457004704003,
          -1.3834922346350678,
          1.0968266309403547,
          -0.25116973554735844,
          -0.6065382611435444,
          -1.0337927095418653,
          -0.21471649762200568,
          -0.6424738047013894,
          2.1808737180863007,
          -0.367996144391834,
          0.9167509740226216,
          -0.827535652526785,
          -0.8818030769631394,
          -0.9906853057636372,
          -0.8822721779505264,
          2.0782433585144706,
          2.0282557218946855,
          -0.8954929220192098,
          1.7866615436252993,
          -0.08049020901035116,
          -0.45378394604250133,
          0.5459523374270943,
          1.7197030126869044,
          0.3824670655552625,
          -0.957018082500895,
          -0.522255715100206,
          0.5221185782393967,
          -0.37485757127874875,
          -0.5566617662959691,
          -0.8123709478860014,
          0.29366965851694743,
          -0.0850413846996384,
          -0.04473175295591152,
          -0.37788189763614555,
          -0.6566266748681084,
          1.3646960859938941,
          -0.18554222363097056,
          1.2608857606412667,
          -0.5525218583285384,
          0.7235470324663364,
          1.5772106695463057,
          -1.1557689600287397,
          -0.5223993511642664,
          -0.6891779022249445,
          -1.1183442365618064,
          0.0995055407471527,
          0.2915282805930497,
          0.38447901373397075,
          0.24560328724944816,
          0.21860553849762943,
          1.1690011631045691,
          0.4694483908290291,
          1.2466428891069556,
          0.5636822430556009,
          -0.5317643553625623,
          -1.7177776755893035
         ],
         "xaxis": "x2",
         "y": [
          0.14612668346810087,
          -0.5150643958091404,
          0.993048156143555,
          1.5527565611998224,
          1.102283947004991,
          -2.4771102825000293,
          0.48535271977394,
          -5.997120287646958e-05,
          0.2728979161787896,
          0.14241623947301038,
          -1.7220839857720651,
          0.30479168294651615,
          0.1707684250962974,
          0.6284887755043934,
          -0.7850037217749689,
          -1.1402548447102723,
          -1.212921005329053,
          1.6666125120797235,
          -0.09525429818572638,
          0.9108399395049533,
          -0.6702079843333787,
          -1.8669920709525916,
          1.6318644734155594,
          1.4480641743665572,
          -0.20584286234038407,
          -0.9651543766878872,
          0.054311253909850594,
          -0.8525930402703691,
          -1.0848566097036196,
          0.22715446781637538,
          0.3832666550905886,
          0.21245695028944037,
          -0.0031198053900515408,
          0.8915668414548645,
          -0.9312260659908879,
          -0.6972621137761454,
          -0.9925852130986549,
          0.010933605125837584,
          -2.577121073522515,
          -0.5332388082426226,
          1.398496525872,
          -0.8155572221629612,
          -0.9005129185664054,
          -0.6955619676939033,
          0.24028614247159708,
          -0.14105753079894373,
          -0.6162582023375035,
          0.7117930742373001,
          -1.0493646331333701,
          0.7263194289302121,
          -0.9236975218766958,
          0.8101185177578193,
          1.2922900513898754,
          1.99699676194669,
          -0.6266941891218982,
          -0.6196112352306313,
          1.4954683268115523,
          -2.9005331410172115,
          -0.6144254979438556,
          0.3615184842676474,
          0.13442250363981223,
          0.22447929683610798,
          -0.011270422105252743,
          -0.14111226614689665,
          -0.5318804901994556,
          0.6493074858815254,
          -0.2738880128999982,
          0.9555595386204824,
          0.7301709692563028,
          -1.4019249307583348,
          -0.0068608240191281806,
          -0.471556716044861,
          -0.1636207573841797,
          -0.9752489923344956,
          0.669055675451341,
          -0.9661397959251155,
          -1.5034110492253536,
          -0.3084302353121149,
          -1.4552573990374573,
          -0.37808603369362415,
          -0.5446990641153069,
          -1.0328897660107783,
          -0.8372577968906745,
          -0.7355106232037772,
          -1.3968647200753481,
          0.11921688487375993,
          0.23800858493954524,
          -0.29667185768549426,
          0.045883212163534935,
          0.5890039282286894,
          -1.515246249470787,
          -0.1037424743255574,
          0.07342647048913974,
          -0.3282544929060498,
          -0.24513863167968586,
          -1.3103895947774227,
          -0.60110734404662,
          -0.5850987673040257,
          1.176709146660171,
          -0.02325427275882479
         ],
         "yaxis": "y2"
        },
        {
         "line": {
          "color": "rgba(128, 128, 128, 1.0)",
          "dash": "solid",
          "shape": "linear",
          "width": 1.3
         },
         "marker": {
          "size": 2,
          "symbol": "circle"
         },
         "mode": "markers",
         "name": "A",
         "text": "",
         "type": "scatter",
         "x": [
          0.6595021923181175,
          -0.5783070347707022,
          -0.6167450929244684,
          0.6785052337884592,
          -0.0537021258004026,
          0.6844909416086591,
          -0.18202239344023416,
          0.16059726743056113,
          1.1057560827815023,
          0.6937183718079736,
          -0.5677501005004965,
          -1.2698249297322135,
          -1.0453653572627788,
          -0.2752238152112225,
          0.599149966850073,
          -0.10561929569785838,
          -2.32948808935334,
          -0.050014189480767406,
          0.5655517884300509,
          -0.9969010042440927,
          -0.10789467569861652,
          0.9908004400651876,
          0.27996149758972316,
          0.6087930041886269,
          0.3059871053475049,
          -0.11908947801875125,
          -0.3949278062220429,
          -0.2741828162559288,
          0.9870603445699812,
          1.3084442673116796,
          -1.020498757223305,
          -0.31116977960648384,
          0.18320880737188247,
          0.10460168508566524,
          -0.03289927612032592,
          -0.4656571886386562,
          -0.20620493018946937,
          -0.4281868686071399,
          -2.6689938986132096,
          0.45514349875098414,
          -0.6212463640702294,
          0.5831841894589714,
          0.5852205496425055,
          2.400692030967597,
          -0.26899485888276087,
          -1.3791119906082248,
          -1.248760478694921,
          1.4324887785340203,
          1.360037936169888,
          1.2782070543556088,
          -2.161249593821316,
          0.4927835835384399,
          -0.2263644306862405,
          -0.9782219874032975,
          -1.129215959881081,
          0.17972587891994685,
          -1.000132199370155,
          0.23374535434834273,
          0.8509302256371687,
          -0.10736088207705284,
          1.5780294409456168,
          1.1308703007729861,
          1.4765035524976244,
          1.4678872406042236,
          -1.6362286502889818,
          -2.1958433206809205,
          -1.2822335424956295,
          1.151059728054402,
          0.14265182618845473,
          -1.9177578724728785,
          2.7110333194037977,
          -0.39421858021715067,
          -0.8085310155004868,
          1.1830853738087017,
          0.09056524618334044,
          0.44209458750295416,
          1.1098381602092515,
          -0.8289891861411594,
          0.4471927666338585,
          -0.5037325719218807,
          1.4289074057151878,
          0.10728670395645366,
          0.12013752595177965,
          -1.4060180329486949,
          -0.8349815548330584,
          0.7184318948486428,
          2.171625814531254,
          -1.383440398083464,
          0.3667674241799676,
          -0.8414027681288679,
          -0.4585500807325058,
          -0.8345082027874404,
          -1.4035370739640114,
          1.1672954028055194,
          -0.8219949236976485,
          -0.05552025086368601,
          0.8620171483231306,
          0.6003316543488698,
          -0.4348256141123288,
          -0.04170140419105686
         ],
         "xaxis": "x3",
         "y": [
          0.14612668346810087,
          -0.5150643958091404,
          0.993048156143555,
          1.5527565611998224,
          1.102283947004991,
          -2.4771102825000293,
          0.48535271977394,
          -5.997120287646958e-05,
          0.2728979161787896,
          0.14241623947301038,
          -1.7220839857720651,
          0.30479168294651615,
          0.1707684250962974,
          0.6284887755043934,
          -0.7850037217749689,
          -1.1402548447102723,
          -1.212921005329053,
          1.6666125120797235,
          -0.09525429818572638,
          0.9108399395049533,
          -0.6702079843333787,
          -1.8669920709525916,
          1.6318644734155594,
          1.4480641743665572,
          -0.20584286234038407,
          -0.9651543766878872,
          0.054311253909850594,
          -0.8525930402703691,
          -1.0848566097036196,
          0.22715446781637538,
          0.3832666550905886,
          0.21245695028944037,
          -0.0031198053900515408,
          0.8915668414548645,
          -0.9312260659908879,
          -0.6972621137761454,
          -0.9925852130986549,
          0.010933605125837584,
          -2.577121073522515,
          -0.5332388082426226,
          1.398496525872,
          -0.8155572221629612,
          -0.9005129185664054,
          -0.6955619676939033,
          0.24028614247159708,
          -0.14105753079894373,
          -0.6162582023375035,
          0.7117930742373001,
          -1.0493646331333701,
          0.7263194289302121,
          -0.9236975218766958,
          0.8101185177578193,
          1.2922900513898754,
          1.99699676194669,
          -0.6266941891218982,
          -0.6196112352306313,
          1.4954683268115523,
          -2.9005331410172115,
          -0.6144254979438556,
          0.3615184842676474,
          0.13442250363981223,
          0.22447929683610798,
          -0.011270422105252743,
          -0.14111226614689665,
          -0.5318804901994556,
          0.6493074858815254,
          -0.2738880128999982,
          0.9555595386204824,
          0.7301709692563028,
          -1.4019249307583348,
          -0.0068608240191281806,
          -0.471556716044861,
          -0.1636207573841797,
          -0.9752489923344956,
          0.669055675451341,
          -0.9661397959251155,
          -1.5034110492253536,
          -0.3084302353121149,
          -1.4552573990374573,
          -0.37808603369362415,
          -0.5446990641153069,
          -1.0328897660107783,
          -0.8372577968906745,
          -0.7355106232037772,
          -1.3968647200753481,
          0.11921688487375993,
          0.23800858493954524,
          -0.29667185768549426,
          0.045883212163534935,
          0.5890039282286894,
          -1.515246249470787,
          -0.1037424743255574,
          0.07342647048913974,
          -0.3282544929060498,
          -0.24513863167968586,
          -1.3103895947774227,
          -0.60110734404662,
          -0.5850987673040257,
          1.176709146660171,
          -0.02325427275882479
         ],
         "yaxis": "y3"
        },
        {
         "line": {
          "color": "rgba(128, 128, 128, 1.0)",
          "dash": "solid",
          "shape": "linear",
          "width": 1.3
         },
         "marker": {
          "size": 2,
          "symbol": "circle"
         },
         "mode": "markers",
         "name": "A",
         "text": "",
         "type": "scatter",
         "x": [
          -0.9099823299189153,
          -1.4850533931447016,
          1.505972905283029,
          -1.0880214183536931,
          0.7683199313566231,
          -1.2072230866641296,
          0.029570986567331512,
          0.2032874010386068,
          -0.6503073995045521,
          -0.8280119944150713,
          0.25744382167433455,
          -0.41026963896684815,
          -0.14004432172252537,
          -0.09969290473759498,
          -0.4331452987016869,
          -1.8199085850062915,
          -0.26101317822779735,
          0.5263044795278107,
          0.21429498108040837,
          -1.4182252587011008,
          -1.4847027180828372,
          -1.9371877336072865,
          -0.8692799923789267,
          1.4273277305169767,
          1.7080184023236045,
          0.2684382224460977,
          0.054860024434420854,
          0.5181175691504669,
          0.3948938804432635,
          0.4752005589404257,
          0.30054174347583273,
          0.08342157512666086,
          -1.036498513774222,
          0.7258880000017822,
          1.7200116623596435,
          -0.3256333025382036,
          0.8107199545274077,
          0.18273157414119798,
          0.6819973447689638,
          0.8382263610424948,
          -0.002235620447868982,
          1.4329464647663768,
          -1.3355958068306728,
          -1.420488522801301,
          -0.14703708334707635,
          0.4184993051045839,
          0.6788320890725258,
          -1.7529060799565086,
          -0.01085125988732143,
          -1.5694845302600313,
          0.831665304542008,
          3.2029322343206075,
          -0.5526852403337608,
          0.9282607279481148,
          -1.258672148574228,
          0.22699679500288145,
          1.6277667244834413,
          0.2712547867281198,
          -0.8909417572249967,
          -0.47194127085596976,
          0.015102007372569747,
          0.869859178827262,
          0.12252600711332595,
          -0.4761431223243524,
          0.9487193062297217,
          0.9668343955984309,
          0.7710991139741503,
          -2.881594522257074,
          -0.6593641625209062,
          -0.6873525421360881,
          1.0431420542130063,
          -0.454982022242669,
          -0.30597432623563203,
          -1.191466660876326,
          0.34973970267450755,
          -0.6278767309568892,
          -0.3311313340023319,
          0.48981759985300954,
          -0.678273842961238,
          -2.9714777192328006,
          1.4880933302574844,
          -0.27050269557177264,
          -0.5659842576075041,
          0.43119297026014386,
          -0.0156238294691469,
          -0.6896490196013013,
          -0.870757654801849,
          -0.9627572594252957,
          -0.07879545237154305,
          -1.8342635143451822,
          1.360327185505662,
          -0.33154590625197267,
          -0.004649553679814088,
          1.5753032430101714,
          0.7550385256790704,
          0.2979539216882113,
          0.19867657095796756,
          -0.8953987160561826,
          0.4964043108307362,
          2.105453789711414
         ],
         "xaxis": "x4",
         "y": [
          0.14612668346810087,
          -0.5150643958091404,
          0.993048156143555,
          1.5527565611998224,
          1.102283947004991,
          -2.4771102825000293,
          0.48535271977394,
          -5.997120287646958e-05,
          0.2728979161787896,
          0.14241623947301038,
          -1.7220839857720651,
          0.30479168294651615,
          0.1707684250962974,
          0.6284887755043934,
          -0.7850037217749689,
          -1.1402548447102723,
          -1.212921005329053,
          1.6666125120797235,
          -0.09525429818572638,
          0.9108399395049533,
          -0.6702079843333787,
          -1.8669920709525916,
          1.6318644734155594,
          1.4480641743665572,
          -0.20584286234038407,
          -0.9651543766878872,
          0.054311253909850594,
          -0.8525930402703691,
          -1.0848566097036196,
          0.22715446781637538,
          0.3832666550905886,
          0.21245695028944037,
          -0.0031198053900515408,
          0.8915668414548645,
          -0.9312260659908879,
          -0.6972621137761454,
          -0.9925852130986549,
          0.010933605125837584,
          -2.577121073522515,
          -0.5332388082426226,
          1.398496525872,
          -0.8155572221629612,
          -0.9005129185664054,
          -0.6955619676939033,
          0.24028614247159708,
          -0.14105753079894373,
          -0.6162582023375035,
          0.7117930742373001,
          -1.0493646331333701,
          0.7263194289302121,
          -0.9236975218766958,
          0.8101185177578193,
          1.2922900513898754,
          1.99699676194669,
          -0.6266941891218982,
          -0.6196112352306313,
          1.4954683268115523,
          -2.9005331410172115,
          -0.6144254979438556,
          0.3615184842676474,
          0.13442250363981223,
          0.22447929683610798,
          -0.011270422105252743,
          -0.14111226614689665,
          -0.5318804901994556,
          0.6493074858815254,
          -0.2738880128999982,
          0.9555595386204824,
          0.7301709692563028,
          -1.4019249307583348,
          -0.0068608240191281806,
          -0.471556716044861,
          -0.1636207573841797,
          -0.9752489923344956,
          0.669055675451341,
          -0.9661397959251155,
          -1.5034110492253536,
          -0.3084302353121149,
          -1.4552573990374573,
          -0.37808603369362415,
          -0.5446990641153069,
          -1.0328897660107783,
          -0.8372577968906745,
          -0.7355106232037772,
          -1.3968647200753481,
          0.11921688487375993,
          0.23800858493954524,
          -0.29667185768549426,
          0.045883212163534935,
          0.5890039282286894,
          -1.515246249470787,
          -0.1037424743255574,
          0.07342647048913974,
          -0.3282544929060498,
          -0.24513863167968586,
          -1.3103895947774227,
          -0.60110734404662,
          -0.5850987673040257,
          1.176709146660171,
          -0.02325427275882479
         ],
         "yaxis": "y4"
        },
        {
         "line": {
          "color": "rgba(128, 128, 128, 1.0)",
          "dash": "solid",
          "shape": "linear",
          "width": 1.3
         },
         "marker": {
          "size": 2,
          "symbol": "circle"
         },
         "mode": "markers",
         "name": "B",
         "text": "",
         "type": "scatter",
         "x": [
          0.14612668346810087,
          -0.5150643958091404,
          0.993048156143555,
          1.5527565611998224,
          1.102283947004991,
          -2.4771102825000293,
          0.48535271977394,
          -5.997120287646958e-05,
          0.2728979161787896,
          0.14241623947301038,
          -1.7220839857720651,
          0.30479168294651615,
          0.1707684250962974,
          0.6284887755043934,
          -0.7850037217749689,
          -1.1402548447102723,
          -1.212921005329053,
          1.6666125120797235,
          -0.09525429818572638,
          0.9108399395049533,
          -0.6702079843333787,
          -1.8669920709525916,
          1.6318644734155594,
          1.4480641743665572,
          -0.20584286234038407,
          -0.9651543766878872,
          0.054311253909850594,
          -0.8525930402703691,
          -1.0848566097036196,
          0.22715446781637538,
          0.3832666550905886,
          0.21245695028944037,
          -0.0031198053900515408,
          0.8915668414548645,
          -0.9312260659908879,
          -0.6972621137761454,
          -0.9925852130986549,
          0.010933605125837584,
          -2.577121073522515,
          -0.5332388082426226,
          1.398496525872,
          -0.8155572221629612,
          -0.9005129185664054,
          -0.6955619676939033,
          0.24028614247159708,
          -0.14105753079894373,
          -0.6162582023375035,
          0.7117930742373001,
          -1.0493646331333701,
          0.7263194289302121,
          -0.9236975218766958,
          0.8101185177578193,
          1.2922900513898754,
          1.99699676194669,
          -0.6266941891218982,
          -0.6196112352306313,
          1.4954683268115523,
          -2.9005331410172115,
          -0.6144254979438556,
          0.3615184842676474,
          0.13442250363981223,
          0.22447929683610798,
          -0.011270422105252743,
          -0.14111226614689665,
          -0.5318804901994556,
          0.6493074858815254,
          -0.2738880128999982,
          0.9555595386204824,
          0.7301709692563028,
          -1.4019249307583348,
          -0.0068608240191281806,
          -0.471556716044861,
          -0.1636207573841797,
          -0.9752489923344956,
          0.669055675451341,
          -0.9661397959251155,
          -1.5034110492253536,
          -0.3084302353121149,
          -1.4552573990374573,
          -0.37808603369362415,
          -0.5446990641153069,
          -1.0328897660107783,
          -0.8372577968906745,
          -0.7355106232037772,
          -1.3968647200753481,
          0.11921688487375993,
          0.23800858493954524,
          -0.29667185768549426,
          0.045883212163534935,
          0.5890039282286894,
          -1.515246249470787,
          -0.1037424743255574,
          0.07342647048913974,
          -0.3282544929060498,
          -0.24513863167968586,
          -1.3103895947774227,
          -0.60110734404662,
          -0.5850987673040257,
          1.176709146660171,
          -0.02325427275882479
         ],
         "xaxis": "x5",
         "y": [
          -2.0656920513651267,
          -1.7381898395197724,
          0.5749599646022417,
          -0.20398456935783446,
          -0.4464639680231975,
          0.004383762977137288,
          1.9272186733110637,
          -0.22658980720241415,
          0.21319561532434866,
          1.5343976664498042,
          -1.7943920159076656,
          -0.31464543291905195,
          -0.8012811797214887,
          1.4806559714007235,
          -0.4525548517573186,
          0.8822175236625406,
          -0.6555046997736079,
          0.5534536525657692,
          2.5421760186772,
          -1.6020691181124989,
          -1.30636280422524,
          -1.6922777152443158,
          -0.43175033360126613,
          1.3397945250406764,
          1.624479377795292,
          0.3372467612579277,
          -0.7424600919093032,
          1.3006818267114464,
          1.4148160695972485,
          0.6663625542733729,
          0.5732067675544568,
          0.3051087364651881,
          -1.4396219914247679,
          -0.7734455403957947,
          -0.02599984732944654,
          -1.0276684058819194,
          0.22756933882402786,
          0.7164414805356631,
          -0.010551172850629087,
          0.7465062931883728,
          -0.15654287357337096,
          1.285174065039588,
          -0.20984792674432232,
          0.3483310438811358,
          -0.10533457004704003,
          -1.3834922346350678,
          1.0968266309403547,
          -0.25116973554735844,
          -0.6065382611435444,
          -1.0337927095418653,
          -0.21471649762200568,
          -0.6424738047013894,
          2.1808737180863007,
          -0.367996144391834,
          0.9167509740226216,
          -0.827535652526785,
          -0.8818030769631394,
          -0.9906853057636372,
          -0.8822721779505264,
          2.0782433585144706,
          2.0282557218946855,
          -0.8954929220192098,
          1.7866615436252993,
          -0.08049020901035116,
          -0.45378394604250133,
          0.5459523374270943,
          1.7197030126869044,
          0.3824670655552625,
          -0.957018082500895,
          -0.522255715100206,
          0.5221185782393967,
          -0.37485757127874875,
          -0.5566617662959691,
          -0.8123709478860014,
          0.29366965851694743,
          -0.0850413846996384,
          -0.04473175295591152,
          -0.37788189763614555,
          -0.6566266748681084,
          1.3646960859938941,
          -0.18554222363097056,
          1.2608857606412667,
          -0.5525218583285384,
          0.7235470324663364,
          1.5772106695463057,
          -1.1557689600287397,
          -0.5223993511642664,
          -0.6891779022249445,
          -1.1183442365618064,
          0.0995055407471527,
          0.2915282805930497,
          0.38447901373397075,
          0.24560328724944816,
          0.21860553849762943,
          1.1690011631045691,
          0.4694483908290291,
          1.2466428891069556,
          0.5636822430556009,
          -0.5317643553625623,
          -1.7177776755893035
         ],
         "yaxis": "y5"
        },
        {
         "histfunc": "count",
         "histnorm": "",
         "marker": {
          "color": "rgba(55, 128, 191, 1.0)",
          "line": {
           "color": "#4D5663",
           "width": 1.3
          }
         },
         "name": "B",
         "nbinsx": 10,
         "opacity": 0.8,
         "orientation": "v",
         "type": "histogram",
         "x": [
          -2.0656920513651267,
          -1.7381898395197724,
          0.5749599646022417,
          -0.20398456935783446,
          -0.4464639680231975,
          0.004383762977137288,
          1.9272186733110637,
          -0.22658980720241415,
          0.21319561532434866,
          1.5343976664498042,
          -1.7943920159076656,
          -0.31464543291905195,
          -0.8012811797214887,
          1.4806559714007235,
          -0.4525548517573186,
          0.8822175236625406,
          -0.6555046997736079,
          0.5534536525657692,
          2.5421760186772,
          -1.6020691181124989,
          -1.30636280422524,
          -1.6922777152443158,
          -0.43175033360126613,
          1.3397945250406764,
          1.624479377795292,
          0.3372467612579277,
          -0.7424600919093032,
          1.3006818267114464,
          1.4148160695972485,
          0.6663625542733729,
          0.5732067675544568,
          0.3051087364651881,
          -1.4396219914247679,
          -0.7734455403957947,
          -0.02599984732944654,
          -1.0276684058819194,
          0.22756933882402786,
          0.7164414805356631,
          -0.010551172850629087,
          0.7465062931883728,
          -0.15654287357337096,
          1.285174065039588,
          -0.20984792674432232,
          0.3483310438811358,
          -0.10533457004704003,
          -1.3834922346350678,
          1.0968266309403547,
          -0.25116973554735844,
          -0.6065382611435444,
          -1.0337927095418653,
          -0.21471649762200568,
          -0.6424738047013894,
          2.1808737180863007,
          -0.367996144391834,
          0.9167509740226216,
          -0.827535652526785,
          -0.8818030769631394,
          -0.9906853057636372,
          -0.8822721779505264,
          2.0782433585144706,
          2.0282557218946855,
          -0.8954929220192098,
          1.7866615436252993,
          -0.08049020901035116,
          -0.45378394604250133,
          0.5459523374270943,
          1.7197030126869044,
          0.3824670655552625,
          -0.957018082500895,
          -0.522255715100206,
          0.5221185782393967,
          -0.37485757127874875,
          -0.5566617662959691,
          -0.8123709478860014,
          0.29366965851694743,
          -0.0850413846996384,
          -0.04473175295591152,
          -0.37788189763614555,
          -0.6566266748681084,
          1.3646960859938941,
          -0.18554222363097056,
          1.2608857606412667,
          -0.5525218583285384,
          0.7235470324663364,
          1.5772106695463057,
          -1.1557689600287397,
          -0.5223993511642664,
          -0.6891779022249445,
          -1.1183442365618064,
          0.0995055407471527,
          0.2915282805930497,
          0.38447901373397075,
          0.24560328724944816,
          0.21860553849762943,
          1.1690011631045691,
          0.4694483908290291,
          1.2466428891069556,
          0.5636822430556009,
          -0.5317643553625623,
          -1.7177776755893035
         ],
         "xaxis": "x6",
         "yaxis": "y6"
        },
        {
         "line": {
          "color": "rgba(128, 128, 128, 1.0)",
          "dash": "solid",
          "shape": "linear",
          "width": 1.3
         },
         "marker": {
          "size": 2,
          "symbol": "circle"
         },
         "mode": "markers",
         "name": "B",
         "text": "",
         "type": "scatter",
         "x": [
          0.6595021923181175,
          -0.5783070347707022,
          -0.6167450929244684,
          0.6785052337884592,
          -0.0537021258004026,
          0.6844909416086591,
          -0.18202239344023416,
          0.16059726743056113,
          1.1057560827815023,
          0.6937183718079736,
          -0.5677501005004965,
          -1.2698249297322135,
          -1.0453653572627788,
          -0.2752238152112225,
          0.599149966850073,
          -0.10561929569785838,
          -2.32948808935334,
          -0.050014189480767406,
          0.5655517884300509,
          -0.9969010042440927,
          -0.10789467569861652,
          0.9908004400651876,
          0.27996149758972316,
          0.6087930041886269,
          0.3059871053475049,
          -0.11908947801875125,
          -0.3949278062220429,
          -0.2741828162559288,
          0.9870603445699812,
          1.3084442673116796,
          -1.020498757223305,
          -0.31116977960648384,
          0.18320880737188247,
          0.10460168508566524,
          -0.03289927612032592,
          -0.4656571886386562,
          -0.20620493018946937,
          -0.4281868686071399,
          -2.6689938986132096,
          0.45514349875098414,
          -0.6212463640702294,
          0.5831841894589714,
          0.5852205496425055,
          2.400692030967597,
          -0.26899485888276087,
          -1.3791119906082248,
          -1.248760478694921,
          1.4324887785340203,
          1.360037936169888,
          1.2782070543556088,
          -2.161249593821316,
          0.4927835835384399,
          -0.2263644306862405,
          -0.9782219874032975,
          -1.129215959881081,
          0.17972587891994685,
          -1.000132199370155,
          0.23374535434834273,
          0.8509302256371687,
          -0.10736088207705284,
          1.5780294409456168,
          1.1308703007729861,
          1.4765035524976244,
          1.4678872406042236,
          -1.6362286502889818,
          -2.1958433206809205,
          -1.2822335424956295,
          1.151059728054402,
          0.14265182618845473,
          -1.9177578724728785,
          2.7110333194037977,
          -0.39421858021715067,
          -0.8085310155004868,
          1.1830853738087017,
          0.09056524618334044,
          0.44209458750295416,
          1.1098381602092515,
          -0.8289891861411594,
          0.4471927666338585,
          -0.5037325719218807,
          1.4289074057151878,
          0.10728670395645366,
          0.12013752595177965,
          -1.4060180329486949,
          -0.8349815548330584,
          0.7184318948486428,
          2.171625814531254,
          -1.383440398083464,
          0.3667674241799676,
          -0.8414027681288679,
          -0.4585500807325058,
          -0.8345082027874404,
          -1.4035370739640114,
          1.1672954028055194,
          -0.8219949236976485,
          -0.05552025086368601,
          0.8620171483231306,
          0.6003316543488698,
          -0.4348256141123288,
          -0.04170140419105686
         ],
         "xaxis": "x7",
         "y": [
          -2.0656920513651267,
          -1.7381898395197724,
          0.5749599646022417,
          -0.20398456935783446,
          -0.4464639680231975,
          0.004383762977137288,
          1.9272186733110637,
          -0.22658980720241415,
          0.21319561532434866,
          1.5343976664498042,
          -1.7943920159076656,
          -0.31464543291905195,
          -0.8012811797214887,
          1.4806559714007235,
          -0.4525548517573186,
          0.8822175236625406,
          -0.6555046997736079,
          0.5534536525657692,
          2.5421760186772,
          -1.6020691181124989,
          -1.30636280422524,
          -1.6922777152443158,
          -0.43175033360126613,
          1.3397945250406764,
          1.624479377795292,
          0.3372467612579277,
          -0.7424600919093032,
          1.3006818267114464,
          1.4148160695972485,
          0.6663625542733729,
          0.5732067675544568,
          0.3051087364651881,
          -1.4396219914247679,
          -0.7734455403957947,
          -0.02599984732944654,
          -1.0276684058819194,
          0.22756933882402786,
          0.7164414805356631,
          -0.010551172850629087,
          0.7465062931883728,
          -0.15654287357337096,
          1.285174065039588,
          -0.20984792674432232,
          0.3483310438811358,
          -0.10533457004704003,
          -1.3834922346350678,
          1.0968266309403547,
          -0.25116973554735844,
          -0.6065382611435444,
          -1.0337927095418653,
          -0.21471649762200568,
          -0.6424738047013894,
          2.1808737180863007,
          -0.367996144391834,
          0.9167509740226216,
          -0.827535652526785,
          -0.8818030769631394,
          -0.9906853057636372,
          -0.8822721779505264,
          2.0782433585144706,
          2.0282557218946855,
          -0.8954929220192098,
          1.7866615436252993,
          -0.08049020901035116,
          -0.45378394604250133,
          0.5459523374270943,
          1.7197030126869044,
          0.3824670655552625,
          -0.957018082500895,
          -0.522255715100206,
          0.5221185782393967,
          -0.37485757127874875,
          -0.5566617662959691,
          -0.8123709478860014,
          0.29366965851694743,
          -0.0850413846996384,
          -0.04473175295591152,
          -0.37788189763614555,
          -0.6566266748681084,
          1.3646960859938941,
          -0.18554222363097056,
          1.2608857606412667,
          -0.5525218583285384,
          0.7235470324663364,
          1.5772106695463057,
          -1.1557689600287397,
          -0.5223993511642664,
          -0.6891779022249445,
          -1.1183442365618064,
          0.0995055407471527,
          0.2915282805930497,
          0.38447901373397075,
          0.24560328724944816,
          0.21860553849762943,
          1.1690011631045691,
          0.4694483908290291,
          1.2466428891069556,
          0.5636822430556009,
          -0.5317643553625623,
          -1.7177776755893035
         ],
         "yaxis": "y7"
        },
        {
         "line": {
          "color": "rgba(128, 128, 128, 1.0)",
          "dash": "solid",
          "shape": "linear",
          "width": 1.3
         },
         "marker": {
          "size": 2,
          "symbol": "circle"
         },
         "mode": "markers",
         "name": "B",
         "text": "",
         "type": "scatter",
         "x": [
          -0.9099823299189153,
          -1.4850533931447016,
          1.505972905283029,
          -1.0880214183536931,
          0.7683199313566231,
          -1.2072230866641296,
          0.029570986567331512,
          0.2032874010386068,
          -0.6503073995045521,
          -0.8280119944150713,
          0.25744382167433455,
          -0.41026963896684815,
          -0.14004432172252537,
          -0.09969290473759498,
          -0.4331452987016869,
          -1.8199085850062915,
          -0.26101317822779735,
          0.5263044795278107,
          0.21429498108040837,
          -1.4182252587011008,
          -1.4847027180828372,
          -1.9371877336072865,
          -0.8692799923789267,
          1.4273277305169767,
          1.7080184023236045,
          0.2684382224460977,
          0.054860024434420854,
          0.5181175691504669,
          0.3948938804432635,
          0.4752005589404257,
          0.30054174347583273,
          0.08342157512666086,
          -1.036498513774222,
          0.7258880000017822,
          1.7200116623596435,
          -0.3256333025382036,
          0.8107199545274077,
          0.18273157414119798,
          0.6819973447689638,
          0.8382263610424948,
          -0.002235620447868982,
          1.4329464647663768,
          -1.3355958068306728,
          -1.420488522801301,
          -0.14703708334707635,
          0.4184993051045839,
          0.6788320890725258,
          -1.7529060799565086,
          -0.01085125988732143,
          -1.5694845302600313,
          0.831665304542008,
          3.2029322343206075,
          -0.5526852403337608,
          0.9282607279481148,
          -1.258672148574228,
          0.22699679500288145,
          1.6277667244834413,
          0.2712547867281198,
          -0.8909417572249967,
          -0.47194127085596976,
          0.015102007372569747,
          0.869859178827262,
          0.12252600711332595,
          -0.4761431223243524,
          0.9487193062297217,
          0.9668343955984309,
          0.7710991139741503,
          -2.881594522257074,
          -0.6593641625209062,
          -0.6873525421360881,
          1.0431420542130063,
          -0.454982022242669,
          -0.30597432623563203,
          -1.191466660876326,
          0.34973970267450755,
          -0.6278767309568892,
          -0.3311313340023319,
          0.48981759985300954,
          -0.678273842961238,
          -2.9714777192328006,
          1.4880933302574844,
          -0.27050269557177264,
          -0.5659842576075041,
          0.43119297026014386,
          -0.0156238294691469,
          -0.6896490196013013,
          -0.870757654801849,
          -0.9627572594252957,
          -0.07879545237154305,
          -1.8342635143451822,
          1.360327185505662,
          -0.33154590625197267,
          -0.004649553679814088,
          1.5753032430101714,
          0.7550385256790704,
          0.2979539216882113,
          0.19867657095796756,
          -0.8953987160561826,
          0.4964043108307362,
          2.105453789711414
         ],
         "xaxis": "x8",
         "y": [
          -2.0656920513651267,
          -1.7381898395197724,
          0.5749599646022417,
          -0.20398456935783446,
          -0.4464639680231975,
          0.004383762977137288,
          1.9272186733110637,
          -0.22658980720241415,
          0.21319561532434866,
          1.5343976664498042,
          -1.7943920159076656,
          -0.31464543291905195,
          -0.8012811797214887,
          1.4806559714007235,
          -0.4525548517573186,
          0.8822175236625406,
          -0.6555046997736079,
          0.5534536525657692,
          2.5421760186772,
          -1.6020691181124989,
          -1.30636280422524,
          -1.6922777152443158,
          -0.43175033360126613,
          1.3397945250406764,
          1.624479377795292,
          0.3372467612579277,
          -0.7424600919093032,
          1.3006818267114464,
          1.4148160695972485,
          0.6663625542733729,
          0.5732067675544568,
          0.3051087364651881,
          -1.4396219914247679,
          -0.7734455403957947,
          -0.02599984732944654,
          -1.0276684058819194,
          0.22756933882402786,
          0.7164414805356631,
          -0.010551172850629087,
          0.7465062931883728,
          -0.15654287357337096,
          1.285174065039588,
          -0.20984792674432232,
          0.3483310438811358,
          -0.10533457004704003,
          -1.3834922346350678,
          1.0968266309403547,
          -0.25116973554735844,
          -0.6065382611435444,
          -1.0337927095418653,
          -0.21471649762200568,
          -0.6424738047013894,
          2.1808737180863007,
          -0.367996144391834,
          0.9167509740226216,
          -0.827535652526785,
          -0.8818030769631394,
          -0.9906853057636372,
          -0.8822721779505264,
          2.0782433585144706,
          2.0282557218946855,
          -0.8954929220192098,
          1.7866615436252993,
          -0.08049020901035116,
          -0.45378394604250133,
          0.5459523374270943,
          1.7197030126869044,
          0.3824670655552625,
          -0.957018082500895,
          -0.522255715100206,
          0.5221185782393967,
          -0.37485757127874875,
          -0.5566617662959691,
          -0.8123709478860014,
          0.29366965851694743,
          -0.0850413846996384,
          -0.04473175295591152,
          -0.37788189763614555,
          -0.6566266748681084,
          1.3646960859938941,
          -0.18554222363097056,
          1.2608857606412667,
          -0.5525218583285384,
          0.7235470324663364,
          1.5772106695463057,
          -1.1557689600287397,
          -0.5223993511642664,
          -0.6891779022249445,
          -1.1183442365618064,
          0.0995055407471527,
          0.2915282805930497,
          0.38447901373397075,
          0.24560328724944816,
          0.21860553849762943,
          1.1690011631045691,
          0.4694483908290291,
          1.2466428891069556,
          0.5636822430556009,
          -0.5317643553625623,
          -1.7177776755893035
         ],
         "yaxis": "y8"
        },
        {
         "line": {
          "color": "rgba(128, 128, 128, 1.0)",
          "dash": "solid",
          "shape": "linear",
          "width": 1.3
         },
         "marker": {
          "size": 2,
          "symbol": "circle"
         },
         "mode": "markers",
         "name": "C",
         "text": "",
         "type": "scatter",
         "x": [
          0.14612668346810087,
          -0.5150643958091404,
          0.993048156143555,
          1.5527565611998224,
          1.102283947004991,
          -2.4771102825000293,
          0.48535271977394,
          -5.997120287646958e-05,
          0.2728979161787896,
          0.14241623947301038,
          -1.7220839857720651,
          0.30479168294651615,
          0.1707684250962974,
          0.6284887755043934,
          -0.7850037217749689,
          -1.1402548447102723,
          -1.212921005329053,
          1.6666125120797235,
          -0.09525429818572638,
          0.9108399395049533,
          -0.6702079843333787,
          -1.8669920709525916,
          1.6318644734155594,
          1.4480641743665572,
          -0.20584286234038407,
          -0.9651543766878872,
          0.054311253909850594,
          -0.8525930402703691,
          -1.0848566097036196,
          0.22715446781637538,
          0.3832666550905886,
          0.21245695028944037,
          -0.0031198053900515408,
          0.8915668414548645,
          -0.9312260659908879,
          -0.6972621137761454,
          -0.9925852130986549,
          0.010933605125837584,
          -2.577121073522515,
          -0.5332388082426226,
          1.398496525872,
          -0.8155572221629612,
          -0.9005129185664054,
          -0.6955619676939033,
          0.24028614247159708,
          -0.14105753079894373,
          -0.6162582023375035,
          0.7117930742373001,
          -1.0493646331333701,
          0.7263194289302121,
          -0.9236975218766958,
          0.8101185177578193,
          1.2922900513898754,
          1.99699676194669,
          -0.6266941891218982,
          -0.6196112352306313,
          1.4954683268115523,
          -2.9005331410172115,
          -0.6144254979438556,
          0.3615184842676474,
          0.13442250363981223,
          0.22447929683610798,
          -0.011270422105252743,
          -0.14111226614689665,
          -0.5318804901994556,
          0.6493074858815254,
          -0.2738880128999982,
          0.9555595386204824,
          0.7301709692563028,
          -1.4019249307583348,
          -0.0068608240191281806,
          -0.471556716044861,
          -0.1636207573841797,
          -0.9752489923344956,
          0.669055675451341,
          -0.9661397959251155,
          -1.5034110492253536,
          -0.3084302353121149,
          -1.4552573990374573,
          -0.37808603369362415,
          -0.5446990641153069,
          -1.0328897660107783,
          -0.8372577968906745,
          -0.7355106232037772,
          -1.3968647200753481,
          0.11921688487375993,
          0.23800858493954524,
          -0.29667185768549426,
          0.045883212163534935,
          0.5890039282286894,
          -1.515246249470787,
          -0.1037424743255574,
          0.07342647048913974,
          -0.3282544929060498,
          -0.24513863167968586,
          -1.3103895947774227,
          -0.60110734404662,
          -0.5850987673040257,
          1.176709146660171,
          -0.02325427275882479
         ],
         "xaxis": "x9",
         "y": [
          0.6595021923181175,
          -0.5783070347707022,
          -0.6167450929244684,
          0.6785052337884592,
          -0.0537021258004026,
          0.6844909416086591,
          -0.18202239344023416,
          0.16059726743056113,
          1.1057560827815023,
          0.6937183718079736,
          -0.5677501005004965,
          -1.2698249297322135,
          -1.0453653572627788,
          -0.2752238152112225,
          0.599149966850073,
          -0.10561929569785838,
          -2.32948808935334,
          -0.050014189480767406,
          0.5655517884300509,
          -0.9969010042440927,
          -0.10789467569861652,
          0.9908004400651876,
          0.27996149758972316,
          0.6087930041886269,
          0.3059871053475049,
          -0.11908947801875125,
          -0.3949278062220429,
          -0.2741828162559288,
          0.9870603445699812,
          1.3084442673116796,
          -1.020498757223305,
          -0.31116977960648384,
          0.18320880737188247,
          0.10460168508566524,
          -0.03289927612032592,
          -0.4656571886386562,
          -0.20620493018946937,
          -0.4281868686071399,
          -2.6689938986132096,
          0.45514349875098414,
          -0.6212463640702294,
          0.5831841894589714,
          0.5852205496425055,
          2.400692030967597,
          -0.26899485888276087,
          -1.3791119906082248,
          -1.248760478694921,
          1.4324887785340203,
          1.360037936169888,
          1.2782070543556088,
          -2.161249593821316,
          0.4927835835384399,
          -0.2263644306862405,
          -0.9782219874032975,
          -1.129215959881081,
          0.17972587891994685,
          -1.000132199370155,
          0.23374535434834273,
          0.8509302256371687,
          -0.10736088207705284,
          1.5780294409456168,
          1.1308703007729861,
          1.4765035524976244,
          1.4678872406042236,
          -1.6362286502889818,
          -2.1958433206809205,
          -1.2822335424956295,
          1.151059728054402,
          0.14265182618845473,
          -1.9177578724728785,
          2.7110333194037977,
          -0.39421858021715067,
          -0.8085310155004868,
          1.1830853738087017,
          0.09056524618334044,
          0.44209458750295416,
          1.1098381602092515,
          -0.8289891861411594,
          0.4471927666338585,
          -0.5037325719218807,
          1.4289074057151878,
          0.10728670395645366,
          0.12013752595177965,
          -1.4060180329486949,
          -0.8349815548330584,
          0.7184318948486428,
          2.171625814531254,
          -1.383440398083464,
          0.3667674241799676,
          -0.8414027681288679,
          -0.4585500807325058,
          -0.8345082027874404,
          -1.4035370739640114,
          1.1672954028055194,
          -0.8219949236976485,
          -0.05552025086368601,
          0.8620171483231306,
          0.6003316543488698,
          -0.4348256141123288,
          -0.04170140419105686
         ],
         "yaxis": "y9"
        },
        {
         "line": {
          "color": "rgba(128, 128, 128, 1.0)",
          "dash": "solid",
          "shape": "linear",
          "width": 1.3
         },
         "marker": {
          "size": 2,
          "symbol": "circle"
         },
         "mode": "markers",
         "name": "C",
         "text": "",
         "type": "scatter",
         "x": [
          -2.0656920513651267,
          -1.7381898395197724,
          0.5749599646022417,
          -0.20398456935783446,
          -0.4464639680231975,
          0.004383762977137288,
          1.9272186733110637,
          -0.22658980720241415,
          0.21319561532434866,
          1.5343976664498042,
          -1.7943920159076656,
          -0.31464543291905195,
          -0.8012811797214887,
          1.4806559714007235,
          -0.4525548517573186,
          0.8822175236625406,
          -0.6555046997736079,
          0.5534536525657692,
          2.5421760186772,
          -1.6020691181124989,
          -1.30636280422524,
          -1.6922777152443158,
          -0.43175033360126613,
          1.3397945250406764,
          1.624479377795292,
          0.3372467612579277,
          -0.7424600919093032,
          1.3006818267114464,
          1.4148160695972485,
          0.6663625542733729,
          0.5732067675544568,
          0.3051087364651881,
          -1.4396219914247679,
          -0.7734455403957947,
          -0.02599984732944654,
          -1.0276684058819194,
          0.22756933882402786,
          0.7164414805356631,
          -0.010551172850629087,
          0.7465062931883728,
          -0.15654287357337096,
          1.285174065039588,
          -0.20984792674432232,
          0.3483310438811358,
          -0.10533457004704003,
          -1.3834922346350678,
          1.0968266309403547,
          -0.25116973554735844,
          -0.6065382611435444,
          -1.0337927095418653,
          -0.21471649762200568,
          -0.6424738047013894,
          2.1808737180863007,
          -0.367996144391834,
          0.9167509740226216,
          -0.827535652526785,
          -0.8818030769631394,
          -0.9906853057636372,
          -0.8822721779505264,
          2.0782433585144706,
          2.0282557218946855,
          -0.8954929220192098,
          1.7866615436252993,
          -0.08049020901035116,
          -0.45378394604250133,
          0.5459523374270943,
          1.7197030126869044,
          0.3824670655552625,
          -0.957018082500895,
          -0.522255715100206,
          0.5221185782393967,
          -0.37485757127874875,
          -0.5566617662959691,
          -0.8123709478860014,
          0.29366965851694743,
          -0.0850413846996384,
          -0.04473175295591152,
          -0.37788189763614555,
          -0.6566266748681084,
          1.3646960859938941,
          -0.18554222363097056,
          1.2608857606412667,
          -0.5525218583285384,
          0.7235470324663364,
          1.5772106695463057,
          -1.1557689600287397,
          -0.5223993511642664,
          -0.6891779022249445,
          -1.1183442365618064,
          0.0995055407471527,
          0.2915282805930497,
          0.38447901373397075,
          0.24560328724944816,
          0.21860553849762943,
          1.1690011631045691,
          0.4694483908290291,
          1.2466428891069556,
          0.5636822430556009,
          -0.5317643553625623,
          -1.7177776755893035
         ],
         "xaxis": "x10",
         "y": [
          0.6595021923181175,
          -0.5783070347707022,
          -0.6167450929244684,
          0.6785052337884592,
          -0.0537021258004026,
          0.6844909416086591,
          -0.18202239344023416,
          0.16059726743056113,
          1.1057560827815023,
          0.6937183718079736,
          -0.5677501005004965,
          -1.2698249297322135,
          -1.0453653572627788,
          -0.2752238152112225,
          0.599149966850073,
          -0.10561929569785838,
          -2.32948808935334,
          -0.050014189480767406,
          0.5655517884300509,
          -0.9969010042440927,
          -0.10789467569861652,
          0.9908004400651876,
          0.27996149758972316,
          0.6087930041886269,
          0.3059871053475049,
          -0.11908947801875125,
          -0.3949278062220429,
          -0.2741828162559288,
          0.9870603445699812,
          1.3084442673116796,
          -1.020498757223305,
          -0.31116977960648384,
          0.18320880737188247,
          0.10460168508566524,
          -0.03289927612032592,
          -0.4656571886386562,
          -0.20620493018946937,
          -0.4281868686071399,
          -2.6689938986132096,
          0.45514349875098414,
          -0.6212463640702294,
          0.5831841894589714,
          0.5852205496425055,
          2.400692030967597,
          -0.26899485888276087,
          -1.3791119906082248,
          -1.248760478694921,
          1.4324887785340203,
          1.360037936169888,
          1.2782070543556088,
          -2.161249593821316,
          0.4927835835384399,
          -0.2263644306862405,
          -0.9782219874032975,
          -1.129215959881081,
          0.17972587891994685,
          -1.000132199370155,
          0.23374535434834273,
          0.8509302256371687,
          -0.10736088207705284,
          1.5780294409456168,
          1.1308703007729861,
          1.4765035524976244,
          1.4678872406042236,
          -1.6362286502889818,
          -2.1958433206809205,
          -1.2822335424956295,
          1.151059728054402,
          0.14265182618845473,
          -1.9177578724728785,
          2.7110333194037977,
          -0.39421858021715067,
          -0.8085310155004868,
          1.1830853738087017,
          0.09056524618334044,
          0.44209458750295416,
          1.1098381602092515,
          -0.8289891861411594,
          0.4471927666338585,
          -0.5037325719218807,
          1.4289074057151878,
          0.10728670395645366,
          0.12013752595177965,
          -1.4060180329486949,
          -0.8349815548330584,
          0.7184318948486428,
          2.171625814531254,
          -1.383440398083464,
          0.3667674241799676,
          -0.8414027681288679,
          -0.4585500807325058,
          -0.8345082027874404,
          -1.4035370739640114,
          1.1672954028055194,
          -0.8219949236976485,
          -0.05552025086368601,
          0.8620171483231306,
          0.6003316543488698,
          -0.4348256141123288,
          -0.04170140419105686
         ],
         "yaxis": "y10"
        },
        {
         "histfunc": "count",
         "histnorm": "",
         "marker": {
          "color": "rgba(50, 171, 96, 1.0)",
          "line": {
           "color": "#4D5663",
           "width": 1.3
          }
         },
         "name": "C",
         "nbinsx": 10,
         "opacity": 0.8,
         "orientation": "v",
         "type": "histogram",
         "x": [
          0.6595021923181175,
          -0.5783070347707022,
          -0.6167450929244684,
          0.6785052337884592,
          -0.0537021258004026,
          0.6844909416086591,
          -0.18202239344023416,
          0.16059726743056113,
          1.1057560827815023,
          0.6937183718079736,
          -0.5677501005004965,
          -1.2698249297322135,
          -1.0453653572627788,
          -0.2752238152112225,
          0.599149966850073,
          -0.10561929569785838,
          -2.32948808935334,
          -0.050014189480767406,
          0.5655517884300509,
          -0.9969010042440927,
          -0.10789467569861652,
          0.9908004400651876,
          0.27996149758972316,
          0.6087930041886269,
          0.3059871053475049,
          -0.11908947801875125,
          -0.3949278062220429,
          -0.2741828162559288,
          0.9870603445699812,
          1.3084442673116796,
          -1.020498757223305,
          -0.31116977960648384,
          0.18320880737188247,
          0.10460168508566524,
          -0.03289927612032592,
          -0.4656571886386562,
          -0.20620493018946937,
          -0.4281868686071399,
          -2.6689938986132096,
          0.45514349875098414,
          -0.6212463640702294,
          0.5831841894589714,
          0.5852205496425055,
          2.400692030967597,
          -0.26899485888276087,
          -1.3791119906082248,
          -1.248760478694921,
          1.4324887785340203,
          1.360037936169888,
          1.2782070543556088,
          -2.161249593821316,
          0.4927835835384399,
          -0.2263644306862405,
          -0.9782219874032975,
          -1.129215959881081,
          0.17972587891994685,
          -1.000132199370155,
          0.23374535434834273,
          0.8509302256371687,
          -0.10736088207705284,
          1.5780294409456168,
          1.1308703007729861,
          1.4765035524976244,
          1.4678872406042236,
          -1.6362286502889818,
          -2.1958433206809205,
          -1.2822335424956295,
          1.151059728054402,
          0.14265182618845473,
          -1.9177578724728785,
          2.7110333194037977,
          -0.39421858021715067,
          -0.8085310155004868,
          1.1830853738087017,
          0.09056524618334044,
          0.44209458750295416,
          1.1098381602092515,
          -0.8289891861411594,
          0.4471927666338585,
          -0.5037325719218807,
          1.4289074057151878,
          0.10728670395645366,
          0.12013752595177965,
          -1.4060180329486949,
          -0.8349815548330584,
          0.7184318948486428,
          2.171625814531254,
          -1.383440398083464,
          0.3667674241799676,
          -0.8414027681288679,
          -0.4585500807325058,
          -0.8345082027874404,
          -1.4035370739640114,
          1.1672954028055194,
          -0.8219949236976485,
          -0.05552025086368601,
          0.8620171483231306,
          0.6003316543488698,
          -0.4348256141123288,
          -0.04170140419105686
         ],
         "xaxis": "x11",
         "yaxis": "y11"
        },
        {
         "line": {
          "color": "rgba(128, 128, 128, 1.0)",
          "dash": "solid",
          "shape": "linear",
          "width": 1.3
         },
         "marker": {
          "size": 2,
          "symbol": "circle"
         },
         "mode": "markers",
         "name": "C",
         "text": "",
         "type": "scatter",
         "x": [
          -0.9099823299189153,
          -1.4850533931447016,
          1.505972905283029,
          -1.0880214183536931,
          0.7683199313566231,
          -1.2072230866641296,
          0.029570986567331512,
          0.2032874010386068,
          -0.6503073995045521,
          -0.8280119944150713,
          0.25744382167433455,
          -0.41026963896684815,
          -0.14004432172252537,
          -0.09969290473759498,
          -0.4331452987016869,
          -1.8199085850062915,
          -0.26101317822779735,
          0.5263044795278107,
          0.21429498108040837,
          -1.4182252587011008,
          -1.4847027180828372,
          -1.9371877336072865,
          -0.8692799923789267,
          1.4273277305169767,
          1.7080184023236045,
          0.2684382224460977,
          0.054860024434420854,
          0.5181175691504669,
          0.3948938804432635,
          0.4752005589404257,
          0.30054174347583273,
          0.08342157512666086,
          -1.036498513774222,
          0.7258880000017822,
          1.7200116623596435,
          -0.3256333025382036,
          0.8107199545274077,
          0.18273157414119798,
          0.6819973447689638,
          0.8382263610424948,
          -0.002235620447868982,
          1.4329464647663768,
          -1.3355958068306728,
          -1.420488522801301,
          -0.14703708334707635,
          0.4184993051045839,
          0.6788320890725258,
          -1.7529060799565086,
          -0.01085125988732143,
          -1.5694845302600313,
          0.831665304542008,
          3.2029322343206075,
          -0.5526852403337608,
          0.9282607279481148,
          -1.258672148574228,
          0.22699679500288145,
          1.6277667244834413,
          0.2712547867281198,
          -0.8909417572249967,
          -0.47194127085596976,
          0.015102007372569747,
          0.869859178827262,
          0.12252600711332595,
          -0.4761431223243524,
          0.9487193062297217,
          0.9668343955984309,
          0.7710991139741503,
          -2.881594522257074,
          -0.6593641625209062,
          -0.6873525421360881,
          1.0431420542130063,
          -0.454982022242669,
          -0.30597432623563203,
          -1.191466660876326,
          0.34973970267450755,
          -0.6278767309568892,
          -0.3311313340023319,
          0.48981759985300954,
          -0.678273842961238,
          -2.9714777192328006,
          1.4880933302574844,
          -0.27050269557177264,
          -0.5659842576075041,
          0.43119297026014386,
          -0.0156238294691469,
          -0.6896490196013013,
          -0.870757654801849,
          -0.9627572594252957,
          -0.07879545237154305,
          -1.8342635143451822,
          1.360327185505662,
          -0.33154590625197267,
          -0.004649553679814088,
          1.5753032430101714,
          0.7550385256790704,
          0.2979539216882113,
          0.19867657095796756,
          -0.8953987160561826,
          0.4964043108307362,
          2.105453789711414
         ],
         "xaxis": "x12",
         "y": [
          0.6595021923181175,
          -0.5783070347707022,
          -0.6167450929244684,
          0.6785052337884592,
          -0.0537021258004026,
          0.6844909416086591,
          -0.18202239344023416,
          0.16059726743056113,
          1.1057560827815023,
          0.6937183718079736,
          -0.5677501005004965,
          -1.2698249297322135,
          -1.0453653572627788,
          -0.2752238152112225,
          0.599149966850073,
          -0.10561929569785838,
          -2.32948808935334,
          -0.050014189480767406,
          0.5655517884300509,
          -0.9969010042440927,
          -0.10789467569861652,
          0.9908004400651876,
          0.27996149758972316,
          0.6087930041886269,
          0.3059871053475049,
          -0.11908947801875125,
          -0.3949278062220429,
          -0.2741828162559288,
          0.9870603445699812,
          1.3084442673116796,
          -1.020498757223305,
          -0.31116977960648384,
          0.18320880737188247,
          0.10460168508566524,
          -0.03289927612032592,
          -0.4656571886386562,
          -0.20620493018946937,
          -0.4281868686071399,
          -2.6689938986132096,
          0.45514349875098414,
          -0.6212463640702294,
          0.5831841894589714,
          0.5852205496425055,
          2.400692030967597,
          -0.26899485888276087,
          -1.3791119906082248,
          -1.248760478694921,
          1.4324887785340203,
          1.360037936169888,
          1.2782070543556088,
          -2.161249593821316,
          0.4927835835384399,
          -0.2263644306862405,
          -0.9782219874032975,
          -1.129215959881081,
          0.17972587891994685,
          -1.000132199370155,
          0.23374535434834273,
          0.8509302256371687,
          -0.10736088207705284,
          1.5780294409456168,
          1.1308703007729861,
          1.4765035524976244,
          1.4678872406042236,
          -1.6362286502889818,
          -2.1958433206809205,
          -1.2822335424956295,
          1.151059728054402,
          0.14265182618845473,
          -1.9177578724728785,
          2.7110333194037977,
          -0.39421858021715067,
          -0.8085310155004868,
          1.1830853738087017,
          0.09056524618334044,
          0.44209458750295416,
          1.1098381602092515,
          -0.8289891861411594,
          0.4471927666338585,
          -0.5037325719218807,
          1.4289074057151878,
          0.10728670395645366,
          0.12013752595177965,
          -1.4060180329486949,
          -0.8349815548330584,
          0.7184318948486428,
          2.171625814531254,
          -1.383440398083464,
          0.3667674241799676,
          -0.8414027681288679,
          -0.4585500807325058,
          -0.8345082027874404,
          -1.4035370739640114,
          1.1672954028055194,
          -0.8219949236976485,
          -0.05552025086368601,
          0.8620171483231306,
          0.6003316543488698,
          -0.4348256141123288,
          -0.04170140419105686
         ],
         "yaxis": "y12"
        },
        {
         "line": {
          "color": "rgba(128, 128, 128, 1.0)",
          "dash": "solid",
          "shape": "linear",
          "width": 1.3
         },
         "marker": {
          "size": 2,
          "symbol": "circle"
         },
         "mode": "markers",
         "name": "D",
         "text": "",
         "type": "scatter",
         "x": [
          0.14612668346810087,
          -0.5150643958091404,
          0.993048156143555,
          1.5527565611998224,
          1.102283947004991,
          -2.4771102825000293,
          0.48535271977394,
          -5.997120287646958e-05,
          0.2728979161787896,
          0.14241623947301038,
          -1.7220839857720651,
          0.30479168294651615,
          0.1707684250962974,
          0.6284887755043934,
          -0.7850037217749689,
          -1.1402548447102723,
          -1.212921005329053,
          1.6666125120797235,
          -0.09525429818572638,
          0.9108399395049533,
          -0.6702079843333787,
          -1.8669920709525916,
          1.6318644734155594,
          1.4480641743665572,
          -0.20584286234038407,
          -0.9651543766878872,
          0.054311253909850594,
          -0.8525930402703691,
          -1.0848566097036196,
          0.22715446781637538,
          0.3832666550905886,
          0.21245695028944037,
          -0.0031198053900515408,
          0.8915668414548645,
          -0.9312260659908879,
          -0.6972621137761454,
          -0.9925852130986549,
          0.010933605125837584,
          -2.577121073522515,
          -0.5332388082426226,
          1.398496525872,
          -0.8155572221629612,
          -0.9005129185664054,
          -0.6955619676939033,
          0.24028614247159708,
          -0.14105753079894373,
          -0.6162582023375035,
          0.7117930742373001,
          -1.0493646331333701,
          0.7263194289302121,
          -0.9236975218766958,
          0.8101185177578193,
          1.2922900513898754,
          1.99699676194669,
          -0.6266941891218982,
          -0.6196112352306313,
          1.4954683268115523,
          -2.9005331410172115,
          -0.6144254979438556,
          0.3615184842676474,
          0.13442250363981223,
          0.22447929683610798,
          -0.011270422105252743,
          -0.14111226614689665,
          -0.5318804901994556,
          0.6493074858815254,
          -0.2738880128999982,
          0.9555595386204824,
          0.7301709692563028,
          -1.4019249307583348,
          -0.0068608240191281806,
          -0.471556716044861,
          -0.1636207573841797,
          -0.9752489923344956,
          0.669055675451341,
          -0.9661397959251155,
          -1.5034110492253536,
          -0.3084302353121149,
          -1.4552573990374573,
          -0.37808603369362415,
          -0.5446990641153069,
          -1.0328897660107783,
          -0.8372577968906745,
          -0.7355106232037772,
          -1.3968647200753481,
          0.11921688487375993,
          0.23800858493954524,
          -0.29667185768549426,
          0.045883212163534935,
          0.5890039282286894,
          -1.515246249470787,
          -0.1037424743255574,
          0.07342647048913974,
          -0.3282544929060498,
          -0.24513863167968586,
          -1.3103895947774227,
          -0.60110734404662,
          -0.5850987673040257,
          1.176709146660171,
          -0.02325427275882479
         ],
         "xaxis": "x13",
         "y": [
          -0.9099823299189153,
          -1.4850533931447016,
          1.505972905283029,
          -1.0880214183536931,
          0.7683199313566231,
          -1.2072230866641296,
          0.029570986567331512,
          0.2032874010386068,
          -0.6503073995045521,
          -0.8280119944150713,
          0.25744382167433455,
          -0.41026963896684815,
          -0.14004432172252537,
          -0.09969290473759498,
          -0.4331452987016869,
          -1.8199085850062915,
          -0.26101317822779735,
          0.5263044795278107,
          0.21429498108040837,
          -1.4182252587011008,
          -1.4847027180828372,
          -1.9371877336072865,
          -0.8692799923789267,
          1.4273277305169767,
          1.7080184023236045,
          0.2684382224460977,
          0.054860024434420854,
          0.5181175691504669,
          0.3948938804432635,
          0.4752005589404257,
          0.30054174347583273,
          0.08342157512666086,
          -1.036498513774222,
          0.7258880000017822,
          1.7200116623596435,
          -0.3256333025382036,
          0.8107199545274077,
          0.18273157414119798,
          0.6819973447689638,
          0.8382263610424948,
          -0.002235620447868982,
          1.4329464647663768,
          -1.3355958068306728,
          -1.420488522801301,
          -0.14703708334707635,
          0.4184993051045839,
          0.6788320890725258,
          -1.7529060799565086,
          -0.01085125988732143,
          -1.5694845302600313,
          0.831665304542008,
          3.2029322343206075,
          -0.5526852403337608,
          0.9282607279481148,
          -1.258672148574228,
          0.22699679500288145,
          1.6277667244834413,
          0.2712547867281198,
          -0.8909417572249967,
          -0.47194127085596976,
          0.015102007372569747,
          0.869859178827262,
          0.12252600711332595,
          -0.4761431223243524,
          0.9487193062297217,
          0.9668343955984309,
          0.7710991139741503,
          -2.881594522257074,
          -0.6593641625209062,
          -0.6873525421360881,
          1.0431420542130063,
          -0.454982022242669,
          -0.30597432623563203,
          -1.191466660876326,
          0.34973970267450755,
          -0.6278767309568892,
          -0.3311313340023319,
          0.48981759985300954,
          -0.678273842961238,
          -2.9714777192328006,
          1.4880933302574844,
          -0.27050269557177264,
          -0.5659842576075041,
          0.43119297026014386,
          -0.0156238294691469,
          -0.6896490196013013,
          -0.870757654801849,
          -0.9627572594252957,
          -0.07879545237154305,
          -1.8342635143451822,
          1.360327185505662,
          -0.33154590625197267,
          -0.004649553679814088,
          1.5753032430101714,
          0.7550385256790704,
          0.2979539216882113,
          0.19867657095796756,
          -0.8953987160561826,
          0.4964043108307362,
          2.105453789711414
         ],
         "yaxis": "y13"
        },
        {
         "line": {
          "color": "rgba(128, 128, 128, 1.0)",
          "dash": "solid",
          "shape": "linear",
          "width": 1.3
         },
         "marker": {
          "size": 2,
          "symbol": "circle"
         },
         "mode": "markers",
         "name": "D",
         "text": "",
         "type": "scatter",
         "x": [
          -2.0656920513651267,
          -1.7381898395197724,
          0.5749599646022417,
          -0.20398456935783446,
          -0.4464639680231975,
          0.004383762977137288,
          1.9272186733110637,
          -0.22658980720241415,
          0.21319561532434866,
          1.5343976664498042,
          -1.7943920159076656,
          -0.31464543291905195,
          -0.8012811797214887,
          1.4806559714007235,
          -0.4525548517573186,
          0.8822175236625406,
          -0.6555046997736079,
          0.5534536525657692,
          2.5421760186772,
          -1.6020691181124989,
          -1.30636280422524,
          -1.6922777152443158,
          -0.43175033360126613,
          1.3397945250406764,
          1.624479377795292,
          0.3372467612579277,
          -0.7424600919093032,
          1.3006818267114464,
          1.4148160695972485,
          0.6663625542733729,
          0.5732067675544568,
          0.3051087364651881,
          -1.4396219914247679,
          -0.7734455403957947,
          -0.02599984732944654,
          -1.0276684058819194,
          0.22756933882402786,
          0.7164414805356631,
          -0.010551172850629087,
          0.7465062931883728,
          -0.15654287357337096,
          1.285174065039588,
          -0.20984792674432232,
          0.3483310438811358,
          -0.10533457004704003,
          -1.3834922346350678,
          1.0968266309403547,
          -0.25116973554735844,
          -0.6065382611435444,
          -1.0337927095418653,
          -0.21471649762200568,
          -0.6424738047013894,
          2.1808737180863007,
          -0.367996144391834,
          0.9167509740226216,
          -0.827535652526785,
          -0.8818030769631394,
          -0.9906853057636372,
          -0.8822721779505264,
          2.0782433585144706,
          2.0282557218946855,
          -0.8954929220192098,
          1.7866615436252993,
          -0.08049020901035116,
          -0.45378394604250133,
          0.5459523374270943,
          1.7197030126869044,
          0.3824670655552625,
          -0.957018082500895,
          -0.522255715100206,
          0.5221185782393967,
          -0.37485757127874875,
          -0.5566617662959691,
          -0.8123709478860014,
          0.29366965851694743,
          -0.0850413846996384,
          -0.04473175295591152,
          -0.37788189763614555,
          -0.6566266748681084,
          1.3646960859938941,
          -0.18554222363097056,
          1.2608857606412667,
          -0.5525218583285384,
          0.7235470324663364,
          1.5772106695463057,
          -1.1557689600287397,
          -0.5223993511642664,
          -0.6891779022249445,
          -1.1183442365618064,
          0.0995055407471527,
          0.2915282805930497,
          0.38447901373397075,
          0.24560328724944816,
          0.21860553849762943,
          1.1690011631045691,
          0.4694483908290291,
          1.2466428891069556,
          0.5636822430556009,
          -0.5317643553625623,
          -1.7177776755893035
         ],
         "xaxis": "x14",
         "y": [
          -0.9099823299189153,
          -1.4850533931447016,
          1.505972905283029,
          -1.0880214183536931,
          0.7683199313566231,
          -1.2072230866641296,
          0.029570986567331512,
          0.2032874010386068,
          -0.6503073995045521,
          -0.8280119944150713,
          0.25744382167433455,
          -0.41026963896684815,
          -0.14004432172252537,
          -0.09969290473759498,
          -0.4331452987016869,
          -1.8199085850062915,
          -0.26101317822779735,
          0.5263044795278107,
          0.21429498108040837,
          -1.4182252587011008,
          -1.4847027180828372,
          -1.9371877336072865,
          -0.8692799923789267,
          1.4273277305169767,
          1.7080184023236045,
          0.2684382224460977,
          0.054860024434420854,
          0.5181175691504669,
          0.3948938804432635,
          0.4752005589404257,
          0.30054174347583273,
          0.08342157512666086,
          -1.036498513774222,
          0.7258880000017822,
          1.7200116623596435,
          -0.3256333025382036,
          0.8107199545274077,
          0.18273157414119798,
          0.6819973447689638,
          0.8382263610424948,
          -0.002235620447868982,
          1.4329464647663768,
          -1.3355958068306728,
          -1.420488522801301,
          -0.14703708334707635,
          0.4184993051045839,
          0.6788320890725258,
          -1.7529060799565086,
          -0.01085125988732143,
          -1.5694845302600313,
          0.831665304542008,
          3.2029322343206075,
          -0.5526852403337608,
          0.9282607279481148,
          -1.258672148574228,
          0.22699679500288145,
          1.6277667244834413,
          0.2712547867281198,
          -0.8909417572249967,
          -0.47194127085596976,
          0.015102007372569747,
          0.869859178827262,
          0.12252600711332595,
          -0.4761431223243524,
          0.9487193062297217,
          0.9668343955984309,
          0.7710991139741503,
          -2.881594522257074,
          -0.6593641625209062,
          -0.6873525421360881,
          1.0431420542130063,
          -0.454982022242669,
          -0.30597432623563203,
          -1.191466660876326,
          0.34973970267450755,
          -0.6278767309568892,
          -0.3311313340023319,
          0.48981759985300954,
          -0.678273842961238,
          -2.9714777192328006,
          1.4880933302574844,
          -0.27050269557177264,
          -0.5659842576075041,
          0.43119297026014386,
          -0.0156238294691469,
          -0.6896490196013013,
          -0.870757654801849,
          -0.9627572594252957,
          -0.07879545237154305,
          -1.8342635143451822,
          1.360327185505662,
          -0.33154590625197267,
          -0.004649553679814088,
          1.5753032430101714,
          0.7550385256790704,
          0.2979539216882113,
          0.19867657095796756,
          -0.8953987160561826,
          0.4964043108307362,
          2.105453789711414
         ],
         "yaxis": "y14"
        },
        {
         "line": {
          "color": "rgba(128, 128, 128, 1.0)",
          "dash": "solid",
          "shape": "linear",
          "width": 1.3
         },
         "marker": {
          "size": 2,
          "symbol": "circle"
         },
         "mode": "markers",
         "name": "D",
         "text": "",
         "type": "scatter",
         "x": [
          0.6595021923181175,
          -0.5783070347707022,
          -0.6167450929244684,
          0.6785052337884592,
          -0.0537021258004026,
          0.6844909416086591,
          -0.18202239344023416,
          0.16059726743056113,
          1.1057560827815023,
          0.6937183718079736,
          -0.5677501005004965,
          -1.2698249297322135,
          -1.0453653572627788,
          -0.2752238152112225,
          0.599149966850073,
          -0.10561929569785838,
          -2.32948808935334,
          -0.050014189480767406,
          0.5655517884300509,
          -0.9969010042440927,
          -0.10789467569861652,
          0.9908004400651876,
          0.27996149758972316,
          0.6087930041886269,
          0.3059871053475049,
          -0.11908947801875125,
          -0.3949278062220429,
          -0.2741828162559288,
          0.9870603445699812,
          1.3084442673116796,
          -1.020498757223305,
          -0.31116977960648384,
          0.18320880737188247,
          0.10460168508566524,
          -0.03289927612032592,
          -0.4656571886386562,
          -0.20620493018946937,
          -0.4281868686071399,
          -2.6689938986132096,
          0.45514349875098414,
          -0.6212463640702294,
          0.5831841894589714,
          0.5852205496425055,
          2.400692030967597,
          -0.26899485888276087,
          -1.3791119906082248,
          -1.248760478694921,
          1.4324887785340203,
          1.360037936169888,
          1.2782070543556088,
          -2.161249593821316,
          0.4927835835384399,
          -0.2263644306862405,
          -0.9782219874032975,
          -1.129215959881081,
          0.17972587891994685,
          -1.000132199370155,
          0.23374535434834273,
          0.8509302256371687,
          -0.10736088207705284,
          1.5780294409456168,
          1.1308703007729861,
          1.4765035524976244,
          1.4678872406042236,
          -1.6362286502889818,
          -2.1958433206809205,
          -1.2822335424956295,
          1.151059728054402,
          0.14265182618845473,
          -1.9177578724728785,
          2.7110333194037977,
          -0.39421858021715067,
          -0.8085310155004868,
          1.1830853738087017,
          0.09056524618334044,
          0.44209458750295416,
          1.1098381602092515,
          -0.8289891861411594,
          0.4471927666338585,
          -0.5037325719218807,
          1.4289074057151878,
          0.10728670395645366,
          0.12013752595177965,
          -1.4060180329486949,
          -0.8349815548330584,
          0.7184318948486428,
          2.171625814531254,
          -1.383440398083464,
          0.3667674241799676,
          -0.8414027681288679,
          -0.4585500807325058,
          -0.8345082027874404,
          -1.4035370739640114,
          1.1672954028055194,
          -0.8219949236976485,
          -0.05552025086368601,
          0.8620171483231306,
          0.6003316543488698,
          -0.4348256141123288,
          -0.04170140419105686
         ],
         "xaxis": "x15",
         "y": [
          -0.9099823299189153,
          -1.4850533931447016,
          1.505972905283029,
          -1.0880214183536931,
          0.7683199313566231,
          -1.2072230866641296,
          0.029570986567331512,
          0.2032874010386068,
          -0.6503073995045521,
          -0.8280119944150713,
          0.25744382167433455,
          -0.41026963896684815,
          -0.14004432172252537,
          -0.09969290473759498,
          -0.4331452987016869,
          -1.8199085850062915,
          -0.26101317822779735,
          0.5263044795278107,
          0.21429498108040837,
          -1.4182252587011008,
          -1.4847027180828372,
          -1.9371877336072865,
          -0.8692799923789267,
          1.4273277305169767,
          1.7080184023236045,
          0.2684382224460977,
          0.054860024434420854,
          0.5181175691504669,
          0.3948938804432635,
          0.4752005589404257,
          0.30054174347583273,
          0.08342157512666086,
          -1.036498513774222,
          0.7258880000017822,
          1.7200116623596435,
          -0.3256333025382036,
          0.8107199545274077,
          0.18273157414119798,
          0.6819973447689638,
          0.8382263610424948,
          -0.002235620447868982,
          1.4329464647663768,
          -1.3355958068306728,
          -1.420488522801301,
          -0.14703708334707635,
          0.4184993051045839,
          0.6788320890725258,
          -1.7529060799565086,
          -0.01085125988732143,
          -1.5694845302600313,
          0.831665304542008,
          3.2029322343206075,
          -0.5526852403337608,
          0.9282607279481148,
          -1.258672148574228,
          0.22699679500288145,
          1.6277667244834413,
          0.2712547867281198,
          -0.8909417572249967,
          -0.47194127085596976,
          0.015102007372569747,
          0.869859178827262,
          0.12252600711332595,
          -0.4761431223243524,
          0.9487193062297217,
          0.9668343955984309,
          0.7710991139741503,
          -2.881594522257074,
          -0.6593641625209062,
          -0.6873525421360881,
          1.0431420542130063,
          -0.454982022242669,
          -0.30597432623563203,
          -1.191466660876326,
          0.34973970267450755,
          -0.6278767309568892,
          -0.3311313340023319,
          0.48981759985300954,
          -0.678273842961238,
          -2.9714777192328006,
          1.4880933302574844,
          -0.27050269557177264,
          -0.5659842576075041,
          0.43119297026014386,
          -0.0156238294691469,
          -0.6896490196013013,
          -0.870757654801849,
          -0.9627572594252957,
          -0.07879545237154305,
          -1.8342635143451822,
          1.360327185505662,
          -0.33154590625197267,
          -0.004649553679814088,
          1.5753032430101714,
          0.7550385256790704,
          0.2979539216882113,
          0.19867657095796756,
          -0.8953987160561826,
          0.4964043108307362,
          2.105453789711414
         ],
         "yaxis": "y15"
        },
        {
         "histfunc": "count",
         "histnorm": "",
         "marker": {
          "color": "rgba(128, 0, 128, 1.0)",
          "line": {
           "color": "#4D5663",
           "width": 1.3
          }
         },
         "name": "D",
         "nbinsx": 10,
         "opacity": 0.8,
         "orientation": "v",
         "type": "histogram",
         "x": [
          -0.9099823299189153,
          -1.4850533931447016,
          1.505972905283029,
          -1.0880214183536931,
          0.7683199313566231,
          -1.2072230866641296,
          0.029570986567331512,
          0.2032874010386068,
          -0.6503073995045521,
          -0.8280119944150713,
          0.25744382167433455,
          -0.41026963896684815,
          -0.14004432172252537,
          -0.09969290473759498,
          -0.4331452987016869,
          -1.8199085850062915,
          -0.26101317822779735,
          0.5263044795278107,
          0.21429498108040837,
          -1.4182252587011008,
          -1.4847027180828372,
          -1.9371877336072865,
          -0.8692799923789267,
          1.4273277305169767,
          1.7080184023236045,
          0.2684382224460977,
          0.054860024434420854,
          0.5181175691504669,
          0.3948938804432635,
          0.4752005589404257,
          0.30054174347583273,
          0.08342157512666086,
          -1.036498513774222,
          0.7258880000017822,
          1.7200116623596435,
          -0.3256333025382036,
          0.8107199545274077,
          0.18273157414119798,
          0.6819973447689638,
          0.8382263610424948,
          -0.002235620447868982,
          1.4329464647663768,
          -1.3355958068306728,
          -1.420488522801301,
          -0.14703708334707635,
          0.4184993051045839,
          0.6788320890725258,
          -1.7529060799565086,
          -0.01085125988732143,
          -1.5694845302600313,
          0.831665304542008,
          3.2029322343206075,
          -0.5526852403337608,
          0.9282607279481148,
          -1.258672148574228,
          0.22699679500288145,
          1.6277667244834413,
          0.2712547867281198,
          -0.8909417572249967,
          -0.47194127085596976,
          0.015102007372569747,
          0.869859178827262,
          0.12252600711332595,
          -0.4761431223243524,
          0.9487193062297217,
          0.9668343955984309,
          0.7710991139741503,
          -2.881594522257074,
          -0.6593641625209062,
          -0.6873525421360881,
          1.0431420542130063,
          -0.454982022242669,
          -0.30597432623563203,
          -1.191466660876326,
          0.34973970267450755,
          -0.6278767309568892,
          -0.3311313340023319,
          0.48981759985300954,
          -0.678273842961238,
          -2.9714777192328006,
          1.4880933302574844,
          -0.27050269557177264,
          -0.5659842576075041,
          0.43119297026014386,
          -0.0156238294691469,
          -0.6896490196013013,
          -0.870757654801849,
          -0.9627572594252957,
          -0.07879545237154305,
          -1.8342635143451822,
          1.360327185505662,
          -0.33154590625197267,
          -0.004649553679814088,
          1.5753032430101714,
          0.7550385256790704,
          0.2979539216882113,
          0.19867657095796756,
          -0.8953987160561826,
          0.4964043108307362,
          2.105453789711414
         ],
         "xaxis": "x16",
         "yaxis": "y16"
        }
       ],
       "layout": {
        "bargap": 0.02,
        "legend": {
         "bgcolor": "#F5F6F9",
         "font": {
          "color": "#4D5663"
         }
        },
        "paper_bgcolor": "#F5F6F9",
        "plot_bgcolor": "#F5F6F9",
        "showlegend": false,
        "template": {
         "data": {
          "bar": [
           {
            "error_x": {
             "color": "#2a3f5f"
            },
            "error_y": {
             "color": "#2a3f5f"
            },
            "marker": {
             "line": {
              "color": "#E5ECF6",
              "width": 0.5
             }
            },
            "type": "bar"
           }
          ],
          "barpolar": [
           {
            "marker": {
             "line": {
              "color": "#E5ECF6",
              "width": 0.5
             }
            },
            "type": "barpolar"
           }
          ],
          "carpet": [
           {
            "aaxis": {
             "endlinecolor": "#2a3f5f",
             "gridcolor": "white",
             "linecolor": "white",
             "minorgridcolor": "white",
             "startlinecolor": "#2a3f5f"
            },
            "baxis": {
             "endlinecolor": "#2a3f5f",
             "gridcolor": "white",
             "linecolor": "white",
             "minorgridcolor": "white",
             "startlinecolor": "#2a3f5f"
            },
            "type": "carpet"
           }
          ],
          "choropleth": [
           {
            "colorbar": {
             "outlinewidth": 0,
             "ticks": ""
            },
            "type": "choropleth"
           }
          ],
          "contour": [
           {
            "colorbar": {
             "outlinewidth": 0,
             "ticks": ""
            },
            "colorscale": [
             [
              0,
              "#0d0887"
             ],
             [
              0.1111111111111111,
              "#46039f"
             ],
             [
              0.2222222222222222,
              "#7201a8"
             ],
             [
              0.3333333333333333,
              "#9c179e"
             ],
             [
              0.4444444444444444,
              "#bd3786"
             ],
             [
              0.5555555555555556,
              "#d8576b"
             ],
             [
              0.6666666666666666,
              "#ed7953"
             ],
             [
              0.7777777777777778,
              "#fb9f3a"
             ],
             [
              0.8888888888888888,
              "#fdca26"
             ],
             [
              1,
              "#f0f921"
             ]
            ],
            "type": "contour"
           }
          ],
          "contourcarpet": [
           {
            "colorbar": {
             "outlinewidth": 0,
             "ticks": ""
            },
            "type": "contourcarpet"
           }
          ],
          "heatmap": [
           {
            "colorbar": {
             "outlinewidth": 0,
             "ticks": ""
            },
            "colorscale": [
             [
              0,
              "#0d0887"
             ],
             [
              0.1111111111111111,
              "#46039f"
             ],
             [
              0.2222222222222222,
              "#7201a8"
             ],
             [
              0.3333333333333333,
              "#9c179e"
             ],
             [
              0.4444444444444444,
              "#bd3786"
             ],
             [
              0.5555555555555556,
              "#d8576b"
             ],
             [
              0.6666666666666666,
              "#ed7953"
             ],
             [
              0.7777777777777778,
              "#fb9f3a"
             ],
             [
              0.8888888888888888,
              "#fdca26"
             ],
             [
              1,
              "#f0f921"
             ]
            ],
            "type": "heatmap"
           }
          ],
          "heatmapgl": [
           {
            "colorbar": {
             "outlinewidth": 0,
             "ticks": ""
            },
            "colorscale": [
             [
              0,
              "#0d0887"
             ],
             [
              0.1111111111111111,
              "#46039f"
             ],
             [
              0.2222222222222222,
              "#7201a8"
             ],
             [
              0.3333333333333333,
              "#9c179e"
             ],
             [
              0.4444444444444444,
              "#bd3786"
             ],
             [
              0.5555555555555556,
              "#d8576b"
             ],
             [
              0.6666666666666666,
              "#ed7953"
             ],
             [
              0.7777777777777778,
              "#fb9f3a"
             ],
             [
              0.8888888888888888,
              "#fdca26"
             ],
             [
              1,
              "#f0f921"
             ]
            ],
            "type": "heatmapgl"
           }
          ],
          "histogram": [
           {
            "marker": {
             "colorbar": {
              "outlinewidth": 0,
              "ticks": ""
             }
            },
            "type": "histogram"
           }
          ],
          "histogram2d": [
           {
            "colorbar": {
             "outlinewidth": 0,
             "ticks": ""
            },
            "colorscale": [
             [
              0,
              "#0d0887"
             ],
             [
              0.1111111111111111,
              "#46039f"
             ],
             [
              0.2222222222222222,
              "#7201a8"
             ],
             [
              0.3333333333333333,
              "#9c179e"
             ],
             [
              0.4444444444444444,
              "#bd3786"
             ],
             [
              0.5555555555555556,
              "#d8576b"
             ],
             [
              0.6666666666666666,
              "#ed7953"
             ],
             [
              0.7777777777777778,
              "#fb9f3a"
             ],
             [
              0.8888888888888888,
              "#fdca26"
             ],
             [
              1,
              "#f0f921"
             ]
            ],
            "type": "histogram2d"
           }
          ],
          "histogram2dcontour": [
           {
            "colorbar": {
             "outlinewidth": 0,
             "ticks": ""
            },
            "colorscale": [
             [
              0,
              "#0d0887"
             ],
             [
              0.1111111111111111,
              "#46039f"
             ],
             [
              0.2222222222222222,
              "#7201a8"
             ],
             [
              0.3333333333333333,
              "#9c179e"
             ],
             [
              0.4444444444444444,
              "#bd3786"
             ],
             [
              0.5555555555555556,
              "#d8576b"
             ],
             [
              0.6666666666666666,
              "#ed7953"
             ],
             [
              0.7777777777777778,
              "#fb9f3a"
             ],
             [
              0.8888888888888888,
              "#fdca26"
             ],
             [
              1,
              "#f0f921"
             ]
            ],
            "type": "histogram2dcontour"
           }
          ],
          "mesh3d": [
           {
            "colorbar": {
             "outlinewidth": 0,
             "ticks": ""
            },
            "type": "mesh3d"
           }
          ],
          "parcoords": [
           {
            "line": {
             "colorbar": {
              "outlinewidth": 0,
              "ticks": ""
             }
            },
            "type": "parcoords"
           }
          ],
          "pie": [
           {
            "automargin": true,
            "type": "pie"
           }
          ],
          "scatter": [
           {
            "marker": {
             "colorbar": {
              "outlinewidth": 0,
              "ticks": ""
             }
            },
            "type": "scatter"
           }
          ],
          "scatter3d": [
           {
            "line": {
             "colorbar": {
              "outlinewidth": 0,
              "ticks": ""
             }
            },
            "marker": {
             "colorbar": {
              "outlinewidth": 0,
              "ticks": ""
             }
            },
            "type": "scatter3d"
           }
          ],
          "scattercarpet": [
           {
            "marker": {
             "colorbar": {
              "outlinewidth": 0,
              "ticks": ""
             }
            },
            "type": "scattercarpet"
           }
          ],
          "scattergeo": [
           {
            "marker": {
             "colorbar": {
              "outlinewidth": 0,
              "ticks": ""
             }
            },
            "type": "scattergeo"
           }
          ],
          "scattergl": [
           {
            "marker": {
             "colorbar": {
              "outlinewidth": 0,
              "ticks": ""
             }
            },
            "type": "scattergl"
           }
          ],
          "scattermapbox": [
           {
            "marker": {
             "colorbar": {
              "outlinewidth": 0,
              "ticks": ""
             }
            },
            "type": "scattermapbox"
           }
          ],
          "scatterpolar": [
           {
            "marker": {
             "colorbar": {
              "outlinewidth": 0,
              "ticks": ""
             }
            },
            "type": "scatterpolar"
           }
          ],
          "scatterpolargl": [
           {
            "marker": {
             "colorbar": {
              "outlinewidth": 0,
              "ticks": ""
             }
            },
            "type": "scatterpolargl"
           }
          ],
          "scatterternary": [
           {
            "marker": {
             "colorbar": {
              "outlinewidth": 0,
              "ticks": ""
             }
            },
            "type": "scatterternary"
           }
          ],
          "surface": [
           {
            "colorbar": {
             "outlinewidth": 0,
             "ticks": ""
            },
            "colorscale": [
             [
              0,
              "#0d0887"
             ],
             [
              0.1111111111111111,
              "#46039f"
             ],
             [
              0.2222222222222222,
              "#7201a8"
             ],
             [
              0.3333333333333333,
              "#9c179e"
             ],
             [
              0.4444444444444444,
              "#bd3786"
             ],
             [
              0.5555555555555556,
              "#d8576b"
             ],
             [
              0.6666666666666666,
              "#ed7953"
             ],
             [
              0.7777777777777778,
              "#fb9f3a"
             ],
             [
              0.8888888888888888,
              "#fdca26"
             ],
             [
              1,
              "#f0f921"
             ]
            ],
            "type": "surface"
           }
          ],
          "table": [
           {
            "cells": {
             "fill": {
              "color": "#EBF0F8"
             },
             "line": {
              "color": "white"
             }
            },
            "header": {
             "fill": {
              "color": "#C8D4E3"
             },
             "line": {
              "color": "white"
             }
            },
            "type": "table"
           }
          ]
         },
         "layout": {
          "annotationdefaults": {
           "arrowcolor": "#2a3f5f",
           "arrowhead": 0,
           "arrowwidth": 1
          },
          "coloraxis": {
           "colorbar": {
            "outlinewidth": 0,
            "ticks": ""
           }
          },
          "colorscale": {
           "diverging": [
            [
             0,
             "#8e0152"
            ],
            [
             0.1,
             "#c51b7d"
            ],
            [
             0.2,
             "#de77ae"
            ],
            [
             0.3,
             "#f1b6da"
            ],
            [
             0.4,
             "#fde0ef"
            ],
            [
             0.5,
             "#f7f7f7"
            ],
            [
             0.6,
             "#e6f5d0"
            ],
            [
             0.7,
             "#b8e186"
            ],
            [
             0.8,
             "#7fbc41"
            ],
            [
             0.9,
             "#4d9221"
            ],
            [
             1,
             "#276419"
            ]
           ],
           "sequential": [
            [
             0,
             "#0d0887"
            ],
            [
             0.1111111111111111,
             "#46039f"
            ],
            [
             0.2222222222222222,
             "#7201a8"
            ],
            [
             0.3333333333333333,
             "#9c179e"
            ],
            [
             0.4444444444444444,
             "#bd3786"
            ],
            [
             0.5555555555555556,
             "#d8576b"
            ],
            [
             0.6666666666666666,
             "#ed7953"
            ],
            [
             0.7777777777777778,
             "#fb9f3a"
            ],
            [
             0.8888888888888888,
             "#fdca26"
            ],
            [
             1,
             "#f0f921"
            ]
           ],
           "sequentialminus": [
            [
             0,
             "#0d0887"
            ],
            [
             0.1111111111111111,
             "#46039f"
            ],
            [
             0.2222222222222222,
             "#7201a8"
            ],
            [
             0.3333333333333333,
             "#9c179e"
            ],
            [
             0.4444444444444444,
             "#bd3786"
            ],
            [
             0.5555555555555556,
             "#d8576b"
            ],
            [
             0.6666666666666666,
             "#ed7953"
            ],
            [
             0.7777777777777778,
             "#fb9f3a"
            ],
            [
             0.8888888888888888,
             "#fdca26"
            ],
            [
             1,
             "#f0f921"
            ]
           ]
          },
          "colorway": [
           "#636efa",
           "#EF553B",
           "#00cc96",
           "#ab63fa",
           "#FFA15A",
           "#19d3f3",
           "#FF6692",
           "#B6E880",
           "#FF97FF",
           "#FECB52"
          ],
          "font": {
           "color": "#2a3f5f"
          },
          "geo": {
           "bgcolor": "white",
           "lakecolor": "white",
           "landcolor": "#E5ECF6",
           "showlakes": true,
           "showland": true,
           "subunitcolor": "white"
          },
          "hoverlabel": {
           "align": "left"
          },
          "hovermode": "closest",
          "mapbox": {
           "style": "light"
          },
          "paper_bgcolor": "white",
          "plot_bgcolor": "#E5ECF6",
          "polar": {
           "angularaxis": {
            "gridcolor": "white",
            "linecolor": "white",
            "ticks": ""
           },
           "bgcolor": "#E5ECF6",
           "radialaxis": {
            "gridcolor": "white",
            "linecolor": "white",
            "ticks": ""
           }
          },
          "scene": {
           "xaxis": {
            "backgroundcolor": "#E5ECF6",
            "gridcolor": "white",
            "gridwidth": 2,
            "linecolor": "white",
            "showbackground": true,
            "ticks": "",
            "zerolinecolor": "white"
           },
           "yaxis": {
            "backgroundcolor": "#E5ECF6",
            "gridcolor": "white",
            "gridwidth": 2,
            "linecolor": "white",
            "showbackground": true,
            "ticks": "",
            "zerolinecolor": "white"
           },
           "zaxis": {
            "backgroundcolor": "#E5ECF6",
            "gridcolor": "white",
            "gridwidth": 2,
            "linecolor": "white",
            "showbackground": true,
            "ticks": "",
            "zerolinecolor": "white"
           }
          },
          "shapedefaults": {
           "line": {
            "color": "#2a3f5f"
           }
          },
          "ternary": {
           "aaxis": {
            "gridcolor": "white",
            "linecolor": "white",
            "ticks": ""
           },
           "baxis": {
            "gridcolor": "white",
            "linecolor": "white",
            "ticks": ""
           },
           "bgcolor": "#E5ECF6",
           "caxis": {
            "gridcolor": "white",
            "linecolor": "white",
            "ticks": ""
           }
          },
          "title": {
           "x": 0.05
          },
          "xaxis": {
           "automargin": true,
           "gridcolor": "white",
           "linecolor": "white",
           "ticks": "",
           "title": {
            "standoff": 15
           },
           "zerolinecolor": "white",
           "zerolinewidth": 2
          },
          "yaxis": {
           "automargin": true,
           "gridcolor": "white",
           "linecolor": "white",
           "ticks": "",
           "title": {
            "standoff": 15
           },
           "zerolinecolor": "white",
           "zerolinewidth": 2
          }
         }
        },
        "title": {
         "font": {
          "color": "#4D5663"
         }
        },
        "xaxis": {
         "anchor": "y",
         "domain": [
          0,
          0.2125
         ],
         "gridcolor": "#E1E5ED",
         "showgrid": false,
         "tickfont": {
          "color": "#4D5663"
         },
         "title": {
          "font": {
           "color": "#4D5663"
          },
          "text": ""
         },
         "zerolinecolor": "#E1E5ED"
        },
        "xaxis10": {
         "anchor": "y10",
         "domain": [
          0.2625,
          0.475
         ],
         "gridcolor": "#E1E5ED",
         "showgrid": false,
         "tickfont": {
          "color": "#4D5663"
         },
         "title": {
          "font": {
           "color": "#4D5663"
          },
          "text": ""
         },
         "zerolinecolor": "#E1E5ED"
        },
        "xaxis11": {
         "anchor": "y11",
         "domain": [
          0.525,
          0.7375
         ],
         "gridcolor": "#E1E5ED",
         "showgrid": false,
         "tickfont": {
          "color": "#4D5663"
         },
         "title": {
          "font": {
           "color": "#4D5663"
          },
          "text": ""
         },
         "zerolinecolor": "#E1E5ED"
        },
        "xaxis12": {
         "anchor": "y12",
         "domain": [
          0.7875,
          1
         ],
         "gridcolor": "#E1E5ED",
         "showgrid": false,
         "tickfont": {
          "color": "#4D5663"
         },
         "title": {
          "font": {
           "color": "#4D5663"
          },
          "text": ""
         },
         "zerolinecolor": "#E1E5ED"
        },
        "xaxis13": {
         "anchor": "y13",
         "domain": [
          0,
          0.2125
         ],
         "gridcolor": "#E1E5ED",
         "showgrid": false,
         "tickfont": {
          "color": "#4D5663"
         },
         "title": {
          "font": {
           "color": "#4D5663"
          },
          "text": ""
         },
         "zerolinecolor": "#E1E5ED"
        },
        "xaxis14": {
         "anchor": "y14",
         "domain": [
          0.2625,
          0.475
         ],
         "gridcolor": "#E1E5ED",
         "showgrid": false,
         "tickfont": {
          "color": "#4D5663"
         },
         "title": {
          "font": {
           "color": "#4D5663"
          },
          "text": ""
         },
         "zerolinecolor": "#E1E5ED"
        },
        "xaxis15": {
         "anchor": "y15",
         "domain": [
          0.525,
          0.7375
         ],
         "gridcolor": "#E1E5ED",
         "showgrid": false,
         "tickfont": {
          "color": "#4D5663"
         },
         "title": {
          "font": {
           "color": "#4D5663"
          },
          "text": ""
         },
         "zerolinecolor": "#E1E5ED"
        },
        "xaxis16": {
         "anchor": "y16",
         "domain": [
          0.7875,
          1
         ],
         "gridcolor": "#E1E5ED",
         "showgrid": false,
         "tickfont": {
          "color": "#4D5663"
         },
         "title": {
          "font": {
           "color": "#4D5663"
          },
          "text": ""
         },
         "zerolinecolor": "#E1E5ED"
        },
        "xaxis2": {
         "anchor": "y2",
         "domain": [
          0.2625,
          0.475
         ],
         "gridcolor": "#E1E5ED",
         "showgrid": false,
         "tickfont": {
          "color": "#4D5663"
         },
         "title": {
          "font": {
           "color": "#4D5663"
          },
          "text": ""
         },
         "zerolinecolor": "#E1E5ED"
        },
        "xaxis3": {
         "anchor": "y3",
         "domain": [
          0.525,
          0.7375
         ],
         "gridcolor": "#E1E5ED",
         "showgrid": false,
         "tickfont": {
          "color": "#4D5663"
         },
         "title": {
          "font": {
           "color": "#4D5663"
          },
          "text": ""
         },
         "zerolinecolor": "#E1E5ED"
        },
        "xaxis4": {
         "anchor": "y4",
         "domain": [
          0.7875,
          1
         ],
         "gridcolor": "#E1E5ED",
         "showgrid": false,
         "tickfont": {
          "color": "#4D5663"
         },
         "title": {
          "font": {
           "color": "#4D5663"
          },
          "text": ""
         },
         "zerolinecolor": "#E1E5ED"
        },
        "xaxis5": {
         "anchor": "y5",
         "domain": [
          0,
          0.2125
         ],
         "gridcolor": "#E1E5ED",
         "showgrid": false,
         "tickfont": {
          "color": "#4D5663"
         },
         "title": {
          "font": {
           "color": "#4D5663"
          },
          "text": ""
         },
         "zerolinecolor": "#E1E5ED"
        },
        "xaxis6": {
         "anchor": "y6",
         "domain": [
          0.2625,
          0.475
         ],
         "gridcolor": "#E1E5ED",
         "showgrid": false,
         "tickfont": {
          "color": "#4D5663"
         },
         "title": {
          "font": {
           "color": "#4D5663"
          },
          "text": ""
         },
         "zerolinecolor": "#E1E5ED"
        },
        "xaxis7": {
         "anchor": "y7",
         "domain": [
          0.525,
          0.7375
         ],
         "gridcolor": "#E1E5ED",
         "showgrid": false,
         "tickfont": {
          "color": "#4D5663"
         },
         "title": {
          "font": {
           "color": "#4D5663"
          },
          "text": ""
         },
         "zerolinecolor": "#E1E5ED"
        },
        "xaxis8": {
         "anchor": "y8",
         "domain": [
          0.7875,
          1
         ],
         "gridcolor": "#E1E5ED",
         "showgrid": false,
         "tickfont": {
          "color": "#4D5663"
         },
         "title": {
          "font": {
           "color": "#4D5663"
          },
          "text": ""
         },
         "zerolinecolor": "#E1E5ED"
        },
        "xaxis9": {
         "anchor": "y9",
         "domain": [
          0,
          0.2125
         ],
         "gridcolor": "#E1E5ED",
         "showgrid": false,
         "tickfont": {
          "color": "#4D5663"
         },
         "title": {
          "font": {
           "color": "#4D5663"
          },
          "text": ""
         },
         "zerolinecolor": "#E1E5ED"
        },
        "yaxis": {
         "anchor": "x",
         "domain": [
          0.8025,
          1
         ],
         "gridcolor": "#E1E5ED",
         "showgrid": false,
         "tickfont": {
          "color": "#4D5663"
         },
         "title": {
          "font": {
           "color": "#4D5663"
          },
          "text": ""
         },
         "zerolinecolor": "#E1E5ED"
        },
        "yaxis10": {
         "anchor": "x10",
         "domain": [
          0.2675,
          0.465
         ],
         "gridcolor": "#E1E5ED",
         "showgrid": false,
         "tickfont": {
          "color": "#4D5663"
         },
         "title": {
          "font": {
           "color": "#4D5663"
          },
          "text": ""
         },
         "zerolinecolor": "#E1E5ED"
        },
        "yaxis11": {
         "anchor": "x11",
         "domain": [
          0.2675,
          0.465
         ],
         "gridcolor": "#E1E5ED",
         "showgrid": false,
         "tickfont": {
          "color": "#4D5663"
         },
         "title": {
          "font": {
           "color": "#4D5663"
          },
          "text": ""
         },
         "zerolinecolor": "#E1E5ED"
        },
        "yaxis12": {
         "anchor": "x12",
         "domain": [
          0.2675,
          0.465
         ],
         "gridcolor": "#E1E5ED",
         "showgrid": false,
         "tickfont": {
          "color": "#4D5663"
         },
         "title": {
          "font": {
           "color": "#4D5663"
          },
          "text": ""
         },
         "zerolinecolor": "#E1E5ED"
        },
        "yaxis13": {
         "anchor": "x13",
         "domain": [
          0,
          0.1975
         ],
         "gridcolor": "#E1E5ED",
         "showgrid": false,
         "tickfont": {
          "color": "#4D5663"
         },
         "title": {
          "font": {
           "color": "#4D5663"
          },
          "text": ""
         },
         "zerolinecolor": "#E1E5ED"
        },
        "yaxis14": {
         "anchor": "x14",
         "domain": [
          0,
          0.1975
         ],
         "gridcolor": "#E1E5ED",
         "showgrid": false,
         "tickfont": {
          "color": "#4D5663"
         },
         "title": {
          "font": {
           "color": "#4D5663"
          },
          "text": ""
         },
         "zerolinecolor": "#E1E5ED"
        },
        "yaxis15": {
         "anchor": "x15",
         "domain": [
          0,
          0.1975
         ],
         "gridcolor": "#E1E5ED",
         "showgrid": false,
         "tickfont": {
          "color": "#4D5663"
         },
         "title": {
          "font": {
           "color": "#4D5663"
          },
          "text": ""
         },
         "zerolinecolor": "#E1E5ED"
        },
        "yaxis16": {
         "anchor": "x16",
         "domain": [
          0,
          0.1975
         ],
         "gridcolor": "#E1E5ED",
         "showgrid": false,
         "tickfont": {
          "color": "#4D5663"
         },
         "title": {
          "font": {
           "color": "#4D5663"
          },
          "text": ""
         },
         "zerolinecolor": "#E1E5ED"
        },
        "yaxis2": {
         "anchor": "x2",
         "domain": [
          0.8025,
          1
         ],
         "gridcolor": "#E1E5ED",
         "showgrid": false,
         "tickfont": {
          "color": "#4D5663"
         },
         "title": {
          "font": {
           "color": "#4D5663"
          },
          "text": ""
         },
         "zerolinecolor": "#E1E5ED"
        },
        "yaxis3": {
         "anchor": "x3",
         "domain": [
          0.8025,
          1
         ],
         "gridcolor": "#E1E5ED",
         "showgrid": false,
         "tickfont": {
          "color": "#4D5663"
         },
         "title": {
          "font": {
           "color": "#4D5663"
          },
          "text": ""
         },
         "zerolinecolor": "#E1E5ED"
        },
        "yaxis4": {
         "anchor": "x4",
         "domain": [
          0.8025,
          1
         ],
         "gridcolor": "#E1E5ED",
         "showgrid": false,
         "tickfont": {
          "color": "#4D5663"
         },
         "title": {
          "font": {
           "color": "#4D5663"
          },
          "text": ""
         },
         "zerolinecolor": "#E1E5ED"
        },
        "yaxis5": {
         "anchor": "x5",
         "domain": [
          0.535,
          0.7325
         ],
         "gridcolor": "#E1E5ED",
         "showgrid": false,
         "tickfont": {
          "color": "#4D5663"
         },
         "title": {
          "font": {
           "color": "#4D5663"
          },
          "text": ""
         },
         "zerolinecolor": "#E1E5ED"
        },
        "yaxis6": {
         "anchor": "x6",
         "domain": [
          0.535,
          0.7325
         ],
         "gridcolor": "#E1E5ED",
         "showgrid": false,
         "tickfont": {
          "color": "#4D5663"
         },
         "title": {
          "font": {
           "color": "#4D5663"
          },
          "text": ""
         },
         "zerolinecolor": "#E1E5ED"
        },
        "yaxis7": {
         "anchor": "x7",
         "domain": [
          0.535,
          0.7325
         ],
         "gridcolor": "#E1E5ED",
         "showgrid": false,
         "tickfont": {
          "color": "#4D5663"
         },
         "title": {
          "font": {
           "color": "#4D5663"
          },
          "text": ""
         },
         "zerolinecolor": "#E1E5ED"
        },
        "yaxis8": {
         "anchor": "x8",
         "domain": [
          0.535,
          0.7325
         ],
         "gridcolor": "#E1E5ED",
         "showgrid": false,
         "tickfont": {
          "color": "#4D5663"
         },
         "title": {
          "font": {
           "color": "#4D5663"
          },
          "text": ""
         },
         "zerolinecolor": "#E1E5ED"
        },
        "yaxis9": {
         "anchor": "x9",
         "domain": [
          0.2675,
          0.465
         ],
         "gridcolor": "#E1E5ED",
         "showgrid": false,
         "tickfont": {
          "color": "#4D5663"
         },
         "title": {
          "font": {
           "color": "#4D5663"
          },
          "text": ""
         },
         "zerolinecolor": "#E1E5ED"
        }
       }
      },
      "text/html": [
       "<div>\n",
       "        \n",
       "        \n",
       "            <div id=\"7bb0acef-305c-4cd4-b3b1-32b77eefa9b1\" class=\"plotly-graph-div\" style=\"height:525px; width:100%;\"></div>\n",
       "            <script type=\"text/javascript\">\n",
       "                require([\"plotly\"], function(Plotly) {\n",
       "                    window.PLOTLYENV=window.PLOTLYENV || {};\n",
       "                    window.PLOTLYENV.BASE_URL='https://plot.ly';\n",
       "                    \n",
       "                if (document.getElementById(\"7bb0acef-305c-4cd4-b3b1-32b77eefa9b1\")) {\n",
       "                    Plotly.newPlot(\n",
       "                        '7bb0acef-305c-4cd4-b3b1-32b77eefa9b1',\n",
       "                        [{\"histfunc\": \"count\", \"histnorm\": \"\", \"marker\": {\"color\": \"rgba(255, 153, 51, 1.0)\", \"line\": {\"color\": \"#4D5663\", \"width\": 1.3}}, \"name\": \"A\", \"nbinsx\": 10, \"opacity\": 0.8, \"orientation\": \"v\", \"type\": \"histogram\", \"x\": [0.14612668346810087, -0.5150643958091404, 0.993048156143555, 1.5527565611998224, 1.102283947004991, -2.4771102825000293, 0.48535271977394, -5.997120287646958e-05, 0.2728979161787896, 0.14241623947301038, -1.7220839857720651, 0.30479168294651615, 0.1707684250962974, 0.6284887755043934, -0.7850037217749689, -1.1402548447102723, -1.212921005329053, 1.6666125120797235, -0.09525429818572638, 0.9108399395049533, -0.6702079843333787, -1.8669920709525916, 1.6318644734155594, 1.4480641743665572, -0.20584286234038407, -0.9651543766878872, 0.054311253909850594, -0.8525930402703691, -1.0848566097036196, 0.22715446781637538, 0.3832666550905886, 0.21245695028944037, -0.0031198053900515408, 0.8915668414548645, -0.9312260659908879, -0.6972621137761454, -0.9925852130986549, 0.010933605125837584, -2.577121073522515, -0.5332388082426226, 1.398496525872, -0.8155572221629612, -0.9005129185664054, -0.6955619676939033, 0.24028614247159708, -0.14105753079894373, -0.6162582023375035, 0.7117930742373001, -1.0493646331333701, 0.7263194289302121, -0.9236975218766958, 0.8101185177578193, 1.2922900513898754, 1.99699676194669, -0.6266941891218982, -0.6196112352306313, 1.4954683268115523, -2.9005331410172115, -0.6144254979438556, 0.3615184842676474, 0.13442250363981223, 0.22447929683610798, -0.011270422105252743, -0.14111226614689665, -0.5318804901994556, 0.6493074858815254, -0.2738880128999982, 0.9555595386204824, 0.7301709692563028, -1.4019249307583348, -0.0068608240191281806, -0.471556716044861, -0.1636207573841797, -0.9752489923344956, 0.669055675451341, -0.9661397959251155, -1.5034110492253536, -0.3084302353121149, -1.4552573990374573, -0.37808603369362415, -0.5446990641153069, -1.0328897660107783, -0.8372577968906745, -0.7355106232037772, -1.3968647200753481, 0.11921688487375993, 0.23800858493954524, -0.29667185768549426, 0.045883212163534935, 0.5890039282286894, -1.515246249470787, -0.1037424743255574, 0.07342647048913974, -0.3282544929060498, -0.24513863167968586, -1.3103895947774227, -0.60110734404662, -0.5850987673040257, 1.176709146660171, -0.02325427275882479], \"xaxis\": \"x\", \"yaxis\": \"y\"}, {\"line\": {\"color\": \"rgba(128, 128, 128, 1.0)\", \"dash\": \"solid\", \"shape\": \"linear\", \"width\": 1.3}, \"marker\": {\"size\": 2, \"symbol\": \"circle\"}, \"mode\": \"markers\", \"name\": \"A\", \"text\": \"\", \"type\": \"scatter\", \"x\": [-2.0656920513651267, -1.7381898395197724, 0.5749599646022417, -0.20398456935783446, -0.4464639680231975, 0.004383762977137288, 1.9272186733110637, -0.22658980720241415, 0.21319561532434866, 1.5343976664498042, -1.7943920159076656, -0.31464543291905195, -0.8012811797214887, 1.4806559714007235, -0.4525548517573186, 0.8822175236625406, -0.6555046997736079, 0.5534536525657692, 2.5421760186772, -1.6020691181124989, -1.30636280422524, -1.6922777152443158, -0.43175033360126613, 1.3397945250406764, 1.624479377795292, 0.3372467612579277, -0.7424600919093032, 1.3006818267114464, 1.4148160695972485, 0.6663625542733729, 0.5732067675544568, 0.3051087364651881, -1.4396219914247679, -0.7734455403957947, -0.02599984732944654, -1.0276684058819194, 0.22756933882402786, 0.7164414805356631, -0.010551172850629087, 0.7465062931883728, -0.15654287357337096, 1.285174065039588, -0.20984792674432232, 0.3483310438811358, -0.10533457004704003, -1.3834922346350678, 1.0968266309403547, -0.25116973554735844, -0.6065382611435444, -1.0337927095418653, -0.21471649762200568, -0.6424738047013894, 2.1808737180863007, -0.367996144391834, 0.9167509740226216, -0.827535652526785, -0.8818030769631394, -0.9906853057636372, -0.8822721779505264, 2.0782433585144706, 2.0282557218946855, -0.8954929220192098, 1.7866615436252993, -0.08049020901035116, -0.45378394604250133, 0.5459523374270943, 1.7197030126869044, 0.3824670655552625, -0.957018082500895, -0.522255715100206, 0.5221185782393967, -0.37485757127874875, -0.5566617662959691, -0.8123709478860014, 0.29366965851694743, -0.0850413846996384, -0.04473175295591152, -0.37788189763614555, -0.6566266748681084, 1.3646960859938941, -0.18554222363097056, 1.2608857606412667, -0.5525218583285384, 0.7235470324663364, 1.5772106695463057, -1.1557689600287397, -0.5223993511642664, -0.6891779022249445, -1.1183442365618064, 0.0995055407471527, 0.2915282805930497, 0.38447901373397075, 0.24560328724944816, 0.21860553849762943, 1.1690011631045691, 0.4694483908290291, 1.2466428891069556, 0.5636822430556009, -0.5317643553625623, -1.7177776755893035], \"xaxis\": \"x2\", \"y\": [0.14612668346810087, -0.5150643958091404, 0.993048156143555, 1.5527565611998224, 1.102283947004991, -2.4771102825000293, 0.48535271977394, -5.997120287646958e-05, 0.2728979161787896, 0.14241623947301038, -1.7220839857720651, 0.30479168294651615, 0.1707684250962974, 0.6284887755043934, -0.7850037217749689, -1.1402548447102723, -1.212921005329053, 1.6666125120797235, -0.09525429818572638, 0.9108399395049533, -0.6702079843333787, -1.8669920709525916, 1.6318644734155594, 1.4480641743665572, -0.20584286234038407, -0.9651543766878872, 0.054311253909850594, -0.8525930402703691, -1.0848566097036196, 0.22715446781637538, 0.3832666550905886, 0.21245695028944037, -0.0031198053900515408, 0.8915668414548645, -0.9312260659908879, -0.6972621137761454, -0.9925852130986549, 0.010933605125837584, -2.577121073522515, -0.5332388082426226, 1.398496525872, -0.8155572221629612, -0.9005129185664054, -0.6955619676939033, 0.24028614247159708, -0.14105753079894373, -0.6162582023375035, 0.7117930742373001, -1.0493646331333701, 0.7263194289302121, -0.9236975218766958, 0.8101185177578193, 1.2922900513898754, 1.99699676194669, -0.6266941891218982, -0.6196112352306313, 1.4954683268115523, -2.9005331410172115, -0.6144254979438556, 0.3615184842676474, 0.13442250363981223, 0.22447929683610798, -0.011270422105252743, -0.14111226614689665, -0.5318804901994556, 0.6493074858815254, -0.2738880128999982, 0.9555595386204824, 0.7301709692563028, -1.4019249307583348, -0.0068608240191281806, -0.471556716044861, -0.1636207573841797, -0.9752489923344956, 0.669055675451341, -0.9661397959251155, -1.5034110492253536, -0.3084302353121149, -1.4552573990374573, -0.37808603369362415, -0.5446990641153069, -1.0328897660107783, -0.8372577968906745, -0.7355106232037772, -1.3968647200753481, 0.11921688487375993, 0.23800858493954524, -0.29667185768549426, 0.045883212163534935, 0.5890039282286894, -1.515246249470787, -0.1037424743255574, 0.07342647048913974, -0.3282544929060498, -0.24513863167968586, -1.3103895947774227, -0.60110734404662, -0.5850987673040257, 1.176709146660171, -0.02325427275882479], \"yaxis\": \"y2\"}, {\"line\": {\"color\": \"rgba(128, 128, 128, 1.0)\", \"dash\": \"solid\", \"shape\": \"linear\", \"width\": 1.3}, \"marker\": {\"size\": 2, \"symbol\": \"circle\"}, \"mode\": \"markers\", \"name\": \"A\", \"text\": \"\", \"type\": \"scatter\", \"x\": [0.6595021923181175, -0.5783070347707022, -0.6167450929244684, 0.6785052337884592, -0.0537021258004026, 0.6844909416086591, -0.18202239344023416, 0.16059726743056113, 1.1057560827815023, 0.6937183718079736, -0.5677501005004965, -1.2698249297322135, -1.0453653572627788, -0.2752238152112225, 0.599149966850073, -0.10561929569785838, -2.32948808935334, -0.050014189480767406, 0.5655517884300509, -0.9969010042440927, -0.10789467569861652, 0.9908004400651876, 0.27996149758972316, 0.6087930041886269, 0.3059871053475049, -0.11908947801875125, -0.3949278062220429, -0.2741828162559288, 0.9870603445699812, 1.3084442673116796, -1.020498757223305, -0.31116977960648384, 0.18320880737188247, 0.10460168508566524, -0.03289927612032592, -0.4656571886386562, -0.20620493018946937, -0.4281868686071399, -2.6689938986132096, 0.45514349875098414, -0.6212463640702294, 0.5831841894589714, 0.5852205496425055, 2.400692030967597, -0.26899485888276087, -1.3791119906082248, -1.248760478694921, 1.4324887785340203, 1.360037936169888, 1.2782070543556088, -2.161249593821316, 0.4927835835384399, -0.2263644306862405, -0.9782219874032975, -1.129215959881081, 0.17972587891994685, -1.000132199370155, 0.23374535434834273, 0.8509302256371687, -0.10736088207705284, 1.5780294409456168, 1.1308703007729861, 1.4765035524976244, 1.4678872406042236, -1.6362286502889818, -2.1958433206809205, -1.2822335424956295, 1.151059728054402, 0.14265182618845473, -1.9177578724728785, 2.7110333194037977, -0.39421858021715067, -0.8085310155004868, 1.1830853738087017, 0.09056524618334044, 0.44209458750295416, 1.1098381602092515, -0.8289891861411594, 0.4471927666338585, -0.5037325719218807, 1.4289074057151878, 0.10728670395645366, 0.12013752595177965, -1.4060180329486949, -0.8349815548330584, 0.7184318948486428, 2.171625814531254, -1.383440398083464, 0.3667674241799676, -0.8414027681288679, -0.4585500807325058, -0.8345082027874404, -1.4035370739640114, 1.1672954028055194, -0.8219949236976485, -0.05552025086368601, 0.8620171483231306, 0.6003316543488698, -0.4348256141123288, -0.04170140419105686], \"xaxis\": \"x3\", \"y\": [0.14612668346810087, -0.5150643958091404, 0.993048156143555, 1.5527565611998224, 1.102283947004991, -2.4771102825000293, 0.48535271977394, -5.997120287646958e-05, 0.2728979161787896, 0.14241623947301038, -1.7220839857720651, 0.30479168294651615, 0.1707684250962974, 0.6284887755043934, -0.7850037217749689, -1.1402548447102723, -1.212921005329053, 1.6666125120797235, -0.09525429818572638, 0.9108399395049533, -0.6702079843333787, -1.8669920709525916, 1.6318644734155594, 1.4480641743665572, -0.20584286234038407, -0.9651543766878872, 0.054311253909850594, -0.8525930402703691, -1.0848566097036196, 0.22715446781637538, 0.3832666550905886, 0.21245695028944037, -0.0031198053900515408, 0.8915668414548645, -0.9312260659908879, -0.6972621137761454, -0.9925852130986549, 0.010933605125837584, -2.577121073522515, -0.5332388082426226, 1.398496525872, -0.8155572221629612, -0.9005129185664054, -0.6955619676939033, 0.24028614247159708, -0.14105753079894373, -0.6162582023375035, 0.7117930742373001, -1.0493646331333701, 0.7263194289302121, -0.9236975218766958, 0.8101185177578193, 1.2922900513898754, 1.99699676194669, -0.6266941891218982, -0.6196112352306313, 1.4954683268115523, -2.9005331410172115, -0.6144254979438556, 0.3615184842676474, 0.13442250363981223, 0.22447929683610798, -0.011270422105252743, -0.14111226614689665, -0.5318804901994556, 0.6493074858815254, -0.2738880128999982, 0.9555595386204824, 0.7301709692563028, -1.4019249307583348, -0.0068608240191281806, -0.471556716044861, -0.1636207573841797, -0.9752489923344956, 0.669055675451341, -0.9661397959251155, -1.5034110492253536, -0.3084302353121149, -1.4552573990374573, -0.37808603369362415, -0.5446990641153069, -1.0328897660107783, -0.8372577968906745, -0.7355106232037772, -1.3968647200753481, 0.11921688487375993, 0.23800858493954524, -0.29667185768549426, 0.045883212163534935, 0.5890039282286894, -1.515246249470787, -0.1037424743255574, 0.07342647048913974, -0.3282544929060498, -0.24513863167968586, -1.3103895947774227, -0.60110734404662, -0.5850987673040257, 1.176709146660171, -0.02325427275882479], \"yaxis\": \"y3\"}, {\"line\": {\"color\": \"rgba(128, 128, 128, 1.0)\", \"dash\": \"solid\", \"shape\": \"linear\", \"width\": 1.3}, \"marker\": {\"size\": 2, \"symbol\": \"circle\"}, \"mode\": \"markers\", \"name\": \"A\", \"text\": \"\", \"type\": \"scatter\", \"x\": [-0.9099823299189153, -1.4850533931447016, 1.505972905283029, -1.0880214183536931, 0.7683199313566231, -1.2072230866641296, 0.029570986567331512, 0.2032874010386068, -0.6503073995045521, -0.8280119944150713, 0.25744382167433455, -0.41026963896684815, -0.14004432172252537, -0.09969290473759498, -0.4331452987016869, -1.8199085850062915, -0.26101317822779735, 0.5263044795278107, 0.21429498108040837, -1.4182252587011008, -1.4847027180828372, -1.9371877336072865, -0.8692799923789267, 1.4273277305169767, 1.7080184023236045, 0.2684382224460977, 0.054860024434420854, 0.5181175691504669, 0.3948938804432635, 0.4752005589404257, 0.30054174347583273, 0.08342157512666086, -1.036498513774222, 0.7258880000017822, 1.7200116623596435, -0.3256333025382036, 0.8107199545274077, 0.18273157414119798, 0.6819973447689638, 0.8382263610424948, -0.002235620447868982, 1.4329464647663768, -1.3355958068306728, -1.420488522801301, -0.14703708334707635, 0.4184993051045839, 0.6788320890725258, -1.7529060799565086, -0.01085125988732143, -1.5694845302600313, 0.831665304542008, 3.2029322343206075, -0.5526852403337608, 0.9282607279481148, -1.258672148574228, 0.22699679500288145, 1.6277667244834413, 0.2712547867281198, -0.8909417572249967, -0.47194127085596976, 0.015102007372569747, 0.869859178827262, 0.12252600711332595, -0.4761431223243524, 0.9487193062297217, 0.9668343955984309, 0.7710991139741503, -2.881594522257074, -0.6593641625209062, -0.6873525421360881, 1.0431420542130063, -0.454982022242669, -0.30597432623563203, -1.191466660876326, 0.34973970267450755, -0.6278767309568892, -0.3311313340023319, 0.48981759985300954, -0.678273842961238, -2.9714777192328006, 1.4880933302574844, -0.27050269557177264, -0.5659842576075041, 0.43119297026014386, -0.0156238294691469, -0.6896490196013013, -0.870757654801849, -0.9627572594252957, -0.07879545237154305, -1.8342635143451822, 1.360327185505662, -0.33154590625197267, -0.004649553679814088, 1.5753032430101714, 0.7550385256790704, 0.2979539216882113, 0.19867657095796756, -0.8953987160561826, 0.4964043108307362, 2.105453789711414], \"xaxis\": \"x4\", \"y\": [0.14612668346810087, -0.5150643958091404, 0.993048156143555, 1.5527565611998224, 1.102283947004991, -2.4771102825000293, 0.48535271977394, -5.997120287646958e-05, 0.2728979161787896, 0.14241623947301038, -1.7220839857720651, 0.30479168294651615, 0.1707684250962974, 0.6284887755043934, -0.7850037217749689, -1.1402548447102723, -1.212921005329053, 1.6666125120797235, -0.09525429818572638, 0.9108399395049533, -0.6702079843333787, -1.8669920709525916, 1.6318644734155594, 1.4480641743665572, -0.20584286234038407, -0.9651543766878872, 0.054311253909850594, -0.8525930402703691, -1.0848566097036196, 0.22715446781637538, 0.3832666550905886, 0.21245695028944037, -0.0031198053900515408, 0.8915668414548645, -0.9312260659908879, -0.6972621137761454, -0.9925852130986549, 0.010933605125837584, -2.577121073522515, -0.5332388082426226, 1.398496525872, -0.8155572221629612, -0.9005129185664054, -0.6955619676939033, 0.24028614247159708, -0.14105753079894373, -0.6162582023375035, 0.7117930742373001, -1.0493646331333701, 0.7263194289302121, -0.9236975218766958, 0.8101185177578193, 1.2922900513898754, 1.99699676194669, -0.6266941891218982, -0.6196112352306313, 1.4954683268115523, -2.9005331410172115, -0.6144254979438556, 0.3615184842676474, 0.13442250363981223, 0.22447929683610798, -0.011270422105252743, -0.14111226614689665, -0.5318804901994556, 0.6493074858815254, -0.2738880128999982, 0.9555595386204824, 0.7301709692563028, -1.4019249307583348, -0.0068608240191281806, -0.471556716044861, -0.1636207573841797, -0.9752489923344956, 0.669055675451341, -0.9661397959251155, -1.5034110492253536, -0.3084302353121149, -1.4552573990374573, -0.37808603369362415, -0.5446990641153069, -1.0328897660107783, -0.8372577968906745, -0.7355106232037772, -1.3968647200753481, 0.11921688487375993, 0.23800858493954524, -0.29667185768549426, 0.045883212163534935, 0.5890039282286894, -1.515246249470787, -0.1037424743255574, 0.07342647048913974, -0.3282544929060498, -0.24513863167968586, -1.3103895947774227, -0.60110734404662, -0.5850987673040257, 1.176709146660171, -0.02325427275882479], \"yaxis\": \"y4\"}, {\"line\": {\"color\": \"rgba(128, 128, 128, 1.0)\", \"dash\": \"solid\", \"shape\": \"linear\", \"width\": 1.3}, \"marker\": {\"size\": 2, \"symbol\": \"circle\"}, \"mode\": \"markers\", \"name\": \"B\", \"text\": \"\", \"type\": \"scatter\", \"x\": [0.14612668346810087, -0.5150643958091404, 0.993048156143555, 1.5527565611998224, 1.102283947004991, -2.4771102825000293, 0.48535271977394, -5.997120287646958e-05, 0.2728979161787896, 0.14241623947301038, -1.7220839857720651, 0.30479168294651615, 0.1707684250962974, 0.6284887755043934, -0.7850037217749689, -1.1402548447102723, -1.212921005329053, 1.6666125120797235, -0.09525429818572638, 0.9108399395049533, -0.6702079843333787, -1.8669920709525916, 1.6318644734155594, 1.4480641743665572, -0.20584286234038407, -0.9651543766878872, 0.054311253909850594, -0.8525930402703691, -1.0848566097036196, 0.22715446781637538, 0.3832666550905886, 0.21245695028944037, -0.0031198053900515408, 0.8915668414548645, -0.9312260659908879, -0.6972621137761454, -0.9925852130986549, 0.010933605125837584, -2.577121073522515, -0.5332388082426226, 1.398496525872, -0.8155572221629612, -0.9005129185664054, -0.6955619676939033, 0.24028614247159708, -0.14105753079894373, -0.6162582023375035, 0.7117930742373001, -1.0493646331333701, 0.7263194289302121, -0.9236975218766958, 0.8101185177578193, 1.2922900513898754, 1.99699676194669, -0.6266941891218982, -0.6196112352306313, 1.4954683268115523, -2.9005331410172115, -0.6144254979438556, 0.3615184842676474, 0.13442250363981223, 0.22447929683610798, -0.011270422105252743, -0.14111226614689665, -0.5318804901994556, 0.6493074858815254, -0.2738880128999982, 0.9555595386204824, 0.7301709692563028, -1.4019249307583348, -0.0068608240191281806, -0.471556716044861, -0.1636207573841797, -0.9752489923344956, 0.669055675451341, -0.9661397959251155, -1.5034110492253536, -0.3084302353121149, -1.4552573990374573, -0.37808603369362415, -0.5446990641153069, -1.0328897660107783, -0.8372577968906745, -0.7355106232037772, -1.3968647200753481, 0.11921688487375993, 0.23800858493954524, -0.29667185768549426, 0.045883212163534935, 0.5890039282286894, -1.515246249470787, -0.1037424743255574, 0.07342647048913974, -0.3282544929060498, -0.24513863167968586, -1.3103895947774227, -0.60110734404662, -0.5850987673040257, 1.176709146660171, -0.02325427275882479], \"xaxis\": \"x5\", \"y\": [-2.0656920513651267, -1.7381898395197724, 0.5749599646022417, -0.20398456935783446, -0.4464639680231975, 0.004383762977137288, 1.9272186733110637, -0.22658980720241415, 0.21319561532434866, 1.5343976664498042, -1.7943920159076656, -0.31464543291905195, -0.8012811797214887, 1.4806559714007235, -0.4525548517573186, 0.8822175236625406, -0.6555046997736079, 0.5534536525657692, 2.5421760186772, -1.6020691181124989, -1.30636280422524, -1.6922777152443158, -0.43175033360126613, 1.3397945250406764, 1.624479377795292, 0.3372467612579277, -0.7424600919093032, 1.3006818267114464, 1.4148160695972485, 0.6663625542733729, 0.5732067675544568, 0.3051087364651881, -1.4396219914247679, -0.7734455403957947, -0.02599984732944654, -1.0276684058819194, 0.22756933882402786, 0.7164414805356631, -0.010551172850629087, 0.7465062931883728, -0.15654287357337096, 1.285174065039588, -0.20984792674432232, 0.3483310438811358, -0.10533457004704003, -1.3834922346350678, 1.0968266309403547, -0.25116973554735844, -0.6065382611435444, -1.0337927095418653, -0.21471649762200568, -0.6424738047013894, 2.1808737180863007, -0.367996144391834, 0.9167509740226216, -0.827535652526785, -0.8818030769631394, -0.9906853057636372, -0.8822721779505264, 2.0782433585144706, 2.0282557218946855, -0.8954929220192098, 1.7866615436252993, -0.08049020901035116, -0.45378394604250133, 0.5459523374270943, 1.7197030126869044, 0.3824670655552625, -0.957018082500895, -0.522255715100206, 0.5221185782393967, -0.37485757127874875, -0.5566617662959691, -0.8123709478860014, 0.29366965851694743, -0.0850413846996384, -0.04473175295591152, -0.37788189763614555, -0.6566266748681084, 1.3646960859938941, -0.18554222363097056, 1.2608857606412667, -0.5525218583285384, 0.7235470324663364, 1.5772106695463057, -1.1557689600287397, -0.5223993511642664, -0.6891779022249445, -1.1183442365618064, 0.0995055407471527, 0.2915282805930497, 0.38447901373397075, 0.24560328724944816, 0.21860553849762943, 1.1690011631045691, 0.4694483908290291, 1.2466428891069556, 0.5636822430556009, -0.5317643553625623, -1.7177776755893035], \"yaxis\": \"y5\"}, {\"histfunc\": \"count\", \"histnorm\": \"\", \"marker\": {\"color\": \"rgba(55, 128, 191, 1.0)\", \"line\": {\"color\": \"#4D5663\", \"width\": 1.3}}, \"name\": \"B\", \"nbinsx\": 10, \"opacity\": 0.8, \"orientation\": \"v\", \"type\": \"histogram\", \"x\": [-2.0656920513651267, -1.7381898395197724, 0.5749599646022417, -0.20398456935783446, -0.4464639680231975, 0.004383762977137288, 1.9272186733110637, -0.22658980720241415, 0.21319561532434866, 1.5343976664498042, -1.7943920159076656, -0.31464543291905195, -0.8012811797214887, 1.4806559714007235, -0.4525548517573186, 0.8822175236625406, -0.6555046997736079, 0.5534536525657692, 2.5421760186772, -1.6020691181124989, -1.30636280422524, -1.6922777152443158, -0.43175033360126613, 1.3397945250406764, 1.624479377795292, 0.3372467612579277, -0.7424600919093032, 1.3006818267114464, 1.4148160695972485, 0.6663625542733729, 0.5732067675544568, 0.3051087364651881, -1.4396219914247679, -0.7734455403957947, -0.02599984732944654, -1.0276684058819194, 0.22756933882402786, 0.7164414805356631, -0.010551172850629087, 0.7465062931883728, -0.15654287357337096, 1.285174065039588, -0.20984792674432232, 0.3483310438811358, -0.10533457004704003, -1.3834922346350678, 1.0968266309403547, -0.25116973554735844, -0.6065382611435444, -1.0337927095418653, -0.21471649762200568, -0.6424738047013894, 2.1808737180863007, -0.367996144391834, 0.9167509740226216, -0.827535652526785, -0.8818030769631394, -0.9906853057636372, -0.8822721779505264, 2.0782433585144706, 2.0282557218946855, -0.8954929220192098, 1.7866615436252993, -0.08049020901035116, -0.45378394604250133, 0.5459523374270943, 1.7197030126869044, 0.3824670655552625, -0.957018082500895, -0.522255715100206, 0.5221185782393967, -0.37485757127874875, -0.5566617662959691, -0.8123709478860014, 0.29366965851694743, -0.0850413846996384, -0.04473175295591152, -0.37788189763614555, -0.6566266748681084, 1.3646960859938941, -0.18554222363097056, 1.2608857606412667, -0.5525218583285384, 0.7235470324663364, 1.5772106695463057, -1.1557689600287397, -0.5223993511642664, -0.6891779022249445, -1.1183442365618064, 0.0995055407471527, 0.2915282805930497, 0.38447901373397075, 0.24560328724944816, 0.21860553849762943, 1.1690011631045691, 0.4694483908290291, 1.2466428891069556, 0.5636822430556009, -0.5317643553625623, -1.7177776755893035], \"xaxis\": \"x6\", \"yaxis\": \"y6\"}, {\"line\": {\"color\": \"rgba(128, 128, 128, 1.0)\", \"dash\": \"solid\", \"shape\": \"linear\", \"width\": 1.3}, \"marker\": {\"size\": 2, \"symbol\": \"circle\"}, \"mode\": \"markers\", \"name\": \"B\", \"text\": \"\", \"type\": \"scatter\", \"x\": [0.6595021923181175, -0.5783070347707022, -0.6167450929244684, 0.6785052337884592, -0.0537021258004026, 0.6844909416086591, -0.18202239344023416, 0.16059726743056113, 1.1057560827815023, 0.6937183718079736, -0.5677501005004965, -1.2698249297322135, -1.0453653572627788, -0.2752238152112225, 0.599149966850073, -0.10561929569785838, -2.32948808935334, -0.050014189480767406, 0.5655517884300509, -0.9969010042440927, -0.10789467569861652, 0.9908004400651876, 0.27996149758972316, 0.6087930041886269, 0.3059871053475049, -0.11908947801875125, -0.3949278062220429, -0.2741828162559288, 0.9870603445699812, 1.3084442673116796, -1.020498757223305, -0.31116977960648384, 0.18320880737188247, 0.10460168508566524, -0.03289927612032592, -0.4656571886386562, -0.20620493018946937, -0.4281868686071399, -2.6689938986132096, 0.45514349875098414, -0.6212463640702294, 0.5831841894589714, 0.5852205496425055, 2.400692030967597, -0.26899485888276087, -1.3791119906082248, -1.248760478694921, 1.4324887785340203, 1.360037936169888, 1.2782070543556088, -2.161249593821316, 0.4927835835384399, -0.2263644306862405, -0.9782219874032975, -1.129215959881081, 0.17972587891994685, -1.000132199370155, 0.23374535434834273, 0.8509302256371687, -0.10736088207705284, 1.5780294409456168, 1.1308703007729861, 1.4765035524976244, 1.4678872406042236, -1.6362286502889818, -2.1958433206809205, -1.2822335424956295, 1.151059728054402, 0.14265182618845473, -1.9177578724728785, 2.7110333194037977, -0.39421858021715067, -0.8085310155004868, 1.1830853738087017, 0.09056524618334044, 0.44209458750295416, 1.1098381602092515, -0.8289891861411594, 0.4471927666338585, -0.5037325719218807, 1.4289074057151878, 0.10728670395645366, 0.12013752595177965, -1.4060180329486949, -0.8349815548330584, 0.7184318948486428, 2.171625814531254, -1.383440398083464, 0.3667674241799676, -0.8414027681288679, -0.4585500807325058, -0.8345082027874404, -1.4035370739640114, 1.1672954028055194, -0.8219949236976485, -0.05552025086368601, 0.8620171483231306, 0.6003316543488698, -0.4348256141123288, -0.04170140419105686], \"xaxis\": \"x7\", \"y\": [-2.0656920513651267, -1.7381898395197724, 0.5749599646022417, -0.20398456935783446, -0.4464639680231975, 0.004383762977137288, 1.9272186733110637, -0.22658980720241415, 0.21319561532434866, 1.5343976664498042, -1.7943920159076656, -0.31464543291905195, -0.8012811797214887, 1.4806559714007235, -0.4525548517573186, 0.8822175236625406, -0.6555046997736079, 0.5534536525657692, 2.5421760186772, -1.6020691181124989, -1.30636280422524, -1.6922777152443158, -0.43175033360126613, 1.3397945250406764, 1.624479377795292, 0.3372467612579277, -0.7424600919093032, 1.3006818267114464, 1.4148160695972485, 0.6663625542733729, 0.5732067675544568, 0.3051087364651881, -1.4396219914247679, -0.7734455403957947, -0.02599984732944654, -1.0276684058819194, 0.22756933882402786, 0.7164414805356631, -0.010551172850629087, 0.7465062931883728, -0.15654287357337096, 1.285174065039588, -0.20984792674432232, 0.3483310438811358, -0.10533457004704003, -1.3834922346350678, 1.0968266309403547, -0.25116973554735844, -0.6065382611435444, -1.0337927095418653, -0.21471649762200568, -0.6424738047013894, 2.1808737180863007, -0.367996144391834, 0.9167509740226216, -0.827535652526785, -0.8818030769631394, -0.9906853057636372, -0.8822721779505264, 2.0782433585144706, 2.0282557218946855, -0.8954929220192098, 1.7866615436252993, -0.08049020901035116, -0.45378394604250133, 0.5459523374270943, 1.7197030126869044, 0.3824670655552625, -0.957018082500895, -0.522255715100206, 0.5221185782393967, -0.37485757127874875, -0.5566617662959691, -0.8123709478860014, 0.29366965851694743, -0.0850413846996384, -0.04473175295591152, -0.37788189763614555, -0.6566266748681084, 1.3646960859938941, -0.18554222363097056, 1.2608857606412667, -0.5525218583285384, 0.7235470324663364, 1.5772106695463057, -1.1557689600287397, -0.5223993511642664, -0.6891779022249445, -1.1183442365618064, 0.0995055407471527, 0.2915282805930497, 0.38447901373397075, 0.24560328724944816, 0.21860553849762943, 1.1690011631045691, 0.4694483908290291, 1.2466428891069556, 0.5636822430556009, -0.5317643553625623, -1.7177776755893035], \"yaxis\": \"y7\"}, {\"line\": {\"color\": \"rgba(128, 128, 128, 1.0)\", \"dash\": \"solid\", \"shape\": \"linear\", \"width\": 1.3}, \"marker\": {\"size\": 2, \"symbol\": \"circle\"}, \"mode\": \"markers\", \"name\": \"B\", \"text\": \"\", \"type\": \"scatter\", \"x\": [-0.9099823299189153, -1.4850533931447016, 1.505972905283029, -1.0880214183536931, 0.7683199313566231, -1.2072230866641296, 0.029570986567331512, 0.2032874010386068, -0.6503073995045521, -0.8280119944150713, 0.25744382167433455, -0.41026963896684815, -0.14004432172252537, -0.09969290473759498, -0.4331452987016869, -1.8199085850062915, -0.26101317822779735, 0.5263044795278107, 0.21429498108040837, -1.4182252587011008, -1.4847027180828372, -1.9371877336072865, -0.8692799923789267, 1.4273277305169767, 1.7080184023236045, 0.2684382224460977, 0.054860024434420854, 0.5181175691504669, 0.3948938804432635, 0.4752005589404257, 0.30054174347583273, 0.08342157512666086, -1.036498513774222, 0.7258880000017822, 1.7200116623596435, -0.3256333025382036, 0.8107199545274077, 0.18273157414119798, 0.6819973447689638, 0.8382263610424948, -0.002235620447868982, 1.4329464647663768, -1.3355958068306728, -1.420488522801301, -0.14703708334707635, 0.4184993051045839, 0.6788320890725258, -1.7529060799565086, -0.01085125988732143, -1.5694845302600313, 0.831665304542008, 3.2029322343206075, -0.5526852403337608, 0.9282607279481148, -1.258672148574228, 0.22699679500288145, 1.6277667244834413, 0.2712547867281198, -0.8909417572249967, -0.47194127085596976, 0.015102007372569747, 0.869859178827262, 0.12252600711332595, -0.4761431223243524, 0.9487193062297217, 0.9668343955984309, 0.7710991139741503, -2.881594522257074, -0.6593641625209062, -0.6873525421360881, 1.0431420542130063, -0.454982022242669, -0.30597432623563203, -1.191466660876326, 0.34973970267450755, -0.6278767309568892, -0.3311313340023319, 0.48981759985300954, -0.678273842961238, -2.9714777192328006, 1.4880933302574844, -0.27050269557177264, -0.5659842576075041, 0.43119297026014386, -0.0156238294691469, -0.6896490196013013, -0.870757654801849, -0.9627572594252957, -0.07879545237154305, -1.8342635143451822, 1.360327185505662, -0.33154590625197267, -0.004649553679814088, 1.5753032430101714, 0.7550385256790704, 0.2979539216882113, 0.19867657095796756, -0.8953987160561826, 0.4964043108307362, 2.105453789711414], \"xaxis\": \"x8\", \"y\": [-2.0656920513651267, -1.7381898395197724, 0.5749599646022417, -0.20398456935783446, -0.4464639680231975, 0.004383762977137288, 1.9272186733110637, -0.22658980720241415, 0.21319561532434866, 1.5343976664498042, -1.7943920159076656, -0.31464543291905195, -0.8012811797214887, 1.4806559714007235, -0.4525548517573186, 0.8822175236625406, -0.6555046997736079, 0.5534536525657692, 2.5421760186772, -1.6020691181124989, -1.30636280422524, -1.6922777152443158, -0.43175033360126613, 1.3397945250406764, 1.624479377795292, 0.3372467612579277, -0.7424600919093032, 1.3006818267114464, 1.4148160695972485, 0.6663625542733729, 0.5732067675544568, 0.3051087364651881, -1.4396219914247679, -0.7734455403957947, -0.02599984732944654, -1.0276684058819194, 0.22756933882402786, 0.7164414805356631, -0.010551172850629087, 0.7465062931883728, -0.15654287357337096, 1.285174065039588, -0.20984792674432232, 0.3483310438811358, -0.10533457004704003, -1.3834922346350678, 1.0968266309403547, -0.25116973554735844, -0.6065382611435444, -1.0337927095418653, -0.21471649762200568, -0.6424738047013894, 2.1808737180863007, -0.367996144391834, 0.9167509740226216, -0.827535652526785, -0.8818030769631394, -0.9906853057636372, -0.8822721779505264, 2.0782433585144706, 2.0282557218946855, -0.8954929220192098, 1.7866615436252993, -0.08049020901035116, -0.45378394604250133, 0.5459523374270943, 1.7197030126869044, 0.3824670655552625, -0.957018082500895, -0.522255715100206, 0.5221185782393967, -0.37485757127874875, -0.5566617662959691, -0.8123709478860014, 0.29366965851694743, -0.0850413846996384, -0.04473175295591152, -0.37788189763614555, -0.6566266748681084, 1.3646960859938941, -0.18554222363097056, 1.2608857606412667, -0.5525218583285384, 0.7235470324663364, 1.5772106695463057, -1.1557689600287397, -0.5223993511642664, -0.6891779022249445, -1.1183442365618064, 0.0995055407471527, 0.2915282805930497, 0.38447901373397075, 0.24560328724944816, 0.21860553849762943, 1.1690011631045691, 0.4694483908290291, 1.2466428891069556, 0.5636822430556009, -0.5317643553625623, -1.7177776755893035], \"yaxis\": \"y8\"}, {\"line\": {\"color\": \"rgba(128, 128, 128, 1.0)\", \"dash\": \"solid\", \"shape\": \"linear\", \"width\": 1.3}, \"marker\": {\"size\": 2, \"symbol\": \"circle\"}, \"mode\": \"markers\", \"name\": \"C\", \"text\": \"\", \"type\": \"scatter\", \"x\": [0.14612668346810087, -0.5150643958091404, 0.993048156143555, 1.5527565611998224, 1.102283947004991, -2.4771102825000293, 0.48535271977394, -5.997120287646958e-05, 0.2728979161787896, 0.14241623947301038, -1.7220839857720651, 0.30479168294651615, 0.1707684250962974, 0.6284887755043934, -0.7850037217749689, -1.1402548447102723, -1.212921005329053, 1.6666125120797235, -0.09525429818572638, 0.9108399395049533, -0.6702079843333787, -1.8669920709525916, 1.6318644734155594, 1.4480641743665572, -0.20584286234038407, -0.9651543766878872, 0.054311253909850594, -0.8525930402703691, -1.0848566097036196, 0.22715446781637538, 0.3832666550905886, 0.21245695028944037, -0.0031198053900515408, 0.8915668414548645, -0.9312260659908879, -0.6972621137761454, -0.9925852130986549, 0.010933605125837584, -2.577121073522515, -0.5332388082426226, 1.398496525872, -0.8155572221629612, -0.9005129185664054, -0.6955619676939033, 0.24028614247159708, -0.14105753079894373, -0.6162582023375035, 0.7117930742373001, -1.0493646331333701, 0.7263194289302121, -0.9236975218766958, 0.8101185177578193, 1.2922900513898754, 1.99699676194669, -0.6266941891218982, -0.6196112352306313, 1.4954683268115523, -2.9005331410172115, -0.6144254979438556, 0.3615184842676474, 0.13442250363981223, 0.22447929683610798, -0.011270422105252743, -0.14111226614689665, -0.5318804901994556, 0.6493074858815254, -0.2738880128999982, 0.9555595386204824, 0.7301709692563028, -1.4019249307583348, -0.0068608240191281806, -0.471556716044861, -0.1636207573841797, -0.9752489923344956, 0.669055675451341, -0.9661397959251155, -1.5034110492253536, -0.3084302353121149, -1.4552573990374573, -0.37808603369362415, -0.5446990641153069, -1.0328897660107783, -0.8372577968906745, -0.7355106232037772, -1.3968647200753481, 0.11921688487375993, 0.23800858493954524, -0.29667185768549426, 0.045883212163534935, 0.5890039282286894, -1.515246249470787, -0.1037424743255574, 0.07342647048913974, -0.3282544929060498, -0.24513863167968586, -1.3103895947774227, -0.60110734404662, -0.5850987673040257, 1.176709146660171, -0.02325427275882479], \"xaxis\": \"x9\", \"y\": [0.6595021923181175, -0.5783070347707022, -0.6167450929244684, 0.6785052337884592, -0.0537021258004026, 0.6844909416086591, -0.18202239344023416, 0.16059726743056113, 1.1057560827815023, 0.6937183718079736, -0.5677501005004965, -1.2698249297322135, -1.0453653572627788, -0.2752238152112225, 0.599149966850073, -0.10561929569785838, -2.32948808935334, -0.050014189480767406, 0.5655517884300509, -0.9969010042440927, -0.10789467569861652, 0.9908004400651876, 0.27996149758972316, 0.6087930041886269, 0.3059871053475049, -0.11908947801875125, -0.3949278062220429, -0.2741828162559288, 0.9870603445699812, 1.3084442673116796, -1.020498757223305, -0.31116977960648384, 0.18320880737188247, 0.10460168508566524, -0.03289927612032592, -0.4656571886386562, -0.20620493018946937, -0.4281868686071399, -2.6689938986132096, 0.45514349875098414, -0.6212463640702294, 0.5831841894589714, 0.5852205496425055, 2.400692030967597, -0.26899485888276087, -1.3791119906082248, -1.248760478694921, 1.4324887785340203, 1.360037936169888, 1.2782070543556088, -2.161249593821316, 0.4927835835384399, -0.2263644306862405, -0.9782219874032975, -1.129215959881081, 0.17972587891994685, -1.000132199370155, 0.23374535434834273, 0.8509302256371687, -0.10736088207705284, 1.5780294409456168, 1.1308703007729861, 1.4765035524976244, 1.4678872406042236, -1.6362286502889818, -2.1958433206809205, -1.2822335424956295, 1.151059728054402, 0.14265182618845473, -1.9177578724728785, 2.7110333194037977, -0.39421858021715067, -0.8085310155004868, 1.1830853738087017, 0.09056524618334044, 0.44209458750295416, 1.1098381602092515, -0.8289891861411594, 0.4471927666338585, -0.5037325719218807, 1.4289074057151878, 0.10728670395645366, 0.12013752595177965, -1.4060180329486949, -0.8349815548330584, 0.7184318948486428, 2.171625814531254, -1.383440398083464, 0.3667674241799676, -0.8414027681288679, -0.4585500807325058, -0.8345082027874404, -1.4035370739640114, 1.1672954028055194, -0.8219949236976485, -0.05552025086368601, 0.8620171483231306, 0.6003316543488698, -0.4348256141123288, -0.04170140419105686], \"yaxis\": \"y9\"}, {\"line\": {\"color\": \"rgba(128, 128, 128, 1.0)\", \"dash\": \"solid\", \"shape\": \"linear\", \"width\": 1.3}, \"marker\": {\"size\": 2, \"symbol\": \"circle\"}, \"mode\": \"markers\", \"name\": \"C\", \"text\": \"\", \"type\": \"scatter\", \"x\": [-2.0656920513651267, -1.7381898395197724, 0.5749599646022417, -0.20398456935783446, -0.4464639680231975, 0.004383762977137288, 1.9272186733110637, -0.22658980720241415, 0.21319561532434866, 1.5343976664498042, -1.7943920159076656, -0.31464543291905195, -0.8012811797214887, 1.4806559714007235, -0.4525548517573186, 0.8822175236625406, -0.6555046997736079, 0.5534536525657692, 2.5421760186772, -1.6020691181124989, -1.30636280422524, -1.6922777152443158, -0.43175033360126613, 1.3397945250406764, 1.624479377795292, 0.3372467612579277, -0.7424600919093032, 1.3006818267114464, 1.4148160695972485, 0.6663625542733729, 0.5732067675544568, 0.3051087364651881, -1.4396219914247679, -0.7734455403957947, -0.02599984732944654, -1.0276684058819194, 0.22756933882402786, 0.7164414805356631, -0.010551172850629087, 0.7465062931883728, -0.15654287357337096, 1.285174065039588, -0.20984792674432232, 0.3483310438811358, -0.10533457004704003, -1.3834922346350678, 1.0968266309403547, -0.25116973554735844, -0.6065382611435444, -1.0337927095418653, -0.21471649762200568, -0.6424738047013894, 2.1808737180863007, -0.367996144391834, 0.9167509740226216, -0.827535652526785, -0.8818030769631394, -0.9906853057636372, -0.8822721779505264, 2.0782433585144706, 2.0282557218946855, -0.8954929220192098, 1.7866615436252993, -0.08049020901035116, -0.45378394604250133, 0.5459523374270943, 1.7197030126869044, 0.3824670655552625, -0.957018082500895, -0.522255715100206, 0.5221185782393967, -0.37485757127874875, -0.5566617662959691, -0.8123709478860014, 0.29366965851694743, -0.0850413846996384, -0.04473175295591152, -0.37788189763614555, -0.6566266748681084, 1.3646960859938941, -0.18554222363097056, 1.2608857606412667, -0.5525218583285384, 0.7235470324663364, 1.5772106695463057, -1.1557689600287397, -0.5223993511642664, -0.6891779022249445, -1.1183442365618064, 0.0995055407471527, 0.2915282805930497, 0.38447901373397075, 0.24560328724944816, 0.21860553849762943, 1.1690011631045691, 0.4694483908290291, 1.2466428891069556, 0.5636822430556009, -0.5317643553625623, -1.7177776755893035], \"xaxis\": \"x10\", \"y\": [0.6595021923181175, -0.5783070347707022, -0.6167450929244684, 0.6785052337884592, -0.0537021258004026, 0.6844909416086591, -0.18202239344023416, 0.16059726743056113, 1.1057560827815023, 0.6937183718079736, -0.5677501005004965, -1.2698249297322135, -1.0453653572627788, -0.2752238152112225, 0.599149966850073, -0.10561929569785838, -2.32948808935334, -0.050014189480767406, 0.5655517884300509, -0.9969010042440927, -0.10789467569861652, 0.9908004400651876, 0.27996149758972316, 0.6087930041886269, 0.3059871053475049, -0.11908947801875125, -0.3949278062220429, -0.2741828162559288, 0.9870603445699812, 1.3084442673116796, -1.020498757223305, -0.31116977960648384, 0.18320880737188247, 0.10460168508566524, -0.03289927612032592, -0.4656571886386562, -0.20620493018946937, -0.4281868686071399, -2.6689938986132096, 0.45514349875098414, -0.6212463640702294, 0.5831841894589714, 0.5852205496425055, 2.400692030967597, -0.26899485888276087, -1.3791119906082248, -1.248760478694921, 1.4324887785340203, 1.360037936169888, 1.2782070543556088, -2.161249593821316, 0.4927835835384399, -0.2263644306862405, -0.9782219874032975, -1.129215959881081, 0.17972587891994685, -1.000132199370155, 0.23374535434834273, 0.8509302256371687, -0.10736088207705284, 1.5780294409456168, 1.1308703007729861, 1.4765035524976244, 1.4678872406042236, -1.6362286502889818, -2.1958433206809205, -1.2822335424956295, 1.151059728054402, 0.14265182618845473, -1.9177578724728785, 2.7110333194037977, -0.39421858021715067, -0.8085310155004868, 1.1830853738087017, 0.09056524618334044, 0.44209458750295416, 1.1098381602092515, -0.8289891861411594, 0.4471927666338585, -0.5037325719218807, 1.4289074057151878, 0.10728670395645366, 0.12013752595177965, -1.4060180329486949, -0.8349815548330584, 0.7184318948486428, 2.171625814531254, -1.383440398083464, 0.3667674241799676, -0.8414027681288679, -0.4585500807325058, -0.8345082027874404, -1.4035370739640114, 1.1672954028055194, -0.8219949236976485, -0.05552025086368601, 0.8620171483231306, 0.6003316543488698, -0.4348256141123288, -0.04170140419105686], \"yaxis\": \"y10\"}, {\"histfunc\": \"count\", \"histnorm\": \"\", \"marker\": {\"color\": \"rgba(50, 171, 96, 1.0)\", \"line\": {\"color\": \"#4D5663\", \"width\": 1.3}}, \"name\": \"C\", \"nbinsx\": 10, \"opacity\": 0.8, \"orientation\": \"v\", \"type\": \"histogram\", \"x\": [0.6595021923181175, -0.5783070347707022, -0.6167450929244684, 0.6785052337884592, -0.0537021258004026, 0.6844909416086591, -0.18202239344023416, 0.16059726743056113, 1.1057560827815023, 0.6937183718079736, -0.5677501005004965, -1.2698249297322135, -1.0453653572627788, -0.2752238152112225, 0.599149966850073, -0.10561929569785838, -2.32948808935334, -0.050014189480767406, 0.5655517884300509, -0.9969010042440927, -0.10789467569861652, 0.9908004400651876, 0.27996149758972316, 0.6087930041886269, 0.3059871053475049, -0.11908947801875125, -0.3949278062220429, -0.2741828162559288, 0.9870603445699812, 1.3084442673116796, -1.020498757223305, -0.31116977960648384, 0.18320880737188247, 0.10460168508566524, -0.03289927612032592, -0.4656571886386562, -0.20620493018946937, -0.4281868686071399, -2.6689938986132096, 0.45514349875098414, -0.6212463640702294, 0.5831841894589714, 0.5852205496425055, 2.400692030967597, -0.26899485888276087, -1.3791119906082248, -1.248760478694921, 1.4324887785340203, 1.360037936169888, 1.2782070543556088, -2.161249593821316, 0.4927835835384399, -0.2263644306862405, -0.9782219874032975, -1.129215959881081, 0.17972587891994685, -1.000132199370155, 0.23374535434834273, 0.8509302256371687, -0.10736088207705284, 1.5780294409456168, 1.1308703007729861, 1.4765035524976244, 1.4678872406042236, -1.6362286502889818, -2.1958433206809205, -1.2822335424956295, 1.151059728054402, 0.14265182618845473, -1.9177578724728785, 2.7110333194037977, -0.39421858021715067, -0.8085310155004868, 1.1830853738087017, 0.09056524618334044, 0.44209458750295416, 1.1098381602092515, -0.8289891861411594, 0.4471927666338585, -0.5037325719218807, 1.4289074057151878, 0.10728670395645366, 0.12013752595177965, -1.4060180329486949, -0.8349815548330584, 0.7184318948486428, 2.171625814531254, -1.383440398083464, 0.3667674241799676, -0.8414027681288679, -0.4585500807325058, -0.8345082027874404, -1.4035370739640114, 1.1672954028055194, -0.8219949236976485, -0.05552025086368601, 0.8620171483231306, 0.6003316543488698, -0.4348256141123288, -0.04170140419105686], \"xaxis\": \"x11\", \"yaxis\": \"y11\"}, {\"line\": {\"color\": \"rgba(128, 128, 128, 1.0)\", \"dash\": \"solid\", \"shape\": \"linear\", \"width\": 1.3}, \"marker\": {\"size\": 2, \"symbol\": \"circle\"}, \"mode\": \"markers\", \"name\": \"C\", \"text\": \"\", \"type\": \"scatter\", \"x\": [-0.9099823299189153, -1.4850533931447016, 1.505972905283029, -1.0880214183536931, 0.7683199313566231, -1.2072230866641296, 0.029570986567331512, 0.2032874010386068, -0.6503073995045521, -0.8280119944150713, 0.25744382167433455, -0.41026963896684815, -0.14004432172252537, -0.09969290473759498, -0.4331452987016869, -1.8199085850062915, -0.26101317822779735, 0.5263044795278107, 0.21429498108040837, -1.4182252587011008, -1.4847027180828372, -1.9371877336072865, -0.8692799923789267, 1.4273277305169767, 1.7080184023236045, 0.2684382224460977, 0.054860024434420854, 0.5181175691504669, 0.3948938804432635, 0.4752005589404257, 0.30054174347583273, 0.08342157512666086, -1.036498513774222, 0.7258880000017822, 1.7200116623596435, -0.3256333025382036, 0.8107199545274077, 0.18273157414119798, 0.6819973447689638, 0.8382263610424948, -0.002235620447868982, 1.4329464647663768, -1.3355958068306728, -1.420488522801301, -0.14703708334707635, 0.4184993051045839, 0.6788320890725258, -1.7529060799565086, -0.01085125988732143, -1.5694845302600313, 0.831665304542008, 3.2029322343206075, -0.5526852403337608, 0.9282607279481148, -1.258672148574228, 0.22699679500288145, 1.6277667244834413, 0.2712547867281198, -0.8909417572249967, -0.47194127085596976, 0.015102007372569747, 0.869859178827262, 0.12252600711332595, -0.4761431223243524, 0.9487193062297217, 0.9668343955984309, 0.7710991139741503, -2.881594522257074, -0.6593641625209062, -0.6873525421360881, 1.0431420542130063, -0.454982022242669, -0.30597432623563203, -1.191466660876326, 0.34973970267450755, -0.6278767309568892, -0.3311313340023319, 0.48981759985300954, -0.678273842961238, -2.9714777192328006, 1.4880933302574844, -0.27050269557177264, -0.5659842576075041, 0.43119297026014386, -0.0156238294691469, -0.6896490196013013, -0.870757654801849, -0.9627572594252957, -0.07879545237154305, -1.8342635143451822, 1.360327185505662, -0.33154590625197267, -0.004649553679814088, 1.5753032430101714, 0.7550385256790704, 0.2979539216882113, 0.19867657095796756, -0.8953987160561826, 0.4964043108307362, 2.105453789711414], \"xaxis\": \"x12\", \"y\": [0.6595021923181175, -0.5783070347707022, -0.6167450929244684, 0.6785052337884592, -0.0537021258004026, 0.6844909416086591, -0.18202239344023416, 0.16059726743056113, 1.1057560827815023, 0.6937183718079736, -0.5677501005004965, -1.2698249297322135, -1.0453653572627788, -0.2752238152112225, 0.599149966850073, -0.10561929569785838, -2.32948808935334, -0.050014189480767406, 0.5655517884300509, -0.9969010042440927, -0.10789467569861652, 0.9908004400651876, 0.27996149758972316, 0.6087930041886269, 0.3059871053475049, -0.11908947801875125, -0.3949278062220429, -0.2741828162559288, 0.9870603445699812, 1.3084442673116796, -1.020498757223305, -0.31116977960648384, 0.18320880737188247, 0.10460168508566524, -0.03289927612032592, -0.4656571886386562, -0.20620493018946937, -0.4281868686071399, -2.6689938986132096, 0.45514349875098414, -0.6212463640702294, 0.5831841894589714, 0.5852205496425055, 2.400692030967597, -0.26899485888276087, -1.3791119906082248, -1.248760478694921, 1.4324887785340203, 1.360037936169888, 1.2782070543556088, -2.161249593821316, 0.4927835835384399, -0.2263644306862405, -0.9782219874032975, -1.129215959881081, 0.17972587891994685, -1.000132199370155, 0.23374535434834273, 0.8509302256371687, -0.10736088207705284, 1.5780294409456168, 1.1308703007729861, 1.4765035524976244, 1.4678872406042236, -1.6362286502889818, -2.1958433206809205, -1.2822335424956295, 1.151059728054402, 0.14265182618845473, -1.9177578724728785, 2.7110333194037977, -0.39421858021715067, -0.8085310155004868, 1.1830853738087017, 0.09056524618334044, 0.44209458750295416, 1.1098381602092515, -0.8289891861411594, 0.4471927666338585, -0.5037325719218807, 1.4289074057151878, 0.10728670395645366, 0.12013752595177965, -1.4060180329486949, -0.8349815548330584, 0.7184318948486428, 2.171625814531254, -1.383440398083464, 0.3667674241799676, -0.8414027681288679, -0.4585500807325058, -0.8345082027874404, -1.4035370739640114, 1.1672954028055194, -0.8219949236976485, -0.05552025086368601, 0.8620171483231306, 0.6003316543488698, -0.4348256141123288, -0.04170140419105686], \"yaxis\": \"y12\"}, {\"line\": {\"color\": \"rgba(128, 128, 128, 1.0)\", \"dash\": \"solid\", \"shape\": \"linear\", \"width\": 1.3}, \"marker\": {\"size\": 2, \"symbol\": \"circle\"}, \"mode\": \"markers\", \"name\": \"D\", \"text\": \"\", \"type\": \"scatter\", \"x\": [0.14612668346810087, -0.5150643958091404, 0.993048156143555, 1.5527565611998224, 1.102283947004991, -2.4771102825000293, 0.48535271977394, -5.997120287646958e-05, 0.2728979161787896, 0.14241623947301038, -1.7220839857720651, 0.30479168294651615, 0.1707684250962974, 0.6284887755043934, -0.7850037217749689, -1.1402548447102723, -1.212921005329053, 1.6666125120797235, -0.09525429818572638, 0.9108399395049533, -0.6702079843333787, -1.8669920709525916, 1.6318644734155594, 1.4480641743665572, -0.20584286234038407, -0.9651543766878872, 0.054311253909850594, -0.8525930402703691, -1.0848566097036196, 0.22715446781637538, 0.3832666550905886, 0.21245695028944037, -0.0031198053900515408, 0.8915668414548645, -0.9312260659908879, -0.6972621137761454, -0.9925852130986549, 0.010933605125837584, -2.577121073522515, -0.5332388082426226, 1.398496525872, -0.8155572221629612, -0.9005129185664054, -0.6955619676939033, 0.24028614247159708, -0.14105753079894373, -0.6162582023375035, 0.7117930742373001, -1.0493646331333701, 0.7263194289302121, -0.9236975218766958, 0.8101185177578193, 1.2922900513898754, 1.99699676194669, -0.6266941891218982, -0.6196112352306313, 1.4954683268115523, -2.9005331410172115, -0.6144254979438556, 0.3615184842676474, 0.13442250363981223, 0.22447929683610798, -0.011270422105252743, -0.14111226614689665, -0.5318804901994556, 0.6493074858815254, -0.2738880128999982, 0.9555595386204824, 0.7301709692563028, -1.4019249307583348, -0.0068608240191281806, -0.471556716044861, -0.1636207573841797, -0.9752489923344956, 0.669055675451341, -0.9661397959251155, -1.5034110492253536, -0.3084302353121149, -1.4552573990374573, -0.37808603369362415, -0.5446990641153069, -1.0328897660107783, -0.8372577968906745, -0.7355106232037772, -1.3968647200753481, 0.11921688487375993, 0.23800858493954524, -0.29667185768549426, 0.045883212163534935, 0.5890039282286894, -1.515246249470787, -0.1037424743255574, 0.07342647048913974, -0.3282544929060498, -0.24513863167968586, -1.3103895947774227, -0.60110734404662, -0.5850987673040257, 1.176709146660171, -0.02325427275882479], \"xaxis\": \"x13\", \"y\": [-0.9099823299189153, -1.4850533931447016, 1.505972905283029, -1.0880214183536931, 0.7683199313566231, -1.2072230866641296, 0.029570986567331512, 0.2032874010386068, -0.6503073995045521, -0.8280119944150713, 0.25744382167433455, -0.41026963896684815, -0.14004432172252537, -0.09969290473759498, -0.4331452987016869, -1.8199085850062915, -0.26101317822779735, 0.5263044795278107, 0.21429498108040837, -1.4182252587011008, -1.4847027180828372, -1.9371877336072865, -0.8692799923789267, 1.4273277305169767, 1.7080184023236045, 0.2684382224460977, 0.054860024434420854, 0.5181175691504669, 0.3948938804432635, 0.4752005589404257, 0.30054174347583273, 0.08342157512666086, -1.036498513774222, 0.7258880000017822, 1.7200116623596435, -0.3256333025382036, 0.8107199545274077, 0.18273157414119798, 0.6819973447689638, 0.8382263610424948, -0.002235620447868982, 1.4329464647663768, -1.3355958068306728, -1.420488522801301, -0.14703708334707635, 0.4184993051045839, 0.6788320890725258, -1.7529060799565086, -0.01085125988732143, -1.5694845302600313, 0.831665304542008, 3.2029322343206075, -0.5526852403337608, 0.9282607279481148, -1.258672148574228, 0.22699679500288145, 1.6277667244834413, 0.2712547867281198, -0.8909417572249967, -0.47194127085596976, 0.015102007372569747, 0.869859178827262, 0.12252600711332595, -0.4761431223243524, 0.9487193062297217, 0.9668343955984309, 0.7710991139741503, -2.881594522257074, -0.6593641625209062, -0.6873525421360881, 1.0431420542130063, -0.454982022242669, -0.30597432623563203, -1.191466660876326, 0.34973970267450755, -0.6278767309568892, -0.3311313340023319, 0.48981759985300954, -0.678273842961238, -2.9714777192328006, 1.4880933302574844, -0.27050269557177264, -0.5659842576075041, 0.43119297026014386, -0.0156238294691469, -0.6896490196013013, -0.870757654801849, -0.9627572594252957, -0.07879545237154305, -1.8342635143451822, 1.360327185505662, -0.33154590625197267, -0.004649553679814088, 1.5753032430101714, 0.7550385256790704, 0.2979539216882113, 0.19867657095796756, -0.8953987160561826, 0.4964043108307362, 2.105453789711414], \"yaxis\": \"y13\"}, {\"line\": {\"color\": \"rgba(128, 128, 128, 1.0)\", \"dash\": \"solid\", \"shape\": \"linear\", \"width\": 1.3}, \"marker\": {\"size\": 2, \"symbol\": \"circle\"}, \"mode\": \"markers\", \"name\": \"D\", \"text\": \"\", \"type\": \"scatter\", \"x\": [-2.0656920513651267, -1.7381898395197724, 0.5749599646022417, -0.20398456935783446, -0.4464639680231975, 0.004383762977137288, 1.9272186733110637, -0.22658980720241415, 0.21319561532434866, 1.5343976664498042, -1.7943920159076656, -0.31464543291905195, -0.8012811797214887, 1.4806559714007235, -0.4525548517573186, 0.8822175236625406, -0.6555046997736079, 0.5534536525657692, 2.5421760186772, -1.6020691181124989, -1.30636280422524, -1.6922777152443158, -0.43175033360126613, 1.3397945250406764, 1.624479377795292, 0.3372467612579277, -0.7424600919093032, 1.3006818267114464, 1.4148160695972485, 0.6663625542733729, 0.5732067675544568, 0.3051087364651881, -1.4396219914247679, -0.7734455403957947, -0.02599984732944654, -1.0276684058819194, 0.22756933882402786, 0.7164414805356631, -0.010551172850629087, 0.7465062931883728, -0.15654287357337096, 1.285174065039588, -0.20984792674432232, 0.3483310438811358, -0.10533457004704003, -1.3834922346350678, 1.0968266309403547, -0.25116973554735844, -0.6065382611435444, -1.0337927095418653, -0.21471649762200568, -0.6424738047013894, 2.1808737180863007, -0.367996144391834, 0.9167509740226216, -0.827535652526785, -0.8818030769631394, -0.9906853057636372, -0.8822721779505264, 2.0782433585144706, 2.0282557218946855, -0.8954929220192098, 1.7866615436252993, -0.08049020901035116, -0.45378394604250133, 0.5459523374270943, 1.7197030126869044, 0.3824670655552625, -0.957018082500895, -0.522255715100206, 0.5221185782393967, -0.37485757127874875, -0.5566617662959691, -0.8123709478860014, 0.29366965851694743, -0.0850413846996384, -0.04473175295591152, -0.37788189763614555, -0.6566266748681084, 1.3646960859938941, -0.18554222363097056, 1.2608857606412667, -0.5525218583285384, 0.7235470324663364, 1.5772106695463057, -1.1557689600287397, -0.5223993511642664, -0.6891779022249445, -1.1183442365618064, 0.0995055407471527, 0.2915282805930497, 0.38447901373397075, 0.24560328724944816, 0.21860553849762943, 1.1690011631045691, 0.4694483908290291, 1.2466428891069556, 0.5636822430556009, -0.5317643553625623, -1.7177776755893035], \"xaxis\": \"x14\", \"y\": [-0.9099823299189153, -1.4850533931447016, 1.505972905283029, -1.0880214183536931, 0.7683199313566231, -1.2072230866641296, 0.029570986567331512, 0.2032874010386068, -0.6503073995045521, -0.8280119944150713, 0.25744382167433455, -0.41026963896684815, -0.14004432172252537, -0.09969290473759498, -0.4331452987016869, -1.8199085850062915, -0.26101317822779735, 0.5263044795278107, 0.21429498108040837, -1.4182252587011008, -1.4847027180828372, -1.9371877336072865, -0.8692799923789267, 1.4273277305169767, 1.7080184023236045, 0.2684382224460977, 0.054860024434420854, 0.5181175691504669, 0.3948938804432635, 0.4752005589404257, 0.30054174347583273, 0.08342157512666086, -1.036498513774222, 0.7258880000017822, 1.7200116623596435, -0.3256333025382036, 0.8107199545274077, 0.18273157414119798, 0.6819973447689638, 0.8382263610424948, -0.002235620447868982, 1.4329464647663768, -1.3355958068306728, -1.420488522801301, -0.14703708334707635, 0.4184993051045839, 0.6788320890725258, -1.7529060799565086, -0.01085125988732143, -1.5694845302600313, 0.831665304542008, 3.2029322343206075, -0.5526852403337608, 0.9282607279481148, -1.258672148574228, 0.22699679500288145, 1.6277667244834413, 0.2712547867281198, -0.8909417572249967, -0.47194127085596976, 0.015102007372569747, 0.869859178827262, 0.12252600711332595, -0.4761431223243524, 0.9487193062297217, 0.9668343955984309, 0.7710991139741503, -2.881594522257074, -0.6593641625209062, -0.6873525421360881, 1.0431420542130063, -0.454982022242669, -0.30597432623563203, -1.191466660876326, 0.34973970267450755, -0.6278767309568892, -0.3311313340023319, 0.48981759985300954, -0.678273842961238, -2.9714777192328006, 1.4880933302574844, -0.27050269557177264, -0.5659842576075041, 0.43119297026014386, -0.0156238294691469, -0.6896490196013013, -0.870757654801849, -0.9627572594252957, -0.07879545237154305, -1.8342635143451822, 1.360327185505662, -0.33154590625197267, -0.004649553679814088, 1.5753032430101714, 0.7550385256790704, 0.2979539216882113, 0.19867657095796756, -0.8953987160561826, 0.4964043108307362, 2.105453789711414], \"yaxis\": \"y14\"}, {\"line\": {\"color\": \"rgba(128, 128, 128, 1.0)\", \"dash\": \"solid\", \"shape\": \"linear\", \"width\": 1.3}, \"marker\": {\"size\": 2, \"symbol\": \"circle\"}, \"mode\": \"markers\", \"name\": \"D\", \"text\": \"\", \"type\": \"scatter\", \"x\": [0.6595021923181175, -0.5783070347707022, -0.6167450929244684, 0.6785052337884592, -0.0537021258004026, 0.6844909416086591, -0.18202239344023416, 0.16059726743056113, 1.1057560827815023, 0.6937183718079736, -0.5677501005004965, -1.2698249297322135, -1.0453653572627788, -0.2752238152112225, 0.599149966850073, -0.10561929569785838, -2.32948808935334, -0.050014189480767406, 0.5655517884300509, -0.9969010042440927, -0.10789467569861652, 0.9908004400651876, 0.27996149758972316, 0.6087930041886269, 0.3059871053475049, -0.11908947801875125, -0.3949278062220429, -0.2741828162559288, 0.9870603445699812, 1.3084442673116796, -1.020498757223305, -0.31116977960648384, 0.18320880737188247, 0.10460168508566524, -0.03289927612032592, -0.4656571886386562, -0.20620493018946937, -0.4281868686071399, -2.6689938986132096, 0.45514349875098414, -0.6212463640702294, 0.5831841894589714, 0.5852205496425055, 2.400692030967597, -0.26899485888276087, -1.3791119906082248, -1.248760478694921, 1.4324887785340203, 1.360037936169888, 1.2782070543556088, -2.161249593821316, 0.4927835835384399, -0.2263644306862405, -0.9782219874032975, -1.129215959881081, 0.17972587891994685, -1.000132199370155, 0.23374535434834273, 0.8509302256371687, -0.10736088207705284, 1.5780294409456168, 1.1308703007729861, 1.4765035524976244, 1.4678872406042236, -1.6362286502889818, -2.1958433206809205, -1.2822335424956295, 1.151059728054402, 0.14265182618845473, -1.9177578724728785, 2.7110333194037977, -0.39421858021715067, -0.8085310155004868, 1.1830853738087017, 0.09056524618334044, 0.44209458750295416, 1.1098381602092515, -0.8289891861411594, 0.4471927666338585, -0.5037325719218807, 1.4289074057151878, 0.10728670395645366, 0.12013752595177965, -1.4060180329486949, -0.8349815548330584, 0.7184318948486428, 2.171625814531254, -1.383440398083464, 0.3667674241799676, -0.8414027681288679, -0.4585500807325058, -0.8345082027874404, -1.4035370739640114, 1.1672954028055194, -0.8219949236976485, -0.05552025086368601, 0.8620171483231306, 0.6003316543488698, -0.4348256141123288, -0.04170140419105686], \"xaxis\": \"x15\", \"y\": [-0.9099823299189153, -1.4850533931447016, 1.505972905283029, -1.0880214183536931, 0.7683199313566231, -1.2072230866641296, 0.029570986567331512, 0.2032874010386068, -0.6503073995045521, -0.8280119944150713, 0.25744382167433455, -0.41026963896684815, -0.14004432172252537, -0.09969290473759498, -0.4331452987016869, -1.8199085850062915, -0.26101317822779735, 0.5263044795278107, 0.21429498108040837, -1.4182252587011008, -1.4847027180828372, -1.9371877336072865, -0.8692799923789267, 1.4273277305169767, 1.7080184023236045, 0.2684382224460977, 0.054860024434420854, 0.5181175691504669, 0.3948938804432635, 0.4752005589404257, 0.30054174347583273, 0.08342157512666086, -1.036498513774222, 0.7258880000017822, 1.7200116623596435, -0.3256333025382036, 0.8107199545274077, 0.18273157414119798, 0.6819973447689638, 0.8382263610424948, -0.002235620447868982, 1.4329464647663768, -1.3355958068306728, -1.420488522801301, -0.14703708334707635, 0.4184993051045839, 0.6788320890725258, -1.7529060799565086, -0.01085125988732143, -1.5694845302600313, 0.831665304542008, 3.2029322343206075, -0.5526852403337608, 0.9282607279481148, -1.258672148574228, 0.22699679500288145, 1.6277667244834413, 0.2712547867281198, -0.8909417572249967, -0.47194127085596976, 0.015102007372569747, 0.869859178827262, 0.12252600711332595, -0.4761431223243524, 0.9487193062297217, 0.9668343955984309, 0.7710991139741503, -2.881594522257074, -0.6593641625209062, -0.6873525421360881, 1.0431420542130063, -0.454982022242669, -0.30597432623563203, -1.191466660876326, 0.34973970267450755, -0.6278767309568892, -0.3311313340023319, 0.48981759985300954, -0.678273842961238, -2.9714777192328006, 1.4880933302574844, -0.27050269557177264, -0.5659842576075041, 0.43119297026014386, -0.0156238294691469, -0.6896490196013013, -0.870757654801849, -0.9627572594252957, -0.07879545237154305, -1.8342635143451822, 1.360327185505662, -0.33154590625197267, -0.004649553679814088, 1.5753032430101714, 0.7550385256790704, 0.2979539216882113, 0.19867657095796756, -0.8953987160561826, 0.4964043108307362, 2.105453789711414], \"yaxis\": \"y15\"}, {\"histfunc\": \"count\", \"histnorm\": \"\", \"marker\": {\"color\": \"rgba(128, 0, 128, 1.0)\", \"line\": {\"color\": \"#4D5663\", \"width\": 1.3}}, \"name\": \"D\", \"nbinsx\": 10, \"opacity\": 0.8, \"orientation\": \"v\", \"type\": \"histogram\", \"x\": [-0.9099823299189153, -1.4850533931447016, 1.505972905283029, -1.0880214183536931, 0.7683199313566231, -1.2072230866641296, 0.029570986567331512, 0.2032874010386068, -0.6503073995045521, -0.8280119944150713, 0.25744382167433455, -0.41026963896684815, -0.14004432172252537, -0.09969290473759498, -0.4331452987016869, -1.8199085850062915, -0.26101317822779735, 0.5263044795278107, 0.21429498108040837, -1.4182252587011008, -1.4847027180828372, -1.9371877336072865, -0.8692799923789267, 1.4273277305169767, 1.7080184023236045, 0.2684382224460977, 0.054860024434420854, 0.5181175691504669, 0.3948938804432635, 0.4752005589404257, 0.30054174347583273, 0.08342157512666086, -1.036498513774222, 0.7258880000017822, 1.7200116623596435, -0.3256333025382036, 0.8107199545274077, 0.18273157414119798, 0.6819973447689638, 0.8382263610424948, -0.002235620447868982, 1.4329464647663768, -1.3355958068306728, -1.420488522801301, -0.14703708334707635, 0.4184993051045839, 0.6788320890725258, -1.7529060799565086, -0.01085125988732143, -1.5694845302600313, 0.831665304542008, 3.2029322343206075, -0.5526852403337608, 0.9282607279481148, -1.258672148574228, 0.22699679500288145, 1.6277667244834413, 0.2712547867281198, -0.8909417572249967, -0.47194127085596976, 0.015102007372569747, 0.869859178827262, 0.12252600711332595, -0.4761431223243524, 0.9487193062297217, 0.9668343955984309, 0.7710991139741503, -2.881594522257074, -0.6593641625209062, -0.6873525421360881, 1.0431420542130063, -0.454982022242669, -0.30597432623563203, -1.191466660876326, 0.34973970267450755, -0.6278767309568892, -0.3311313340023319, 0.48981759985300954, -0.678273842961238, -2.9714777192328006, 1.4880933302574844, -0.27050269557177264, -0.5659842576075041, 0.43119297026014386, -0.0156238294691469, -0.6896490196013013, -0.870757654801849, -0.9627572594252957, -0.07879545237154305, -1.8342635143451822, 1.360327185505662, -0.33154590625197267, -0.004649553679814088, 1.5753032430101714, 0.7550385256790704, 0.2979539216882113, 0.19867657095796756, -0.8953987160561826, 0.4964043108307362, 2.105453789711414], \"xaxis\": \"x16\", \"yaxis\": \"y16\"}],\n",
       "                        {\"bargap\": 0.02, \"legend\": {\"bgcolor\": \"#F5F6F9\", \"font\": {\"color\": \"#4D5663\"}}, \"paper_bgcolor\": \"#F5F6F9\", \"plot_bgcolor\": \"#F5F6F9\", \"showlegend\": false, \"template\": {\"data\": {\"bar\": [{\"error_x\": {\"color\": \"#2a3f5f\"}, \"error_y\": {\"color\": \"#2a3f5f\"}, \"marker\": {\"line\": {\"color\": \"#E5ECF6\", \"width\": 0.5}}, \"type\": \"bar\"}], \"barpolar\": [{\"marker\": {\"line\": {\"color\": \"#E5ECF6\", \"width\": 0.5}}, \"type\": \"barpolar\"}], \"carpet\": [{\"aaxis\": {\"endlinecolor\": \"#2a3f5f\", \"gridcolor\": \"white\", \"linecolor\": \"white\", \"minorgridcolor\": \"white\", \"startlinecolor\": \"#2a3f5f\"}, \"baxis\": {\"endlinecolor\": \"#2a3f5f\", \"gridcolor\": \"white\", \"linecolor\": \"white\", \"minorgridcolor\": \"white\", \"startlinecolor\": \"#2a3f5f\"}, \"type\": \"carpet\"}], \"choropleth\": [{\"colorbar\": {\"outlinewidth\": 0, \"ticks\": \"\"}, \"type\": \"choropleth\"}], \"contour\": [{\"colorbar\": {\"outlinewidth\": 0, \"ticks\": \"\"}, \"colorscale\": [[0.0, \"#0d0887\"], [0.1111111111111111, \"#46039f\"], [0.2222222222222222, \"#7201a8\"], [0.3333333333333333, \"#9c179e\"], [0.4444444444444444, \"#bd3786\"], [0.5555555555555556, \"#d8576b\"], [0.6666666666666666, \"#ed7953\"], [0.7777777777777778, \"#fb9f3a\"], [0.8888888888888888, \"#fdca26\"], [1.0, \"#f0f921\"]], \"type\": \"contour\"}], \"contourcarpet\": [{\"colorbar\": {\"outlinewidth\": 0, \"ticks\": \"\"}, \"type\": \"contourcarpet\"}], \"heatmap\": [{\"colorbar\": {\"outlinewidth\": 0, \"ticks\": \"\"}, \"colorscale\": [[0.0, \"#0d0887\"], [0.1111111111111111, \"#46039f\"], [0.2222222222222222, \"#7201a8\"], [0.3333333333333333, \"#9c179e\"], [0.4444444444444444, \"#bd3786\"], [0.5555555555555556, \"#d8576b\"], [0.6666666666666666, \"#ed7953\"], [0.7777777777777778, \"#fb9f3a\"], [0.8888888888888888, \"#fdca26\"], [1.0, \"#f0f921\"]], \"type\": \"heatmap\"}], \"heatmapgl\": [{\"colorbar\": {\"outlinewidth\": 0, \"ticks\": \"\"}, \"colorscale\": [[0.0, \"#0d0887\"], [0.1111111111111111, \"#46039f\"], [0.2222222222222222, \"#7201a8\"], [0.3333333333333333, \"#9c179e\"], [0.4444444444444444, \"#bd3786\"], [0.5555555555555556, \"#d8576b\"], [0.6666666666666666, \"#ed7953\"], [0.7777777777777778, \"#fb9f3a\"], [0.8888888888888888, \"#fdca26\"], [1.0, \"#f0f921\"]], \"type\": \"heatmapgl\"}], \"histogram\": [{\"marker\": {\"colorbar\": {\"outlinewidth\": 0, \"ticks\": \"\"}}, \"type\": \"histogram\"}], \"histogram2d\": [{\"colorbar\": {\"outlinewidth\": 0, \"ticks\": \"\"}, \"colorscale\": [[0.0, \"#0d0887\"], [0.1111111111111111, \"#46039f\"], [0.2222222222222222, \"#7201a8\"], [0.3333333333333333, \"#9c179e\"], [0.4444444444444444, \"#bd3786\"], [0.5555555555555556, \"#d8576b\"], [0.6666666666666666, \"#ed7953\"], [0.7777777777777778, \"#fb9f3a\"], [0.8888888888888888, \"#fdca26\"], [1.0, \"#f0f921\"]], \"type\": \"histogram2d\"}], \"histogram2dcontour\": [{\"colorbar\": {\"outlinewidth\": 0, \"ticks\": \"\"}, \"colorscale\": [[0.0, \"#0d0887\"], [0.1111111111111111, \"#46039f\"], [0.2222222222222222, \"#7201a8\"], [0.3333333333333333, \"#9c179e\"], [0.4444444444444444, \"#bd3786\"], [0.5555555555555556, \"#d8576b\"], [0.6666666666666666, \"#ed7953\"], [0.7777777777777778, \"#fb9f3a\"], [0.8888888888888888, \"#fdca26\"], [1.0, \"#f0f921\"]], \"type\": \"histogram2dcontour\"}], \"mesh3d\": [{\"colorbar\": {\"outlinewidth\": 0, \"ticks\": \"\"}, \"type\": \"mesh3d\"}], \"parcoords\": [{\"line\": {\"colorbar\": {\"outlinewidth\": 0, \"ticks\": \"\"}}, \"type\": \"parcoords\"}], \"pie\": [{\"automargin\": true, \"type\": \"pie\"}], \"scatter\": [{\"marker\": {\"colorbar\": {\"outlinewidth\": 0, \"ticks\": \"\"}}, \"type\": \"scatter\"}], \"scatter3d\": [{\"line\": {\"colorbar\": {\"outlinewidth\": 0, \"ticks\": \"\"}}, \"marker\": {\"colorbar\": {\"outlinewidth\": 0, \"ticks\": \"\"}}, \"type\": \"scatter3d\"}], \"scattercarpet\": [{\"marker\": {\"colorbar\": {\"outlinewidth\": 0, \"ticks\": \"\"}}, \"type\": \"scattercarpet\"}], \"scattergeo\": [{\"marker\": {\"colorbar\": {\"outlinewidth\": 0, \"ticks\": \"\"}}, \"type\": \"scattergeo\"}], \"scattergl\": [{\"marker\": {\"colorbar\": {\"outlinewidth\": 0, \"ticks\": \"\"}}, \"type\": \"scattergl\"}], \"scattermapbox\": [{\"marker\": {\"colorbar\": {\"outlinewidth\": 0, \"ticks\": \"\"}}, \"type\": \"scattermapbox\"}], \"scatterpolar\": [{\"marker\": {\"colorbar\": {\"outlinewidth\": 0, \"ticks\": \"\"}}, \"type\": \"scatterpolar\"}], \"scatterpolargl\": [{\"marker\": {\"colorbar\": {\"outlinewidth\": 0, \"ticks\": \"\"}}, \"type\": \"scatterpolargl\"}], \"scatterternary\": [{\"marker\": {\"colorbar\": {\"outlinewidth\": 0, \"ticks\": \"\"}}, \"type\": \"scatterternary\"}], \"surface\": [{\"colorbar\": {\"outlinewidth\": 0, \"ticks\": \"\"}, \"colorscale\": [[0.0, \"#0d0887\"], [0.1111111111111111, \"#46039f\"], [0.2222222222222222, \"#7201a8\"], [0.3333333333333333, \"#9c179e\"], [0.4444444444444444, \"#bd3786\"], [0.5555555555555556, \"#d8576b\"], [0.6666666666666666, \"#ed7953\"], [0.7777777777777778, \"#fb9f3a\"], [0.8888888888888888, \"#fdca26\"], [1.0, \"#f0f921\"]], \"type\": \"surface\"}], \"table\": [{\"cells\": {\"fill\": {\"color\": \"#EBF0F8\"}, \"line\": {\"color\": \"white\"}}, \"header\": {\"fill\": {\"color\": \"#C8D4E3\"}, \"line\": {\"color\": \"white\"}}, \"type\": \"table\"}]}, \"layout\": {\"annotationdefaults\": {\"arrowcolor\": \"#2a3f5f\", \"arrowhead\": 0, \"arrowwidth\": 1}, \"coloraxis\": {\"colorbar\": {\"outlinewidth\": 0, \"ticks\": \"\"}}, \"colorscale\": {\"diverging\": [[0, \"#8e0152\"], [0.1, \"#c51b7d\"], [0.2, \"#de77ae\"], [0.3, \"#f1b6da\"], [0.4, \"#fde0ef\"], [0.5, \"#f7f7f7\"], [0.6, \"#e6f5d0\"], [0.7, \"#b8e186\"], [0.8, \"#7fbc41\"], [0.9, \"#4d9221\"], [1, \"#276419\"]], \"sequential\": [[0.0, \"#0d0887\"], [0.1111111111111111, \"#46039f\"], [0.2222222222222222, \"#7201a8\"], [0.3333333333333333, \"#9c179e\"], [0.4444444444444444, \"#bd3786\"], [0.5555555555555556, \"#d8576b\"], [0.6666666666666666, \"#ed7953\"], [0.7777777777777778, \"#fb9f3a\"], [0.8888888888888888, \"#fdca26\"], [1.0, \"#f0f921\"]], \"sequentialminus\": [[0.0, \"#0d0887\"], [0.1111111111111111, \"#46039f\"], [0.2222222222222222, \"#7201a8\"], [0.3333333333333333, \"#9c179e\"], [0.4444444444444444, \"#bd3786\"], [0.5555555555555556, \"#d8576b\"], [0.6666666666666666, \"#ed7953\"], [0.7777777777777778, \"#fb9f3a\"], [0.8888888888888888, \"#fdca26\"], [1.0, \"#f0f921\"]]}, \"colorway\": [\"#636efa\", \"#EF553B\", \"#00cc96\", \"#ab63fa\", \"#FFA15A\", \"#19d3f3\", \"#FF6692\", \"#B6E880\", \"#FF97FF\", \"#FECB52\"], \"font\": {\"color\": \"#2a3f5f\"}, \"geo\": {\"bgcolor\": \"white\", \"lakecolor\": \"white\", \"landcolor\": \"#E5ECF6\", \"showlakes\": true, \"showland\": true, \"subunitcolor\": \"white\"}, \"hoverlabel\": {\"align\": \"left\"}, \"hovermode\": \"closest\", \"mapbox\": {\"style\": \"light\"}, \"paper_bgcolor\": \"white\", \"plot_bgcolor\": \"#E5ECF6\", \"polar\": {\"angularaxis\": {\"gridcolor\": \"white\", \"linecolor\": \"white\", \"ticks\": \"\"}, \"bgcolor\": \"#E5ECF6\", \"radialaxis\": {\"gridcolor\": \"white\", \"linecolor\": \"white\", \"ticks\": \"\"}}, \"scene\": {\"xaxis\": {\"backgroundcolor\": \"#E5ECF6\", \"gridcolor\": \"white\", \"gridwidth\": 2, \"linecolor\": \"white\", \"showbackground\": true, \"ticks\": \"\", \"zerolinecolor\": \"white\"}, \"yaxis\": {\"backgroundcolor\": \"#E5ECF6\", \"gridcolor\": \"white\", \"gridwidth\": 2, \"linecolor\": \"white\", \"showbackground\": true, \"ticks\": \"\", \"zerolinecolor\": \"white\"}, \"zaxis\": {\"backgroundcolor\": \"#E5ECF6\", \"gridcolor\": \"white\", \"gridwidth\": 2, \"linecolor\": \"white\", \"showbackground\": true, \"ticks\": \"\", \"zerolinecolor\": \"white\"}}, \"shapedefaults\": {\"line\": {\"color\": \"#2a3f5f\"}}, \"ternary\": {\"aaxis\": {\"gridcolor\": \"white\", \"linecolor\": \"white\", \"ticks\": \"\"}, \"baxis\": {\"gridcolor\": \"white\", \"linecolor\": \"white\", \"ticks\": \"\"}, \"bgcolor\": \"#E5ECF6\", \"caxis\": {\"gridcolor\": \"white\", \"linecolor\": \"white\", \"ticks\": \"\"}}, \"title\": {\"x\": 0.05}, \"xaxis\": {\"automargin\": true, \"gridcolor\": \"white\", \"linecolor\": \"white\", \"ticks\": \"\", \"title\": {\"standoff\": 15}, \"zerolinecolor\": \"white\", \"zerolinewidth\": 2}, \"yaxis\": {\"automargin\": true, \"gridcolor\": \"white\", \"linecolor\": \"white\", \"ticks\": \"\", \"title\": {\"standoff\": 15}, \"zerolinecolor\": \"white\", \"zerolinewidth\": 2}}}, \"title\": {\"font\": {\"color\": \"#4D5663\"}}, \"xaxis\": {\"anchor\": \"y\", \"domain\": [0.0, 0.2125], \"gridcolor\": \"#E1E5ED\", \"showgrid\": false, \"tickfont\": {\"color\": \"#4D5663\"}, \"title\": {\"font\": {\"color\": \"#4D5663\"}, \"text\": \"\"}, \"zerolinecolor\": \"#E1E5ED\"}, \"xaxis10\": {\"anchor\": \"y10\", \"domain\": [0.2625, 0.475], \"gridcolor\": \"#E1E5ED\", \"showgrid\": false, \"tickfont\": {\"color\": \"#4D5663\"}, \"title\": {\"font\": {\"color\": \"#4D5663\"}, \"text\": \"\"}, \"zerolinecolor\": \"#E1E5ED\"}, \"xaxis11\": {\"anchor\": \"y11\", \"domain\": [0.525, 0.7375], \"gridcolor\": \"#E1E5ED\", \"showgrid\": false, \"tickfont\": {\"color\": \"#4D5663\"}, \"title\": {\"font\": {\"color\": \"#4D5663\"}, \"text\": \"\"}, \"zerolinecolor\": \"#E1E5ED\"}, \"xaxis12\": {\"anchor\": \"y12\", \"domain\": [0.7875, 1.0], \"gridcolor\": \"#E1E5ED\", \"showgrid\": false, \"tickfont\": {\"color\": \"#4D5663\"}, \"title\": {\"font\": {\"color\": \"#4D5663\"}, \"text\": \"\"}, \"zerolinecolor\": \"#E1E5ED\"}, \"xaxis13\": {\"anchor\": \"y13\", \"domain\": [0.0, 0.2125], \"gridcolor\": \"#E1E5ED\", \"showgrid\": false, \"tickfont\": {\"color\": \"#4D5663\"}, \"title\": {\"font\": {\"color\": \"#4D5663\"}, \"text\": \"\"}, \"zerolinecolor\": \"#E1E5ED\"}, \"xaxis14\": {\"anchor\": \"y14\", \"domain\": [0.2625, 0.475], \"gridcolor\": \"#E1E5ED\", \"showgrid\": false, \"tickfont\": {\"color\": \"#4D5663\"}, \"title\": {\"font\": {\"color\": \"#4D5663\"}, \"text\": \"\"}, \"zerolinecolor\": \"#E1E5ED\"}, \"xaxis15\": {\"anchor\": \"y15\", \"domain\": [0.525, 0.7375], \"gridcolor\": \"#E1E5ED\", \"showgrid\": false, \"tickfont\": {\"color\": \"#4D5663\"}, \"title\": {\"font\": {\"color\": \"#4D5663\"}, \"text\": \"\"}, \"zerolinecolor\": \"#E1E5ED\"}, \"xaxis16\": {\"anchor\": \"y16\", \"domain\": [0.7875, 1.0], \"gridcolor\": \"#E1E5ED\", \"showgrid\": false, \"tickfont\": {\"color\": \"#4D5663\"}, \"title\": {\"font\": {\"color\": \"#4D5663\"}, \"text\": \"\"}, \"zerolinecolor\": \"#E1E5ED\"}, \"xaxis2\": {\"anchor\": \"y2\", \"domain\": [0.2625, 0.475], \"gridcolor\": \"#E1E5ED\", \"showgrid\": false, \"tickfont\": {\"color\": \"#4D5663\"}, \"title\": {\"font\": {\"color\": \"#4D5663\"}, \"text\": \"\"}, \"zerolinecolor\": \"#E1E5ED\"}, \"xaxis3\": {\"anchor\": \"y3\", \"domain\": [0.525, 0.7375], \"gridcolor\": \"#E1E5ED\", \"showgrid\": false, \"tickfont\": {\"color\": \"#4D5663\"}, \"title\": {\"font\": {\"color\": \"#4D5663\"}, \"text\": \"\"}, \"zerolinecolor\": \"#E1E5ED\"}, \"xaxis4\": {\"anchor\": \"y4\", \"domain\": [0.7875, 1.0], \"gridcolor\": \"#E1E5ED\", \"showgrid\": false, \"tickfont\": {\"color\": \"#4D5663\"}, \"title\": {\"font\": {\"color\": \"#4D5663\"}, \"text\": \"\"}, \"zerolinecolor\": \"#E1E5ED\"}, \"xaxis5\": {\"anchor\": \"y5\", \"domain\": [0.0, 0.2125], \"gridcolor\": \"#E1E5ED\", \"showgrid\": false, \"tickfont\": {\"color\": \"#4D5663\"}, \"title\": {\"font\": {\"color\": \"#4D5663\"}, \"text\": \"\"}, \"zerolinecolor\": \"#E1E5ED\"}, \"xaxis6\": {\"anchor\": \"y6\", \"domain\": [0.2625, 0.475], \"gridcolor\": \"#E1E5ED\", \"showgrid\": false, \"tickfont\": {\"color\": \"#4D5663\"}, \"title\": {\"font\": {\"color\": \"#4D5663\"}, \"text\": \"\"}, \"zerolinecolor\": \"#E1E5ED\"}, \"xaxis7\": {\"anchor\": \"y7\", \"domain\": [0.525, 0.7375], \"gridcolor\": \"#E1E5ED\", \"showgrid\": false, \"tickfont\": {\"color\": \"#4D5663\"}, \"title\": {\"font\": {\"color\": \"#4D5663\"}, \"text\": \"\"}, \"zerolinecolor\": \"#E1E5ED\"}, \"xaxis8\": {\"anchor\": \"y8\", \"domain\": [0.7875, 1.0], \"gridcolor\": \"#E1E5ED\", \"showgrid\": false, \"tickfont\": {\"color\": \"#4D5663\"}, \"title\": {\"font\": {\"color\": \"#4D5663\"}, \"text\": \"\"}, \"zerolinecolor\": \"#E1E5ED\"}, \"xaxis9\": {\"anchor\": \"y9\", \"domain\": [0.0, 0.2125], \"gridcolor\": \"#E1E5ED\", \"showgrid\": false, \"tickfont\": {\"color\": \"#4D5663\"}, \"title\": {\"font\": {\"color\": \"#4D5663\"}, \"text\": \"\"}, \"zerolinecolor\": \"#E1E5ED\"}, \"yaxis\": {\"anchor\": \"x\", \"domain\": [0.8025, 1.0], \"gridcolor\": \"#E1E5ED\", \"showgrid\": false, \"tickfont\": {\"color\": \"#4D5663\"}, \"title\": {\"font\": {\"color\": \"#4D5663\"}, \"text\": \"\"}, \"zerolinecolor\": \"#E1E5ED\"}, \"yaxis10\": {\"anchor\": \"x10\", \"domain\": [0.2675, 0.465], \"gridcolor\": \"#E1E5ED\", \"showgrid\": false, \"tickfont\": {\"color\": \"#4D5663\"}, \"title\": {\"font\": {\"color\": \"#4D5663\"}, \"text\": \"\"}, \"zerolinecolor\": \"#E1E5ED\"}, \"yaxis11\": {\"anchor\": \"x11\", \"domain\": [0.2675, 0.465], \"gridcolor\": \"#E1E5ED\", \"showgrid\": false, \"tickfont\": {\"color\": \"#4D5663\"}, \"title\": {\"font\": {\"color\": \"#4D5663\"}, \"text\": \"\"}, \"zerolinecolor\": \"#E1E5ED\"}, \"yaxis12\": {\"anchor\": \"x12\", \"domain\": [0.2675, 0.465], \"gridcolor\": \"#E1E5ED\", \"showgrid\": false, \"tickfont\": {\"color\": \"#4D5663\"}, \"title\": {\"font\": {\"color\": \"#4D5663\"}, \"text\": \"\"}, \"zerolinecolor\": \"#E1E5ED\"}, \"yaxis13\": {\"anchor\": \"x13\", \"domain\": [0.0, 0.1975], \"gridcolor\": \"#E1E5ED\", \"showgrid\": false, \"tickfont\": {\"color\": \"#4D5663\"}, \"title\": {\"font\": {\"color\": \"#4D5663\"}, \"text\": \"\"}, \"zerolinecolor\": \"#E1E5ED\"}, \"yaxis14\": {\"anchor\": \"x14\", \"domain\": [0.0, 0.1975], \"gridcolor\": \"#E1E5ED\", \"showgrid\": false, \"tickfont\": {\"color\": \"#4D5663\"}, \"title\": {\"font\": {\"color\": \"#4D5663\"}, \"text\": \"\"}, \"zerolinecolor\": \"#E1E5ED\"}, \"yaxis15\": {\"anchor\": \"x15\", \"domain\": [0.0, 0.1975], \"gridcolor\": \"#E1E5ED\", \"showgrid\": false, \"tickfont\": {\"color\": \"#4D5663\"}, \"title\": {\"font\": {\"color\": \"#4D5663\"}, \"text\": \"\"}, \"zerolinecolor\": \"#E1E5ED\"}, \"yaxis16\": {\"anchor\": \"x16\", \"domain\": [0.0, 0.1975], \"gridcolor\": \"#E1E5ED\", \"showgrid\": false, \"tickfont\": {\"color\": \"#4D5663\"}, \"title\": {\"font\": {\"color\": \"#4D5663\"}, \"text\": \"\"}, \"zerolinecolor\": \"#E1E5ED\"}, \"yaxis2\": {\"anchor\": \"x2\", \"domain\": [0.8025, 1.0], \"gridcolor\": \"#E1E5ED\", \"showgrid\": false, \"tickfont\": {\"color\": \"#4D5663\"}, \"title\": {\"font\": {\"color\": \"#4D5663\"}, \"text\": \"\"}, \"zerolinecolor\": \"#E1E5ED\"}, \"yaxis3\": {\"anchor\": \"x3\", \"domain\": [0.8025, 1.0], \"gridcolor\": \"#E1E5ED\", \"showgrid\": false, \"tickfont\": {\"color\": \"#4D5663\"}, \"title\": {\"font\": {\"color\": \"#4D5663\"}, \"text\": \"\"}, \"zerolinecolor\": \"#E1E5ED\"}, \"yaxis4\": {\"anchor\": \"x4\", \"domain\": [0.8025, 1.0], \"gridcolor\": \"#E1E5ED\", \"showgrid\": false, \"tickfont\": {\"color\": \"#4D5663\"}, \"title\": {\"font\": {\"color\": \"#4D5663\"}, \"text\": \"\"}, \"zerolinecolor\": \"#E1E5ED\"}, \"yaxis5\": {\"anchor\": \"x5\", \"domain\": [0.535, 0.7325], \"gridcolor\": \"#E1E5ED\", \"showgrid\": false, \"tickfont\": {\"color\": \"#4D5663\"}, \"title\": {\"font\": {\"color\": \"#4D5663\"}, \"text\": \"\"}, \"zerolinecolor\": \"#E1E5ED\"}, \"yaxis6\": {\"anchor\": \"x6\", \"domain\": [0.535, 0.7325], \"gridcolor\": \"#E1E5ED\", \"showgrid\": false, \"tickfont\": {\"color\": \"#4D5663\"}, \"title\": {\"font\": {\"color\": \"#4D5663\"}, \"text\": \"\"}, \"zerolinecolor\": \"#E1E5ED\"}, \"yaxis7\": {\"anchor\": \"x7\", \"domain\": [0.535, 0.7325], \"gridcolor\": \"#E1E5ED\", \"showgrid\": false, \"tickfont\": {\"color\": \"#4D5663\"}, \"title\": {\"font\": {\"color\": \"#4D5663\"}, \"text\": \"\"}, \"zerolinecolor\": \"#E1E5ED\"}, \"yaxis8\": {\"anchor\": \"x8\", \"domain\": [0.535, 0.7325], \"gridcolor\": \"#E1E5ED\", \"showgrid\": false, \"tickfont\": {\"color\": \"#4D5663\"}, \"title\": {\"font\": {\"color\": \"#4D5663\"}, \"text\": \"\"}, \"zerolinecolor\": \"#E1E5ED\"}, \"yaxis9\": {\"anchor\": \"x9\", \"domain\": [0.2675, 0.465], \"gridcolor\": \"#E1E5ED\", \"showgrid\": false, \"tickfont\": {\"color\": \"#4D5663\"}, \"title\": {\"font\": {\"color\": \"#4D5663\"}, \"text\": \"\"}, \"zerolinecolor\": \"#E1E5ED\"}},\n",
       "                        {\"showLink\": true, \"linkText\": \"Export to plot.ly\", \"plotlyServerURL\": \"https://plot.ly\", \"responsive\": true}\n",
       "                    ).then(function(){\n",
       "                            \n",
       "var gd = document.getElementById('7bb0acef-305c-4cd4-b3b1-32b77eefa9b1');\n",
       "var x = new MutationObserver(function (mutations, observer) {{\n",
       "        var display = window.getComputedStyle(gd).display;\n",
       "        if (!display || display === 'none') {{\n",
       "            console.log([gd, 'removed!']);\n",
       "            Plotly.purge(gd);\n",
       "            observer.disconnect();\n",
       "        }}\n",
       "}});\n",
       "\n",
       "// Listen for the removal of the full notebook cells\n",
       "var notebookContainer = gd.closest('#notebook-container');\n",
       "if (notebookContainer) {{\n",
       "    x.observe(notebookContainer, {childList: true});\n",
       "}}\n",
       "\n",
       "// Listen for the clearing of the current output cell\n",
       "var outputEl = gd.closest('.output');\n",
       "if (outputEl) {{\n",
       "    x.observe(outputEl, {childList: true});\n",
       "}}\n",
       "\n",
       "                        })\n",
       "                };\n",
       "                });\n",
       "            </script>\n",
       "        </div>"
      ]
     },
     "metadata": {},
     "output_type": "display_data"
    }
   ],
   "source": [
    "df.scatter_matrix()"
   ]
  },
  {
   "cell_type": "code",
   "execution_count": null,
   "metadata": {},
   "outputs": [],
   "source": []
  }
 ],
 "metadata": {
  "kernelspec": {
   "display_name": "Python 3",
   "language": "python",
   "name": "python3"
  },
  "language_info": {
   "codemirror_mode": {
    "name": "ipython",
    "version": 3
   },
   "file_extension": ".py",
   "mimetype": "text/x-python",
   "name": "python",
   "nbconvert_exporter": "python",
   "pygments_lexer": "ipython3",
   "version": "3.7.6"
  }
 },
 "nbformat": 4,
 "nbformat_minor": 1
}
