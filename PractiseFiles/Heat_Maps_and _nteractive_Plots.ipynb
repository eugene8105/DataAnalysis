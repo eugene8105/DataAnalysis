{
 "cells": [
  {
   "cell_type": "code",
   "execution_count": 9,
   "metadata": {},
   "outputs": [
    {
     "data": {
      "application/vnd.jupyter.widget-view+json": {
       "model_id": "c6fe6378820b40628f960f358cb4fbc2",
       "version_major": 2,
       "version_minor": 0
      },
      "text/plain": [
       "interactive(children=(IntSlider(value=1, description='C', max=10), IntSlider(value=1, description='D', max=5, …"
      ]
     },
     "metadata": {},
     "output_type": "display_data"
    }
   ],
   "source": [
    "%matplotlib inline\n",
    "import numpy as np\n",
    "import matplotlib.pyplot as plt\n",
    "from ipywidgets import interactive\n",
    "import seaborn as sb\n",
    "\n",
    "x = np.linspace(0,10,100)\n",
    "y = np.linspace(0,10,100)\n",
    "\n",
    "x,y = np.meshgrid(x,y)\n",
    "\n",
    "def f(A,B,C,D):\n",
    "    return D*np.sin(C*np.sqrt(A**2+B**2))\n",
    "\n",
    "def plotting(C=1,D=1):\n",
    "    z = f(x,y,C,D)\n",
    "    plt.title('This my title')\n",
    "    ax = sb.heatmap(z,xticklabels = 10,yticklabels = 10,vmin = -5, vmax = 5)\n",
    "    ax.invert_yaxis()\n",
    "\n",
    "# A VBox container containing a group of \n",
    "# interactive widgets tied to a function\n",
    "interactive_plot = interactive(plotting, C=(0,10,1), D=(1,5,1))\n",
    "interactive_plot"
   ]
  }
 ],
 "metadata": {
  "kernelspec": {
   "display_name": "Python 3",
   "language": "python",
   "name": "python3"
  },
  "language_info": {
   "codemirror_mode": {
    "name": "ipython",
    "version": 3
   },
   "file_extension": ".py",
   "mimetype": "text/x-python",
   "name": "python",
   "nbconvert_exporter": "python",
   "pygments_lexer": "ipython3",
   "version": "3.7.6"
  }
 },
 "nbformat": 4,
 "nbformat_minor": 4
}
